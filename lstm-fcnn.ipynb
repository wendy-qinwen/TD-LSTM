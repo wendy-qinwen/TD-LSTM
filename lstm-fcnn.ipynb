{
 "cells": [
  {
   "cell_type": "code",
   "execution_count": 1,
   "id": "49e189ed-cc06-45a4-a0d6-2fb7e16477f0",
   "metadata": {},
   "outputs": [
    {
     "data": {
      "text/html": [
       "<div>\n",
       "<style scoped>\n",
       "    .dataframe tbody tr th:only-of-type {\n",
       "        vertical-align: middle;\n",
       "    }\n",
       "\n",
       "    .dataframe tbody tr th {\n",
       "        vertical-align: top;\n",
       "    }\n",
       "\n",
       "    .dataframe thead th {\n",
       "        text-align: right;\n",
       "    }\n",
       "</style>\n",
       "<table border=\"1\" class=\"dataframe\">\n",
       "  <thead>\n",
       "    <tr style=\"text-align: right;\">\n",
       "      <th></th>\n",
       "      <th>time</th>\n",
       "      <th>IF00_close</th>\n",
       "      <th>IF01_close</th>\n",
       "      <th>spread</th>\n",
       "      <th>date</th>\n",
       "      <th>hour</th>\n",
       "      <th>minute</th>\n",
       "      <th>Expiration_Date</th>\n",
       "    </tr>\n",
       "  </thead>\n",
       "  <tbody>\n",
       "    <tr>\n",
       "      <th>0</th>\n",
       "      <td>2024-01-24 09:30:00</td>\n",
       "      <td>3240.0</td>\n",
       "      <td>3236.8</td>\n",
       "      <td>-3.2</td>\n",
       "      <td>2024-01-24</td>\n",
       "      <td>9</td>\n",
       "      <td>30</td>\n",
       "      <td>0</td>\n",
       "    </tr>\n",
       "    <tr>\n",
       "      <th>1</th>\n",
       "      <td>2024-01-24 09:31:00</td>\n",
       "      <td>3241.4</td>\n",
       "      <td>3243.0</td>\n",
       "      <td>1.6</td>\n",
       "      <td>2024-01-24</td>\n",
       "      <td>9</td>\n",
       "      <td>31</td>\n",
       "      <td>0</td>\n",
       "    </tr>\n",
       "    <tr>\n",
       "      <th>2</th>\n",
       "      <td>2024-01-24 09:32:00</td>\n",
       "      <td>3240.0</td>\n",
       "      <td>3243.0</td>\n",
       "      <td>3.0</td>\n",
       "      <td>2024-01-24</td>\n",
       "      <td>9</td>\n",
       "      <td>32</td>\n",
       "      <td>0</td>\n",
       "    </tr>\n",
       "    <tr>\n",
       "      <th>3</th>\n",
       "      <td>2024-01-24 09:33:00</td>\n",
       "      <td>3234.4</td>\n",
       "      <td>3235.6</td>\n",
       "      <td>1.2</td>\n",
       "      <td>2024-01-24</td>\n",
       "      <td>9</td>\n",
       "      <td>33</td>\n",
       "      <td>0</td>\n",
       "    </tr>\n",
       "    <tr>\n",
       "      <th>4</th>\n",
       "      <td>2024-01-24 09:34:00</td>\n",
       "      <td>3235.8</td>\n",
       "      <td>3236.0</td>\n",
       "      <td>0.2</td>\n",
       "      <td>2024-01-24</td>\n",
       "      <td>9</td>\n",
       "      <td>34</td>\n",
       "      <td>0</td>\n",
       "    </tr>\n",
       "  </tbody>\n",
       "</table>\n",
       "</div>"
      ],
      "text/plain": [
       "                 time  IF00_close  IF01_close  spread        date  hour  \\\n",
       "0 2024-01-24 09:30:00      3240.0      3236.8    -3.2  2024-01-24     9   \n",
       "1 2024-01-24 09:31:00      3241.4      3243.0     1.6  2024-01-24     9   \n",
       "2 2024-01-24 09:32:00      3240.0      3243.0     3.0  2024-01-24     9   \n",
       "3 2024-01-24 09:33:00      3234.4      3235.6     1.2  2024-01-24     9   \n",
       "4 2024-01-24 09:34:00      3235.8      3236.0     0.2  2024-01-24     9   \n",
       "\n",
       "   minute  Expiration_Date  \n",
       "0      30                0  \n",
       "1      31                0  \n",
       "2      32                0  \n",
       "3      33                0  \n",
       "4      34                0  "
      ]
     },
     "execution_count": 1,
     "metadata": {},
     "output_type": "execute_result"
    }
   ],
   "source": [
    "import matplotlib.pyplot as plt\n",
    "import pandas as pd\n",
    "import numpy as np \n",
    "import torch.nn as nn\n",
    "import torch.optim as optim\n",
    "from torch.utils.data import Dataset, DataLoader\n",
    "import numpy as np\n",
    "\n",
    "\n",
    "df = pd.read_csv('./data/df.csv',sep=',')\n",
    "df  = df.sort_values(by='time',ascending=True).reset_index(drop=True)\n",
    "\n",
    "BATCHSIZE = 256\n",
    "LOOKBACK = 100\n",
    "\n",
    "\n",
    "date = [\"2024-02-19\",\n",
    "\"2024-03-15\",\n",
    "\"2024-04-19\",\n",
    "\"2024-05-17\",\n",
    "\"2024-06-21\",\n",
    "\"2024-07-19\",\n",
    "\"2024-08-16\",\n",
    "\"2024-09-20\",\n",
    "\"2024-10-18\",\n",
    "\"2024-11-15\",\n",
    "\"2024-12-20\",\n",
    "\"2025-01-17\"]\n",
    "df.head()\n",
    "\n",
    "df['time'] = pd.to_datetime(df['time'])\n",
    "df['date'] = df['time'].dt.date\n",
    "df['date'] = df['date'].astype(str)\n",
    "df['hour'] = df['time'].dt.hour\n",
    "df['minute'] = df['time'].dt.minute \n",
    "# for i in range(1,5):\n",
    "#     df[f'spread_shift_{i}'] = df.groupby(['hour','minute'])['spread'].shift(i)\n",
    "\n",
    "df['Expiration_Date'] = df['date'].apply(lambda x: 1 if x in date else 0)\n",
    "# df.fillna(0,inplace=True)\n",
    "\n",
    "\n",
    "df.dropna(inplace=True)\n",
    "\n",
    "df.head()\n"
   ]
  },
  {
   "cell_type": "code",
   "execution_count": 11,
   "id": "2269dc76-7acb-4f86-9d83-fa6b3ebcd952",
   "metadata": {},
   "outputs": [],
   "source": [
    "timeseries = df[[\"spread\"]].values.astype('float32')\n",
    "\n",
    "# plt.plot(timeseries[:,0])\n",
    "# plt.show()"
   ]
  },
  {
   "cell_type": "code",
   "execution_count": 3,
   "id": "73d88067-b246-4b22-9b95-1e66ba9c927e",
   "metadata": {},
   "outputs": [],
   "source": [
    "# train-test split for time series\n",
    "\n",
    "\n",
    "\n",
    "import torch\n",
    "\n",
    "def create_dataset(dataset, lookback,split_index):\n",
    "    \"\"\"Transform a time series into a prediction dataset\n",
    "\n",
    "    Args:\n",
    "        dataset: A numpy array of time series, first dimension is the time steps\n",
    "        lookback: Size of window for prediction\n",
    "    \"\"\"\n",
    "\n",
    "\n",
    "    X_train, y_train = [], []\n",
    "    X_test, y_test = [], []\n",
    "    for i in range(len(dataset)-lookback):\n",
    "        if i < split_index:\n",
    "            feature = dataset[i:i+lookback]\n",
    "            target = dataset[i+lookback:i+lookback+1][:,0:1]\n",
    "            X_train.append(feature)\n",
    "            y_train.append(target)\n",
    "        else:\n",
    "            feature = dataset[i:i+lookback]\n",
    "            target = dataset[i+lookback:i+lookback+1][:,0:1]\n",
    "            X_test.append(feature)\n",
    "            y_test.append(target)\n",
    "    # X = np.array(X)\n",
    "    # y = np.array(y)\n",
    "    return torch.tensor(X_train), torch.tensor(y_train),torch.tensor(X_test), torch.tensor(y_test)\n",
    "\n",
    "\n",
    "\n"
   ]
  },
  {
   "cell_type": "code",
   "execution_count": 4,
   "id": "69d95555-504a-40e3-ab83-ede49d3cc0ec",
   "metadata": {},
   "outputs": [],
   "source": [
    "import torch\n",
    "import torch.nn as nn\n",
    "import numpy as np\n",
    "\n",
    "class CNN(nn.Module):\n",
    "    def __init__(self, window_size=5):\n",
    "        super().__init__()\n",
    "        # 使用大窗口卷积捕获低频趋势\n",
    "        self.trend_extractor = nn.Sequential(\n",
    "            nn.Conv1d(in_channels=1, out_channels=16, kernel_size=window_size, padding='same'),\n",
    "            nn.ReLU(),\n",
    "            nn.Conv1d(16, 1, kernel_size=window_size, padding='same')\n",
    "        )\n",
    "        \n",
    "    def forward(self, x):\n",
    "        # 输入形状: (batch_size, seq_len)\n",
    "        x = x.permute(0,2,1)  # 添加通道维度 -> (B, 1, T)\n",
    "        # print(x.shape)\n",
    "        trend = self.trend_extractor(x)  # (B, 1, T)\n",
    "        # residual = x - trend\n",
    "        return trend\n",
    "\n",
    "# # 使用示例\n",
    "# model = DeepTrendDecomposer(window_size=7)\n",
    "# input_seq = torch.randn(32, 100)  # batch_size=32, seq_len=100\n",
    "# trend, residual = model(input_seq)\n"
   ]
  },
  {
   "cell_type": "code",
   "execution_count": 5,
   "id": "8c2ad566-4889-430d-b6ac-77264510eb59",
   "metadata": {},
   "outputs": [],
   "source": [
    "class EarlyStopping:\n",
    "    def __init__(self, patience=7, min_delta=0, verbose=False):\n",
    "        \"\"\"\n",
    "        Early stopping to stop the training when the loss does not improve after\n",
    "        certain epochs.\n",
    "        \n",
    "        Args:\n",
    "            patience (int): How many epochs to wait before stopping when loss is\n",
    "                           not improving\n",
    "            min_delta (float): Minimum change in the monitored quantity to\n",
    "                             qualify as an improvement\n",
    "            verbose (bool): If True, prints a message for each validation loss improvement\n",
    "        \"\"\"\n",
    "        self.patience = patience\n",
    "        self.min_delta = min_delta\n",
    "        self.verbose = verbose\n",
    "        self.counter = 0\n",
    "        self.best_loss = None\n",
    "        self.early_stop = False\n",
    "        self.val_loss_min = float('inf')\n",
    "        \n",
    "    def __call__(self, val_loss, model, optimizer, epoch):\n",
    "        if self.best_loss is None:\n",
    "            self.best_loss = val_loss\n",
    "            self.save_checkpoint(val_loss, model, optimizer, epoch)\n",
    "        elif val_loss > self.best_loss + self.min_delta:\n",
    "            self.counter += 1\n",
    "            if self.verbose:\n",
    "                print(f'EarlyStopping counter: {self.counter} out of {self.patience}')\n",
    "            if self.counter >= self.patience:\n",
    "                self.early_stop = True\n",
    "        else:\n",
    "            self.best_loss = val_loss\n",
    "            self.save_checkpoint(val_loss, model, optimizer, epoch)\n",
    "            self.counter = 0\n",
    "            \n",
    "    def save_checkpoint(self, val_loss, model, optimizer, epoch):\n",
    "        \"\"\"Saves model when validation loss decreases.\"\"\"\n",
    "        if self.verbose:\n",
    "            print(f'Validation loss decreased ({self.val_loss_min:.6f} --> {val_loss:.6f}). Saving model ...')\n",
    "        torch.save(model.state_dict(), 'checkpoint.pt')\n",
    "        self.val_loss_min = val_loss"
   ]
  },
  {
   "cell_type": "code",
   "execution_count": 6,
   "id": "c84c7067-f350-4dd6-ad82-0dddd9c50f7d",
   "metadata": {},
   "outputs": [],
   "source": [
    "# train-test split for time series\n",
    "\n",
    "\n",
    "\n",
    "import torch\n",
    "\n",
    "def create_dataset(dataset, lookback,split_index):\n",
    "    \"\"\"Transform a time series into a prediction dataset\n",
    "\n",
    "    Args:\n",
    "        dataset: A numpy array of time series, first dimension is the time steps\n",
    "        lookback: Size of window for prediction\n",
    "    \"\"\"\n",
    "\n",
    "\n",
    "    X_train, y_train = [], []\n",
    "    X_test, y_test = [], []\n",
    "    for i in range(len(dataset)-lookback):\n",
    "        if i < split_index:\n",
    "            feature = dataset[i:i+lookback]\n",
    "            target = dataset[i+lookback:i+lookback+1][:,0:1]\n",
    "            X_train.append(feature)\n",
    "            y_train.append(target)\n",
    "        else:\n",
    "            feature = dataset[i:i+lookback]\n",
    "            target = dataset[i+lookback:i+lookback+1][:,0:1]\n",
    "            X_test.append(feature)\n",
    "            y_test.append(target)\n",
    "    # X = np.array(X)\n",
    "    # y = np.array(y)\n",
    "    return torch.tensor(X_train), torch.tensor(y_train),torch.tensor(X_test), torch.tensor(y_test)\n",
    "\n",
    "\n",
    "\n"
   ]
  },
  {
   "cell_type": "code",
   "execution_count": 13,
   "id": "f69a5ef4-6713-487b-aff0-95ec3a53a71f",
   "metadata": {},
   "outputs": [],
   "source": [
    "\n",
    "\n",
    "class LSTMFCNN(nn.Module):\n",
    "    def __init__(self, input_size=1, hidden_size=50):\n",
    "        super().__init__()\n",
    "        # self.decomposer =  CNN(window_size=7)\n",
    "        self.lstm = nn.LSTM(input_size, hidden_size)\n",
    "        self.linear = nn.Linear(hidden_size, 1)\n",
    "\n",
    "\n",
    "    def forward(self, x):\n",
    "        # 分解趋势\n",
    "        # trend = self.decomposer(x)\n",
    "        # print(trend.shape,residual.shape)\n",
    "        x,_ = self.lstm(x)\n",
    "        \n",
    "        # 用LSTM预测残差\n",
    "        # trend = trend.permute(0,2,1)\n",
    "        # residual = residual.permute(0,2,1)\n",
    "        # residual = residual.unsqueeze(-1)  # (B, T, 1)\n",
    "        # lstm_out, _ = self.lstm(trend)\n",
    "        x = self.linear(x)\n",
    "        \n",
    "        # 预测趋势（简单移动平均）\n",
    "        # pred_trend = trend[:, -1].unsqueeze(-1)  # 假设趋势缓慢变化\n",
    "        \n",
    "        return x\n",
    "# model = TrendAwareLSTM().to(device)\n",
    "# model \n",
    "\n",
    "# sum(para.numel() for para in model.parameters())"
   ]
  },
  {
   "cell_type": "code",
   "execution_count": 14,
   "id": "42ce5b7c-ae83-498a-a31c-9b61b691c479",
   "metadata": {},
   "outputs": [
    {
     "data": {
      "text/plain": [
       "10651"
      ]
     },
     "execution_count": 14,
     "metadata": {},
     "output_type": "execute_result"
    }
   ],
   "source": [
    "device = torch.device('cuda' if torch.cuda.is_available() else 'cpu')\n",
    "model = LSTMFCNN().to(device)\n",
    "model \n",
    "\n",
    "sum(para.numel() for para in model.parameters())"
   ]
  },
  {
   "cell_type": "code",
   "execution_count": 15,
   "id": "e00dbdfd-aef0-49ce-9b31-bfa7c6e45ccb",
   "metadata": {},
   "outputs": [
    {
     "data": {
      "text/plain": [
       "device(type='cuda')"
      ]
     },
     "execution_count": 15,
     "metadata": {},
     "output_type": "execute_result"
    }
   ],
   "source": [
    "device"
   ]
  },
  {
   "cell_type": "code",
   "execution_count": null,
   "id": "2990cd8a-f34c-403f-8bcd-19a8de369b19",
   "metadata": {},
   "outputs": [
    {
     "name": "stdout",
     "output_type": "stream",
     "text": [
      "torch.Size([39237, 100, 1]) torch.Size([39237, 1, 1])\n",
      "torch.Size([19226, 100, 1]) torch.Size([19226, 1, 1])\n"
     ]
    },
    {
     "name": "stderr",
     "output_type": "stream",
     "text": [
      "c:\\Users\\gaoxc\\.conda\\envs\\chatglm3-demo\\lib\\site-packages\\torch\\nn\\modules\\loss.py:535: UserWarning: Using a target size (torch.Size([256, 1, 1])) that is different to the input size (torch.Size([256, 100, 1])). This will likely lead to incorrect results due to broadcasting. Please ensure they have the same size.\n",
      "  return F.mse_loss(input, target, reduction=self.reduction)\n",
      "c:\\Users\\gaoxc\\.conda\\envs\\chatglm3-demo\\lib\\site-packages\\torch\\nn\\modules\\loss.py:535: UserWarning: Using a target size (torch.Size([157, 1, 1])) that is different to the input size (torch.Size([157, 100, 1])). This will likely lead to incorrect results due to broadcasting. Please ensure they have the same size.\n",
      "  return F.mse_loss(input, target, reduction=self.reduction)\n",
      "c:\\Users\\gaoxc\\.conda\\envs\\chatglm3-demo\\lib\\site-packages\\torch\\nn\\modules\\loss.py:535: UserWarning: Using a target size (torch.Size([7848, 1, 1])) that is different to the input size (torch.Size([7848, 100, 1])). This will likely lead to incorrect results due to broadcasting. Please ensure they have the same size.\n",
      "  return F.mse_loss(input, target, reduction=self.reduction)\n"
     ]
    },
    {
     "name": "stdout",
     "output_type": "stream",
     "text": [
      "Early stopping\n"
     ]
    },
    {
     "name": "stderr",
     "output_type": "stream",
     "text": [
      "c:\\Users\\gaoxc\\.conda\\envs\\chatglm3-demo\\lib\\site-packages\\torch\\nn\\modules\\loss.py:535: UserWarning: Using a target size (torch.Size([31389, 1, 1])) that is different to the input size (torch.Size([31389, 100, 1])). This will likely lead to incorrect results due to broadcasting. Please ensure they have the same size.\n",
      "  return F.mse_loss(input, target, reduction=self.reduction)\n",
      "c:\\Users\\gaoxc\\.conda\\envs\\chatglm3-demo\\lib\\site-packages\\torch\\nn\\modules\\loss.py:535: UserWarning: Using a target size (torch.Size([19226, 1, 1])) that is different to the input size (torch.Size([19226, 100, 1])). This will likely lead to incorrect results due to broadcasting. Please ensure they have the same size.\n",
      "  return F.mse_loss(input, target, reduction=self.reduction)\n"
     ]
    },
    {
     "name": "stdout",
     "output_type": "stream",
     "text": [
      "Epoch 118: train RMSE 2.2466, test RMSE 6.3871\n",
      "训练时间: 151.14854454994202 秒\n",
      "torch.Size([39337, 100, 1]) torch.Size([39337, 1, 1])\n",
      "torch.Size([19126, 100, 1]) torch.Size([19126, 1, 1])\n"
     ]
    },
    {
     "name": "stderr",
     "output_type": "stream",
     "text": [
      "c:\\Users\\gaoxc\\.conda\\envs\\chatglm3-demo\\lib\\site-packages\\torch\\nn\\modules\\loss.py:535: UserWarning: Using a target size (torch.Size([237, 1, 1])) that is different to the input size (torch.Size([237, 100, 1])). This will likely lead to incorrect results due to broadcasting. Please ensure they have the same size.\n",
      "  return F.mse_loss(input, target, reduction=self.reduction)\n",
      "c:\\Users\\gaoxc\\.conda\\envs\\chatglm3-demo\\lib\\site-packages\\torch\\nn\\modules\\loss.py:535: UserWarning: Using a target size (torch.Size([7868, 1, 1])) that is different to the input size (torch.Size([7868, 100, 1])). This will likely lead to incorrect results due to broadcasting. Please ensure they have the same size.\n",
      "  return F.mse_loss(input, target, reduction=self.reduction)\n"
     ]
    },
    {
     "name": "stdout",
     "output_type": "stream",
     "text": [
      "Early stopping\n"
     ]
    },
    {
     "name": "stderr",
     "output_type": "stream",
     "text": [
      "c:\\Users\\gaoxc\\.conda\\envs\\chatglm3-demo\\lib\\site-packages\\torch\\nn\\modules\\loss.py:535: UserWarning: Using a target size (torch.Size([31469, 1, 1])) that is different to the input size (torch.Size([31469, 100, 1])). This will likely lead to incorrect results due to broadcasting. Please ensure they have the same size.\n",
      "  return F.mse_loss(input, target, reduction=self.reduction)\n",
      "c:\\Users\\gaoxc\\.conda\\envs\\chatglm3-demo\\lib\\site-packages\\torch\\nn\\modules\\loss.py:535: UserWarning: Using a target size (torch.Size([19126, 1, 1])) that is different to the input size (torch.Size([19126, 100, 1])). This will likely lead to incorrect results due to broadcasting. Please ensure they have the same size.\n",
      "  return F.mse_loss(input, target, reduction=self.reduction)\n"
     ]
    },
    {
     "name": "stdout",
     "output_type": "stream",
     "text": [
      "Epoch 105: train RMSE 2.2847, test RMSE 6.2107\n",
      "训练时间: 282.7041885852814 秒\n",
      "torch.Size([39437, 100, 1]) torch.Size([39437, 1, 1])\n",
      "torch.Size([19026, 100, 1]) torch.Size([19026, 1, 1])\n"
     ]
    },
    {
     "name": "stderr",
     "output_type": "stream",
     "text": [
      "c:\\Users\\gaoxc\\.conda\\envs\\chatglm3-demo\\lib\\site-packages\\torch\\nn\\modules\\loss.py:535: UserWarning: Using a target size (torch.Size([61, 1, 1])) that is different to the input size (torch.Size([61, 100, 1])). This will likely lead to incorrect results due to broadcasting. Please ensure they have the same size.\n",
      "  return F.mse_loss(input, target, reduction=self.reduction)\n",
      "c:\\Users\\gaoxc\\.conda\\envs\\chatglm3-demo\\lib\\site-packages\\torch\\nn\\modules\\loss.py:535: UserWarning: Using a target size (torch.Size([7888, 1, 1])) that is different to the input size (torch.Size([7888, 100, 1])). This will likely lead to incorrect results due to broadcasting. Please ensure they have the same size.\n",
      "  return F.mse_loss(input, target, reduction=self.reduction)\n"
     ]
    },
    {
     "name": "stdout",
     "output_type": "stream",
     "text": [
      "Early stopping\n"
     ]
    },
    {
     "name": "stderr",
     "output_type": "stream",
     "text": [
      "c:\\Users\\gaoxc\\.conda\\envs\\chatglm3-demo\\lib\\site-packages\\torch\\nn\\modules\\loss.py:535: UserWarning: Using a target size (torch.Size([31549, 1, 1])) that is different to the input size (torch.Size([31549, 100, 1])). This will likely lead to incorrect results due to broadcasting. Please ensure they have the same size.\n",
      "  return F.mse_loss(input, target, reduction=self.reduction)\n",
      "c:\\Users\\gaoxc\\.conda\\envs\\chatglm3-demo\\lib\\site-packages\\torch\\nn\\modules\\loss.py:535: UserWarning: Using a target size (torch.Size([19026, 1, 1])) that is different to the input size (torch.Size([19026, 100, 1])). This will likely lead to incorrect results due to broadcasting. Please ensure they have the same size.\n",
      "  return F.mse_loss(input, target, reduction=self.reduction)\n"
     ]
    },
    {
     "name": "stdout",
     "output_type": "stream",
     "text": [
      "Epoch 73: train RMSE 2.2976, test RMSE 6.1879\n",
      "训练时间: 375.6919615268707 秒\n",
      "torch.Size([39537, 100, 1]) torch.Size([39537, 1, 1])\n",
      "torch.Size([18926, 100, 1]) torch.Size([18926, 1, 1])\n"
     ]
    },
    {
     "name": "stderr",
     "output_type": "stream",
     "text": [
      "c:\\Users\\gaoxc\\.conda\\envs\\chatglm3-demo\\lib\\site-packages\\torch\\nn\\modules\\loss.py:535: UserWarning: Using a target size (torch.Size([141, 1, 1])) that is different to the input size (torch.Size([141, 100, 1])). This will likely lead to incorrect results due to broadcasting. Please ensure they have the same size.\n",
      "  return F.mse_loss(input, target, reduction=self.reduction)\n",
      "c:\\Users\\gaoxc\\.conda\\envs\\chatglm3-demo\\lib\\site-packages\\torch\\nn\\modules\\loss.py:535: UserWarning: Using a target size (torch.Size([7908, 1, 1])) that is different to the input size (torch.Size([7908, 100, 1])). This will likely lead to incorrect results due to broadcasting. Please ensure they have the same size.\n",
      "  return F.mse_loss(input, target, reduction=self.reduction)\n"
     ]
    },
    {
     "name": "stdout",
     "output_type": "stream",
     "text": [
      "Early stopping\n"
     ]
    },
    {
     "name": "stderr",
     "output_type": "stream",
     "text": [
      "c:\\Users\\gaoxc\\.conda\\envs\\chatglm3-demo\\lib\\site-packages\\torch\\nn\\modules\\loss.py:535: UserWarning: Using a target size (torch.Size([31629, 1, 1])) that is different to the input size (torch.Size([31629, 100, 1])). This will likely lead to incorrect results due to broadcasting. Please ensure they have the same size.\n",
      "  return F.mse_loss(input, target, reduction=self.reduction)\n",
      "c:\\Users\\gaoxc\\.conda\\envs\\chatglm3-demo\\lib\\site-packages\\torch\\nn\\modules\\loss.py:535: UserWarning: Using a target size (torch.Size([18926, 1, 1])) that is different to the input size (torch.Size([18926, 100, 1])). This will likely lead to incorrect results due to broadcasting. Please ensure they have the same size.\n",
      "  return F.mse_loss(input, target, reduction=self.reduction)\n"
     ]
    },
    {
     "name": "stdout",
     "output_type": "stream",
     "text": [
      "Epoch 78: train RMSE 2.3105, test RMSE 5.6870\n",
      "训练时间: 474.68790435791016 秒\n",
      "torch.Size([39637, 100, 1]) torch.Size([39637, 1, 1])\n",
      "torch.Size([18826, 100, 1]) torch.Size([18826, 1, 1])\n"
     ]
    },
    {
     "name": "stderr",
     "output_type": "stream",
     "text": [
      "c:\\Users\\gaoxc\\.conda\\envs\\chatglm3-demo\\lib\\site-packages\\torch\\nn\\modules\\loss.py:535: UserWarning: Using a target size (torch.Size([221, 1, 1])) that is different to the input size (torch.Size([221, 100, 1])). This will likely lead to incorrect results due to broadcasting. Please ensure they have the same size.\n",
      "  return F.mse_loss(input, target, reduction=self.reduction)\n",
      "c:\\Users\\gaoxc\\.conda\\envs\\chatglm3-demo\\lib\\site-packages\\torch\\nn\\modules\\loss.py:535: UserWarning: Using a target size (torch.Size([7928, 1, 1])) that is different to the input size (torch.Size([7928, 100, 1])). This will likely lead to incorrect results due to broadcasting. Please ensure they have the same size.\n",
      "  return F.mse_loss(input, target, reduction=self.reduction)\n"
     ]
    },
    {
     "name": "stdout",
     "output_type": "stream",
     "text": [
      "Early stopping\n"
     ]
    },
    {
     "name": "stderr",
     "output_type": "stream",
     "text": [
      "c:\\Users\\gaoxc\\.conda\\envs\\chatglm3-demo\\lib\\site-packages\\torch\\nn\\modules\\loss.py:535: UserWarning: Using a target size (torch.Size([31709, 1, 1])) that is different to the input size (torch.Size([31709, 100, 1])). This will likely lead to incorrect results due to broadcasting. Please ensure they have the same size.\n",
      "  return F.mse_loss(input, target, reduction=self.reduction)\n",
      "c:\\Users\\gaoxc\\.conda\\envs\\chatglm3-demo\\lib\\site-packages\\torch\\nn\\modules\\loss.py:535: UserWarning: Using a target size (torch.Size([18826, 1, 1])) that is different to the input size (torch.Size([18826, 100, 1])). This will likely lead to incorrect results due to broadcasting. Please ensure they have the same size.\n",
      "  return F.mse_loss(input, target, reduction=self.reduction)\n"
     ]
    },
    {
     "name": "stdout",
     "output_type": "stream",
     "text": [
      "Epoch 134: train RMSE 2.3649, test RMSE 5.7441\n",
      "训练时间: 644.1099226474762 秒\n",
      "torch.Size([39737, 100, 1]) torch.Size([39737, 1, 1])\n",
      "torch.Size([18726, 100, 1]) torch.Size([18726, 1, 1])\n"
     ]
    },
    {
     "name": "stderr",
     "output_type": "stream",
     "text": [
      "c:\\Users\\gaoxc\\.conda\\envs\\chatglm3-demo\\lib\\site-packages\\torch\\nn\\modules\\loss.py:535: UserWarning: Using a target size (torch.Size([45, 1, 1])) that is different to the input size (torch.Size([45, 100, 1])). This will likely lead to incorrect results due to broadcasting. Please ensure they have the same size.\n",
      "  return F.mse_loss(input, target, reduction=self.reduction)\n",
      "c:\\Users\\gaoxc\\.conda\\envs\\chatglm3-demo\\lib\\site-packages\\torch\\nn\\modules\\loss.py:535: UserWarning: Using a target size (torch.Size([7948, 1, 1])) that is different to the input size (torch.Size([7948, 100, 1])). This will likely lead to incorrect results due to broadcasting. Please ensure they have the same size.\n",
      "  return F.mse_loss(input, target, reduction=self.reduction)\n"
     ]
    },
    {
     "name": "stdout",
     "output_type": "stream",
     "text": [
      "Early stopping\n"
     ]
    },
    {
     "name": "stderr",
     "output_type": "stream",
     "text": [
      "c:\\Users\\gaoxc\\.conda\\envs\\chatglm3-demo\\lib\\site-packages\\torch\\nn\\modules\\loss.py:535: UserWarning: Using a target size (torch.Size([31789, 1, 1])) that is different to the input size (torch.Size([31789, 100, 1])). This will likely lead to incorrect results due to broadcasting. Please ensure they have the same size.\n",
      "  return F.mse_loss(input, target, reduction=self.reduction)\n",
      "c:\\Users\\gaoxc\\.conda\\envs\\chatglm3-demo\\lib\\site-packages\\torch\\nn\\modules\\loss.py:535: UserWarning: Using a target size (torch.Size([18726, 1, 1])) that is different to the input size (torch.Size([18726, 100, 1])). This will likely lead to incorrect results due to broadcasting. Please ensure they have the same size.\n",
      "  return F.mse_loss(input, target, reduction=self.reduction)\n"
     ]
    },
    {
     "name": "stdout",
     "output_type": "stream",
     "text": [
      "Epoch 83: train RMSE 2.5664, test RMSE 5.0222\n",
      "训练时间: 749.0449571609497 秒\n",
      "torch.Size([39837, 100, 1]) torch.Size([39837, 1, 1])\n",
      "torch.Size([18626, 100, 1]) torch.Size([18626, 1, 1])\n"
     ]
    },
    {
     "name": "stderr",
     "output_type": "stream",
     "text": [
      "c:\\Users\\gaoxc\\.conda\\envs\\chatglm3-demo\\lib\\site-packages\\torch\\nn\\modules\\loss.py:535: UserWarning: Using a target size (torch.Size([125, 1, 1])) that is different to the input size (torch.Size([125, 100, 1])). This will likely lead to incorrect results due to broadcasting. Please ensure they have the same size.\n",
      "  return F.mse_loss(input, target, reduction=self.reduction)\n",
      "c:\\Users\\gaoxc\\.conda\\envs\\chatglm3-demo\\lib\\site-packages\\torch\\nn\\modules\\loss.py:535: UserWarning: Using a target size (torch.Size([7968, 1, 1])) that is different to the input size (torch.Size([7968, 100, 1])). This will likely lead to incorrect results due to broadcasting. Please ensure they have the same size.\n",
      "  return F.mse_loss(input, target, reduction=self.reduction)\n"
     ]
    },
    {
     "name": "stdout",
     "output_type": "stream",
     "text": [
      "Early stopping\n"
     ]
    },
    {
     "name": "stderr",
     "output_type": "stream",
     "text": [
      "c:\\Users\\gaoxc\\.conda\\envs\\chatglm3-demo\\lib\\site-packages\\torch\\nn\\modules\\loss.py:535: UserWarning: Using a target size (torch.Size([31869, 1, 1])) that is different to the input size (torch.Size([31869, 100, 1])). This will likely lead to incorrect results due to broadcasting. Please ensure they have the same size.\n",
      "  return F.mse_loss(input, target, reduction=self.reduction)\n",
      "c:\\Users\\gaoxc\\.conda\\envs\\chatglm3-demo\\lib\\site-packages\\torch\\nn\\modules\\loss.py:535: UserWarning: Using a target size (torch.Size([18626, 1, 1])) that is different to the input size (torch.Size([18626, 100, 1])). This will likely lead to incorrect results due to broadcasting. Please ensure they have the same size.\n",
      "  return F.mse_loss(input, target, reduction=self.reduction)\n"
     ]
    },
    {
     "name": "stdout",
     "output_type": "stream",
     "text": [
      "Epoch 150: train RMSE 2.5898, test RMSE 4.2919\n",
      "训练时间: 934.4637868404388 秒\n",
      "torch.Size([39937, 100, 1]) torch.Size([39937, 1, 1])\n",
      "torch.Size([18526, 100, 1]) torch.Size([18526, 1, 1])\n"
     ]
    },
    {
     "name": "stderr",
     "output_type": "stream",
     "text": [
      "c:\\Users\\gaoxc\\.conda\\envs\\chatglm3-demo\\lib\\site-packages\\torch\\nn\\modules\\loss.py:535: UserWarning: Using a target size (torch.Size([205, 1, 1])) that is different to the input size (torch.Size([205, 100, 1])). This will likely lead to incorrect results due to broadcasting. Please ensure they have the same size.\n",
      "  return F.mse_loss(input, target, reduction=self.reduction)\n",
      "c:\\Users\\gaoxc\\.conda\\envs\\chatglm3-demo\\lib\\site-packages\\torch\\nn\\modules\\loss.py:535: UserWarning: Using a target size (torch.Size([7988, 1, 1])) that is different to the input size (torch.Size([7988, 100, 1])). This will likely lead to incorrect results due to broadcasting. Please ensure they have the same size.\n",
      "  return F.mse_loss(input, target, reduction=self.reduction)\n"
     ]
    },
    {
     "name": "stdout",
     "output_type": "stream",
     "text": [
      "Early stopping\n"
     ]
    },
    {
     "name": "stderr",
     "output_type": "stream",
     "text": [
      "c:\\Users\\gaoxc\\.conda\\envs\\chatglm3-demo\\lib\\site-packages\\torch\\nn\\modules\\loss.py:535: UserWarning: Using a target size (torch.Size([31949, 1, 1])) that is different to the input size (torch.Size([31949, 100, 1])). This will likely lead to incorrect results due to broadcasting. Please ensure they have the same size.\n",
      "  return F.mse_loss(input, target, reduction=self.reduction)\n",
      "c:\\Users\\gaoxc\\.conda\\envs\\chatglm3-demo\\lib\\site-packages\\torch\\nn\\modules\\loss.py:535: UserWarning: Using a target size (torch.Size([18526, 1, 1])) that is different to the input size (torch.Size([18526, 100, 1])). This will likely lead to incorrect results due to broadcasting. Please ensure they have the same size.\n",
      "  return F.mse_loss(input, target, reduction=self.reduction)\n"
     ]
    },
    {
     "name": "stdout",
     "output_type": "stream",
     "text": [
      "Epoch 156: train RMSE 2.6218, test RMSE 4.2908\n",
      "训练时间: 1128.0658428668976 秒\n",
      "torch.Size([40037, 100, 1]) torch.Size([40037, 1, 1])\n",
      "torch.Size([18426, 100, 1]) torch.Size([18426, 1, 1])\n"
     ]
    },
    {
     "name": "stderr",
     "output_type": "stream",
     "text": [
      "c:\\Users\\gaoxc\\.conda\\envs\\chatglm3-demo\\lib\\site-packages\\torch\\nn\\modules\\loss.py:535: UserWarning: Using a target size (torch.Size([29, 1, 1])) that is different to the input size (torch.Size([29, 100, 1])). This will likely lead to incorrect results due to broadcasting. Please ensure they have the same size.\n",
      "  return F.mse_loss(input, target, reduction=self.reduction)\n",
      "c:\\Users\\gaoxc\\.conda\\envs\\chatglm3-demo\\lib\\site-packages\\torch\\nn\\modules\\loss.py:535: UserWarning: Using a target size (torch.Size([8008, 1, 1])) that is different to the input size (torch.Size([8008, 100, 1])). This will likely lead to incorrect results due to broadcasting. Please ensure they have the same size.\n",
      "  return F.mse_loss(input, target, reduction=self.reduction)\n"
     ]
    },
    {
     "name": "stdout",
     "output_type": "stream",
     "text": [
      "Early stopping\n"
     ]
    },
    {
     "name": "stderr",
     "output_type": "stream",
     "text": [
      "c:\\Users\\gaoxc\\.conda\\envs\\chatglm3-demo\\lib\\site-packages\\torch\\nn\\modules\\loss.py:535: UserWarning: Using a target size (torch.Size([32029, 1, 1])) that is different to the input size (torch.Size([32029, 100, 1])). This will likely lead to incorrect results due to broadcasting. Please ensure they have the same size.\n",
      "  return F.mse_loss(input, target, reduction=self.reduction)\n",
      "c:\\Users\\gaoxc\\.conda\\envs\\chatglm3-demo\\lib\\site-packages\\torch\\nn\\modules\\loss.py:535: UserWarning: Using a target size (torch.Size([18426, 1, 1])) that is different to the input size (torch.Size([18426, 100, 1])). This will likely lead to incorrect results due to broadcasting. Please ensure they have the same size.\n",
      "  return F.mse_loss(input, target, reduction=self.reduction)\n"
     ]
    },
    {
     "name": "stdout",
     "output_type": "stream",
     "text": [
      "Epoch 179: train RMSE 2.5842, test RMSE 4.4671\n",
      "训练时间: 1351.5468616485596 秒\n",
      "torch.Size([40137, 100, 1]) torch.Size([40137, 1, 1])\n",
      "torch.Size([18326, 100, 1]) torch.Size([18326, 1, 1])\n"
     ]
    },
    {
     "name": "stderr",
     "output_type": "stream",
     "text": [
      "c:\\Users\\gaoxc\\.conda\\envs\\chatglm3-demo\\lib\\site-packages\\torch\\nn\\modules\\loss.py:535: UserWarning: Using a target size (torch.Size([109, 1, 1])) that is different to the input size (torch.Size([109, 100, 1])). This will likely lead to incorrect results due to broadcasting. Please ensure they have the same size.\n",
      "  return F.mse_loss(input, target, reduction=self.reduction)\n",
      "c:\\Users\\gaoxc\\.conda\\envs\\chatglm3-demo\\lib\\site-packages\\torch\\nn\\modules\\loss.py:535: UserWarning: Using a target size (torch.Size([8028, 1, 1])) that is different to the input size (torch.Size([8028, 100, 1])). This will likely lead to incorrect results due to broadcasting. Please ensure they have the same size.\n",
      "  return F.mse_loss(input, target, reduction=self.reduction)\n"
     ]
    },
    {
     "name": "stdout",
     "output_type": "stream",
     "text": [
      "Early stopping\n"
     ]
    },
    {
     "name": "stderr",
     "output_type": "stream",
     "text": [
      "c:\\Users\\gaoxc\\.conda\\envs\\chatglm3-demo\\lib\\site-packages\\torch\\nn\\modules\\loss.py:535: UserWarning: Using a target size (torch.Size([32109, 1, 1])) that is different to the input size (torch.Size([32109, 100, 1])). This will likely lead to incorrect results due to broadcasting. Please ensure they have the same size.\n",
      "  return F.mse_loss(input, target, reduction=self.reduction)\n",
      "c:\\Users\\gaoxc\\.conda\\envs\\chatglm3-demo\\lib\\site-packages\\torch\\nn\\modules\\loss.py:535: UserWarning: Using a target size (torch.Size([18326, 1, 1])) that is different to the input size (torch.Size([18326, 100, 1])). This will likely lead to incorrect results due to broadcasting. Please ensure they have the same size.\n",
      "  return F.mse_loss(input, target, reduction=self.reduction)\n"
     ]
    },
    {
     "name": "stdout",
     "output_type": "stream",
     "text": [
      "Epoch 145: train RMSE 2.5905, test RMSE 4.5279\n",
      "训练时间: 1533.9685254096985 秒\n",
      "torch.Size([40237, 100, 1]) torch.Size([40237, 1, 1])\n",
      "torch.Size([18226, 100, 1]) torch.Size([18226, 1, 1])\n"
     ]
    },
    {
     "name": "stderr",
     "output_type": "stream",
     "text": [
      "c:\\Users\\gaoxc\\.conda\\envs\\chatglm3-demo\\lib\\site-packages\\torch\\nn\\modules\\loss.py:535: UserWarning: Using a target size (torch.Size([189, 1, 1])) that is different to the input size (torch.Size([189, 100, 1])). This will likely lead to incorrect results due to broadcasting. Please ensure they have the same size.\n",
      "  return F.mse_loss(input, target, reduction=self.reduction)\n",
      "c:\\Users\\gaoxc\\.conda\\envs\\chatglm3-demo\\lib\\site-packages\\torch\\nn\\modules\\loss.py:535: UserWarning: Using a target size (torch.Size([8048, 1, 1])) that is different to the input size (torch.Size([8048, 100, 1])). This will likely lead to incorrect results due to broadcasting. Please ensure they have the same size.\n",
      "  return F.mse_loss(input, target, reduction=self.reduction)\n"
     ]
    },
    {
     "name": "stdout",
     "output_type": "stream",
     "text": [
      "Early stopping\n"
     ]
    },
    {
     "name": "stderr",
     "output_type": "stream",
     "text": [
      "c:\\Users\\gaoxc\\.conda\\envs\\chatglm3-demo\\lib\\site-packages\\torch\\nn\\modules\\loss.py:535: UserWarning: Using a target size (torch.Size([32189, 1, 1])) that is different to the input size (torch.Size([32189, 100, 1])). This will likely lead to incorrect results due to broadcasting. Please ensure they have the same size.\n",
      "  return F.mse_loss(input, target, reduction=self.reduction)\n",
      "c:\\Users\\gaoxc\\.conda\\envs\\chatglm3-demo\\lib\\site-packages\\torch\\nn\\modules\\loss.py:535: UserWarning: Using a target size (torch.Size([18226, 1, 1])) that is different to the input size (torch.Size([18226, 100, 1])). This will likely lead to incorrect results due to broadcasting. Please ensure they have the same size.\n",
      "  return F.mse_loss(input, target, reduction=self.reduction)\n"
     ]
    },
    {
     "name": "stdout",
     "output_type": "stream",
     "text": [
      "Epoch 106: train RMSE 2.6196, test RMSE 4.3385\n",
      "训练时间: 1669.2435669898987 秒\n",
      "torch.Size([40337, 100, 1]) torch.Size([40337, 1, 1])\n",
      "torch.Size([18126, 100, 1]) torch.Size([18126, 1, 1])\n"
     ]
    },
    {
     "name": "stderr",
     "output_type": "stream",
     "text": [
      "c:\\Users\\gaoxc\\.conda\\envs\\chatglm3-demo\\lib\\site-packages\\torch\\nn\\modules\\loss.py:535: UserWarning: Using a target size (torch.Size([13, 1, 1])) that is different to the input size (torch.Size([13, 100, 1])). This will likely lead to incorrect results due to broadcasting. Please ensure they have the same size.\n",
      "  return F.mse_loss(input, target, reduction=self.reduction)\n",
      "c:\\Users\\gaoxc\\.conda\\envs\\chatglm3-demo\\lib\\site-packages\\torch\\nn\\modules\\loss.py:535: UserWarning: Using a target size (torch.Size([8068, 1, 1])) that is different to the input size (torch.Size([8068, 100, 1])). This will likely lead to incorrect results due to broadcasting. Please ensure they have the same size.\n",
      "  return F.mse_loss(input, target, reduction=self.reduction)\n"
     ]
    },
    {
     "name": "stdout",
     "output_type": "stream",
     "text": [
      "Early stopping\n"
     ]
    },
    {
     "name": "stderr",
     "output_type": "stream",
     "text": [
      "c:\\Users\\gaoxc\\.conda\\envs\\chatglm3-demo\\lib\\site-packages\\torch\\nn\\modules\\loss.py:535: UserWarning: Using a target size (torch.Size([32269, 1, 1])) that is different to the input size (torch.Size([32269, 100, 1])). This will likely lead to incorrect results due to broadcasting. Please ensure they have the same size.\n",
      "  return F.mse_loss(input, target, reduction=self.reduction)\n",
      "c:\\Users\\gaoxc\\.conda\\envs\\chatglm3-demo\\lib\\site-packages\\torch\\nn\\modules\\loss.py:535: UserWarning: Using a target size (torch.Size([18126, 1, 1])) that is different to the input size (torch.Size([18126, 100, 1])). This will likely lead to incorrect results due to broadcasting. Please ensure they have the same size.\n",
      "  return F.mse_loss(input, target, reduction=self.reduction)\n"
     ]
    },
    {
     "name": "stdout",
     "output_type": "stream",
     "text": [
      "Epoch 91: train RMSE 2.6140, test RMSE 4.5684\n",
      "训练时间: 1787.7659633159637 秒\n",
      "torch.Size([40437, 100, 1]) torch.Size([40437, 1, 1])\n",
      "torch.Size([18026, 100, 1]) torch.Size([18026, 1, 1])\n"
     ]
    },
    {
     "name": "stderr",
     "output_type": "stream",
     "text": [
      "c:\\Users\\gaoxc\\.conda\\envs\\chatglm3-demo\\lib\\site-packages\\torch\\nn\\modules\\loss.py:535: UserWarning: Using a target size (torch.Size([93, 1, 1])) that is different to the input size (torch.Size([93, 100, 1])). This will likely lead to incorrect results due to broadcasting. Please ensure they have the same size.\n",
      "  return F.mse_loss(input, target, reduction=self.reduction)\n",
      "c:\\Users\\gaoxc\\.conda\\envs\\chatglm3-demo\\lib\\site-packages\\torch\\nn\\modules\\loss.py:535: UserWarning: Using a target size (torch.Size([8088, 1, 1])) that is different to the input size (torch.Size([8088, 100, 1])). This will likely lead to incorrect results due to broadcasting. Please ensure they have the same size.\n",
      "  return F.mse_loss(input, target, reduction=self.reduction)\n"
     ]
    },
    {
     "name": "stdout",
     "output_type": "stream",
     "text": [
      "Early stopping\n"
     ]
    },
    {
     "name": "stderr",
     "output_type": "stream",
     "text": [
      "c:\\Users\\gaoxc\\.conda\\envs\\chatglm3-demo\\lib\\site-packages\\torch\\nn\\modules\\loss.py:535: UserWarning: Using a target size (torch.Size([32349, 1, 1])) that is different to the input size (torch.Size([32349, 100, 1])). This will likely lead to incorrect results due to broadcasting. Please ensure they have the same size.\n",
      "  return F.mse_loss(input, target, reduction=self.reduction)\n",
      "c:\\Users\\gaoxc\\.conda\\envs\\chatglm3-demo\\lib\\site-packages\\torch\\nn\\modules\\loss.py:535: UserWarning: Using a target size (torch.Size([18026, 1, 1])) that is different to the input size (torch.Size([18026, 100, 1])). This will likely lead to incorrect results due to broadcasting. Please ensure they have the same size.\n",
      "  return F.mse_loss(input, target, reduction=self.reduction)\n"
     ]
    },
    {
     "name": "stdout",
     "output_type": "stream",
     "text": [
      "Epoch 193: train RMSE 2.6107, test RMSE 4.5208\n",
      "训练时间: 2031.760747909546 秒\n",
      "torch.Size([40537, 100, 1]) torch.Size([40537, 1, 1])\n",
      "torch.Size([17926, 100, 1]) torch.Size([17926, 1, 1])\n"
     ]
    },
    {
     "name": "stderr",
     "output_type": "stream",
     "text": [
      "c:\\Users\\gaoxc\\.conda\\envs\\chatglm3-demo\\lib\\site-packages\\torch\\nn\\modules\\loss.py:535: UserWarning: Using a target size (torch.Size([173, 1, 1])) that is different to the input size (torch.Size([173, 100, 1])). This will likely lead to incorrect results due to broadcasting. Please ensure they have the same size.\n",
      "  return F.mse_loss(input, target, reduction=self.reduction)\n",
      "c:\\Users\\gaoxc\\.conda\\envs\\chatglm3-demo\\lib\\site-packages\\torch\\nn\\modules\\loss.py:535: UserWarning: Using a target size (torch.Size([8108, 1, 1])) that is different to the input size (torch.Size([8108, 100, 1])). This will likely lead to incorrect results due to broadcasting. Please ensure they have the same size.\n",
      "  return F.mse_loss(input, target, reduction=self.reduction)\n"
     ]
    },
    {
     "name": "stdout",
     "output_type": "stream",
     "text": [
      "Early stopping\n"
     ]
    },
    {
     "name": "stderr",
     "output_type": "stream",
     "text": [
      "c:\\Users\\gaoxc\\.conda\\envs\\chatglm3-demo\\lib\\site-packages\\torch\\nn\\modules\\loss.py:535: UserWarning: Using a target size (torch.Size([32429, 1, 1])) that is different to the input size (torch.Size([32429, 100, 1])). This will likely lead to incorrect results due to broadcasting. Please ensure they have the same size.\n",
      "  return F.mse_loss(input, target, reduction=self.reduction)\n",
      "c:\\Users\\gaoxc\\.conda\\envs\\chatglm3-demo\\lib\\site-packages\\torch\\nn\\modules\\loss.py:535: UserWarning: Using a target size (torch.Size([17926, 1, 1])) that is different to the input size (torch.Size([17926, 100, 1])). This will likely lead to incorrect results due to broadcasting. Please ensure they have the same size.\n",
      "  return F.mse_loss(input, target, reduction=self.reduction)\n"
     ]
    },
    {
     "name": "stdout",
     "output_type": "stream",
     "text": [
      "Epoch 124: train RMSE 2.6272, test RMSE 4.4016\n",
      "训练时间: 2191.1653039455414 秒\n",
      "torch.Size([40637, 100, 1]) torch.Size([40637, 1, 1])\n",
      "torch.Size([17826, 100, 1]) torch.Size([17826, 1, 1])\n"
     ]
    },
    {
     "name": "stderr",
     "output_type": "stream",
     "text": [
      "c:\\Users\\gaoxc\\.conda\\envs\\chatglm3-demo\\lib\\site-packages\\torch\\nn\\modules\\loss.py:535: UserWarning: Using a target size (torch.Size([253, 1, 1])) that is different to the input size (torch.Size([253, 100, 1])). This will likely lead to incorrect results due to broadcasting. Please ensure they have the same size.\n",
      "  return F.mse_loss(input, target, reduction=self.reduction)\n",
      "c:\\Users\\gaoxc\\.conda\\envs\\chatglm3-demo\\lib\\site-packages\\torch\\nn\\modules\\loss.py:535: UserWarning: Using a target size (torch.Size([8128, 1, 1])) that is different to the input size (torch.Size([8128, 100, 1])). This will likely lead to incorrect results due to broadcasting. Please ensure they have the same size.\n",
      "  return F.mse_loss(input, target, reduction=self.reduction)\n"
     ]
    },
    {
     "name": "stdout",
     "output_type": "stream",
     "text": [
      "Early stopping\n"
     ]
    },
    {
     "name": "stderr",
     "output_type": "stream",
     "text": [
      "c:\\Users\\gaoxc\\.conda\\envs\\chatglm3-demo\\lib\\site-packages\\torch\\nn\\modules\\loss.py:535: UserWarning: Using a target size (torch.Size([32509, 1, 1])) that is different to the input size (torch.Size([32509, 100, 1])). This will likely lead to incorrect results due to broadcasting. Please ensure they have the same size.\n",
      "  return F.mse_loss(input, target, reduction=self.reduction)\n",
      "c:\\Users\\gaoxc\\.conda\\envs\\chatglm3-demo\\lib\\site-packages\\torch\\nn\\modules\\loss.py:535: UserWarning: Using a target size (torch.Size([17826, 1, 1])) that is different to the input size (torch.Size([17826, 100, 1])). This will likely lead to incorrect results due to broadcasting. Please ensure they have the same size.\n",
      "  return F.mse_loss(input, target, reduction=self.reduction)\n"
     ]
    },
    {
     "name": "stdout",
     "output_type": "stream",
     "text": [
      "Epoch 100: train RMSE 2.6114, test RMSE 4.4358\n",
      "训练时间: 2321.1320416927338 秒\n",
      "torch.Size([40737, 100, 1]) torch.Size([40737, 1, 1])\n",
      "torch.Size([17726, 100, 1]) torch.Size([17726, 1, 1])\n"
     ]
    },
    {
     "name": "stderr",
     "output_type": "stream",
     "text": [
      "c:\\Users\\gaoxc\\.conda\\envs\\chatglm3-demo\\lib\\site-packages\\torch\\nn\\modules\\loss.py:535: UserWarning: Using a target size (torch.Size([77, 1, 1])) that is different to the input size (torch.Size([77, 100, 1])). This will likely lead to incorrect results due to broadcasting. Please ensure they have the same size.\n",
      "  return F.mse_loss(input, target, reduction=self.reduction)\n",
      "c:\\Users\\gaoxc\\.conda\\envs\\chatglm3-demo\\lib\\site-packages\\torch\\nn\\modules\\loss.py:535: UserWarning: Using a target size (torch.Size([8148, 1, 1])) that is different to the input size (torch.Size([8148, 100, 1])). This will likely lead to incorrect results due to broadcasting. Please ensure they have the same size.\n",
      "  return F.mse_loss(input, target, reduction=self.reduction)\n"
     ]
    },
    {
     "name": "stdout",
     "output_type": "stream",
     "text": [
      "Early stopping\n"
     ]
    },
    {
     "name": "stderr",
     "output_type": "stream",
     "text": [
      "c:\\Users\\gaoxc\\.conda\\envs\\chatglm3-demo\\lib\\site-packages\\torch\\nn\\modules\\loss.py:535: UserWarning: Using a target size (torch.Size([32589, 1, 1])) that is different to the input size (torch.Size([32589, 100, 1])). This will likely lead to incorrect results due to broadcasting. Please ensure they have the same size.\n",
      "  return F.mse_loss(input, target, reduction=self.reduction)\n",
      "c:\\Users\\gaoxc\\.conda\\envs\\chatglm3-demo\\lib\\site-packages\\torch\\nn\\modules\\loss.py:535: UserWarning: Using a target size (torch.Size([17726, 1, 1])) that is different to the input size (torch.Size([17726, 100, 1])). This will likely lead to incorrect results due to broadcasting. Please ensure they have the same size.\n",
      "  return F.mse_loss(input, target, reduction=self.reduction)\n"
     ]
    },
    {
     "name": "stdout",
     "output_type": "stream",
     "text": [
      "Epoch 105: train RMSE 2.6168, test RMSE 4.5770\n",
      "训练时间: 2458.573315858841 秒\n",
      "torch.Size([40837, 100, 1]) torch.Size([40837, 1, 1])\n",
      "torch.Size([17626, 100, 1]) torch.Size([17626, 1, 1])\n"
     ]
    },
    {
     "name": "stderr",
     "output_type": "stream",
     "text": [
      "c:\\Users\\gaoxc\\.conda\\envs\\chatglm3-demo\\lib\\site-packages\\torch\\nn\\modules\\loss.py:535: UserWarning: Using a target size (torch.Size([8168, 1, 1])) that is different to the input size (torch.Size([8168, 100, 1])). This will likely lead to incorrect results due to broadcasting. Please ensure they have the same size.\n",
      "  return F.mse_loss(input, target, reduction=self.reduction)\n"
     ]
    },
    {
     "name": "stdout",
     "output_type": "stream",
     "text": [
      "Early stopping\n"
     ]
    },
    {
     "name": "stderr",
     "output_type": "stream",
     "text": [
      "c:\\Users\\gaoxc\\.conda\\envs\\chatglm3-demo\\lib\\site-packages\\torch\\nn\\modules\\loss.py:535: UserWarning: Using a target size (torch.Size([32669, 1, 1])) that is different to the input size (torch.Size([32669, 100, 1])). This will likely lead to incorrect results due to broadcasting. Please ensure they have the same size.\n",
      "  return F.mse_loss(input, target, reduction=self.reduction)\n",
      "c:\\Users\\gaoxc\\.conda\\envs\\chatglm3-demo\\lib\\site-packages\\torch\\nn\\modules\\loss.py:535: UserWarning: Using a target size (torch.Size([17626, 1, 1])) that is different to the input size (torch.Size([17626, 100, 1])). This will likely lead to incorrect results due to broadcasting. Please ensure they have the same size.\n",
      "  return F.mse_loss(input, target, reduction=self.reduction)\n"
     ]
    },
    {
     "name": "stdout",
     "output_type": "stream",
     "text": [
      "Epoch 125: train RMSE 2.6160, test RMSE 4.4034\n",
      "训练时间: 2621.463619709015 秒\n",
      "torch.Size([40937, 100, 1]) torch.Size([40937, 1, 1])\n",
      "torch.Size([17526, 100, 1]) torch.Size([17526, 1, 1])\n"
     ]
    },
    {
     "name": "stderr",
     "output_type": "stream",
     "text": [
      "c:\\Users\\gaoxc\\.conda\\envs\\chatglm3-demo\\lib\\site-packages\\torch\\nn\\modules\\loss.py:535: UserWarning: Using a target size (torch.Size([8188, 1, 1])) that is different to the input size (torch.Size([8188, 100, 1])). This will likely lead to incorrect results due to broadcasting. Please ensure they have the same size.\n",
      "  return F.mse_loss(input, target, reduction=self.reduction)\n"
     ]
    },
    {
     "name": "stdout",
     "output_type": "stream",
     "text": [
      "Early stopping\n"
     ]
    },
    {
     "name": "stderr",
     "output_type": "stream",
     "text": [
      "c:\\Users\\gaoxc\\.conda\\envs\\chatglm3-demo\\lib\\site-packages\\torch\\nn\\modules\\loss.py:535: UserWarning: Using a target size (torch.Size([32749, 1, 1])) that is different to the input size (torch.Size([32749, 100, 1])). This will likely lead to incorrect results due to broadcasting. Please ensure they have the same size.\n",
      "  return F.mse_loss(input, target, reduction=self.reduction)\n",
      "c:\\Users\\gaoxc\\.conda\\envs\\chatglm3-demo\\lib\\site-packages\\torch\\nn\\modules\\loss.py:535: UserWarning: Using a target size (torch.Size([17526, 1, 1])) that is different to the input size (torch.Size([17526, 100, 1])). This will likely lead to incorrect results due to broadcasting. Please ensure they have the same size.\n",
      "  return F.mse_loss(input, target, reduction=self.reduction)\n"
     ]
    },
    {
     "name": "stdout",
     "output_type": "stream",
     "text": [
      "Epoch 96: train RMSE 2.6522, test RMSE 4.4621\n",
      "训练时间: 2748.0491800308228 秒\n",
      "torch.Size([41037, 100, 1]) torch.Size([41037, 1, 1])\n",
      "torch.Size([17426, 100, 1]) torch.Size([17426, 1, 1])\n"
     ]
    },
    {
     "name": "stderr",
     "output_type": "stream",
     "text": [
      "c:\\Users\\gaoxc\\.conda\\envs\\chatglm3-demo\\lib\\site-packages\\torch\\nn\\modules\\loss.py:535: UserWarning: Using a target size (torch.Size([8208, 1, 1])) that is different to the input size (torch.Size([8208, 100, 1])). This will likely lead to incorrect results due to broadcasting. Please ensure they have the same size.\n",
      "  return F.mse_loss(input, target, reduction=self.reduction)\n"
     ]
    },
    {
     "name": "stdout",
     "output_type": "stream",
     "text": [
      "Early stopping\n"
     ]
    },
    {
     "name": "stderr",
     "output_type": "stream",
     "text": [
      "c:\\Users\\gaoxc\\.conda\\envs\\chatglm3-demo\\lib\\site-packages\\torch\\nn\\modules\\loss.py:535: UserWarning: Using a target size (torch.Size([32829, 1, 1])) that is different to the input size (torch.Size([32829, 100, 1])). This will likely lead to incorrect results due to broadcasting. Please ensure they have the same size.\n",
      "  return F.mse_loss(input, target, reduction=self.reduction)\n",
      "c:\\Users\\gaoxc\\.conda\\envs\\chatglm3-demo\\lib\\site-packages\\torch\\nn\\modules\\loss.py:535: UserWarning: Using a target size (torch.Size([17426, 1, 1])) that is different to the input size (torch.Size([17426, 100, 1])). This will likely lead to incorrect results due to broadcasting. Please ensure they have the same size.\n",
      "  return F.mse_loss(input, target, reduction=self.reduction)\n"
     ]
    },
    {
     "name": "stdout",
     "output_type": "stream",
     "text": [
      "Epoch 105: train RMSE 2.6292, test RMSE 4.4660\n",
      "训练时间: 2892.832906961441 秒\n",
      "torch.Size([41137, 100, 1]) torch.Size([41137, 1, 1])\n",
      "torch.Size([17326, 100, 1]) torch.Size([17326, 1, 1])\n"
     ]
    },
    {
     "name": "stderr",
     "output_type": "stream",
     "text": [
      "c:\\Users\\gaoxc\\.conda\\envs\\chatglm3-demo\\lib\\site-packages\\torch\\nn\\modules\\loss.py:535: UserWarning: Using a target size (torch.Size([8228, 1, 1])) that is different to the input size (torch.Size([8228, 100, 1])). This will likely lead to incorrect results due to broadcasting. Please ensure they have the same size.\n",
      "  return F.mse_loss(input, target, reduction=self.reduction)\n"
     ]
    },
    {
     "name": "stdout",
     "output_type": "stream",
     "text": [
      "Early stopping\n"
     ]
    },
    {
     "name": "stderr",
     "output_type": "stream",
     "text": [
      "c:\\Users\\gaoxc\\.conda\\envs\\chatglm3-demo\\lib\\site-packages\\torch\\nn\\modules\\loss.py:535: UserWarning: Using a target size (torch.Size([32909, 1, 1])) that is different to the input size (torch.Size([32909, 100, 1])). This will likely lead to incorrect results due to broadcasting. Please ensure they have the same size.\n",
      "  return F.mse_loss(input, target, reduction=self.reduction)\n",
      "c:\\Users\\gaoxc\\.conda\\envs\\chatglm3-demo\\lib\\site-packages\\torch\\nn\\modules\\loss.py:535: UserWarning: Using a target size (torch.Size([17326, 1, 1])) that is different to the input size (torch.Size([17326, 100, 1])). This will likely lead to incorrect results due to broadcasting. Please ensure they have the same size.\n",
      "  return F.mse_loss(input, target, reduction=self.reduction)\n"
     ]
    },
    {
     "name": "stdout",
     "output_type": "stream",
     "text": [
      "Epoch 161: train RMSE 2.6099, test RMSE 4.4372\n",
      "训练时间: 3111.973072528839 秒\n",
      "torch.Size([41237, 100, 1]) torch.Size([41237, 1, 1])\n",
      "torch.Size([17226, 100, 1]) torch.Size([17226, 1, 1])\n"
     ]
    },
    {
     "name": "stderr",
     "output_type": "stream",
     "text": [
      "c:\\Users\\gaoxc\\.conda\\envs\\chatglm3-demo\\lib\\site-packages\\torch\\nn\\modules\\loss.py:535: UserWarning: Using a target size (torch.Size([8248, 1, 1])) that is different to the input size (torch.Size([8248, 100, 1])). This will likely lead to incorrect results due to broadcasting. Please ensure they have the same size.\n",
      "  return F.mse_loss(input, target, reduction=self.reduction)\n"
     ]
    },
    {
     "name": "stdout",
     "output_type": "stream",
     "text": [
      "Early stopping\n"
     ]
    },
    {
     "name": "stderr",
     "output_type": "stream",
     "text": [
      "c:\\Users\\gaoxc\\.conda\\envs\\chatglm3-demo\\lib\\site-packages\\torch\\nn\\modules\\loss.py:535: UserWarning: Using a target size (torch.Size([32989, 1, 1])) that is different to the input size (torch.Size([32989, 100, 1])). This will likely lead to incorrect results due to broadcasting. Please ensure they have the same size.\n",
      "  return F.mse_loss(input, target, reduction=self.reduction)\n",
      "c:\\Users\\gaoxc\\.conda\\envs\\chatglm3-demo\\lib\\site-packages\\torch\\nn\\modules\\loss.py:535: UserWarning: Using a target size (torch.Size([17226, 1, 1])) that is different to the input size (torch.Size([17226, 100, 1])). This will likely lead to incorrect results due to broadcasting. Please ensure they have the same size.\n",
      "  return F.mse_loss(input, target, reduction=self.reduction)\n"
     ]
    },
    {
     "name": "stdout",
     "output_type": "stream",
     "text": [
      "Epoch 120: train RMSE 2.5713, test RMSE 4.2804\n",
      "训练时间: 3275.6960542201996 秒\n",
      "torch.Size([41337, 100, 1]) torch.Size([41337, 1, 1])\n",
      "torch.Size([17126, 100, 1]) torch.Size([17126, 1, 1])\n"
     ]
    },
    {
     "name": "stderr",
     "output_type": "stream",
     "text": [
      "c:\\Users\\gaoxc\\.conda\\envs\\chatglm3-demo\\lib\\site-packages\\torch\\nn\\modules\\loss.py:535: UserWarning: Using a target size (torch.Size([8268, 1, 1])) that is different to the input size (torch.Size([8268, 100, 1])). This will likely lead to incorrect results due to broadcasting. Please ensure they have the same size.\n",
      "  return F.mse_loss(input, target, reduction=self.reduction)\n"
     ]
    },
    {
     "name": "stdout",
     "output_type": "stream",
     "text": [
      "Early stopping\n"
     ]
    },
    {
     "name": "stderr",
     "output_type": "stream",
     "text": [
      "c:\\Users\\gaoxc\\.conda\\envs\\chatglm3-demo\\lib\\site-packages\\torch\\nn\\modules\\loss.py:535: UserWarning: Using a target size (torch.Size([33069, 1, 1])) that is different to the input size (torch.Size([33069, 100, 1])). This will likely lead to incorrect results due to broadcasting. Please ensure they have the same size.\n",
      "  return F.mse_loss(input, target, reduction=self.reduction)\n",
      "c:\\Users\\gaoxc\\.conda\\envs\\chatglm3-demo\\lib\\site-packages\\torch\\nn\\modules\\loss.py:535: UserWarning: Using a target size (torch.Size([17126, 1, 1])) that is different to the input size (torch.Size([17126, 100, 1])). This will likely lead to incorrect results due to broadcasting. Please ensure they have the same size.\n",
      "  return F.mse_loss(input, target, reduction=self.reduction)\n"
     ]
    },
    {
     "name": "stdout",
     "output_type": "stream",
     "text": [
      "Epoch 182: train RMSE 2.6080, test RMSE 4.2783\n",
      "训练时间: 3521.973228931427 秒\n",
      "torch.Size([41437, 100, 1]) torch.Size([41437, 1, 1])\n",
      "torch.Size([17026, 100, 1]) torch.Size([17026, 1, 1])\n"
     ]
    },
    {
     "name": "stderr",
     "output_type": "stream",
     "text": [
      "c:\\Users\\gaoxc\\.conda\\envs\\chatglm3-demo\\lib\\site-packages\\torch\\nn\\modules\\loss.py:535: UserWarning: Using a target size (torch.Size([8288, 1, 1])) that is different to the input size (torch.Size([8288, 100, 1])). This will likely lead to incorrect results due to broadcasting. Please ensure they have the same size.\n",
      "  return F.mse_loss(input, target, reduction=self.reduction)\n"
     ]
    },
    {
     "name": "stdout",
     "output_type": "stream",
     "text": [
      "Early stopping\n"
     ]
    },
    {
     "name": "stderr",
     "output_type": "stream",
     "text": [
      "c:\\Users\\gaoxc\\.conda\\envs\\chatglm3-demo\\lib\\site-packages\\torch\\nn\\modules\\loss.py:535: UserWarning: Using a target size (torch.Size([33149, 1, 1])) that is different to the input size (torch.Size([33149, 100, 1])). This will likely lead to incorrect results due to broadcasting. Please ensure they have the same size.\n",
      "  return F.mse_loss(input, target, reduction=self.reduction)\n",
      "c:\\Users\\gaoxc\\.conda\\envs\\chatglm3-demo\\lib\\site-packages\\torch\\nn\\modules\\loss.py:535: UserWarning: Using a target size (torch.Size([17026, 1, 1])) that is different to the input size (torch.Size([17026, 100, 1])). This will likely lead to incorrect results due to broadcasting. Please ensure they have the same size.\n",
      "  return F.mse_loss(input, target, reduction=self.reduction)\n"
     ]
    },
    {
     "name": "stdout",
     "output_type": "stream",
     "text": [
      "Epoch 99: train RMSE 2.6119, test RMSE 4.4944\n",
      "训练时间: 3659.4003024101257 秒\n",
      "torch.Size([41537, 100, 1]) torch.Size([41537, 1, 1])\n",
      "torch.Size([16926, 100, 1]) torch.Size([16926, 1, 1])\n"
     ]
    },
    {
     "name": "stderr",
     "output_type": "stream",
     "text": [
      "c:\\Users\\gaoxc\\.conda\\envs\\chatglm3-demo\\lib\\site-packages\\torch\\nn\\modules\\loss.py:535: UserWarning: Using a target size (torch.Size([8308, 1, 1])) that is different to the input size (torch.Size([8308, 100, 1])). This will likely lead to incorrect results due to broadcasting. Please ensure they have the same size.\n",
      "  return F.mse_loss(input, target, reduction=self.reduction)\n"
     ]
    },
    {
     "name": "stdout",
     "output_type": "stream",
     "text": [
      "Early stopping\n"
     ]
    },
    {
     "name": "stderr",
     "output_type": "stream",
     "text": [
      "c:\\Users\\gaoxc\\.conda\\envs\\chatglm3-demo\\lib\\site-packages\\torch\\nn\\modules\\loss.py:535: UserWarning: Using a target size (torch.Size([33229, 1, 1])) that is different to the input size (torch.Size([33229, 100, 1])). This will likely lead to incorrect results due to broadcasting. Please ensure they have the same size.\n",
      "  return F.mse_loss(input, target, reduction=self.reduction)\n",
      "c:\\Users\\gaoxc\\.conda\\envs\\chatglm3-demo\\lib\\site-packages\\torch\\nn\\modules\\loss.py:535: UserWarning: Using a target size (torch.Size([16926, 1, 1])) that is different to the input size (torch.Size([16926, 100, 1])). This will likely lead to incorrect results due to broadcasting. Please ensure they have the same size.\n",
      "  return F.mse_loss(input, target, reduction=self.reduction)\n"
     ]
    },
    {
     "name": "stdout",
     "output_type": "stream",
     "text": [
      "Epoch 101: train RMSE 2.6389, test RMSE 4.9058\n",
      "训练时间: 3802.1893615722656 秒\n",
      "torch.Size([41637, 100, 1]) torch.Size([41637, 1, 1])\n",
      "torch.Size([16826, 100, 1]) torch.Size([16826, 1, 1])\n"
     ]
    },
    {
     "name": "stderr",
     "output_type": "stream",
     "text": [
      "c:\\Users\\gaoxc\\.conda\\envs\\chatglm3-demo\\lib\\site-packages\\torch\\nn\\modules\\loss.py:535: UserWarning: Using a target size (torch.Size([8328, 1, 1])) that is different to the input size (torch.Size([8328, 100, 1])). This will likely lead to incorrect results due to broadcasting. Please ensure they have the same size.\n",
      "  return F.mse_loss(input, target, reduction=self.reduction)\n"
     ]
    },
    {
     "name": "stdout",
     "output_type": "stream",
     "text": [
      "Early stopping\n"
     ]
    },
    {
     "name": "stderr",
     "output_type": "stream",
     "text": [
      "c:\\Users\\gaoxc\\.conda\\envs\\chatglm3-demo\\lib\\site-packages\\torch\\nn\\modules\\loss.py:535: UserWarning: Using a target size (torch.Size([33309, 1, 1])) that is different to the input size (torch.Size([33309, 100, 1])). This will likely lead to incorrect results due to broadcasting. Please ensure they have the same size.\n",
      "  return F.mse_loss(input, target, reduction=self.reduction)\n",
      "c:\\Users\\gaoxc\\.conda\\envs\\chatglm3-demo\\lib\\site-packages\\torch\\nn\\modules\\loss.py:535: UserWarning: Using a target size (torch.Size([16826, 1, 1])) that is different to the input size (torch.Size([16826, 100, 1])). This will likely lead to incorrect results due to broadcasting. Please ensure they have the same size.\n",
      "  return F.mse_loss(input, target, reduction=self.reduction)\n"
     ]
    },
    {
     "name": "stdout",
     "output_type": "stream",
     "text": [
      "Epoch 138: train RMSE 2.6405, test RMSE 4.4959\n",
      "训练时间: 3996.585411787033 秒\n",
      "torch.Size([41737, 100, 1]) torch.Size([41737, 1, 1])\n",
      "torch.Size([16726, 100, 1]) torch.Size([16726, 1, 1])\n"
     ]
    },
    {
     "name": "stderr",
     "output_type": "stream",
     "text": [
      "c:\\Users\\gaoxc\\.conda\\envs\\chatglm3-demo\\lib\\site-packages\\torch\\nn\\modules\\loss.py:535: UserWarning: Using a target size (torch.Size([8348, 1, 1])) that is different to the input size (torch.Size([8348, 100, 1])). This will likely lead to incorrect results due to broadcasting. Please ensure they have the same size.\n",
      "  return F.mse_loss(input, target, reduction=self.reduction)\n"
     ]
    },
    {
     "name": "stdout",
     "output_type": "stream",
     "text": [
      "Early stopping\n"
     ]
    },
    {
     "name": "stderr",
     "output_type": "stream",
     "text": [
      "c:\\Users\\gaoxc\\.conda\\envs\\chatglm3-demo\\lib\\site-packages\\torch\\nn\\modules\\loss.py:535: UserWarning: Using a target size (torch.Size([33389, 1, 1])) that is different to the input size (torch.Size([33389, 100, 1])). This will likely lead to incorrect results due to broadcasting. Please ensure they have the same size.\n",
      "  return F.mse_loss(input, target, reduction=self.reduction)\n",
      "c:\\Users\\gaoxc\\.conda\\envs\\chatglm3-demo\\lib\\site-packages\\torch\\nn\\modules\\loss.py:535: UserWarning: Using a target size (torch.Size([16726, 1, 1])) that is different to the input size (torch.Size([16726, 100, 1])). This will likely lead to incorrect results due to broadcasting. Please ensure they have the same size.\n",
      "  return F.mse_loss(input, target, reduction=self.reduction)\n"
     ]
    },
    {
     "name": "stdout",
     "output_type": "stream",
     "text": [
      "Epoch 135: train RMSE 2.6181, test RMSE 4.6475\n",
      "训练时间: 4186.555575609207 秒\n",
      "torch.Size([41837, 100, 1]) torch.Size([41837, 1, 1])\n",
      "torch.Size([16626, 100, 1]) torch.Size([16626, 1, 1])\n"
     ]
    },
    {
     "name": "stderr",
     "output_type": "stream",
     "text": [
      "c:\\Users\\gaoxc\\.conda\\envs\\chatglm3-demo\\lib\\site-packages\\torch\\nn\\modules\\loss.py:535: UserWarning: Using a target size (torch.Size([8368, 1, 1])) that is different to the input size (torch.Size([8368, 100, 1])). This will likely lead to incorrect results due to broadcasting. Please ensure they have the same size.\n",
      "  return F.mse_loss(input, target, reduction=self.reduction)\n"
     ]
    },
    {
     "name": "stdout",
     "output_type": "stream",
     "text": [
      "Early stopping\n"
     ]
    },
    {
     "name": "stderr",
     "output_type": "stream",
     "text": [
      "c:\\Users\\gaoxc\\.conda\\envs\\chatglm3-demo\\lib\\site-packages\\torch\\nn\\modules\\loss.py:535: UserWarning: Using a target size (torch.Size([33469, 1, 1])) that is different to the input size (torch.Size([33469, 100, 1])). This will likely lead to incorrect results due to broadcasting. Please ensure they have the same size.\n",
      "  return F.mse_loss(input, target, reduction=self.reduction)\n",
      "c:\\Users\\gaoxc\\.conda\\envs\\chatglm3-demo\\lib\\site-packages\\torch\\nn\\modules\\loss.py:535: UserWarning: Using a target size (torch.Size([16626, 1, 1])) that is different to the input size (torch.Size([16626, 100, 1])). This will likely lead to incorrect results due to broadcasting. Please ensure they have the same size.\n",
      "  return F.mse_loss(input, target, reduction=self.reduction)\n"
     ]
    },
    {
     "name": "stdout",
     "output_type": "stream",
     "text": [
      "Epoch 72: train RMSE 3.4533, test RMSE 2.8411\n",
      "训练时间: 4289.42965388298 秒\n",
      "torch.Size([41937, 100, 1]) torch.Size([41937, 1, 1])\n",
      "torch.Size([16526, 100, 1]) torch.Size([16526, 1, 1])\n"
     ]
    },
    {
     "name": "stderr",
     "output_type": "stream",
     "text": [
      "c:\\Users\\gaoxc\\.conda\\envs\\chatglm3-demo\\lib\\site-packages\\torch\\nn\\modules\\loss.py:535: UserWarning: Using a target size (torch.Size([8388, 1, 1])) that is different to the input size (torch.Size([8388, 100, 1])). This will likely lead to incorrect results due to broadcasting. Please ensure they have the same size.\n",
      "  return F.mse_loss(input, target, reduction=self.reduction)\n"
     ]
    },
    {
     "name": "stdout",
     "output_type": "stream",
     "text": [
      "Early stopping\n"
     ]
    },
    {
     "name": "stderr",
     "output_type": "stream",
     "text": [
      "c:\\Users\\gaoxc\\.conda\\envs\\chatglm3-demo\\lib\\site-packages\\torch\\nn\\modules\\loss.py:535: UserWarning: Using a target size (torch.Size([33549, 1, 1])) that is different to the input size (torch.Size([33549, 100, 1])). This will likely lead to incorrect results due to broadcasting. Please ensure they have the same size.\n",
      "  return F.mse_loss(input, target, reduction=self.reduction)\n",
      "c:\\Users\\gaoxc\\.conda\\envs\\chatglm3-demo\\lib\\site-packages\\torch\\nn\\modules\\loss.py:535: UserWarning: Using a target size (torch.Size([16526, 1, 1])) that is different to the input size (torch.Size([16526, 100, 1])). This will likely lead to incorrect results due to broadcasting. Please ensure they have the same size.\n",
      "  return F.mse_loss(input, target, reduction=self.reduction)\n"
     ]
    },
    {
     "name": "stdout",
     "output_type": "stream",
     "text": [
      "Epoch 136: train RMSE 3.4266, test RMSE 2.5722\n",
      "训练时间: 4480.176096439362 秒\n",
      "torch.Size([42037, 100, 1]) torch.Size([42037, 1, 1])\n",
      "torch.Size([16426, 100, 1]) torch.Size([16426, 1, 1])\n"
     ]
    },
    {
     "name": "stderr",
     "output_type": "stream",
     "text": [
      "c:\\Users\\gaoxc\\.conda\\envs\\chatglm3-demo\\lib\\site-packages\\torch\\nn\\modules\\loss.py:535: UserWarning: Using a target size (torch.Size([8408, 1, 1])) that is different to the input size (torch.Size([8408, 100, 1])). This will likely lead to incorrect results due to broadcasting. Please ensure they have the same size.\n",
      "  return F.mse_loss(input, target, reduction=self.reduction)\n"
     ]
    },
    {
     "name": "stdout",
     "output_type": "stream",
     "text": [
      "Early stopping\n"
     ]
    },
    {
     "name": "stderr",
     "output_type": "stream",
     "text": [
      "c:\\Users\\gaoxc\\.conda\\envs\\chatglm3-demo\\lib\\site-packages\\torch\\nn\\modules\\loss.py:535: UserWarning: Using a target size (torch.Size([33629, 1, 1])) that is different to the input size (torch.Size([33629, 100, 1])). This will likely lead to incorrect results due to broadcasting. Please ensure they have the same size.\n",
      "  return F.mse_loss(input, target, reduction=self.reduction)\n",
      "c:\\Users\\gaoxc\\.conda\\envs\\chatglm3-demo\\lib\\site-packages\\torch\\nn\\modules\\loss.py:535: UserWarning: Using a target size (torch.Size([16426, 1, 1])) that is different to the input size (torch.Size([16426, 100, 1])). This will likely lead to incorrect results due to broadcasting. Please ensure they have the same size.\n",
      "  return F.mse_loss(input, target, reduction=self.reduction)\n"
     ]
    },
    {
     "name": "stdout",
     "output_type": "stream",
     "text": [
      "Epoch 77: train RMSE 3.4568, test RMSE 2.5024\n",
      "训练时间: 4589.168383836746 秒\n",
      "torch.Size([42137, 100, 1]) torch.Size([42137, 1, 1])\n",
      "torch.Size([16326, 100, 1]) torch.Size([16326, 1, 1])\n"
     ]
    },
    {
     "name": "stderr",
     "output_type": "stream",
     "text": [
      "c:\\Users\\gaoxc\\.conda\\envs\\chatglm3-demo\\lib\\site-packages\\torch\\nn\\modules\\loss.py:535: UserWarning: Using a target size (torch.Size([8428, 1, 1])) that is different to the input size (torch.Size([8428, 100, 1])). This will likely lead to incorrect results due to broadcasting. Please ensure they have the same size.\n",
      "  return F.mse_loss(input, target, reduction=self.reduction)\n"
     ]
    },
    {
     "name": "stdout",
     "output_type": "stream",
     "text": [
      "Early stopping\n"
     ]
    },
    {
     "name": "stderr",
     "output_type": "stream",
     "text": [
      "c:\\Users\\gaoxc\\.conda\\envs\\chatglm3-demo\\lib\\site-packages\\torch\\nn\\modules\\loss.py:535: UserWarning: Using a target size (torch.Size([33709, 1, 1])) that is different to the input size (torch.Size([33709, 100, 1])). This will likely lead to incorrect results due to broadcasting. Please ensure they have the same size.\n",
      "  return F.mse_loss(input, target, reduction=self.reduction)\n",
      "c:\\Users\\gaoxc\\.conda\\envs\\chatglm3-demo\\lib\\site-packages\\torch\\nn\\modules\\loss.py:535: UserWarning: Using a target size (torch.Size([16326, 1, 1])) that is different to the input size (torch.Size([16326, 100, 1])). This will likely lead to incorrect results due to broadcasting. Please ensure they have the same size.\n",
      "  return F.mse_loss(input, target, reduction=self.reduction)\n"
     ]
    },
    {
     "name": "stdout",
     "output_type": "stream",
     "text": [
      "Epoch 113: train RMSE 3.4197, test RMSE 2.5866\n",
      "训练时间: 4752.485677242279 秒\n",
      "torch.Size([42237, 100, 1]) torch.Size([42237, 1, 1])\n",
      "torch.Size([16226, 100, 1]) torch.Size([16226, 1, 1])\n"
     ]
    },
    {
     "name": "stderr",
     "output_type": "stream",
     "text": [
      "c:\\Users\\gaoxc\\.conda\\envs\\chatglm3-demo\\lib\\site-packages\\torch\\nn\\modules\\loss.py:535: UserWarning: Using a target size (torch.Size([8448, 1, 1])) that is different to the input size (torch.Size([8448, 100, 1])). This will likely lead to incorrect results due to broadcasting. Please ensure they have the same size.\n",
      "  return F.mse_loss(input, target, reduction=self.reduction)\n"
     ]
    },
    {
     "name": "stdout",
     "output_type": "stream",
     "text": [
      "Early stopping\n"
     ]
    },
    {
     "name": "stderr",
     "output_type": "stream",
     "text": [
      "c:\\Users\\gaoxc\\.conda\\envs\\chatglm3-demo\\lib\\site-packages\\torch\\nn\\modules\\loss.py:535: UserWarning: Using a target size (torch.Size([33789, 1, 1])) that is different to the input size (torch.Size([33789, 100, 1])). This will likely lead to incorrect results due to broadcasting. Please ensure they have the same size.\n",
      "  return F.mse_loss(input, target, reduction=self.reduction)\n",
      "c:\\Users\\gaoxc\\.conda\\envs\\chatglm3-demo\\lib\\site-packages\\torch\\nn\\modules\\loss.py:535: UserWarning: Using a target size (torch.Size([16226, 1, 1])) that is different to the input size (torch.Size([16226, 100, 1])). This will likely lead to incorrect results due to broadcasting. Please ensure they have the same size.\n",
      "  return F.mse_loss(input, target, reduction=self.reduction)\n"
     ]
    },
    {
     "name": "stdout",
     "output_type": "stream",
     "text": [
      "Epoch 100: train RMSE 3.3013, test RMSE 2.5362\n",
      "训练时间: 4910.031290054321 秒\n",
      "torch.Size([42337, 100, 1]) torch.Size([42337, 1, 1])\n",
      "torch.Size([16126, 100, 1]) torch.Size([16126, 1, 1])\n"
     ]
    },
    {
     "name": "stderr",
     "output_type": "stream",
     "text": [
      "c:\\Users\\gaoxc\\.conda\\envs\\chatglm3-demo\\lib\\site-packages\\torch\\nn\\modules\\loss.py:535: UserWarning: Using a target size (torch.Size([8468, 1, 1])) that is different to the input size (torch.Size([8468, 100, 1])). This will likely lead to incorrect results due to broadcasting. Please ensure they have the same size.\n",
      "  return F.mse_loss(input, target, reduction=self.reduction)\n"
     ]
    },
    {
     "name": "stdout",
     "output_type": "stream",
     "text": [
      "Early stopping\n"
     ]
    },
    {
     "name": "stderr",
     "output_type": "stream",
     "text": [
      "c:\\Users\\gaoxc\\.conda\\envs\\chatglm3-demo\\lib\\site-packages\\torch\\nn\\modules\\loss.py:535: UserWarning: Using a target size (torch.Size([33869, 1, 1])) that is different to the input size (torch.Size([33869, 100, 1])). This will likely lead to incorrect results due to broadcasting. Please ensure they have the same size.\n",
      "  return F.mse_loss(input, target, reduction=self.reduction)\n",
      "c:\\Users\\gaoxc\\.conda\\envs\\chatglm3-demo\\lib\\site-packages\\torch\\nn\\modules\\loss.py:535: UserWarning: Using a target size (torch.Size([16126, 1, 1])) that is different to the input size (torch.Size([16126, 100, 1])). This will likely lead to incorrect results due to broadcasting. Please ensure they have the same size.\n",
      "  return F.mse_loss(input, target, reduction=self.reduction)\n"
     ]
    },
    {
     "name": "stdout",
     "output_type": "stream",
     "text": [
      "Epoch 86: train RMSE 3.4292, test RMSE 2.5468\n",
      "训练时间: 5044.44558429718 秒\n",
      "torch.Size([42437, 100, 1]) torch.Size([42437, 1, 1])\n",
      "torch.Size([16026, 100, 1]) torch.Size([16026, 1, 1])\n"
     ]
    },
    {
     "name": "stderr",
     "output_type": "stream",
     "text": [
      "c:\\Users\\gaoxc\\.conda\\envs\\chatglm3-demo\\lib\\site-packages\\torch\\nn\\modules\\loss.py:535: UserWarning: Using a target size (torch.Size([8488, 1, 1])) that is different to the input size (torch.Size([8488, 100, 1])). This will likely lead to incorrect results due to broadcasting. Please ensure they have the same size.\n",
      "  return F.mse_loss(input, target, reduction=self.reduction)\n"
     ]
    },
    {
     "name": "stdout",
     "output_type": "stream",
     "text": [
      "Early stopping\n"
     ]
    },
    {
     "name": "stderr",
     "output_type": "stream",
     "text": [
      "c:\\Users\\gaoxc\\.conda\\envs\\chatglm3-demo\\lib\\site-packages\\torch\\nn\\modules\\loss.py:535: UserWarning: Using a target size (torch.Size([33949, 1, 1])) that is different to the input size (torch.Size([33949, 100, 1])). This will likely lead to incorrect results due to broadcasting. Please ensure they have the same size.\n",
      "  return F.mse_loss(input, target, reduction=self.reduction)\n",
      "c:\\Users\\gaoxc\\.conda\\envs\\chatglm3-demo\\lib\\site-packages\\torch\\nn\\modules\\loss.py:535: UserWarning: Using a target size (torch.Size([16026, 1, 1])) that is different to the input size (torch.Size([16026, 100, 1])). This will likely lead to incorrect results due to broadcasting. Please ensure they have the same size.\n",
      "  return F.mse_loss(input, target, reduction=self.reduction)\n"
     ]
    },
    {
     "name": "stdout",
     "output_type": "stream",
     "text": [
      "Epoch 109: train RMSE 3.4012, test RMSE 2.6490\n",
      "训练时间: 5213.27672290802 秒\n",
      "torch.Size([42537, 100, 1]) torch.Size([42537, 1, 1])\n",
      "torch.Size([15926, 100, 1]) torch.Size([15926, 1, 1])\n"
     ]
    },
    {
     "name": "stderr",
     "output_type": "stream",
     "text": [
      "c:\\Users\\gaoxc\\.conda\\envs\\chatglm3-demo\\lib\\site-packages\\torch\\nn\\modules\\loss.py:535: UserWarning: Using a target size (torch.Size([8508, 1, 1])) that is different to the input size (torch.Size([8508, 100, 1])). This will likely lead to incorrect results due to broadcasting. Please ensure they have the same size.\n",
      "  return F.mse_loss(input, target, reduction=self.reduction)\n"
     ]
    },
    {
     "name": "stdout",
     "output_type": "stream",
     "text": [
      "Early stopping\n"
     ]
    },
    {
     "name": "stderr",
     "output_type": "stream",
     "text": [
      "c:\\Users\\gaoxc\\.conda\\envs\\chatglm3-demo\\lib\\site-packages\\torch\\nn\\modules\\loss.py:535: UserWarning: Using a target size (torch.Size([34029, 1, 1])) that is different to the input size (torch.Size([34029, 100, 1])). This will likely lead to incorrect results due to broadcasting. Please ensure they have the same size.\n",
      "  return F.mse_loss(input, target, reduction=self.reduction)\n",
      "c:\\Users\\gaoxc\\.conda\\envs\\chatglm3-demo\\lib\\site-packages\\torch\\nn\\modules\\loss.py:535: UserWarning: Using a target size (torch.Size([15926, 1, 1])) that is different to the input size (torch.Size([15926, 100, 1])). This will likely lead to incorrect results due to broadcasting. Please ensure they have the same size.\n",
      "  return F.mse_loss(input, target, reduction=self.reduction)\n"
     ]
    },
    {
     "name": "stdout",
     "output_type": "stream",
     "text": [
      "Epoch 84: train RMSE 3.2403, test RMSE 2.4362\n",
      "训练时间: 5345.856516599655 秒\n",
      "torch.Size([42637, 100, 1]) torch.Size([42637, 1, 1])\n",
      "torch.Size([15826, 100, 1]) torch.Size([15826, 1, 1])\n"
     ]
    },
    {
     "name": "stderr",
     "output_type": "stream",
     "text": [
      "c:\\Users\\gaoxc\\.conda\\envs\\chatglm3-demo\\lib\\site-packages\\torch\\nn\\modules\\loss.py:535: UserWarning: Using a target size (torch.Size([8528, 1, 1])) that is different to the input size (torch.Size([8528, 100, 1])). This will likely lead to incorrect results due to broadcasting. Please ensure they have the same size.\n",
      "  return F.mse_loss(input, target, reduction=self.reduction)\n"
     ]
    },
    {
     "name": "stdout",
     "output_type": "stream",
     "text": [
      "Early stopping\n"
     ]
    },
    {
     "name": "stderr",
     "output_type": "stream",
     "text": [
      "c:\\Users\\gaoxc\\.conda\\envs\\chatglm3-demo\\lib\\site-packages\\torch\\nn\\modules\\loss.py:535: UserWarning: Using a target size (torch.Size([34109, 1, 1])) that is different to the input size (torch.Size([34109, 100, 1])). This will likely lead to incorrect results due to broadcasting. Please ensure they have the same size.\n",
      "  return F.mse_loss(input, target, reduction=self.reduction)\n",
      "c:\\Users\\gaoxc\\.conda\\envs\\chatglm3-demo\\lib\\site-packages\\torch\\nn\\modules\\loss.py:535: UserWarning: Using a target size (torch.Size([15826, 1, 1])) that is different to the input size (torch.Size([15826, 100, 1])). This will likely lead to incorrect results due to broadcasting. Please ensure they have the same size.\n",
      "  return F.mse_loss(input, target, reduction=self.reduction)\n"
     ]
    },
    {
     "name": "stdout",
     "output_type": "stream",
     "text": [
      "Epoch 64: train RMSE 3.4723, test RMSE 2.4936\n",
      "训练时间: 5449.984219312668 秒\n",
      "torch.Size([42737, 100, 1]) torch.Size([42737, 1, 1])\n",
      "torch.Size([15726, 100, 1]) torch.Size([15726, 1, 1])\n"
     ]
    },
    {
     "name": "stderr",
     "output_type": "stream",
     "text": [
      "c:\\Users\\gaoxc\\.conda\\envs\\chatglm3-demo\\lib\\site-packages\\torch\\nn\\modules\\loss.py:535: UserWarning: Using a target size (torch.Size([8548, 1, 1])) that is different to the input size (torch.Size([8548, 100, 1])). This will likely lead to incorrect results due to broadcasting. Please ensure they have the same size.\n",
      "  return F.mse_loss(input, target, reduction=self.reduction)\n"
     ]
    },
    {
     "name": "stdout",
     "output_type": "stream",
     "text": [
      "Early stopping\n"
     ]
    },
    {
     "name": "stderr",
     "output_type": "stream",
     "text": [
      "c:\\Users\\gaoxc\\.conda\\envs\\chatglm3-demo\\lib\\site-packages\\torch\\nn\\modules\\loss.py:535: UserWarning: Using a target size (torch.Size([34189, 1, 1])) that is different to the input size (torch.Size([34189, 100, 1])). This will likely lead to incorrect results due to broadcasting. Please ensure they have the same size.\n",
      "  return F.mse_loss(input, target, reduction=self.reduction)\n",
      "c:\\Users\\gaoxc\\.conda\\envs\\chatglm3-demo\\lib\\site-packages\\torch\\nn\\modules\\loss.py:535: UserWarning: Using a target size (torch.Size([15726, 1, 1])) that is different to the input size (torch.Size([15726, 100, 1])). This will likely lead to incorrect results due to broadcasting. Please ensure they have the same size.\n",
      "  return F.mse_loss(input, target, reduction=self.reduction)\n"
     ]
    },
    {
     "name": "stdout",
     "output_type": "stream",
     "text": [
      "Epoch 135: train RMSE 3.3220, test RMSE 2.5396\n",
      "训练时间: 5669.910772800446 秒\n",
      "torch.Size([42837, 100, 1]) torch.Size([42837, 1, 1])\n",
      "torch.Size([15626, 100, 1]) torch.Size([15626, 1, 1])\n"
     ]
    },
    {
     "name": "stderr",
     "output_type": "stream",
     "text": [
      "c:\\Users\\gaoxc\\.conda\\envs\\chatglm3-demo\\lib\\site-packages\\torch\\nn\\modules\\loss.py:535: UserWarning: Using a target size (torch.Size([8568, 1, 1])) that is different to the input size (torch.Size([8568, 100, 1])). This will likely lead to incorrect results due to broadcasting. Please ensure they have the same size.\n",
      "  return F.mse_loss(input, target, reduction=self.reduction)\n"
     ]
    },
    {
     "name": "stdout",
     "output_type": "stream",
     "text": [
      "Early stopping\n"
     ]
    },
    {
     "name": "stderr",
     "output_type": "stream",
     "text": [
      "c:\\Users\\gaoxc\\.conda\\envs\\chatglm3-demo\\lib\\site-packages\\torch\\nn\\modules\\loss.py:535: UserWarning: Using a target size (torch.Size([34269, 1, 1])) that is different to the input size (torch.Size([34269, 100, 1])). This will likely lead to incorrect results due to broadcasting. Please ensure they have the same size.\n",
      "  return F.mse_loss(input, target, reduction=self.reduction)\n",
      "c:\\Users\\gaoxc\\.conda\\envs\\chatglm3-demo\\lib\\site-packages\\torch\\nn\\modules\\loss.py:535: UserWarning: Using a target size (torch.Size([15626, 1, 1])) that is different to the input size (torch.Size([15626, 100, 1])). This will likely lead to incorrect results due to broadcasting. Please ensure they have the same size.\n",
      "  return F.mse_loss(input, target, reduction=self.reduction)\n"
     ]
    },
    {
     "name": "stdout",
     "output_type": "stream",
     "text": [
      "Epoch 48: train RMSE 3.5171, test RMSE 2.9941\n",
      "训练时间: 5755.320760726929 秒\n",
      "torch.Size([42937, 100, 1]) torch.Size([42937, 1, 1])\n",
      "torch.Size([15526, 100, 1]) torch.Size([15526, 1, 1])\n"
     ]
    },
    {
     "name": "stderr",
     "output_type": "stream",
     "text": [
      "c:\\Users\\gaoxc\\.conda\\envs\\chatglm3-demo\\lib\\site-packages\\torch\\nn\\modules\\loss.py:535: UserWarning: Using a target size (torch.Size([8588, 1, 1])) that is different to the input size (torch.Size([8588, 100, 1])). This will likely lead to incorrect results due to broadcasting. Please ensure they have the same size.\n",
      "  return F.mse_loss(input, target, reduction=self.reduction)\n"
     ]
    },
    {
     "name": "stdout",
     "output_type": "stream",
     "text": [
      "Early stopping\n"
     ]
    },
    {
     "name": "stderr",
     "output_type": "stream",
     "text": [
      "c:\\Users\\gaoxc\\.conda\\envs\\chatglm3-demo\\lib\\site-packages\\torch\\nn\\modules\\loss.py:535: UserWarning: Using a target size (torch.Size([34349, 1, 1])) that is different to the input size (torch.Size([34349, 100, 1])). This will likely lead to incorrect results due to broadcasting. Please ensure they have the same size.\n",
      "  return F.mse_loss(input, target, reduction=self.reduction)\n",
      "c:\\Users\\gaoxc\\.conda\\envs\\chatglm3-demo\\lib\\site-packages\\torch\\nn\\modules\\loss.py:535: UserWarning: Using a target size (torch.Size([15526, 1, 1])) that is different to the input size (torch.Size([15526, 100, 1])). This will likely lead to incorrect results due to broadcasting. Please ensure they have the same size.\n",
      "  return F.mse_loss(input, target, reduction=self.reduction)\n"
     ]
    },
    {
     "name": "stdout",
     "output_type": "stream",
     "text": [
      "Epoch 134: train RMSE 3.3404, test RMSE 2.4667\n",
      "训练时间: 5957.544774055481 秒\n",
      "torch.Size([43037, 100, 1]) torch.Size([43037, 1, 1])\n",
      "torch.Size([15426, 100, 1]) torch.Size([15426, 1, 1])\n"
     ]
    },
    {
     "name": "stderr",
     "output_type": "stream",
     "text": [
      "c:\\Users\\gaoxc\\.conda\\envs\\chatglm3-demo\\lib\\site-packages\\torch\\nn\\modules\\loss.py:535: UserWarning: Using a target size (torch.Size([8608, 1, 1])) that is different to the input size (torch.Size([8608, 100, 1])). This will likely lead to incorrect results due to broadcasting. Please ensure they have the same size.\n",
      "  return F.mse_loss(input, target, reduction=self.reduction)\n"
     ]
    },
    {
     "name": "stdout",
     "output_type": "stream",
     "text": [
      "Early stopping\n"
     ]
    },
    {
     "name": "stderr",
     "output_type": "stream",
     "text": [
      "c:\\Users\\gaoxc\\.conda\\envs\\chatglm3-demo\\lib\\site-packages\\torch\\nn\\modules\\loss.py:535: UserWarning: Using a target size (torch.Size([34429, 1, 1])) that is different to the input size (torch.Size([34429, 100, 1])). This will likely lead to incorrect results due to broadcasting. Please ensure they have the same size.\n",
      "  return F.mse_loss(input, target, reduction=self.reduction)\n",
      "c:\\Users\\gaoxc\\.conda\\envs\\chatglm3-demo\\lib\\site-packages\\torch\\nn\\modules\\loss.py:535: UserWarning: Using a target size (torch.Size([15426, 1, 1])) that is different to the input size (torch.Size([15426, 100, 1])). This will likely lead to incorrect results due to broadcasting. Please ensure they have the same size.\n",
      "  return F.mse_loss(input, target, reduction=self.reduction)\n"
     ]
    },
    {
     "name": "stdout",
     "output_type": "stream",
     "text": [
      "Epoch 88: train RMSE 3.3406, test RMSE 2.4988\n",
      "训练时间: 6094.859245061874 秒\n",
      "torch.Size([43137, 100, 1]) torch.Size([43137, 1, 1])\n",
      "torch.Size([15326, 100, 1]) torch.Size([15326, 1, 1])\n"
     ]
    },
    {
     "name": "stderr",
     "output_type": "stream",
     "text": [
      "c:\\Users\\gaoxc\\.conda\\envs\\chatglm3-demo\\lib\\site-packages\\torch\\nn\\modules\\loss.py:535: UserWarning: Using a target size (torch.Size([8628, 1, 1])) that is different to the input size (torch.Size([8628, 100, 1])). This will likely lead to incorrect results due to broadcasting. Please ensure they have the same size.\n",
      "  return F.mse_loss(input, target, reduction=self.reduction)\n"
     ]
    },
    {
     "name": "stdout",
     "output_type": "stream",
     "text": [
      "Early stopping\n"
     ]
    },
    {
     "name": "stderr",
     "output_type": "stream",
     "text": [
      "c:\\Users\\gaoxc\\.conda\\envs\\chatglm3-demo\\lib\\site-packages\\torch\\nn\\modules\\loss.py:535: UserWarning: Using a target size (torch.Size([34509, 1, 1])) that is different to the input size (torch.Size([34509, 100, 1])). This will likely lead to incorrect results due to broadcasting. Please ensure they have the same size.\n",
      "  return F.mse_loss(input, target, reduction=self.reduction)\n",
      "c:\\Users\\gaoxc\\.conda\\envs\\chatglm3-demo\\lib\\site-packages\\torch\\nn\\modules\\loss.py:535: UserWarning: Using a target size (torch.Size([15326, 1, 1])) that is different to the input size (torch.Size([15326, 100, 1])). This will likely lead to incorrect results due to broadcasting. Please ensure they have the same size.\n",
      "  return F.mse_loss(input, target, reduction=self.reduction)\n"
     ]
    },
    {
     "name": "stdout",
     "output_type": "stream",
     "text": [
      "Epoch 85: train RMSE 3.3500, test RMSE 2.4698\n",
      "训练时间: 6230.581759214401 秒\n",
      "torch.Size([43237, 100, 1]) torch.Size([43237, 1, 1])\n",
      "torch.Size([15226, 100, 1]) torch.Size([15226, 1, 1])\n"
     ]
    },
    {
     "name": "stderr",
     "output_type": "stream",
     "text": [
      "c:\\Users\\gaoxc\\.conda\\envs\\chatglm3-demo\\lib\\site-packages\\torch\\nn\\modules\\loss.py:535: UserWarning: Using a target size (torch.Size([8648, 1, 1])) that is different to the input size (torch.Size([8648, 100, 1])). This will likely lead to incorrect results due to broadcasting. Please ensure they have the same size.\n",
      "  return F.mse_loss(input, target, reduction=self.reduction)\n"
     ]
    },
    {
     "name": "stdout",
     "output_type": "stream",
     "text": [
      "Early stopping\n"
     ]
    },
    {
     "name": "stderr",
     "output_type": "stream",
     "text": [
      "c:\\Users\\gaoxc\\.conda\\envs\\chatglm3-demo\\lib\\site-packages\\torch\\nn\\modules\\loss.py:535: UserWarning: Using a target size (torch.Size([34589, 1, 1])) that is different to the input size (torch.Size([34589, 100, 1])). This will likely lead to incorrect results due to broadcasting. Please ensure they have the same size.\n",
      "  return F.mse_loss(input, target, reduction=self.reduction)\n",
      "c:\\Users\\gaoxc\\.conda\\envs\\chatglm3-demo\\lib\\site-packages\\torch\\nn\\modules\\loss.py:535: UserWarning: Using a target size (torch.Size([15226, 1, 1])) that is different to the input size (torch.Size([15226, 100, 1])). This will likely lead to incorrect results due to broadcasting. Please ensure they have the same size.\n",
      "  return F.mse_loss(input, target, reduction=self.reduction)\n"
     ]
    },
    {
     "name": "stdout",
     "output_type": "stream",
     "text": [
      "Epoch 76: train RMSE 3.3674, test RMSE 2.4924\n",
      "训练时间: 6350.087776422501 秒\n",
      "torch.Size([43337, 100, 1]) torch.Size([43337, 1, 1])\n",
      "torch.Size([15126, 100, 1]) torch.Size([15126, 1, 1])\n"
     ]
    },
    {
     "name": "stderr",
     "output_type": "stream",
     "text": [
      "c:\\Users\\gaoxc\\.conda\\envs\\chatglm3-demo\\lib\\site-packages\\torch\\nn\\modules\\loss.py:535: UserWarning: Using a target size (torch.Size([8668, 1, 1])) that is different to the input size (torch.Size([8668, 100, 1])). This will likely lead to incorrect results due to broadcasting. Please ensure they have the same size.\n",
      "  return F.mse_loss(input, target, reduction=self.reduction)\n"
     ]
    },
    {
     "name": "stdout",
     "output_type": "stream",
     "text": [
      "Early stopping\n"
     ]
    },
    {
     "name": "stderr",
     "output_type": "stream",
     "text": [
      "c:\\Users\\gaoxc\\.conda\\envs\\chatglm3-demo\\lib\\site-packages\\torch\\nn\\modules\\loss.py:535: UserWarning: Using a target size (torch.Size([34669, 1, 1])) that is different to the input size (torch.Size([34669, 100, 1])). This will likely lead to incorrect results due to broadcasting. Please ensure they have the same size.\n",
      "  return F.mse_loss(input, target, reduction=self.reduction)\n",
      "c:\\Users\\gaoxc\\.conda\\envs\\chatglm3-demo\\lib\\site-packages\\torch\\nn\\modules\\loss.py:535: UserWarning: Using a target size (torch.Size([15126, 1, 1])) that is different to the input size (torch.Size([15126, 100, 1])). This will likely lead to incorrect results due to broadcasting. Please ensure they have the same size.\n",
      "  return F.mse_loss(input, target, reduction=self.reduction)\n"
     ]
    },
    {
     "name": "stdout",
     "output_type": "stream",
     "text": [
      "Epoch 94: train RMSE 3.3903, test RMSE 2.5653\n",
      "训练时间: 6493.3549337387085 秒\n",
      "torch.Size([43437, 100, 1]) torch.Size([43437, 1, 1])\n",
      "torch.Size([15026, 100, 1]) torch.Size([15026, 1, 1])\n"
     ]
    },
    {
     "name": "stderr",
     "output_type": "stream",
     "text": [
      "c:\\Users\\gaoxc\\.conda\\envs\\chatglm3-demo\\lib\\site-packages\\torch\\nn\\modules\\loss.py:535: UserWarning: Using a target size (torch.Size([8688, 1, 1])) that is different to the input size (torch.Size([8688, 100, 1])). This will likely lead to incorrect results due to broadcasting. Please ensure they have the same size.\n",
      "  return F.mse_loss(input, target, reduction=self.reduction)\n"
     ]
    },
    {
     "name": "stdout",
     "output_type": "stream",
     "text": [
      "Early stopping\n"
     ]
    },
    {
     "name": "stderr",
     "output_type": "stream",
     "text": [
      "c:\\Users\\gaoxc\\.conda\\envs\\chatglm3-demo\\lib\\site-packages\\torch\\nn\\modules\\loss.py:535: UserWarning: Using a target size (torch.Size([34749, 1, 1])) that is different to the input size (torch.Size([34749, 100, 1])). This will likely lead to incorrect results due to broadcasting. Please ensure they have the same size.\n",
      "  return F.mse_loss(input, target, reduction=self.reduction)\n",
      "c:\\Users\\gaoxc\\.conda\\envs\\chatglm3-demo\\lib\\site-packages\\torch\\nn\\modules\\loss.py:535: UserWarning: Using a target size (torch.Size([15026, 1, 1])) that is different to the input size (torch.Size([15026, 100, 1])). This will likely lead to incorrect results due to broadcasting. Please ensure they have the same size.\n",
      "  return F.mse_loss(input, target, reduction=self.reduction)\n"
     ]
    },
    {
     "name": "stdout",
     "output_type": "stream",
     "text": [
      "Epoch 96: train RMSE 3.3902, test RMSE 2.5327\n",
      "训练时间: 6637.619596719742 秒\n",
      "torch.Size([43537, 100, 1]) torch.Size([43537, 1, 1])\n",
      "torch.Size([14926, 100, 1]) torch.Size([14926, 1, 1])\n"
     ]
    },
    {
     "name": "stderr",
     "output_type": "stream",
     "text": [
      "c:\\Users\\gaoxc\\.conda\\envs\\chatglm3-demo\\lib\\site-packages\\torch\\nn\\modules\\loss.py:535: UserWarning: Using a target size (torch.Size([8708, 1, 1])) that is different to the input size (torch.Size([8708, 100, 1])). This will likely lead to incorrect results due to broadcasting. Please ensure they have the same size.\n",
      "  return F.mse_loss(input, target, reduction=self.reduction)\n"
     ]
    },
    {
     "name": "stdout",
     "output_type": "stream",
     "text": [
      "Early stopping\n"
     ]
    },
    {
     "name": "stderr",
     "output_type": "stream",
     "text": [
      "c:\\Users\\gaoxc\\.conda\\envs\\chatglm3-demo\\lib\\site-packages\\torch\\nn\\modules\\loss.py:535: UserWarning: Using a target size (torch.Size([34829, 1, 1])) that is different to the input size (torch.Size([34829, 100, 1])). This will likely lead to incorrect results due to broadcasting. Please ensure they have the same size.\n",
      "  return F.mse_loss(input, target, reduction=self.reduction)\n",
      "c:\\Users\\gaoxc\\.conda\\envs\\chatglm3-demo\\lib\\site-packages\\torch\\nn\\modules\\loss.py:535: UserWarning: Using a target size (torch.Size([14926, 1, 1])) that is different to the input size (torch.Size([14926, 100, 1])). This will likely lead to incorrect results due to broadcasting. Please ensure they have the same size.\n",
      "  return F.mse_loss(input, target, reduction=self.reduction)\n"
     ]
    },
    {
     "name": "stdout",
     "output_type": "stream",
     "text": [
      "Epoch 82: train RMSE 3.4017, test RMSE 2.5460\n",
      "训练时间: 6763.318920850754 秒\n",
      "torch.Size([43637, 100, 1]) torch.Size([43637, 1, 1])\n",
      "torch.Size([14826, 100, 1]) torch.Size([14826, 1, 1])\n"
     ]
    },
    {
     "name": "stderr",
     "output_type": "stream",
     "text": [
      "c:\\Users\\gaoxc\\.conda\\envs\\chatglm3-demo\\lib\\site-packages\\torch\\nn\\modules\\loss.py:535: UserWarning: Using a target size (torch.Size([8728, 1, 1])) that is different to the input size (torch.Size([8728, 100, 1])). This will likely lead to incorrect results due to broadcasting. Please ensure they have the same size.\n",
      "  return F.mse_loss(input, target, reduction=self.reduction)\n"
     ]
    },
    {
     "name": "stdout",
     "output_type": "stream",
     "text": [
      "Early stopping\n"
     ]
    },
    {
     "name": "stderr",
     "output_type": "stream",
     "text": [
      "c:\\Users\\gaoxc\\.conda\\envs\\chatglm3-demo\\lib\\site-packages\\torch\\nn\\modules\\loss.py:535: UserWarning: Using a target size (torch.Size([34909, 1, 1])) that is different to the input size (torch.Size([34909, 100, 1])). This will likely lead to incorrect results due to broadcasting. Please ensure they have the same size.\n",
      "  return F.mse_loss(input, target, reduction=self.reduction)\n",
      "c:\\Users\\gaoxc\\.conda\\envs\\chatglm3-demo\\lib\\site-packages\\torch\\nn\\modules\\loss.py:535: UserWarning: Using a target size (torch.Size([14826, 1, 1])) that is different to the input size (torch.Size([14826, 100, 1])). This will likely lead to incorrect results due to broadcasting. Please ensure they have the same size.\n",
      "  return F.mse_loss(input, target, reduction=self.reduction)\n"
     ]
    },
    {
     "name": "stdout",
     "output_type": "stream",
     "text": [
      "Epoch 72: train RMSE 3.2609, test RMSE 2.5349\n",
      "训练时间: 6865.928480386734 秒\n",
      "torch.Size([43737, 100, 1]) torch.Size([43737, 1, 1])\n",
      "torch.Size([14726, 100, 1]) torch.Size([14726, 1, 1])\n"
     ]
    },
    {
     "name": "stderr",
     "output_type": "stream",
     "text": [
      "c:\\Users\\gaoxc\\.conda\\envs\\chatglm3-demo\\lib\\site-packages\\torch\\nn\\modules\\loss.py:535: UserWarning: Using a target size (torch.Size([8748, 1, 1])) that is different to the input size (torch.Size([8748, 100, 1])). This will likely lead to incorrect results due to broadcasting. Please ensure they have the same size.\n",
      "  return F.mse_loss(input, target, reduction=self.reduction)\n"
     ]
    },
    {
     "name": "stdout",
     "output_type": "stream",
     "text": [
      "Early stopping\n"
     ]
    },
    {
     "name": "stderr",
     "output_type": "stream",
     "text": [
      "c:\\Users\\gaoxc\\.conda\\envs\\chatglm3-demo\\lib\\site-packages\\torch\\nn\\modules\\loss.py:535: UserWarning: Using a target size (torch.Size([34989, 1, 1])) that is different to the input size (torch.Size([34989, 100, 1])). This will likely lead to incorrect results due to broadcasting. Please ensure they have the same size.\n",
      "  return F.mse_loss(input, target, reduction=self.reduction)\n",
      "c:\\Users\\gaoxc\\.conda\\envs\\chatglm3-demo\\lib\\site-packages\\torch\\nn\\modules\\loss.py:535: UserWarning: Using a target size (torch.Size([14726, 1, 1])) that is different to the input size (torch.Size([14726, 100, 1])). This will likely lead to incorrect results due to broadcasting. Please ensure they have the same size.\n",
      "  return F.mse_loss(input, target, reduction=self.reduction)\n"
     ]
    },
    {
     "name": "stdout",
     "output_type": "stream",
     "text": [
      "Epoch 82: train RMSE 3.3518, test RMSE 2.5737\n",
      "训练时间: 6981.419890165329 秒\n",
      "torch.Size([43837, 100, 1]) torch.Size([43837, 1, 1])\n",
      "torch.Size([14626, 100, 1]) torch.Size([14626, 1, 1])\n"
     ]
    },
    {
     "name": "stderr",
     "output_type": "stream",
     "text": [
      "c:\\Users\\gaoxc\\.conda\\envs\\chatglm3-demo\\lib\\site-packages\\torch\\nn\\modules\\loss.py:535: UserWarning: Using a target size (torch.Size([8768, 1, 1])) that is different to the input size (torch.Size([8768, 100, 1])). This will likely lead to incorrect results due to broadcasting. Please ensure they have the same size.\n",
      "  return F.mse_loss(input, target, reduction=self.reduction)\n"
     ]
    },
    {
     "name": "stdout",
     "output_type": "stream",
     "text": [
      "Early stopping\n"
     ]
    },
    {
     "name": "stderr",
     "output_type": "stream",
     "text": [
      "c:\\Users\\gaoxc\\.conda\\envs\\chatglm3-demo\\lib\\site-packages\\torch\\nn\\modules\\loss.py:535: UserWarning: Using a target size (torch.Size([35069, 1, 1])) that is different to the input size (torch.Size([35069, 100, 1])). This will likely lead to incorrect results due to broadcasting. Please ensure they have the same size.\n",
      "  return F.mse_loss(input, target, reduction=self.reduction)\n",
      "c:\\Users\\gaoxc\\.conda\\envs\\chatglm3-demo\\lib\\site-packages\\torch\\nn\\modules\\loss.py:535: UserWarning: Using a target size (torch.Size([14626, 1, 1])) that is different to the input size (torch.Size([14626, 100, 1])). This will likely lead to incorrect results due to broadcasting. Please ensure they have the same size.\n",
      "  return F.mse_loss(input, target, reduction=self.reduction)\n"
     ]
    },
    {
     "name": "stdout",
     "output_type": "stream",
     "text": [
      "Epoch 61: train RMSE 3.3828, test RMSE 2.5742\n",
      "训练时间: 7069.397607564926 秒\n",
      "torch.Size([43937, 100, 1]) torch.Size([43937, 1, 1])\n",
      "torch.Size([14526, 100, 1]) torch.Size([14526, 1, 1])\n"
     ]
    },
    {
     "name": "stderr",
     "output_type": "stream",
     "text": [
      "c:\\Users\\gaoxc\\.conda\\envs\\chatglm3-demo\\lib\\site-packages\\torch\\nn\\modules\\loss.py:535: UserWarning: Using a target size (torch.Size([8788, 1, 1])) that is different to the input size (torch.Size([8788, 100, 1])). This will likely lead to incorrect results due to broadcasting. Please ensure they have the same size.\n",
      "  return F.mse_loss(input, target, reduction=self.reduction)\n"
     ]
    },
    {
     "name": "stdout",
     "output_type": "stream",
     "text": [
      "Early stopping\n"
     ]
    },
    {
     "name": "stderr",
     "output_type": "stream",
     "text": [
      "c:\\Users\\gaoxc\\.conda\\envs\\chatglm3-demo\\lib\\site-packages\\torch\\nn\\modules\\loss.py:535: UserWarning: Using a target size (torch.Size([35149, 1, 1])) that is different to the input size (torch.Size([35149, 100, 1])). This will likely lead to incorrect results due to broadcasting. Please ensure they have the same size.\n",
      "  return F.mse_loss(input, target, reduction=self.reduction)\n",
      "c:\\Users\\gaoxc\\.conda\\envs\\chatglm3-demo\\lib\\site-packages\\torch\\nn\\modules\\loss.py:535: UserWarning: Using a target size (torch.Size([14526, 1, 1])) that is different to the input size (torch.Size([14526, 100, 1])). This will likely lead to incorrect results due to broadcasting. Please ensure they have the same size.\n",
      "  return F.mse_loss(input, target, reduction=self.reduction)\n"
     ]
    },
    {
     "name": "stdout",
     "output_type": "stream",
     "text": [
      "Epoch 57: train RMSE 3.4433, test RMSE 2.5640\n",
      "训练时间: 7152.456053733826 秒\n",
      "torch.Size([44037, 100, 1]) torch.Size([44037, 1, 1])\n",
      "torch.Size([14426, 100, 1]) torch.Size([14426, 1, 1])\n"
     ]
    },
    {
     "name": "stderr",
     "output_type": "stream",
     "text": [
      "c:\\Users\\gaoxc\\.conda\\envs\\chatglm3-demo\\lib\\site-packages\\torch\\nn\\modules\\loss.py:535: UserWarning: Using a target size (torch.Size([8808, 1, 1])) that is different to the input size (torch.Size([8808, 100, 1])). This will likely lead to incorrect results due to broadcasting. Please ensure they have the same size.\n",
      "  return F.mse_loss(input, target, reduction=self.reduction)\n"
     ]
    },
    {
     "name": "stdout",
     "output_type": "stream",
     "text": [
      "Early stopping\n"
     ]
    },
    {
     "name": "stderr",
     "output_type": "stream",
     "text": [
      "c:\\Users\\gaoxc\\.conda\\envs\\chatglm3-demo\\lib\\site-packages\\torch\\nn\\modules\\loss.py:535: UserWarning: Using a target size (torch.Size([35229, 1, 1])) that is different to the input size (torch.Size([35229, 100, 1])). This will likely lead to incorrect results due to broadcasting. Please ensure they have the same size.\n",
      "  return F.mse_loss(input, target, reduction=self.reduction)\n",
      "c:\\Users\\gaoxc\\.conda\\envs\\chatglm3-demo\\lib\\site-packages\\torch\\nn\\modules\\loss.py:535: UserWarning: Using a target size (torch.Size([14426, 1, 1])) that is different to the input size (torch.Size([14426, 100, 1])). This will likely lead to incorrect results due to broadcasting. Please ensure they have the same size.\n",
      "  return F.mse_loss(input, target, reduction=self.reduction)\n"
     ]
    },
    {
     "name": "stdout",
     "output_type": "stream",
     "text": [
      "Epoch 100: train RMSE 3.2928, test RMSE 2.5797\n",
      "训练时间: 7295.529497385025 秒\n",
      "torch.Size([44137, 100, 1]) torch.Size([44137, 1, 1])\n",
      "torch.Size([14326, 100, 1]) torch.Size([14326, 1, 1])\n"
     ]
    },
    {
     "name": "stderr",
     "output_type": "stream",
     "text": [
      "c:\\Users\\gaoxc\\.conda\\envs\\chatglm3-demo\\lib\\site-packages\\torch\\nn\\modules\\loss.py:535: UserWarning: Using a target size (torch.Size([8828, 1, 1])) that is different to the input size (torch.Size([8828, 100, 1])). This will likely lead to incorrect results due to broadcasting. Please ensure they have the same size.\n",
      "  return F.mse_loss(input, target, reduction=self.reduction)\n"
     ]
    },
    {
     "name": "stdout",
     "output_type": "stream",
     "text": [
      "Early stopping\n"
     ]
    },
    {
     "name": "stderr",
     "output_type": "stream",
     "text": [
      "c:\\Users\\gaoxc\\.conda\\envs\\chatglm3-demo\\lib\\site-packages\\torch\\nn\\modules\\loss.py:535: UserWarning: Using a target size (torch.Size([35309, 1, 1])) that is different to the input size (torch.Size([35309, 100, 1])). This will likely lead to incorrect results due to broadcasting. Please ensure they have the same size.\n",
      "  return F.mse_loss(input, target, reduction=self.reduction)\n",
      "c:\\Users\\gaoxc\\.conda\\envs\\chatglm3-demo\\lib\\site-packages\\torch\\nn\\modules\\loss.py:535: UserWarning: Using a target size (torch.Size([14326, 1, 1])) that is different to the input size (torch.Size([14326, 100, 1])). This will likely lead to incorrect results due to broadcasting. Please ensure they have the same size.\n",
      "  return F.mse_loss(input, target, reduction=self.reduction)\n"
     ]
    },
    {
     "name": "stdout",
     "output_type": "stream",
     "text": [
      "Epoch 111: train RMSE 3.3022, test RMSE 2.5499\n",
      "训练时间: 7452.853952407837 秒\n",
      "torch.Size([44237, 100, 1]) torch.Size([44237, 1, 1])\n",
      "torch.Size([14226, 100, 1]) torch.Size([14226, 1, 1])\n"
     ]
    },
    {
     "name": "stderr",
     "output_type": "stream",
     "text": [
      "c:\\Users\\gaoxc\\.conda\\envs\\chatglm3-demo\\lib\\site-packages\\torch\\nn\\modules\\loss.py:535: UserWarning: Using a target size (torch.Size([8848, 1, 1])) that is different to the input size (torch.Size([8848, 100, 1])). This will likely lead to incorrect results due to broadcasting. Please ensure they have the same size.\n",
      "  return F.mse_loss(input, target, reduction=self.reduction)\n"
     ]
    },
    {
     "name": "stdout",
     "output_type": "stream",
     "text": [
      "Early stopping\n"
     ]
    },
    {
     "name": "stderr",
     "output_type": "stream",
     "text": [
      "c:\\Users\\gaoxc\\.conda\\envs\\chatglm3-demo\\lib\\site-packages\\torch\\nn\\modules\\loss.py:535: UserWarning: Using a target size (torch.Size([35389, 1, 1])) that is different to the input size (torch.Size([35389, 100, 1])). This will likely lead to incorrect results due to broadcasting. Please ensure they have the same size.\n",
      "  return F.mse_loss(input, target, reduction=self.reduction)\n",
      "c:\\Users\\gaoxc\\.conda\\envs\\chatglm3-demo\\lib\\site-packages\\torch\\nn\\modules\\loss.py:535: UserWarning: Using a target size (torch.Size([14226, 1, 1])) that is different to the input size (torch.Size([14226, 100, 1])). This will likely lead to incorrect results due to broadcasting. Please ensure they have the same size.\n",
      "  return F.mse_loss(input, target, reduction=self.reduction)\n"
     ]
    },
    {
     "name": "stdout",
     "output_type": "stream",
     "text": [
      "Epoch 85: train RMSE 3.3155, test RMSE 2.5473\n",
      "训练时间: 7575.433789014816 秒\n",
      "torch.Size([44337, 100, 1]) torch.Size([44337, 1, 1])\n",
      "torch.Size([14126, 100, 1]) torch.Size([14126, 1, 1])\n"
     ]
    },
    {
     "name": "stderr",
     "output_type": "stream",
     "text": [
      "c:\\Users\\gaoxc\\.conda\\envs\\chatglm3-demo\\lib\\site-packages\\torch\\nn\\modules\\loss.py:535: UserWarning: Using a target size (torch.Size([8868, 1, 1])) that is different to the input size (torch.Size([8868, 100, 1])). This will likely lead to incorrect results due to broadcasting. Please ensure they have the same size.\n",
      "  return F.mse_loss(input, target, reduction=self.reduction)\n"
     ]
    },
    {
     "name": "stdout",
     "output_type": "stream",
     "text": [
      "Early stopping\n"
     ]
    },
    {
     "name": "stderr",
     "output_type": "stream",
     "text": [
      "c:\\Users\\gaoxc\\.conda\\envs\\chatglm3-demo\\lib\\site-packages\\torch\\nn\\modules\\loss.py:535: UserWarning: Using a target size (torch.Size([35469, 1, 1])) that is different to the input size (torch.Size([35469, 100, 1])). This will likely lead to incorrect results due to broadcasting. Please ensure they have the same size.\n",
      "  return F.mse_loss(input, target, reduction=self.reduction)\n",
      "c:\\Users\\gaoxc\\.conda\\envs\\chatglm3-demo\\lib\\site-packages\\torch\\nn\\modules\\loss.py:535: UserWarning: Using a target size (torch.Size([14126, 1, 1])) that is different to the input size (torch.Size([14126, 100, 1])). This will likely lead to incorrect results due to broadcasting. Please ensure they have the same size.\n",
      "  return F.mse_loss(input, target, reduction=self.reduction)\n"
     ]
    },
    {
     "name": "stdout",
     "output_type": "stream",
     "text": [
      "Epoch 47: train RMSE 3.4162, test RMSE 2.6051\n",
      "训练时间: 7646.310490131378 秒\n",
      "torch.Size([44437, 100, 1]) torch.Size([44437, 1, 1])\n",
      "torch.Size([14026, 100, 1]) torch.Size([14026, 1, 1])\n"
     ]
    },
    {
     "name": "stderr",
     "output_type": "stream",
     "text": [
      "c:\\Users\\gaoxc\\.conda\\envs\\chatglm3-demo\\lib\\site-packages\\torch\\nn\\modules\\loss.py:535: UserWarning: Using a target size (torch.Size([8888, 1, 1])) that is different to the input size (torch.Size([8888, 100, 1])). This will likely lead to incorrect results due to broadcasting. Please ensure they have the same size.\n",
      "  return F.mse_loss(input, target, reduction=self.reduction)\n"
     ]
    },
    {
     "name": "stdout",
     "output_type": "stream",
     "text": [
      "Early stopping\n"
     ]
    },
    {
     "name": "stderr",
     "output_type": "stream",
     "text": [
      "c:\\Users\\gaoxc\\.conda\\envs\\chatglm3-demo\\lib\\site-packages\\torch\\nn\\modules\\loss.py:535: UserWarning: Using a target size (torch.Size([35549, 1, 1])) that is different to the input size (torch.Size([35549, 100, 1])). This will likely lead to incorrect results due to broadcasting. Please ensure they have the same size.\n",
      "  return F.mse_loss(input, target, reduction=self.reduction)\n",
      "c:\\Users\\gaoxc\\.conda\\envs\\chatglm3-demo\\lib\\site-packages\\torch\\nn\\modules\\loss.py:535: UserWarning: Using a target size (torch.Size([14026, 1, 1])) that is different to the input size (torch.Size([14026, 100, 1])). This will likely lead to incorrect results due to broadcasting. Please ensure they have the same size.\n",
      "  return F.mse_loss(input, target, reduction=self.reduction)\n"
     ]
    },
    {
     "name": "stdout",
     "output_type": "stream",
     "text": [
      "Epoch 110: train RMSE 3.3568, test RMSE 2.5461\n",
      "训练时间: 7804.335815191269 秒\n",
      "torch.Size([44537, 100, 1]) torch.Size([44537, 1, 1])\n",
      "torch.Size([13926, 100, 1]) torch.Size([13926, 1, 1])\n"
     ]
    },
    {
     "name": "stderr",
     "output_type": "stream",
     "text": [
      "c:\\Users\\gaoxc\\.conda\\envs\\chatglm3-demo\\lib\\site-packages\\torch\\nn\\modules\\loss.py:535: UserWarning: Using a target size (torch.Size([8908, 1, 1])) that is different to the input size (torch.Size([8908, 100, 1])). This will likely lead to incorrect results due to broadcasting. Please ensure they have the same size.\n",
      "  return F.mse_loss(input, target, reduction=self.reduction)\n"
     ]
    },
    {
     "name": "stdout",
     "output_type": "stream",
     "text": [
      "Early stopping\n"
     ]
    },
    {
     "name": "stderr",
     "output_type": "stream",
     "text": [
      "c:\\Users\\gaoxc\\.conda\\envs\\chatglm3-demo\\lib\\site-packages\\torch\\nn\\modules\\loss.py:535: UserWarning: Using a target size (torch.Size([35629, 1, 1])) that is different to the input size (torch.Size([35629, 100, 1])). This will likely lead to incorrect results due to broadcasting. Please ensure they have the same size.\n",
      "  return F.mse_loss(input, target, reduction=self.reduction)\n",
      "c:\\Users\\gaoxc\\.conda\\envs\\chatglm3-demo\\lib\\site-packages\\torch\\nn\\modules\\loss.py:535: UserWarning: Using a target size (torch.Size([13926, 1, 1])) that is different to the input size (torch.Size([13926, 100, 1])). This will likely lead to incorrect results due to broadcasting. Please ensure they have the same size.\n",
      "  return F.mse_loss(input, target, reduction=self.reduction)\n"
     ]
    },
    {
     "name": "stdout",
     "output_type": "stream",
     "text": [
      "Epoch 106: train RMSE 3.2583, test RMSE 2.5760\n",
      "训练时间: 7957.577402591705 秒\n",
      "torch.Size([44637, 100, 1]) torch.Size([44637, 1, 1])\n",
      "torch.Size([13826, 100, 1]) torch.Size([13826, 1, 1])\n"
     ]
    },
    {
     "name": "stderr",
     "output_type": "stream",
     "text": [
      "c:\\Users\\gaoxc\\.conda\\envs\\chatglm3-demo\\lib\\site-packages\\torch\\nn\\modules\\loss.py:535: UserWarning: Using a target size (torch.Size([8928, 1, 1])) that is different to the input size (torch.Size([8928, 100, 1])). This will likely lead to incorrect results due to broadcasting. Please ensure they have the same size.\n",
      "  return F.mse_loss(input, target, reduction=self.reduction)\n"
     ]
    },
    {
     "name": "stdout",
     "output_type": "stream",
     "text": [
      "Early stopping\n"
     ]
    },
    {
     "name": "stderr",
     "output_type": "stream",
     "text": [
      "c:\\Users\\gaoxc\\.conda\\envs\\chatglm3-demo\\lib\\site-packages\\torch\\nn\\modules\\loss.py:535: UserWarning: Using a target size (torch.Size([35709, 1, 1])) that is different to the input size (torch.Size([35709, 100, 1])). This will likely lead to incorrect results due to broadcasting. Please ensure they have the same size.\n",
      "  return F.mse_loss(input, target, reduction=self.reduction)\n",
      "c:\\Users\\gaoxc\\.conda\\envs\\chatglm3-demo\\lib\\site-packages\\torch\\nn\\modules\\loss.py:535: UserWarning: Using a target size (torch.Size([13826, 1, 1])) that is different to the input size (torch.Size([13826, 100, 1])). This will likely lead to incorrect results due to broadcasting. Please ensure they have the same size.\n",
      "  return F.mse_loss(input, target, reduction=self.reduction)\n"
     ]
    },
    {
     "name": "stdout",
     "output_type": "stream",
     "text": [
      "Epoch 85: train RMSE 3.2567, test RMSE 2.6131\n",
      "训练时间: 8082.032095193863 秒\n",
      "torch.Size([44737, 100, 1]) torch.Size([44737, 1, 1])\n",
      "torch.Size([13726, 100, 1]) torch.Size([13726, 1, 1])\n"
     ]
    },
    {
     "name": "stderr",
     "output_type": "stream",
     "text": [
      "c:\\Users\\gaoxc\\.conda\\envs\\chatglm3-demo\\lib\\site-packages\\torch\\nn\\modules\\loss.py:535: UserWarning: Using a target size (torch.Size([8948, 1, 1])) that is different to the input size (torch.Size([8948, 100, 1])). This will likely lead to incorrect results due to broadcasting. Please ensure they have the same size.\n",
      "  return F.mse_loss(input, target, reduction=self.reduction)\n"
     ]
    },
    {
     "name": "stdout",
     "output_type": "stream",
     "text": [
      "Early stopping\n"
     ]
    },
    {
     "name": "stderr",
     "output_type": "stream",
     "text": [
      "c:\\Users\\gaoxc\\.conda\\envs\\chatglm3-demo\\lib\\site-packages\\torch\\nn\\modules\\loss.py:535: UserWarning: Using a target size (torch.Size([35789, 1, 1])) that is different to the input size (torch.Size([35789, 100, 1])). This will likely lead to incorrect results due to broadcasting. Please ensure they have the same size.\n",
      "  return F.mse_loss(input, target, reduction=self.reduction)\n",
      "c:\\Users\\gaoxc\\.conda\\envs\\chatglm3-demo\\lib\\site-packages\\torch\\nn\\modules\\loss.py:535: UserWarning: Using a target size (torch.Size([13726, 1, 1])) that is different to the input size (torch.Size([13726, 100, 1])). This will likely lead to incorrect results due to broadcasting. Please ensure they have the same size.\n",
      "  return F.mse_loss(input, target, reduction=self.reduction)\n"
     ]
    },
    {
     "name": "stdout",
     "output_type": "stream",
     "text": [
      "Epoch 90: train RMSE 3.1810, test RMSE 2.5846\n",
      "训练时间: 8213.623995542526 秒\n",
      "torch.Size([44837, 100, 1]) torch.Size([44837, 1, 1])\n",
      "torch.Size([13626, 100, 1]) torch.Size([13626, 1, 1])\n"
     ]
    },
    {
     "name": "stderr",
     "output_type": "stream",
     "text": [
      "c:\\Users\\gaoxc\\.conda\\envs\\chatglm3-demo\\lib\\site-packages\\torch\\nn\\modules\\loss.py:535: UserWarning: Using a target size (torch.Size([8968, 1, 1])) that is different to the input size (torch.Size([8968, 100, 1])). This will likely lead to incorrect results due to broadcasting. Please ensure they have the same size.\n",
      "  return F.mse_loss(input, target, reduction=self.reduction)\n"
     ]
    },
    {
     "name": "stdout",
     "output_type": "stream",
     "text": [
      "Early stopping\n"
     ]
    },
    {
     "name": "stderr",
     "output_type": "stream",
     "text": [
      "c:\\Users\\gaoxc\\.conda\\envs\\chatglm3-demo\\lib\\site-packages\\torch\\nn\\modules\\loss.py:535: UserWarning: Using a target size (torch.Size([35869, 1, 1])) that is different to the input size (torch.Size([35869, 100, 1])). This will likely lead to incorrect results due to broadcasting. Please ensure they have the same size.\n",
      "  return F.mse_loss(input, target, reduction=self.reduction)\n",
      "c:\\Users\\gaoxc\\.conda\\envs\\chatglm3-demo\\lib\\site-packages\\torch\\nn\\modules\\loss.py:535: UserWarning: Using a target size (torch.Size([13626, 1, 1])) that is different to the input size (torch.Size([13626, 100, 1])). This will likely lead to incorrect results due to broadcasting. Please ensure they have the same size.\n",
      "  return F.mse_loss(input, target, reduction=self.reduction)\n"
     ]
    },
    {
     "name": "stdout",
     "output_type": "stream",
     "text": [
      "Epoch 101: train RMSE 3.3415, test RMSE 2.6219\n",
      "训练时间: 8363.762537240982 秒\n",
      "torch.Size([44937, 100, 1]) torch.Size([44937, 1, 1])\n",
      "torch.Size([13526, 100, 1]) torch.Size([13526, 1, 1])\n"
     ]
    },
    {
     "name": "stderr",
     "output_type": "stream",
     "text": [
      "c:\\Users\\gaoxc\\.conda\\envs\\chatglm3-demo\\lib\\site-packages\\torch\\nn\\modules\\loss.py:535: UserWarning: Using a target size (torch.Size([8988, 1, 1])) that is different to the input size (torch.Size([8988, 100, 1])). This will likely lead to incorrect results due to broadcasting. Please ensure they have the same size.\n",
      "  return F.mse_loss(input, target, reduction=self.reduction)\n"
     ]
    },
    {
     "name": "stdout",
     "output_type": "stream",
     "text": [
      "Early stopping\n"
     ]
    },
    {
     "name": "stderr",
     "output_type": "stream",
     "text": [
      "c:\\Users\\gaoxc\\.conda\\envs\\chatglm3-demo\\lib\\site-packages\\torch\\nn\\modules\\loss.py:535: UserWarning: Using a target size (torch.Size([35949, 1, 1])) that is different to the input size (torch.Size([35949, 100, 1])). This will likely lead to incorrect results due to broadcasting. Please ensure they have the same size.\n",
      "  return F.mse_loss(input, target, reduction=self.reduction)\n",
      "c:\\Users\\gaoxc\\.conda\\envs\\chatglm3-demo\\lib\\site-packages\\torch\\nn\\modules\\loss.py:535: UserWarning: Using a target size (torch.Size([13526, 1, 1])) that is different to the input size (torch.Size([13526, 100, 1])). This will likely lead to incorrect results due to broadcasting. Please ensure they have the same size.\n",
      "  return F.mse_loss(input, target, reduction=self.reduction)\n"
     ]
    },
    {
     "name": "stdout",
     "output_type": "stream",
     "text": [
      "Epoch 78: train RMSE 3.4101, test RMSE 2.6389\n",
      "训练时间: 8479.827005386353 秒\n",
      "torch.Size([45037, 100, 1]) torch.Size([45037, 1, 1])\n",
      "torch.Size([13426, 100, 1]) torch.Size([13426, 1, 1])\n"
     ]
    },
    {
     "name": "stderr",
     "output_type": "stream",
     "text": [
      "c:\\Users\\gaoxc\\.conda\\envs\\chatglm3-demo\\lib\\site-packages\\torch\\nn\\modules\\loss.py:535: UserWarning: Using a target size (torch.Size([9008, 1, 1])) that is different to the input size (torch.Size([9008, 100, 1])). This will likely lead to incorrect results due to broadcasting. Please ensure they have the same size.\n",
      "  return F.mse_loss(input, target, reduction=self.reduction)\n"
     ]
    },
    {
     "name": "stdout",
     "output_type": "stream",
     "text": [
      "Early stopping\n"
     ]
    },
    {
     "name": "stderr",
     "output_type": "stream",
     "text": [
      "c:\\Users\\gaoxc\\.conda\\envs\\chatglm3-demo\\lib\\site-packages\\torch\\nn\\modules\\loss.py:535: UserWarning: Using a target size (torch.Size([36029, 1, 1])) that is different to the input size (torch.Size([36029, 100, 1])). This will likely lead to incorrect results due to broadcasting. Please ensure they have the same size.\n",
      "  return F.mse_loss(input, target, reduction=self.reduction)\n",
      "c:\\Users\\gaoxc\\.conda\\envs\\chatglm3-demo\\lib\\site-packages\\torch\\nn\\modules\\loss.py:535: UserWarning: Using a target size (torch.Size([13426, 1, 1])) that is different to the input size (torch.Size([13426, 100, 1])). This will likely lead to incorrect results due to broadcasting. Please ensure they have the same size.\n",
      "  return F.mse_loss(input, target, reduction=self.reduction)\n"
     ]
    },
    {
     "name": "stdout",
     "output_type": "stream",
     "text": [
      "Epoch 140: train RMSE 3.3376, test RMSE 2.6162\n",
      "训练时间: 8683.06468629837 秒\n",
      "torch.Size([45137, 100, 1]) torch.Size([45137, 1, 1])\n",
      "torch.Size([13326, 100, 1]) torch.Size([13326, 1, 1])\n"
     ]
    },
    {
     "name": "stderr",
     "output_type": "stream",
     "text": [
      "c:\\Users\\gaoxc\\.conda\\envs\\chatglm3-demo\\lib\\site-packages\\torch\\nn\\modules\\loss.py:535: UserWarning: Using a target size (torch.Size([9028, 1, 1])) that is different to the input size (torch.Size([9028, 100, 1])). This will likely lead to incorrect results due to broadcasting. Please ensure they have the same size.\n",
      "  return F.mse_loss(input, target, reduction=self.reduction)\n"
     ]
    },
    {
     "name": "stdout",
     "output_type": "stream",
     "text": [
      "Early stopping\n"
     ]
    },
    {
     "name": "stderr",
     "output_type": "stream",
     "text": [
      "c:\\Users\\gaoxc\\.conda\\envs\\chatglm3-demo\\lib\\site-packages\\torch\\nn\\modules\\loss.py:535: UserWarning: Using a target size (torch.Size([36109, 1, 1])) that is different to the input size (torch.Size([36109, 100, 1])). This will likely lead to incorrect results due to broadcasting. Please ensure they have the same size.\n",
      "  return F.mse_loss(input, target, reduction=self.reduction)\n",
      "c:\\Users\\gaoxc\\.conda\\envs\\chatglm3-demo\\lib\\site-packages\\torch\\nn\\modules\\loss.py:535: UserWarning: Using a target size (torch.Size([13326, 1, 1])) that is different to the input size (torch.Size([13326, 100, 1])). This will likely lead to incorrect results due to broadcasting. Please ensure they have the same size.\n",
      "  return F.mse_loss(input, target, reduction=self.reduction)\n"
     ]
    },
    {
     "name": "stdout",
     "output_type": "stream",
     "text": [
      "Epoch 56: train RMSE 3.3119, test RMSE 2.6117\n",
      "训练时间: 8768.32281923294 秒\n",
      "torch.Size([45237, 100, 1]) torch.Size([45237, 1, 1])\n",
      "torch.Size([13226, 100, 1]) torch.Size([13226, 1, 1])\n"
     ]
    },
    {
     "name": "stderr",
     "output_type": "stream",
     "text": [
      "c:\\Users\\gaoxc\\.conda\\envs\\chatglm3-demo\\lib\\site-packages\\torch\\nn\\modules\\loss.py:535: UserWarning: Using a target size (torch.Size([9048, 1, 1])) that is different to the input size (torch.Size([9048, 100, 1])). This will likely lead to incorrect results due to broadcasting. Please ensure they have the same size.\n",
      "  return F.mse_loss(input, target, reduction=self.reduction)\n"
     ]
    },
    {
     "name": "stdout",
     "output_type": "stream",
     "text": [
      "Early stopping\n"
     ]
    },
    {
     "name": "stderr",
     "output_type": "stream",
     "text": [
      "c:\\Users\\gaoxc\\.conda\\envs\\chatglm3-demo\\lib\\site-packages\\torch\\nn\\modules\\loss.py:535: UserWarning: Using a target size (torch.Size([36189, 1, 1])) that is different to the input size (torch.Size([36189, 100, 1])). This will likely lead to incorrect results due to broadcasting. Please ensure they have the same size.\n",
      "  return F.mse_loss(input, target, reduction=self.reduction)\n",
      "c:\\Users\\gaoxc\\.conda\\envs\\chatglm3-demo\\lib\\site-packages\\torch\\nn\\modules\\loss.py:535: UserWarning: Using a target size (torch.Size([13226, 1, 1])) that is different to the input size (torch.Size([13226, 100, 1])). This will likely lead to incorrect results due to broadcasting. Please ensure they have the same size.\n",
      "  return F.mse_loss(input, target, reduction=self.reduction)\n"
     ]
    },
    {
     "name": "stdout",
     "output_type": "stream",
     "text": [
      "Epoch 90: train RMSE 3.3828, test RMSE 2.5946\n",
      "训练时间: 8902.438125371933 秒\n",
      "torch.Size([45337, 100, 1]) torch.Size([45337, 1, 1])\n",
      "torch.Size([13126, 100, 1]) torch.Size([13126, 1, 1])\n"
     ]
    },
    {
     "name": "stderr",
     "output_type": "stream",
     "text": [
      "c:\\Users\\gaoxc\\.conda\\envs\\chatglm3-demo\\lib\\site-packages\\torch\\nn\\modules\\loss.py:535: UserWarning: Using a target size (torch.Size([9068, 1, 1])) that is different to the input size (torch.Size([9068, 100, 1])). This will likely lead to incorrect results due to broadcasting. Please ensure they have the same size.\n",
      "  return F.mse_loss(input, target, reduction=self.reduction)\n"
     ]
    },
    {
     "name": "stdout",
     "output_type": "stream",
     "text": [
      "Early stopping\n"
     ]
    },
    {
     "name": "stderr",
     "output_type": "stream",
     "text": [
      "c:\\Users\\gaoxc\\.conda\\envs\\chatglm3-demo\\lib\\site-packages\\torch\\nn\\modules\\loss.py:535: UserWarning: Using a target size (torch.Size([36269, 1, 1])) that is different to the input size (torch.Size([36269, 100, 1])). This will likely lead to incorrect results due to broadcasting. Please ensure they have the same size.\n",
      "  return F.mse_loss(input, target, reduction=self.reduction)\n",
      "c:\\Users\\gaoxc\\.conda\\envs\\chatglm3-demo\\lib\\site-packages\\torch\\nn\\modules\\loss.py:535: UserWarning: Using a target size (torch.Size([13126, 1, 1])) that is different to the input size (torch.Size([13126, 100, 1])). This will likely lead to incorrect results due to broadcasting. Please ensure they have the same size.\n",
      "  return F.mse_loss(input, target, reduction=self.reduction)\n"
     ]
    },
    {
     "name": "stdout",
     "output_type": "stream",
     "text": [
      "Epoch 80: train RMSE 3.1802, test RMSE 2.6189\n",
      "训练时间: 9022.321861028671 秒\n",
      "torch.Size([45437, 100, 1]) torch.Size([45437, 1, 1])\n",
      "torch.Size([13026, 100, 1]) torch.Size([13026, 1, 1])\n"
     ]
    },
    {
     "name": "stderr",
     "output_type": "stream",
     "text": [
      "c:\\Users\\gaoxc\\.conda\\envs\\chatglm3-demo\\lib\\site-packages\\torch\\nn\\modules\\loss.py:535: UserWarning: Using a target size (torch.Size([9088, 1, 1])) that is different to the input size (torch.Size([9088, 100, 1])). This will likely lead to incorrect results due to broadcasting. Please ensure they have the same size.\n",
      "  return F.mse_loss(input, target, reduction=self.reduction)\n"
     ]
    },
    {
     "name": "stdout",
     "output_type": "stream",
     "text": [
      "Early stopping\n"
     ]
    },
    {
     "name": "stderr",
     "output_type": "stream",
     "text": [
      "c:\\Users\\gaoxc\\.conda\\envs\\chatglm3-demo\\lib\\site-packages\\torch\\nn\\modules\\loss.py:535: UserWarning: Using a target size (torch.Size([36349, 1, 1])) that is different to the input size (torch.Size([36349, 100, 1])). This will likely lead to incorrect results due to broadcasting. Please ensure they have the same size.\n",
      "  return F.mse_loss(input, target, reduction=self.reduction)\n",
      "c:\\Users\\gaoxc\\.conda\\envs\\chatglm3-demo\\lib\\site-packages\\torch\\nn\\modules\\loss.py:535: UserWarning: Using a target size (torch.Size([13026, 1, 1])) that is different to the input size (torch.Size([13026, 100, 1])). This will likely lead to incorrect results due to broadcasting. Please ensure they have the same size.\n",
      "  return F.mse_loss(input, target, reduction=self.reduction)\n"
     ]
    },
    {
     "name": "stdout",
     "output_type": "stream",
     "text": [
      "Epoch 108: train RMSE 3.2805, test RMSE 2.6428\n",
      "训练时间: 9182.232237815857 秒\n",
      "torch.Size([45537, 100, 1]) torch.Size([45537, 1, 1])\n",
      "torch.Size([12926, 100, 1]) torch.Size([12926, 1, 1])\n"
     ]
    },
    {
     "name": "stderr",
     "output_type": "stream",
     "text": [
      "c:\\Users\\gaoxc\\.conda\\envs\\chatglm3-demo\\lib\\site-packages\\torch\\nn\\modules\\loss.py:535: UserWarning: Using a target size (torch.Size([9108, 1, 1])) that is different to the input size (torch.Size([9108, 100, 1])). This will likely lead to incorrect results due to broadcasting. Please ensure they have the same size.\n",
      "  return F.mse_loss(input, target, reduction=self.reduction)\n"
     ]
    },
    {
     "name": "stdout",
     "output_type": "stream",
     "text": [
      "Early stopping\n"
     ]
    },
    {
     "name": "stderr",
     "output_type": "stream",
     "text": [
      "c:\\Users\\gaoxc\\.conda\\envs\\chatglm3-demo\\lib\\site-packages\\torch\\nn\\modules\\loss.py:535: UserWarning: Using a target size (torch.Size([36429, 1, 1])) that is different to the input size (torch.Size([36429, 100, 1])). This will likely lead to incorrect results due to broadcasting. Please ensure they have the same size.\n",
      "  return F.mse_loss(input, target, reduction=self.reduction)\n",
      "c:\\Users\\gaoxc\\.conda\\envs\\chatglm3-demo\\lib\\site-packages\\torch\\nn\\modules\\loss.py:535: UserWarning: Using a target size (torch.Size([12926, 1, 1])) that is different to the input size (torch.Size([12926, 100, 1])). This will likely lead to incorrect results due to broadcasting. Please ensure they have the same size.\n",
      "  return F.mse_loss(input, target, reduction=self.reduction)\n"
     ]
    },
    {
     "name": "stdout",
     "output_type": "stream",
     "text": [
      "Epoch 96: train RMSE 3.3021, test RMSE 2.6213\n",
      "训练时间: 9328.440276145935 秒\n",
      "torch.Size([45637, 100, 1]) torch.Size([45637, 1, 1])\n",
      "torch.Size([12826, 100, 1]) torch.Size([12826, 1, 1])\n"
     ]
    },
    {
     "name": "stderr",
     "output_type": "stream",
     "text": [
      "c:\\Users\\gaoxc\\.conda\\envs\\chatglm3-demo\\lib\\site-packages\\torch\\nn\\modules\\loss.py:535: UserWarning: Using a target size (torch.Size([9128, 1, 1])) that is different to the input size (torch.Size([9128, 100, 1])). This will likely lead to incorrect results due to broadcasting. Please ensure they have the same size.\n",
      "  return F.mse_loss(input, target, reduction=self.reduction)\n"
     ]
    },
    {
     "name": "stdout",
     "output_type": "stream",
     "text": [
      "Early stopping\n"
     ]
    },
    {
     "name": "stderr",
     "output_type": "stream",
     "text": [
      "c:\\Users\\gaoxc\\.conda\\envs\\chatglm3-demo\\lib\\site-packages\\torch\\nn\\modules\\loss.py:535: UserWarning: Using a target size (torch.Size([36509, 1, 1])) that is different to the input size (torch.Size([36509, 100, 1])). This will likely lead to incorrect results due to broadcasting. Please ensure they have the same size.\n",
      "  return F.mse_loss(input, target, reduction=self.reduction)\n",
      "c:\\Users\\gaoxc\\.conda\\envs\\chatglm3-demo\\lib\\site-packages\\torch\\nn\\modules\\loss.py:535: UserWarning: Using a target size (torch.Size([12826, 1, 1])) that is different to the input size (torch.Size([12826, 100, 1])). This will likely lead to incorrect results due to broadcasting. Please ensure they have the same size.\n",
      "  return F.mse_loss(input, target, reduction=self.reduction)\n"
     ]
    },
    {
     "name": "stdout",
     "output_type": "stream",
     "text": [
      "Epoch 107: train RMSE 3.3197, test RMSE 2.6407\n",
      "训练时间: 9488.409912347794 秒\n",
      "torch.Size([45737, 100, 1]) torch.Size([45737, 1, 1])\n",
      "torch.Size([12726, 100, 1]) torch.Size([12726, 1, 1])\n"
     ]
    },
    {
     "name": "stderr",
     "output_type": "stream",
     "text": [
      "c:\\Users\\gaoxc\\.conda\\envs\\chatglm3-demo\\lib\\site-packages\\torch\\nn\\modules\\loss.py:535: UserWarning: Using a target size (torch.Size([9148, 1, 1])) that is different to the input size (torch.Size([9148, 100, 1])). This will likely lead to incorrect results due to broadcasting. Please ensure they have the same size.\n",
      "  return F.mse_loss(input, target, reduction=self.reduction)\n"
     ]
    },
    {
     "name": "stdout",
     "output_type": "stream",
     "text": [
      "Early stopping\n"
     ]
    },
    {
     "name": "stderr",
     "output_type": "stream",
     "text": [
      "c:\\Users\\gaoxc\\.conda\\envs\\chatglm3-demo\\lib\\site-packages\\torch\\nn\\modules\\loss.py:535: UserWarning: Using a target size (torch.Size([36589, 1, 1])) that is different to the input size (torch.Size([36589, 100, 1])). This will likely lead to incorrect results due to broadcasting. Please ensure they have the same size.\n",
      "  return F.mse_loss(input, target, reduction=self.reduction)\n",
      "c:\\Users\\gaoxc\\.conda\\envs\\chatglm3-demo\\lib\\site-packages\\torch\\nn\\modules\\loss.py:535: UserWarning: Using a target size (torch.Size([12726, 1, 1])) that is different to the input size (torch.Size([12726, 100, 1])). This will likely lead to incorrect results due to broadcasting. Please ensure they have the same size.\n",
      "  return F.mse_loss(input, target, reduction=self.reduction)\n"
     ]
    },
    {
     "name": "stdout",
     "output_type": "stream",
     "text": [
      "Epoch 85: train RMSE 3.1940, test RMSE 2.6391\n",
      "训练时间: 9617.577132940292 秒\n",
      "torch.Size([45837, 100, 1]) torch.Size([45837, 1, 1])\n",
      "torch.Size([12626, 100, 1]) torch.Size([12626, 1, 1])\n"
     ]
    },
    {
     "name": "stderr",
     "output_type": "stream",
     "text": [
      "c:\\Users\\gaoxc\\.conda\\envs\\chatglm3-demo\\lib\\site-packages\\torch\\nn\\modules\\loss.py:535: UserWarning: Using a target size (torch.Size([9168, 1, 1])) that is different to the input size (torch.Size([9168, 100, 1])). This will likely lead to incorrect results due to broadcasting. Please ensure they have the same size.\n",
      "  return F.mse_loss(input, target, reduction=self.reduction)\n"
     ]
    },
    {
     "name": "stdout",
     "output_type": "stream",
     "text": [
      "Early stopping\n"
     ]
    },
    {
     "name": "stderr",
     "output_type": "stream",
     "text": [
      "c:\\Users\\gaoxc\\.conda\\envs\\chatglm3-demo\\lib\\site-packages\\torch\\nn\\modules\\loss.py:535: UserWarning: Using a target size (torch.Size([36669, 1, 1])) that is different to the input size (torch.Size([36669, 100, 1])). This will likely lead to incorrect results due to broadcasting. Please ensure they have the same size.\n",
      "  return F.mse_loss(input, target, reduction=self.reduction)\n",
      "c:\\Users\\gaoxc\\.conda\\envs\\chatglm3-demo\\lib\\site-packages\\torch\\nn\\modules\\loss.py:535: UserWarning: Using a target size (torch.Size([12626, 1, 1])) that is different to the input size (torch.Size([12626, 100, 1])). This will likely lead to incorrect results due to broadcasting. Please ensure they have the same size.\n",
      "  return F.mse_loss(input, target, reduction=self.reduction)\n"
     ]
    },
    {
     "name": "stdout",
     "output_type": "stream",
     "text": [
      "Epoch 91: train RMSE 3.2872, test RMSE 2.6422\n",
      "训练时间: 9755.710032701492 秒\n",
      "torch.Size([45937, 100, 1]) torch.Size([45937, 1, 1])\n",
      "torch.Size([12526, 100, 1]) torch.Size([12526, 1, 1])\n"
     ]
    },
    {
     "name": "stderr",
     "output_type": "stream",
     "text": [
      "c:\\Users\\gaoxc\\.conda\\envs\\chatglm3-demo\\lib\\site-packages\\torch\\nn\\modules\\loss.py:535: UserWarning: Using a target size (torch.Size([9188, 1, 1])) that is different to the input size (torch.Size([9188, 100, 1])). This will likely lead to incorrect results due to broadcasting. Please ensure they have the same size.\n",
      "  return F.mse_loss(input, target, reduction=self.reduction)\n"
     ]
    },
    {
     "name": "stdout",
     "output_type": "stream",
     "text": [
      "Early stopping\n"
     ]
    },
    {
     "name": "stderr",
     "output_type": "stream",
     "text": [
      "c:\\Users\\gaoxc\\.conda\\envs\\chatglm3-demo\\lib\\site-packages\\torch\\nn\\modules\\loss.py:535: UserWarning: Using a target size (torch.Size([36749, 1, 1])) that is different to the input size (torch.Size([36749, 100, 1])). This will likely lead to incorrect results due to broadcasting. Please ensure they have the same size.\n",
      "  return F.mse_loss(input, target, reduction=self.reduction)\n",
      "c:\\Users\\gaoxc\\.conda\\envs\\chatglm3-demo\\lib\\site-packages\\torch\\nn\\modules\\loss.py:535: UserWarning: Using a target size (torch.Size([12526, 1, 1])) that is different to the input size (torch.Size([12526, 100, 1])). This will likely lead to incorrect results due to broadcasting. Please ensure they have the same size.\n",
      "  return F.mse_loss(input, target, reduction=self.reduction)\n"
     ]
    },
    {
     "name": "stdout",
     "output_type": "stream",
     "text": [
      "Epoch 79: train RMSE 3.2708, test RMSE 2.6561\n",
      "训练时间: 9876.40027666092 秒\n",
      "torch.Size([46037, 100, 1]) torch.Size([46037, 1, 1])\n",
      "torch.Size([12426, 100, 1]) torch.Size([12426, 1, 1])\n"
     ]
    },
    {
     "name": "stderr",
     "output_type": "stream",
     "text": [
      "c:\\Users\\gaoxc\\.conda\\envs\\chatglm3-demo\\lib\\site-packages\\torch\\nn\\modules\\loss.py:535: UserWarning: Using a target size (torch.Size([9208, 1, 1])) that is different to the input size (torch.Size([9208, 100, 1])). This will likely lead to incorrect results due to broadcasting. Please ensure they have the same size.\n",
      "  return F.mse_loss(input, target, reduction=self.reduction)\n"
     ]
    },
    {
     "name": "stdout",
     "output_type": "stream",
     "text": [
      "Early stopping\n"
     ]
    },
    {
     "name": "stderr",
     "output_type": "stream",
     "text": [
      "c:\\Users\\gaoxc\\.conda\\envs\\chatglm3-demo\\lib\\site-packages\\torch\\nn\\modules\\loss.py:535: UserWarning: Using a target size (torch.Size([36829, 1, 1])) that is different to the input size (torch.Size([36829, 100, 1])). This will likely lead to incorrect results due to broadcasting. Please ensure they have the same size.\n",
      "  return F.mse_loss(input, target, reduction=self.reduction)\n",
      "c:\\Users\\gaoxc\\.conda\\envs\\chatglm3-demo\\lib\\site-packages\\torch\\nn\\modules\\loss.py:535: UserWarning: Using a target size (torch.Size([12426, 1, 1])) that is different to the input size (torch.Size([12426, 100, 1])). This will likely lead to incorrect results due to broadcasting. Please ensure they have the same size.\n",
      "  return F.mse_loss(input, target, reduction=self.reduction)\n"
     ]
    },
    {
     "name": "stdout",
     "output_type": "stream",
     "text": [
      "Epoch 87: train RMSE 3.1936, test RMSE 2.6535\n",
      "训练时间: 10009.289114236832 秒\n",
      "torch.Size([46137, 100, 1]) torch.Size([46137, 1, 1])\n",
      "torch.Size([12326, 100, 1]) torch.Size([12326, 1, 1])\n"
     ]
    },
    {
     "name": "stderr",
     "output_type": "stream",
     "text": [
      "c:\\Users\\gaoxc\\.conda\\envs\\chatglm3-demo\\lib\\site-packages\\torch\\nn\\modules\\loss.py:535: UserWarning: Using a target size (torch.Size([9228, 1, 1])) that is different to the input size (torch.Size([9228, 100, 1])). This will likely lead to incorrect results due to broadcasting. Please ensure they have the same size.\n",
      "  return F.mse_loss(input, target, reduction=self.reduction)\n"
     ]
    },
    {
     "name": "stdout",
     "output_type": "stream",
     "text": [
      "Early stopping\n"
     ]
    },
    {
     "name": "stderr",
     "output_type": "stream",
     "text": [
      "c:\\Users\\gaoxc\\.conda\\envs\\chatglm3-demo\\lib\\site-packages\\torch\\nn\\modules\\loss.py:535: UserWarning: Using a target size (torch.Size([36909, 1, 1])) that is different to the input size (torch.Size([36909, 100, 1])). This will likely lead to incorrect results due to broadcasting. Please ensure they have the same size.\n",
      "  return F.mse_loss(input, target, reduction=self.reduction)\n",
      "c:\\Users\\gaoxc\\.conda\\envs\\chatglm3-demo\\lib\\site-packages\\torch\\nn\\modules\\loss.py:535: UserWarning: Using a target size (torch.Size([12326, 1, 1])) that is different to the input size (torch.Size([12326, 100, 1])). This will likely lead to incorrect results due to broadcasting. Please ensure they have the same size.\n",
      "  return F.mse_loss(input, target, reduction=self.reduction)\n"
     ]
    },
    {
     "name": "stdout",
     "output_type": "stream",
     "text": [
      "Epoch 68: train RMSE 3.2588, test RMSE 2.6922\n",
      "训练时间: 10115.21971321106 秒\n",
      "torch.Size([46237, 100, 1]) torch.Size([46237, 1, 1])\n",
      "torch.Size([12226, 100, 1]) torch.Size([12226, 1, 1])\n"
     ]
    },
    {
     "name": "stderr",
     "output_type": "stream",
     "text": [
      "c:\\Users\\gaoxc\\.conda\\envs\\chatglm3-demo\\lib\\site-packages\\torch\\nn\\modules\\loss.py:535: UserWarning: Using a target size (torch.Size([9248, 1, 1])) that is different to the input size (torch.Size([9248, 100, 1])). This will likely lead to incorrect results due to broadcasting. Please ensure they have the same size.\n",
      "  return F.mse_loss(input, target, reduction=self.reduction)\n"
     ]
    },
    {
     "name": "stdout",
     "output_type": "stream",
     "text": [
      "Early stopping\n"
     ]
    },
    {
     "name": "stderr",
     "output_type": "stream",
     "text": [
      "c:\\Users\\gaoxc\\.conda\\envs\\chatglm3-demo\\lib\\site-packages\\torch\\nn\\modules\\loss.py:535: UserWarning: Using a target size (torch.Size([36989, 1, 1])) that is different to the input size (torch.Size([36989, 100, 1])). This will likely lead to incorrect results due to broadcasting. Please ensure they have the same size.\n",
      "  return F.mse_loss(input, target, reduction=self.reduction)\n",
      "c:\\Users\\gaoxc\\.conda\\envs\\chatglm3-demo\\lib\\site-packages\\torch\\nn\\modules\\loss.py:535: UserWarning: Using a target size (torch.Size([12226, 1, 1])) that is different to the input size (torch.Size([12226, 100, 1])). This will likely lead to incorrect results due to broadcasting. Please ensure they have the same size.\n",
      "  return F.mse_loss(input, target, reduction=self.reduction)\n"
     ]
    },
    {
     "name": "stdout",
     "output_type": "stream",
     "text": [
      "Epoch 87: train RMSE 3.3097, test RMSE 2.6783\n",
      "训练时间: 10249.31098484993 秒\n",
      "torch.Size([46337, 100, 1]) torch.Size([46337, 1, 1])\n",
      "torch.Size([12126, 100, 1]) torch.Size([12126, 1, 1])\n"
     ]
    },
    {
     "name": "stderr",
     "output_type": "stream",
     "text": [
      "c:\\Users\\gaoxc\\.conda\\envs\\chatglm3-demo\\lib\\site-packages\\torch\\nn\\modules\\loss.py:535: UserWarning: Using a target size (torch.Size([9268, 1, 1])) that is different to the input size (torch.Size([9268, 100, 1])). This will likely lead to incorrect results due to broadcasting. Please ensure they have the same size.\n",
      "  return F.mse_loss(input, target, reduction=self.reduction)\n"
     ]
    },
    {
     "name": "stdout",
     "output_type": "stream",
     "text": [
      "Early stopping\n"
     ]
    },
    {
     "name": "stderr",
     "output_type": "stream",
     "text": [
      "c:\\Users\\gaoxc\\.conda\\envs\\chatglm3-demo\\lib\\site-packages\\torch\\nn\\modules\\loss.py:535: UserWarning: Using a target size (torch.Size([37069, 1, 1])) that is different to the input size (torch.Size([37069, 100, 1])). This will likely lead to incorrect results due to broadcasting. Please ensure they have the same size.\n",
      "  return F.mse_loss(input, target, reduction=self.reduction)\n",
      "c:\\Users\\gaoxc\\.conda\\envs\\chatglm3-demo\\lib\\site-packages\\torch\\nn\\modules\\loss.py:535: UserWarning: Using a target size (torch.Size([12126, 1, 1])) that is different to the input size (torch.Size([12126, 100, 1])). This will likely lead to incorrect results due to broadcasting. Please ensure they have the same size.\n",
      "  return F.mse_loss(input, target, reduction=self.reduction)\n"
     ]
    },
    {
     "name": "stdout",
     "output_type": "stream",
     "text": [
      "Epoch 101: train RMSE 3.2930, test RMSE 2.6770\n",
      "训练时间: 10404.745858192444 秒\n",
      "torch.Size([46437, 100, 1]) torch.Size([46437, 1, 1])\n",
      "torch.Size([12026, 100, 1]) torch.Size([12026, 1, 1])\n"
     ]
    },
    {
     "name": "stderr",
     "output_type": "stream",
     "text": [
      "c:\\Users\\gaoxc\\.conda\\envs\\chatglm3-demo\\lib\\site-packages\\torch\\nn\\modules\\loss.py:535: UserWarning: Using a target size (torch.Size([9288, 1, 1])) that is different to the input size (torch.Size([9288, 100, 1])). This will likely lead to incorrect results due to broadcasting. Please ensure they have the same size.\n",
      "  return F.mse_loss(input, target, reduction=self.reduction)\n"
     ]
    },
    {
     "name": "stdout",
     "output_type": "stream",
     "text": [
      "Early stopping\n"
     ]
    },
    {
     "name": "stderr",
     "output_type": "stream",
     "text": [
      "c:\\Users\\gaoxc\\.conda\\envs\\chatglm3-demo\\lib\\site-packages\\torch\\nn\\modules\\loss.py:535: UserWarning: Using a target size (torch.Size([37149, 1, 1])) that is different to the input size (torch.Size([37149, 100, 1])). This will likely lead to incorrect results due to broadcasting. Please ensure they have the same size.\n",
      "  return F.mse_loss(input, target, reduction=self.reduction)\n",
      "c:\\Users\\gaoxc\\.conda\\envs\\chatglm3-demo\\lib\\site-packages\\torch\\nn\\modules\\loss.py:535: UserWarning: Using a target size (torch.Size([12026, 1, 1])) that is different to the input size (torch.Size([12026, 100, 1])). This will likely lead to incorrect results due to broadcasting. Please ensure they have the same size.\n",
      "  return F.mse_loss(input, target, reduction=self.reduction)\n"
     ]
    },
    {
     "name": "stdout",
     "output_type": "stream",
     "text": [
      "Epoch 72: train RMSE 3.2401, test RMSE 2.7195\n",
      "训练时间: 10518.059631824493 秒\n",
      "torch.Size([46537, 100, 1]) torch.Size([46537, 1, 1])\n",
      "torch.Size([11926, 100, 1]) torch.Size([11926, 1, 1])\n"
     ]
    },
    {
     "name": "stderr",
     "output_type": "stream",
     "text": [
      "c:\\Users\\gaoxc\\.conda\\envs\\chatglm3-demo\\lib\\site-packages\\torch\\nn\\modules\\loss.py:535: UserWarning: Using a target size (torch.Size([9308, 1, 1])) that is different to the input size (torch.Size([9308, 100, 1])). This will likely lead to incorrect results due to broadcasting. Please ensure they have the same size.\n",
      "  return F.mse_loss(input, target, reduction=self.reduction)\n"
     ]
    },
    {
     "name": "stdout",
     "output_type": "stream",
     "text": [
      "Early stopping\n"
     ]
    },
    {
     "name": "stderr",
     "output_type": "stream",
     "text": [
      "c:\\Users\\gaoxc\\.conda\\envs\\chatglm3-demo\\lib\\site-packages\\torch\\nn\\modules\\loss.py:535: UserWarning: Using a target size (torch.Size([37229, 1, 1])) that is different to the input size (torch.Size([37229, 100, 1])). This will likely lead to incorrect results due to broadcasting. Please ensure they have the same size.\n",
      "  return F.mse_loss(input, target, reduction=self.reduction)\n",
      "c:\\Users\\gaoxc\\.conda\\envs\\chatglm3-demo\\lib\\site-packages\\torch\\nn\\modules\\loss.py:535: UserWarning: Using a target size (torch.Size([11926, 1, 1])) that is different to the input size (torch.Size([11926, 100, 1])). This will likely lead to incorrect results due to broadcasting. Please ensure they have the same size.\n",
      "  return F.mse_loss(input, target, reduction=self.reduction)\n"
     ]
    },
    {
     "name": "stdout",
     "output_type": "stream",
     "text": [
      "Epoch 93: train RMSE 3.1219, test RMSE 2.7006\n",
      "训练时间: 10663.515013217926 秒\n",
      "torch.Size([46637, 100, 1]) torch.Size([46637, 1, 1])\n",
      "torch.Size([11826, 100, 1]) torch.Size([11826, 1, 1])\n"
     ]
    },
    {
     "name": "stderr",
     "output_type": "stream",
     "text": [
      "c:\\Users\\gaoxc\\.conda\\envs\\chatglm3-demo\\lib\\site-packages\\torch\\nn\\modules\\loss.py:535: UserWarning: Using a target size (torch.Size([9328, 1, 1])) that is different to the input size (torch.Size([9328, 100, 1])). This will likely lead to incorrect results due to broadcasting. Please ensure they have the same size.\n",
      "  return F.mse_loss(input, target, reduction=self.reduction)\n"
     ]
    },
    {
     "name": "stdout",
     "output_type": "stream",
     "text": [
      "Early stopping\n"
     ]
    },
    {
     "name": "stderr",
     "output_type": "stream",
     "text": [
      "c:\\Users\\gaoxc\\.conda\\envs\\chatglm3-demo\\lib\\site-packages\\torch\\nn\\modules\\loss.py:535: UserWarning: Using a target size (torch.Size([37309, 1, 1])) that is different to the input size (torch.Size([37309, 100, 1])). This will likely lead to incorrect results due to broadcasting. Please ensure they have the same size.\n",
      "  return F.mse_loss(input, target, reduction=self.reduction)\n",
      "c:\\Users\\gaoxc\\.conda\\envs\\chatglm3-demo\\lib\\site-packages\\torch\\nn\\modules\\loss.py:535: UserWarning: Using a target size (torch.Size([11826, 1, 1])) that is different to the input size (torch.Size([11826, 100, 1])). This will likely lead to incorrect results due to broadcasting. Please ensure they have the same size.\n",
      "  return F.mse_loss(input, target, reduction=self.reduction)\n"
     ]
    },
    {
     "name": "stdout",
     "output_type": "stream",
     "text": [
      "Epoch 114: train RMSE 3.2332, test RMSE 2.5622\n",
      "训练时间: 10839.677138328552 秒\n",
      "torch.Size([46737, 100, 1]) torch.Size([46737, 1, 1])\n",
      "torch.Size([11726, 100, 1]) torch.Size([11726, 1, 1])\n"
     ]
    },
    {
     "name": "stderr",
     "output_type": "stream",
     "text": [
      "c:\\Users\\gaoxc\\.conda\\envs\\chatglm3-demo\\lib\\site-packages\\torch\\nn\\modules\\loss.py:535: UserWarning: Using a target size (torch.Size([9348, 1, 1])) that is different to the input size (torch.Size([9348, 100, 1])). This will likely lead to incorrect results due to broadcasting. Please ensure they have the same size.\n",
      "  return F.mse_loss(input, target, reduction=self.reduction)\n"
     ]
    },
    {
     "name": "stdout",
     "output_type": "stream",
     "text": [
      "Early stopping\n"
     ]
    },
    {
     "name": "stderr",
     "output_type": "stream",
     "text": [
      "c:\\Users\\gaoxc\\.conda\\envs\\chatglm3-demo\\lib\\site-packages\\torch\\nn\\modules\\loss.py:535: UserWarning: Using a target size (torch.Size([37389, 1, 1])) that is different to the input size (torch.Size([37389, 100, 1])). This will likely lead to incorrect results due to broadcasting. Please ensure they have the same size.\n",
      "  return F.mse_loss(input, target, reduction=self.reduction)\n",
      "c:\\Users\\gaoxc\\.conda\\envs\\chatglm3-demo\\lib\\site-packages\\torch\\nn\\modules\\loss.py:535: UserWarning: Using a target size (torch.Size([11726, 1, 1])) that is different to the input size (torch.Size([11726, 100, 1])). This will likely lead to incorrect results due to broadcasting. Please ensure they have the same size.\n",
      "  return F.mse_loss(input, target, reduction=self.reduction)\n"
     ]
    },
    {
     "name": "stdout",
     "output_type": "stream",
     "text": [
      "Epoch 74: train RMSE 3.4334, test RMSE 1.7804\n",
      "训练时间: 10956.389159679413 秒\n",
      "torch.Size([46837, 100, 1]) torch.Size([46837, 1, 1])\n",
      "torch.Size([11626, 100, 1]) torch.Size([11626, 1, 1])\n"
     ]
    },
    {
     "name": "stderr",
     "output_type": "stream",
     "text": [
      "c:\\Users\\gaoxc\\.conda\\envs\\chatglm3-demo\\lib\\site-packages\\torch\\nn\\modules\\loss.py:535: UserWarning: Using a target size (torch.Size([9368, 1, 1])) that is different to the input size (torch.Size([9368, 100, 1])). This will likely lead to incorrect results due to broadcasting. Please ensure they have the same size.\n",
      "  return F.mse_loss(input, target, reduction=self.reduction)\n"
     ]
    },
    {
     "name": "stdout",
     "output_type": "stream",
     "text": [
      "Early stopping\n"
     ]
    },
    {
     "name": "stderr",
     "output_type": "stream",
     "text": [
      "c:\\Users\\gaoxc\\.conda\\envs\\chatglm3-demo\\lib\\site-packages\\torch\\nn\\modules\\loss.py:535: UserWarning: Using a target size (torch.Size([37469, 1, 1])) that is different to the input size (torch.Size([37469, 100, 1])). This will likely lead to incorrect results due to broadcasting. Please ensure they have the same size.\n",
      "  return F.mse_loss(input, target, reduction=self.reduction)\n",
      "c:\\Users\\gaoxc\\.conda\\envs\\chatglm3-demo\\lib\\site-packages\\torch\\nn\\modules\\loss.py:535: UserWarning: Using a target size (torch.Size([11626, 1, 1])) that is different to the input size (torch.Size([11626, 100, 1])). This will likely lead to incorrect results due to broadcasting. Please ensure they have the same size.\n",
      "  return F.mse_loss(input, target, reduction=self.reduction)\n"
     ]
    },
    {
     "name": "stdout",
     "output_type": "stream",
     "text": [
      "Epoch 89: train RMSE 3.4172, test RMSE 1.7567\n",
      "训练时间: 11095.983545303345 秒\n",
      "torch.Size([46937, 100, 1]) torch.Size([46937, 1, 1])\n",
      "torch.Size([11526, 100, 1]) torch.Size([11526, 1, 1])\n"
     ]
    },
    {
     "name": "stderr",
     "output_type": "stream",
     "text": [
      "c:\\Users\\gaoxc\\.conda\\envs\\chatglm3-demo\\lib\\site-packages\\torch\\nn\\modules\\loss.py:535: UserWarning: Using a target size (torch.Size([9388, 1, 1])) that is different to the input size (torch.Size([9388, 100, 1])). This will likely lead to incorrect results due to broadcasting. Please ensure they have the same size.\n",
      "  return F.mse_loss(input, target, reduction=self.reduction)\n"
     ]
    },
    {
     "name": "stdout",
     "output_type": "stream",
     "text": [
      "Early stopping\n"
     ]
    },
    {
     "name": "stderr",
     "output_type": "stream",
     "text": [
      "c:\\Users\\gaoxc\\.conda\\envs\\chatglm3-demo\\lib\\site-packages\\torch\\nn\\modules\\loss.py:535: UserWarning: Using a target size (torch.Size([37549, 1, 1])) that is different to the input size (torch.Size([37549, 100, 1])). This will likely lead to incorrect results due to broadcasting. Please ensure they have the same size.\n",
      "  return F.mse_loss(input, target, reduction=self.reduction)\n",
      "c:\\Users\\gaoxc\\.conda\\envs\\chatglm3-demo\\lib\\site-packages\\torch\\nn\\modules\\loss.py:535: UserWarning: Using a target size (torch.Size([11526, 1, 1])) that is different to the input size (torch.Size([11526, 100, 1])). This will likely lead to incorrect results due to broadcasting. Please ensure they have the same size.\n",
      "  return F.mse_loss(input, target, reduction=self.reduction)\n"
     ]
    },
    {
     "name": "stdout",
     "output_type": "stream",
     "text": [
      "Epoch 34: train RMSE 3.4884, test RMSE 1.7444\n",
      "训练时间: 11153.32249546051 秒\n",
      "torch.Size([47037, 100, 1]) torch.Size([47037, 1, 1])\n",
      "torch.Size([11426, 100, 1]) torch.Size([11426, 1, 1])\n"
     ]
    },
    {
     "name": "stderr",
     "output_type": "stream",
     "text": [
      "c:\\Users\\gaoxc\\.conda\\envs\\chatglm3-demo\\lib\\site-packages\\torch\\nn\\modules\\loss.py:535: UserWarning: Using a target size (torch.Size([9408, 1, 1])) that is different to the input size (torch.Size([9408, 100, 1])). This will likely lead to incorrect results due to broadcasting. Please ensure they have the same size.\n",
      "  return F.mse_loss(input, target, reduction=self.reduction)\n"
     ]
    },
    {
     "name": "stdout",
     "output_type": "stream",
     "text": [
      "Early stopping\n"
     ]
    },
    {
     "name": "stderr",
     "output_type": "stream",
     "text": [
      "c:\\Users\\gaoxc\\.conda\\envs\\chatglm3-demo\\lib\\site-packages\\torch\\nn\\modules\\loss.py:535: UserWarning: Using a target size (torch.Size([37629, 1, 1])) that is different to the input size (torch.Size([37629, 100, 1])). This will likely lead to incorrect results due to broadcasting. Please ensure they have the same size.\n",
      "  return F.mse_loss(input, target, reduction=self.reduction)\n",
      "c:\\Users\\gaoxc\\.conda\\envs\\chatglm3-demo\\lib\\site-packages\\torch\\nn\\modules\\loss.py:535: UserWarning: Using a target size (torch.Size([11426, 1, 1])) that is different to the input size (torch.Size([11426, 100, 1])). This will likely lead to incorrect results due to broadcasting. Please ensure they have the same size.\n",
      "  return F.mse_loss(input, target, reduction=self.reduction)\n"
     ]
    },
    {
     "name": "stdout",
     "output_type": "stream",
     "text": [
      "Epoch 83: train RMSE 3.3795, test RMSE 1.7487\n",
      "训练时间: 11284.945964574814 秒\n",
      "torch.Size([47137, 100, 1]) torch.Size([47137, 1, 1])\n",
      "torch.Size([11326, 100, 1]) torch.Size([11326, 1, 1])\n"
     ]
    },
    {
     "name": "stderr",
     "output_type": "stream",
     "text": [
      "c:\\Users\\gaoxc\\.conda\\envs\\chatglm3-demo\\lib\\site-packages\\torch\\nn\\modules\\loss.py:535: UserWarning: Using a target size (torch.Size([9428, 1, 1])) that is different to the input size (torch.Size([9428, 100, 1])). This will likely lead to incorrect results due to broadcasting. Please ensure they have the same size.\n",
      "  return F.mse_loss(input, target, reduction=self.reduction)\n"
     ]
    },
    {
     "name": "stdout",
     "output_type": "stream",
     "text": [
      "Early stopping\n"
     ]
    },
    {
     "name": "stderr",
     "output_type": "stream",
     "text": [
      "c:\\Users\\gaoxc\\.conda\\envs\\chatglm3-demo\\lib\\site-packages\\torch\\nn\\modules\\loss.py:535: UserWarning: Using a target size (torch.Size([37709, 1, 1])) that is different to the input size (torch.Size([37709, 100, 1])). This will likely lead to incorrect results due to broadcasting. Please ensure they have the same size.\n",
      "  return F.mse_loss(input, target, reduction=self.reduction)\n",
      "c:\\Users\\gaoxc\\.conda\\envs\\chatglm3-demo\\lib\\site-packages\\torch\\nn\\modules\\loss.py:535: UserWarning: Using a target size (torch.Size([11326, 1, 1])) that is different to the input size (torch.Size([11326, 100, 1])). This will likely lead to incorrect results due to broadcasting. Please ensure they have the same size.\n",
      "  return F.mse_loss(input, target, reduction=self.reduction)\n"
     ]
    },
    {
     "name": "stdout",
     "output_type": "stream",
     "text": [
      "Epoch 95: train RMSE 3.3173, test RMSE 1.7847\n",
      "训练时间: 11435.398258209229 秒\n",
      "torch.Size([47237, 100, 1]) torch.Size([47237, 1, 1])\n",
      "torch.Size([11226, 100, 1]) torch.Size([11226, 1, 1])\n"
     ]
    },
    {
     "name": "stderr",
     "output_type": "stream",
     "text": [
      "c:\\Users\\gaoxc\\.conda\\envs\\chatglm3-demo\\lib\\site-packages\\torch\\nn\\modules\\loss.py:535: UserWarning: Using a target size (torch.Size([9448, 1, 1])) that is different to the input size (torch.Size([9448, 100, 1])). This will likely lead to incorrect results due to broadcasting. Please ensure they have the same size.\n",
      "  return F.mse_loss(input, target, reduction=self.reduction)\n"
     ]
    },
    {
     "name": "stdout",
     "output_type": "stream",
     "text": [
      "Early stopping\n"
     ]
    },
    {
     "name": "stderr",
     "output_type": "stream",
     "text": [
      "c:\\Users\\gaoxc\\.conda\\envs\\chatglm3-demo\\lib\\site-packages\\torch\\nn\\modules\\loss.py:535: UserWarning: Using a target size (torch.Size([37789, 1, 1])) that is different to the input size (torch.Size([37789, 100, 1])). This will likely lead to incorrect results due to broadcasting. Please ensure they have the same size.\n",
      "  return F.mse_loss(input, target, reduction=self.reduction)\n",
      "c:\\Users\\gaoxc\\.conda\\envs\\chatglm3-demo\\lib\\site-packages\\torch\\nn\\modules\\loss.py:535: UserWarning: Using a target size (torch.Size([11226, 1, 1])) that is different to the input size (torch.Size([11226, 100, 1])). This will likely lead to incorrect results due to broadcasting. Please ensure they have the same size.\n",
      "  return F.mse_loss(input, target, reduction=self.reduction)\n"
     ]
    },
    {
     "name": "stdout",
     "output_type": "stream",
     "text": [
      "Epoch 86: train RMSE 3.3839, test RMSE 1.7476\n",
      "训练时间: 11571.955902338028 秒\n",
      "torch.Size([47337, 100, 1]) torch.Size([47337, 1, 1])\n",
      "torch.Size([11126, 100, 1]) torch.Size([11126, 1, 1])\n"
     ]
    },
    {
     "name": "stderr",
     "output_type": "stream",
     "text": [
      "c:\\Users\\gaoxc\\.conda\\envs\\chatglm3-demo\\lib\\site-packages\\torch\\nn\\modules\\loss.py:535: UserWarning: Using a target size (torch.Size([9468, 1, 1])) that is different to the input size (torch.Size([9468, 100, 1])). This will likely lead to incorrect results due to broadcasting. Please ensure they have the same size.\n",
      "  return F.mse_loss(input, target, reduction=self.reduction)\n"
     ]
    },
    {
     "name": "stdout",
     "output_type": "stream",
     "text": [
      "Early stopping\n"
     ]
    },
    {
     "name": "stderr",
     "output_type": "stream",
     "text": [
      "c:\\Users\\gaoxc\\.conda\\envs\\chatglm3-demo\\lib\\site-packages\\torch\\nn\\modules\\loss.py:535: UserWarning: Using a target size (torch.Size([37869, 1, 1])) that is different to the input size (torch.Size([37869, 100, 1])). This will likely lead to incorrect results due to broadcasting. Please ensure they have the same size.\n",
      "  return F.mse_loss(input, target, reduction=self.reduction)\n",
      "c:\\Users\\gaoxc\\.conda\\envs\\chatglm3-demo\\lib\\site-packages\\torch\\nn\\modules\\loss.py:535: UserWarning: Using a target size (torch.Size([11126, 1, 1])) that is different to the input size (torch.Size([11126, 100, 1])). This will likely lead to incorrect results due to broadcasting. Please ensure they have the same size.\n",
      "  return F.mse_loss(input, target, reduction=self.reduction)\n"
     ]
    },
    {
     "name": "stdout",
     "output_type": "stream",
     "text": [
      "Epoch 80: train RMSE 3.4457, test RMSE 1.7428\n",
      "训练时间: 11700.5901222229 秒\n",
      "torch.Size([47437, 100, 1]) torch.Size([47437, 1, 1])\n",
      "torch.Size([11026, 100, 1]) torch.Size([11026, 1, 1])\n"
     ]
    },
    {
     "name": "stderr",
     "output_type": "stream",
     "text": [
      "c:\\Users\\gaoxc\\.conda\\envs\\chatglm3-demo\\lib\\site-packages\\torch\\nn\\modules\\loss.py:535: UserWarning: Using a target size (torch.Size([9488, 1, 1])) that is different to the input size (torch.Size([9488, 100, 1])). This will likely lead to incorrect results due to broadcasting. Please ensure they have the same size.\n",
      "  return F.mse_loss(input, target, reduction=self.reduction)\n"
     ]
    },
    {
     "name": "stdout",
     "output_type": "stream",
     "text": [
      "Early stopping\n"
     ]
    },
    {
     "name": "stderr",
     "output_type": "stream",
     "text": [
      "c:\\Users\\gaoxc\\.conda\\envs\\chatglm3-demo\\lib\\site-packages\\torch\\nn\\modules\\loss.py:535: UserWarning: Using a target size (torch.Size([37949, 1, 1])) that is different to the input size (torch.Size([37949, 100, 1])). This will likely lead to incorrect results due to broadcasting. Please ensure they have the same size.\n",
      "  return F.mse_loss(input, target, reduction=self.reduction)\n",
      "c:\\Users\\gaoxc\\.conda\\envs\\chatglm3-demo\\lib\\site-packages\\torch\\nn\\modules\\loss.py:535: UserWarning: Using a target size (torch.Size([11026, 1, 1])) that is different to the input size (torch.Size([11026, 100, 1])). This will likely lead to incorrect results due to broadcasting. Please ensure they have the same size.\n",
      "  return F.mse_loss(input, target, reduction=self.reduction)\n"
     ]
    },
    {
     "name": "stdout",
     "output_type": "stream",
     "text": [
      "Epoch 84: train RMSE 3.3459, test RMSE 1.7505\n",
      "训练时间: 11836.877456188202 秒\n",
      "torch.Size([47537, 100, 1]) torch.Size([47537, 1, 1])\n",
      "torch.Size([10926, 100, 1]) torch.Size([10926, 1, 1])\n"
     ]
    },
    {
     "name": "stderr",
     "output_type": "stream",
     "text": [
      "c:\\Users\\gaoxc\\.conda\\envs\\chatglm3-demo\\lib\\site-packages\\torch\\nn\\modules\\loss.py:535: UserWarning: Using a target size (torch.Size([9508, 1, 1])) that is different to the input size (torch.Size([9508, 100, 1])). This will likely lead to incorrect results due to broadcasting. Please ensure they have the same size.\n",
      "  return F.mse_loss(input, target, reduction=self.reduction)\n"
     ]
    },
    {
     "name": "stdout",
     "output_type": "stream",
     "text": [
      "Early stopping\n"
     ]
    },
    {
     "name": "stderr",
     "output_type": "stream",
     "text": [
      "c:\\Users\\gaoxc\\.conda\\envs\\chatglm3-demo\\lib\\site-packages\\torch\\nn\\modules\\loss.py:535: UserWarning: Using a target size (torch.Size([38029, 1, 1])) that is different to the input size (torch.Size([38029, 100, 1])). This will likely lead to incorrect results due to broadcasting. Please ensure they have the same size.\n",
      "  return F.mse_loss(input, target, reduction=self.reduction)\n",
      "c:\\Users\\gaoxc\\.conda\\envs\\chatglm3-demo\\lib\\site-packages\\torch\\nn\\modules\\loss.py:535: UserWarning: Using a target size (torch.Size([10926, 1, 1])) that is different to the input size (torch.Size([10926, 100, 1])). This will likely lead to incorrect results due to broadcasting. Please ensure they have the same size.\n",
      "  return F.mse_loss(input, target, reduction=self.reduction)\n"
     ]
    },
    {
     "name": "stdout",
     "output_type": "stream",
     "text": [
      "Epoch 78: train RMSE 3.4098, test RMSE 1.7409\n",
      "训练时间: 11964.234217643738 秒\n",
      "torch.Size([47637, 100, 1]) torch.Size([47637, 1, 1])\n",
      "torch.Size([10826, 100, 1]) torch.Size([10826, 1, 1])\n"
     ]
    },
    {
     "name": "stderr",
     "output_type": "stream",
     "text": [
      "c:\\Users\\gaoxc\\.conda\\envs\\chatglm3-demo\\lib\\site-packages\\torch\\nn\\modules\\loss.py:535: UserWarning: Using a target size (torch.Size([9528, 1, 1])) that is different to the input size (torch.Size([9528, 100, 1])). This will likely lead to incorrect results due to broadcasting. Please ensure they have the same size.\n",
      "  return F.mse_loss(input, target, reduction=self.reduction)\n"
     ]
    },
    {
     "name": "stdout",
     "output_type": "stream",
     "text": [
      "Early stopping\n"
     ]
    },
    {
     "name": "stderr",
     "output_type": "stream",
     "text": [
      "c:\\Users\\gaoxc\\.conda\\envs\\chatglm3-demo\\lib\\site-packages\\torch\\nn\\modules\\loss.py:535: UserWarning: Using a target size (torch.Size([38109, 1, 1])) that is different to the input size (torch.Size([38109, 100, 1])). This will likely lead to incorrect results due to broadcasting. Please ensure they have the same size.\n",
      "  return F.mse_loss(input, target, reduction=self.reduction)\n",
      "c:\\Users\\gaoxc\\.conda\\envs\\chatglm3-demo\\lib\\site-packages\\torch\\nn\\modules\\loss.py:535: UserWarning: Using a target size (torch.Size([10826, 1, 1])) that is different to the input size (torch.Size([10826, 100, 1])). This will likely lead to incorrect results due to broadcasting. Please ensure they have the same size.\n",
      "  return F.mse_loss(input, target, reduction=self.reduction)\n"
     ]
    },
    {
     "name": "stdout",
     "output_type": "stream",
     "text": [
      "Epoch 91: train RMSE 3.4628, test RMSE 1.7603\n",
      "训练时间: 12110.875355005264 秒\n",
      "torch.Size([47737, 100, 1]) torch.Size([47737, 1, 1])\n",
      "torch.Size([10726, 100, 1]) torch.Size([10726, 1, 1])\n"
     ]
    },
    {
     "name": "stderr",
     "output_type": "stream",
     "text": [
      "c:\\Users\\gaoxc\\.conda\\envs\\chatglm3-demo\\lib\\site-packages\\torch\\nn\\modules\\loss.py:535: UserWarning: Using a target size (torch.Size([9548, 1, 1])) that is different to the input size (torch.Size([9548, 100, 1])). This will likely lead to incorrect results due to broadcasting. Please ensure they have the same size.\n",
      "  return F.mse_loss(input, target, reduction=self.reduction)\n"
     ]
    },
    {
     "name": "stdout",
     "output_type": "stream",
     "text": [
      "Early stopping\n"
     ]
    },
    {
     "name": "stderr",
     "output_type": "stream",
     "text": [
      "c:\\Users\\gaoxc\\.conda\\envs\\chatglm3-demo\\lib\\site-packages\\torch\\nn\\modules\\loss.py:535: UserWarning: Using a target size (torch.Size([38189, 1, 1])) that is different to the input size (torch.Size([38189, 100, 1])). This will likely lead to incorrect results due to broadcasting. Please ensure they have the same size.\n",
      "  return F.mse_loss(input, target, reduction=self.reduction)\n",
      "c:\\Users\\gaoxc\\.conda\\envs\\chatglm3-demo\\lib\\site-packages\\torch\\nn\\modules\\loss.py:535: UserWarning: Using a target size (torch.Size([10726, 1, 1])) that is different to the input size (torch.Size([10726, 100, 1])). This will likely lead to incorrect results due to broadcasting. Please ensure they have the same size.\n",
      "  return F.mse_loss(input, target, reduction=self.reduction)\n"
     ]
    },
    {
     "name": "stdout",
     "output_type": "stream",
     "text": [
      "Epoch 69: train RMSE 3.4807, test RMSE 1.7407\n",
      "训练时间: 12226.252526521683 秒\n",
      "torch.Size([47837, 100, 1]) torch.Size([47837, 1, 1])\n",
      "torch.Size([10626, 100, 1]) torch.Size([10626, 1, 1])\n"
     ]
    },
    {
     "name": "stderr",
     "output_type": "stream",
     "text": [
      "c:\\Users\\gaoxc\\.conda\\envs\\chatglm3-demo\\lib\\site-packages\\torch\\nn\\modules\\loss.py:535: UserWarning: Using a target size (torch.Size([9568, 1, 1])) that is different to the input size (torch.Size([9568, 100, 1])). This will likely lead to incorrect results due to broadcasting. Please ensure they have the same size.\n",
      "  return F.mse_loss(input, target, reduction=self.reduction)\n"
     ]
    },
    {
     "name": "stdout",
     "output_type": "stream",
     "text": [
      "Early stopping\n"
     ]
    },
    {
     "name": "stderr",
     "output_type": "stream",
     "text": [
      "c:\\Users\\gaoxc\\.conda\\envs\\chatglm3-demo\\lib\\site-packages\\torch\\nn\\modules\\loss.py:535: UserWarning: Using a target size (torch.Size([38269, 1, 1])) that is different to the input size (torch.Size([38269, 100, 1])). This will likely lead to incorrect results due to broadcasting. Please ensure they have the same size.\n",
      "  return F.mse_loss(input, target, reduction=self.reduction)\n",
      "c:\\Users\\gaoxc\\.conda\\envs\\chatglm3-demo\\lib\\site-packages\\torch\\nn\\modules\\loss.py:535: UserWarning: Using a target size (torch.Size([10626, 1, 1])) that is different to the input size (torch.Size([10626, 100, 1])). This will likely lead to incorrect results due to broadcasting. Please ensure they have the same size.\n",
      "  return F.mse_loss(input, target, reduction=self.reduction)\n"
     ]
    },
    {
     "name": "stdout",
     "output_type": "stream",
     "text": [
      "Epoch 67: train RMSE 3.3699, test RMSE 1.7928\n",
      "训练时间: 12336.16732263565 秒\n",
      "torch.Size([47937, 100, 1]) torch.Size([47937, 1, 1])\n",
      "torch.Size([10526, 100, 1]) torch.Size([10526, 1, 1])\n"
     ]
    },
    {
     "name": "stderr",
     "output_type": "stream",
     "text": [
      "c:\\Users\\gaoxc\\.conda\\envs\\chatglm3-demo\\lib\\site-packages\\torch\\nn\\modules\\loss.py:535: UserWarning: Using a target size (torch.Size([9588, 1, 1])) that is different to the input size (torch.Size([9588, 100, 1])). This will likely lead to incorrect results due to broadcasting. Please ensure they have the same size.\n",
      "  return F.mse_loss(input, target, reduction=self.reduction)\n"
     ]
    },
    {
     "name": "stdout",
     "output_type": "stream",
     "text": [
      "Early stopping\n"
     ]
    },
    {
     "name": "stderr",
     "output_type": "stream",
     "text": [
      "c:\\Users\\gaoxc\\.conda\\envs\\chatglm3-demo\\lib\\site-packages\\torch\\nn\\modules\\loss.py:535: UserWarning: Using a target size (torch.Size([38349, 1, 1])) that is different to the input size (torch.Size([38349, 100, 1])). This will likely lead to incorrect results due to broadcasting. Please ensure they have the same size.\n",
      "  return F.mse_loss(input, target, reduction=self.reduction)\n",
      "c:\\Users\\gaoxc\\.conda\\envs\\chatglm3-demo\\lib\\site-packages\\torch\\nn\\modules\\loss.py:535: UserWarning: Using a target size (torch.Size([10526, 1, 1])) that is different to the input size (torch.Size([10526, 100, 1])). This will likely lead to incorrect results due to broadcasting. Please ensure they have the same size.\n",
      "  return F.mse_loss(input, target, reduction=self.reduction)\n"
     ]
    },
    {
     "name": "stdout",
     "output_type": "stream",
     "text": [
      "Epoch 83: train RMSE 3.3285, test RMSE 1.7951\n",
      "训练时间: 12472.824521303177 秒\n",
      "torch.Size([48037, 100, 1]) torch.Size([48037, 1, 1])\n",
      "torch.Size([10426, 100, 1]) torch.Size([10426, 1, 1])\n"
     ]
    },
    {
     "name": "stderr",
     "output_type": "stream",
     "text": [
      "c:\\Users\\gaoxc\\.conda\\envs\\chatglm3-demo\\lib\\site-packages\\torch\\nn\\modules\\loss.py:535: UserWarning: Using a target size (torch.Size([9608, 1, 1])) that is different to the input size (torch.Size([9608, 100, 1])). This will likely lead to incorrect results due to broadcasting. Please ensure they have the same size.\n",
      "  return F.mse_loss(input, target, reduction=self.reduction)\n"
     ]
    },
    {
     "name": "stdout",
     "output_type": "stream",
     "text": [
      "Early stopping\n"
     ]
    },
    {
     "name": "stderr",
     "output_type": "stream",
     "text": [
      "c:\\Users\\gaoxc\\.conda\\envs\\chatglm3-demo\\lib\\site-packages\\torch\\nn\\modules\\loss.py:535: UserWarning: Using a target size (torch.Size([38429, 1, 1])) that is different to the input size (torch.Size([38429, 100, 1])). This will likely lead to incorrect results due to broadcasting. Please ensure they have the same size.\n",
      "  return F.mse_loss(input, target, reduction=self.reduction)\n",
      "c:\\Users\\gaoxc\\.conda\\envs\\chatglm3-demo\\lib\\site-packages\\torch\\nn\\modules\\loss.py:535: UserWarning: Using a target size (torch.Size([10426, 1, 1])) that is different to the input size (torch.Size([10426, 100, 1])). This will likely lead to incorrect results due to broadcasting. Please ensure they have the same size.\n",
      "  return F.mse_loss(input, target, reduction=self.reduction)\n"
     ]
    },
    {
     "name": "stdout",
     "output_type": "stream",
     "text": [
      "Epoch 70: train RMSE 3.4730, test RMSE 1.7870\n",
      "训练时间: 12590.651995420456 秒\n",
      "torch.Size([48137, 100, 1]) torch.Size([48137, 1, 1])\n",
      "torch.Size([10326, 100, 1]) torch.Size([10326, 1, 1])\n"
     ]
    },
    {
     "name": "stderr",
     "output_type": "stream",
     "text": [
      "c:\\Users\\gaoxc\\.conda\\envs\\chatglm3-demo\\lib\\site-packages\\torch\\nn\\modules\\loss.py:535: UserWarning: Using a target size (torch.Size([9628, 1, 1])) that is different to the input size (torch.Size([9628, 100, 1])). This will likely lead to incorrect results due to broadcasting. Please ensure they have the same size.\n",
      "  return F.mse_loss(input, target, reduction=self.reduction)\n"
     ]
    },
    {
     "name": "stdout",
     "output_type": "stream",
     "text": [
      "Early stopping\n"
     ]
    },
    {
     "name": "stderr",
     "output_type": "stream",
     "text": [
      "c:\\Users\\gaoxc\\.conda\\envs\\chatglm3-demo\\lib\\site-packages\\torch\\nn\\modules\\loss.py:535: UserWarning: Using a target size (torch.Size([38509, 1, 1])) that is different to the input size (torch.Size([38509, 100, 1])). This will likely lead to incorrect results due to broadcasting. Please ensure they have the same size.\n",
      "  return F.mse_loss(input, target, reduction=self.reduction)\n",
      "c:\\Users\\gaoxc\\.conda\\envs\\chatglm3-demo\\lib\\site-packages\\torch\\nn\\modules\\loss.py:535: UserWarning: Using a target size (torch.Size([10326, 1, 1])) that is different to the input size (torch.Size([10326, 100, 1])). This will likely lead to incorrect results due to broadcasting. Please ensure they have the same size.\n",
      "  return F.mse_loss(input, target, reduction=self.reduction)\n"
     ]
    },
    {
     "name": "stdout",
     "output_type": "stream",
     "text": [
      "Epoch 74: train RMSE 3.3437, test RMSE 1.7920\n",
      "训练时间: 12714.49629831314 秒\n",
      "torch.Size([48237, 100, 1]) torch.Size([48237, 1, 1])\n",
      "torch.Size([10226, 100, 1]) torch.Size([10226, 1, 1])\n"
     ]
    },
    {
     "name": "stderr",
     "output_type": "stream",
     "text": [
      "c:\\Users\\gaoxc\\.conda\\envs\\chatglm3-demo\\lib\\site-packages\\torch\\nn\\modules\\loss.py:535: UserWarning: Using a target size (torch.Size([9648, 1, 1])) that is different to the input size (torch.Size([9648, 100, 1])). This will likely lead to incorrect results due to broadcasting. Please ensure they have the same size.\n",
      "  return F.mse_loss(input, target, reduction=self.reduction)\n"
     ]
    },
    {
     "name": "stdout",
     "output_type": "stream",
     "text": [
      "Early stopping\n"
     ]
    },
    {
     "name": "stderr",
     "output_type": "stream",
     "text": [
      "c:\\Users\\gaoxc\\.conda\\envs\\chatglm3-demo\\lib\\site-packages\\torch\\nn\\modules\\loss.py:535: UserWarning: Using a target size (torch.Size([38589, 1, 1])) that is different to the input size (torch.Size([38589, 100, 1])). This will likely lead to incorrect results due to broadcasting. Please ensure they have the same size.\n",
      "  return F.mse_loss(input, target, reduction=self.reduction)\n",
      "c:\\Users\\gaoxc\\.conda\\envs\\chatglm3-demo\\lib\\site-packages\\torch\\nn\\modules\\loss.py:535: UserWarning: Using a target size (torch.Size([10226, 1, 1])) that is different to the input size (torch.Size([10226, 100, 1])). This will likely lead to incorrect results due to broadcasting. Please ensure they have the same size.\n",
      "  return F.mse_loss(input, target, reduction=self.reduction)\n"
     ]
    },
    {
     "name": "stdout",
     "output_type": "stream",
     "text": [
      "Epoch 97: train RMSE 3.2972, test RMSE 1.7918\n",
      "训练时间: 12877.11759352684 秒\n",
      "torch.Size([48337, 100, 1]) torch.Size([48337, 1, 1])\n",
      "torch.Size([10126, 100, 1]) torch.Size([10126, 1, 1])\n"
     ]
    },
    {
     "name": "stderr",
     "output_type": "stream",
     "text": [
      "c:\\Users\\gaoxc\\.conda\\envs\\chatglm3-demo\\lib\\site-packages\\torch\\nn\\modules\\loss.py:535: UserWarning: Using a target size (torch.Size([9668, 1, 1])) that is different to the input size (torch.Size([9668, 100, 1])). This will likely lead to incorrect results due to broadcasting. Please ensure they have the same size.\n",
      "  return F.mse_loss(input, target, reduction=self.reduction)\n"
     ]
    },
    {
     "name": "stdout",
     "output_type": "stream",
     "text": [
      "Early stopping\n"
     ]
    },
    {
     "name": "stderr",
     "output_type": "stream",
     "text": [
      "c:\\Users\\gaoxc\\.conda\\envs\\chatglm3-demo\\lib\\site-packages\\torch\\nn\\modules\\loss.py:535: UserWarning: Using a target size (torch.Size([38669, 1, 1])) that is different to the input size (torch.Size([38669, 100, 1])). This will likely lead to incorrect results due to broadcasting. Please ensure they have the same size.\n",
      "  return F.mse_loss(input, target, reduction=self.reduction)\n",
      "c:\\Users\\gaoxc\\.conda\\envs\\chatglm3-demo\\lib\\site-packages\\torch\\nn\\modules\\loss.py:535: UserWarning: Using a target size (torch.Size([10126, 1, 1])) that is different to the input size (torch.Size([10126, 100, 1])). This will likely lead to incorrect results due to broadcasting. Please ensure they have the same size.\n",
      "  return F.mse_loss(input, target, reduction=self.reduction)\n"
     ]
    },
    {
     "name": "stdout",
     "output_type": "stream",
     "text": [
      "Epoch 99: train RMSE 3.3178, test RMSE 1.7717\n",
      "训练时间: 13044.006290435791 秒\n",
      "torch.Size([48437, 100, 1]) torch.Size([48437, 1, 1])\n",
      "torch.Size([10026, 100, 1]) torch.Size([10026, 1, 1])\n"
     ]
    },
    {
     "name": "stderr",
     "output_type": "stream",
     "text": [
      "c:\\Users\\gaoxc\\.conda\\envs\\chatglm3-demo\\lib\\site-packages\\torch\\nn\\modules\\loss.py:535: UserWarning: Using a target size (torch.Size([9688, 1, 1])) that is different to the input size (torch.Size([9688, 100, 1])). This will likely lead to incorrect results due to broadcasting. Please ensure they have the same size.\n",
      "  return F.mse_loss(input, target, reduction=self.reduction)\n"
     ]
    },
    {
     "name": "stdout",
     "output_type": "stream",
     "text": [
      "Early stopping\n"
     ]
    },
    {
     "name": "stderr",
     "output_type": "stream",
     "text": [
      "c:\\Users\\gaoxc\\.conda\\envs\\chatglm3-demo\\lib\\site-packages\\torch\\nn\\modules\\loss.py:535: UserWarning: Using a target size (torch.Size([38749, 1, 1])) that is different to the input size (torch.Size([38749, 100, 1])). This will likely lead to incorrect results due to broadcasting. Please ensure they have the same size.\n",
      "  return F.mse_loss(input, target, reduction=self.reduction)\n",
      "c:\\Users\\gaoxc\\.conda\\envs\\chatglm3-demo\\lib\\site-packages\\torch\\nn\\modules\\loss.py:535: UserWarning: Using a target size (torch.Size([10026, 1, 1])) that is different to the input size (torch.Size([10026, 100, 1])). This will likely lead to incorrect results due to broadcasting. Please ensure they have the same size.\n",
      "  return F.mse_loss(input, target, reduction=self.reduction)\n"
     ]
    },
    {
     "name": "stdout",
     "output_type": "stream",
     "text": [
      "Epoch 68: train RMSE 3.3975, test RMSE 1.7758\n",
      "训练时间: 13158.417159318924 秒\n",
      "torch.Size([48537, 100, 1]) torch.Size([48537, 1, 1])\n",
      "torch.Size([9926, 100, 1]) torch.Size([9926, 1, 1])\n"
     ]
    },
    {
     "name": "stderr",
     "output_type": "stream",
     "text": [
      "c:\\Users\\gaoxc\\.conda\\envs\\chatglm3-demo\\lib\\site-packages\\torch\\nn\\modules\\loss.py:535: UserWarning: Using a target size (torch.Size([9708, 1, 1])) that is different to the input size (torch.Size([9708, 100, 1])). This will likely lead to incorrect results due to broadcasting. Please ensure they have the same size.\n",
      "  return F.mse_loss(input, target, reduction=self.reduction)\n"
     ]
    },
    {
     "name": "stdout",
     "output_type": "stream",
     "text": [
      "Early stopping\n"
     ]
    },
    {
     "name": "stderr",
     "output_type": "stream",
     "text": [
      "c:\\Users\\gaoxc\\.conda\\envs\\chatglm3-demo\\lib\\site-packages\\torch\\nn\\modules\\loss.py:535: UserWarning: Using a target size (torch.Size([38829, 1, 1])) that is different to the input size (torch.Size([38829, 100, 1])). This will likely lead to incorrect results due to broadcasting. Please ensure they have the same size.\n",
      "  return F.mse_loss(input, target, reduction=self.reduction)\n",
      "c:\\Users\\gaoxc\\.conda\\envs\\chatglm3-demo\\lib\\site-packages\\torch\\nn\\modules\\loss.py:535: UserWarning: Using a target size (torch.Size([9926, 1, 1])) that is different to the input size (torch.Size([9926, 100, 1])). This will likely lead to incorrect results due to broadcasting. Please ensure they have the same size.\n",
      "  return F.mse_loss(input, target, reduction=self.reduction)\n"
     ]
    },
    {
     "name": "stdout",
     "output_type": "stream",
     "text": [
      "Epoch 69: train RMSE 3.3829, test RMSE 1.7492\n",
      "训练时间: 13274.341622591019 秒\n",
      "torch.Size([48637, 100, 1]) torch.Size([48637, 1, 1])\n",
      "torch.Size([9826, 100, 1]) torch.Size([9826, 1, 1])\n"
     ]
    },
    {
     "name": "stderr",
     "output_type": "stream",
     "text": [
      "c:\\Users\\gaoxc\\.conda\\envs\\chatglm3-demo\\lib\\site-packages\\torch\\nn\\modules\\loss.py:535: UserWarning: Using a target size (torch.Size([9728, 1, 1])) that is different to the input size (torch.Size([9728, 100, 1])). This will likely lead to incorrect results due to broadcasting. Please ensure they have the same size.\n",
      "  return F.mse_loss(input, target, reduction=self.reduction)\n"
     ]
    },
    {
     "name": "stdout",
     "output_type": "stream",
     "text": [
      "Early stopping\n"
     ]
    },
    {
     "name": "stderr",
     "output_type": "stream",
     "text": [
      "c:\\Users\\gaoxc\\.conda\\envs\\chatglm3-demo\\lib\\site-packages\\torch\\nn\\modules\\loss.py:535: UserWarning: Using a target size (torch.Size([38909, 1, 1])) that is different to the input size (torch.Size([38909, 100, 1])). This will likely lead to incorrect results due to broadcasting. Please ensure they have the same size.\n",
      "  return F.mse_loss(input, target, reduction=self.reduction)\n",
      "c:\\Users\\gaoxc\\.conda\\envs\\chatglm3-demo\\lib\\site-packages\\torch\\nn\\modules\\loss.py:535: UserWarning: Using a target size (torch.Size([9826, 1, 1])) that is different to the input size (torch.Size([9826, 100, 1])). This will likely lead to incorrect results due to broadcasting. Please ensure they have the same size.\n",
      "  return F.mse_loss(input, target, reduction=self.reduction)\n"
     ]
    },
    {
     "name": "stdout",
     "output_type": "stream",
     "text": [
      "Epoch 100: train RMSE 3.3783, test RMSE 1.7980\n",
      "训练时间: 13440.241420984268 秒\n",
      "torch.Size([48737, 100, 1]) torch.Size([48737, 1, 1])\n",
      "torch.Size([9726, 100, 1]) torch.Size([9726, 1, 1])\n"
     ]
    },
    {
     "name": "stderr",
     "output_type": "stream",
     "text": [
      "c:\\Users\\gaoxc\\.conda\\envs\\chatglm3-demo\\lib\\site-packages\\torch\\nn\\modules\\loss.py:535: UserWarning: Using a target size (torch.Size([9748, 1, 1])) that is different to the input size (torch.Size([9748, 100, 1])). This will likely lead to incorrect results due to broadcasting. Please ensure they have the same size.\n",
      "  return F.mse_loss(input, target, reduction=self.reduction)\n"
     ]
    },
    {
     "name": "stdout",
     "output_type": "stream",
     "text": [
      "Early stopping\n"
     ]
    },
    {
     "name": "stderr",
     "output_type": "stream",
     "text": [
      "c:\\Users\\gaoxc\\.conda\\envs\\chatglm3-demo\\lib\\site-packages\\torch\\nn\\modules\\loss.py:535: UserWarning: Using a target size (torch.Size([38989, 1, 1])) that is different to the input size (torch.Size([38989, 100, 1])). This will likely lead to incorrect results due to broadcasting. Please ensure they have the same size.\n",
      "  return F.mse_loss(input, target, reduction=self.reduction)\n",
      "c:\\Users\\gaoxc\\.conda\\envs\\chatglm3-demo\\lib\\site-packages\\torch\\nn\\modules\\loss.py:535: UserWarning: Using a target size (torch.Size([9726, 1, 1])) that is different to the input size (torch.Size([9726, 100, 1])). This will likely lead to incorrect results due to broadcasting. Please ensure they have the same size.\n",
      "  return F.mse_loss(input, target, reduction=self.reduction)\n"
     ]
    },
    {
     "name": "stdout",
     "output_type": "stream",
     "text": [
      "Epoch 85: train RMSE 3.3733, test RMSE 1.7950\n",
      "训练时间: 13582.618339300156 秒\n",
      "torch.Size([48837, 100, 1]) torch.Size([48837, 1, 1])\n",
      "torch.Size([9626, 100, 1]) torch.Size([9626, 1, 1])\n"
     ]
    },
    {
     "name": "stderr",
     "output_type": "stream",
     "text": [
      "c:\\Users\\gaoxc\\.conda\\envs\\chatglm3-demo\\lib\\site-packages\\torch\\nn\\modules\\loss.py:535: UserWarning: Using a target size (torch.Size([9768, 1, 1])) that is different to the input size (torch.Size([9768, 100, 1])). This will likely lead to incorrect results due to broadcasting. Please ensure they have the same size.\n",
      "  return F.mse_loss(input, target, reduction=self.reduction)\n"
     ]
    },
    {
     "name": "stdout",
     "output_type": "stream",
     "text": [
      "Early stopping\n"
     ]
    },
    {
     "name": "stderr",
     "output_type": "stream",
     "text": [
      "c:\\Users\\gaoxc\\.conda\\envs\\chatglm3-demo\\lib\\site-packages\\torch\\nn\\modules\\loss.py:535: UserWarning: Using a target size (torch.Size([39069, 1, 1])) that is different to the input size (torch.Size([39069, 100, 1])). This will likely lead to incorrect results due to broadcasting. Please ensure they have the same size.\n",
      "  return F.mse_loss(input, target, reduction=self.reduction)\n",
      "c:\\Users\\gaoxc\\.conda\\envs\\chatglm3-demo\\lib\\site-packages\\torch\\nn\\modules\\loss.py:535: UserWarning: Using a target size (torch.Size([9626, 1, 1])) that is different to the input size (torch.Size([9626, 100, 1])). This will likely lead to incorrect results due to broadcasting. Please ensure they have the same size.\n",
      "  return F.mse_loss(input, target, reduction=self.reduction)\n"
     ]
    },
    {
     "name": "stdout",
     "output_type": "stream",
     "text": [
      "Epoch 90: train RMSE 3.3217, test RMSE 1.8006\n",
      "训练时间: 13733.882066249847 秒\n",
      "torch.Size([48937, 100, 1]) torch.Size([48937, 1, 1])\n",
      "torch.Size([9526, 100, 1]) torch.Size([9526, 1, 1])\n"
     ]
    },
    {
     "name": "stderr",
     "output_type": "stream",
     "text": [
      "c:\\Users\\gaoxc\\.conda\\envs\\chatglm3-demo\\lib\\site-packages\\torch\\nn\\modules\\loss.py:535: UserWarning: Using a target size (torch.Size([9788, 1, 1])) that is different to the input size (torch.Size([9788, 100, 1])). This will likely lead to incorrect results due to broadcasting. Please ensure they have the same size.\n",
      "  return F.mse_loss(input, target, reduction=self.reduction)\n"
     ]
    },
    {
     "name": "stdout",
     "output_type": "stream",
     "text": [
      "Early stopping\n"
     ]
    },
    {
     "name": "stderr",
     "output_type": "stream",
     "text": [
      "c:\\Users\\gaoxc\\.conda\\envs\\chatglm3-demo\\lib\\site-packages\\torch\\nn\\modules\\loss.py:535: UserWarning: Using a target size (torch.Size([39149, 1, 1])) that is different to the input size (torch.Size([39149, 100, 1])). This will likely lead to incorrect results due to broadcasting. Please ensure they have the same size.\n",
      "  return F.mse_loss(input, target, reduction=self.reduction)\n",
      "c:\\Users\\gaoxc\\.conda\\envs\\chatglm3-demo\\lib\\site-packages\\torch\\nn\\modules\\loss.py:535: UserWarning: Using a target size (torch.Size([9526, 1, 1])) that is different to the input size (torch.Size([9526, 100, 1])). This will likely lead to incorrect results due to broadcasting. Please ensure they have the same size.\n",
      "  return F.mse_loss(input, target, reduction=self.reduction)\n"
     ]
    },
    {
     "name": "stdout",
     "output_type": "stream",
     "text": [
      "Epoch 58: train RMSE 3.3833, test RMSE 1.7746\n",
      "训练时间: 13833.937881946564 秒\n",
      "torch.Size([49037, 100, 1]) torch.Size([49037, 1, 1])\n",
      "torch.Size([9426, 100, 1]) torch.Size([9426, 1, 1])\n"
     ]
    },
    {
     "name": "stderr",
     "output_type": "stream",
     "text": [
      "c:\\Users\\gaoxc\\.conda\\envs\\chatglm3-demo\\lib\\site-packages\\torch\\nn\\modules\\loss.py:535: UserWarning: Using a target size (torch.Size([9808, 1, 1])) that is different to the input size (torch.Size([9808, 100, 1])). This will likely lead to incorrect results due to broadcasting. Please ensure they have the same size.\n",
      "  return F.mse_loss(input, target, reduction=self.reduction)\n"
     ]
    },
    {
     "name": "stdout",
     "output_type": "stream",
     "text": [
      "Early stopping\n"
     ]
    },
    {
     "name": "stderr",
     "output_type": "stream",
     "text": [
      "c:\\Users\\gaoxc\\.conda\\envs\\chatglm3-demo\\lib\\site-packages\\torch\\nn\\modules\\loss.py:535: UserWarning: Using a target size (torch.Size([39229, 1, 1])) that is different to the input size (torch.Size([39229, 100, 1])). This will likely lead to incorrect results due to broadcasting. Please ensure they have the same size.\n",
      "  return F.mse_loss(input, target, reduction=self.reduction)\n",
      "c:\\Users\\gaoxc\\.conda\\envs\\chatglm3-demo\\lib\\site-packages\\torch\\nn\\modules\\loss.py:535: UserWarning: Using a target size (torch.Size([9426, 1, 1])) that is different to the input size (torch.Size([9426, 100, 1])). This will likely lead to incorrect results due to broadcasting. Please ensure they have the same size.\n",
      "  return F.mse_loss(input, target, reduction=self.reduction)\n"
     ]
    },
    {
     "name": "stdout",
     "output_type": "stream",
     "text": [
      "Epoch 100: train RMSE 3.3585, test RMSE 1.8155\n",
      "训练时间: 14002.262032985687 秒\n",
      "torch.Size([49137, 100, 1]) torch.Size([49137, 1, 1])\n",
      "torch.Size([9326, 100, 1]) torch.Size([9326, 1, 1])\n"
     ]
    },
    {
     "name": "stderr",
     "output_type": "stream",
     "text": [
      "c:\\Users\\gaoxc\\.conda\\envs\\chatglm3-demo\\lib\\site-packages\\torch\\nn\\modules\\loss.py:535: UserWarning: Using a target size (torch.Size([9828, 1, 1])) that is different to the input size (torch.Size([9828, 100, 1])). This will likely lead to incorrect results due to broadcasting. Please ensure they have the same size.\n",
      "  return F.mse_loss(input, target, reduction=self.reduction)\n"
     ]
    },
    {
     "name": "stdout",
     "output_type": "stream",
     "text": [
      "Early stopping\n"
     ]
    },
    {
     "name": "stderr",
     "output_type": "stream",
     "text": [
      "c:\\Users\\gaoxc\\.conda\\envs\\chatglm3-demo\\lib\\site-packages\\torch\\nn\\modules\\loss.py:535: UserWarning: Using a target size (torch.Size([39309, 1, 1])) that is different to the input size (torch.Size([39309, 100, 1])). This will likely lead to incorrect results due to broadcasting. Please ensure they have the same size.\n",
      "  return F.mse_loss(input, target, reduction=self.reduction)\n",
      "c:\\Users\\gaoxc\\.conda\\envs\\chatglm3-demo\\lib\\site-packages\\torch\\nn\\modules\\loss.py:535: UserWarning: Using a target size (torch.Size([9326, 1, 1])) that is different to the input size (torch.Size([9326, 100, 1])). This will likely lead to incorrect results due to broadcasting. Please ensure they have the same size.\n",
      "  return F.mse_loss(input, target, reduction=self.reduction)\n"
     ]
    },
    {
     "name": "stdout",
     "output_type": "stream",
     "text": [
      "Epoch 56: train RMSE 3.3901, test RMSE 1.7734\n",
      "训练时间: 14100.166157722473 秒\n",
      "torch.Size([49237, 100, 1]) torch.Size([49237, 1, 1])\n",
      "torch.Size([9226, 100, 1]) torch.Size([9226, 1, 1])\n"
     ]
    },
    {
     "name": "stderr",
     "output_type": "stream",
     "text": [
      "c:\\Users\\gaoxc\\.conda\\envs\\chatglm3-demo\\lib\\site-packages\\torch\\nn\\modules\\loss.py:535: UserWarning: Using a target size (torch.Size([9848, 1, 1])) that is different to the input size (torch.Size([9848, 100, 1])). This will likely lead to incorrect results due to broadcasting. Please ensure they have the same size.\n",
      "  return F.mse_loss(input, target, reduction=self.reduction)\n"
     ]
    },
    {
     "name": "stdout",
     "output_type": "stream",
     "text": [
      "Early stopping\n"
     ]
    },
    {
     "name": "stderr",
     "output_type": "stream",
     "text": [
      "c:\\Users\\gaoxc\\.conda\\envs\\chatglm3-demo\\lib\\site-packages\\torch\\nn\\modules\\loss.py:535: UserWarning: Using a target size (torch.Size([39389, 1, 1])) that is different to the input size (torch.Size([39389, 100, 1])). This will likely lead to incorrect results due to broadcasting. Please ensure they have the same size.\n",
      "  return F.mse_loss(input, target, reduction=self.reduction)\n",
      "c:\\Users\\gaoxc\\.conda\\envs\\chatglm3-demo\\lib\\site-packages\\torch\\nn\\modules\\loss.py:535: UserWarning: Using a target size (torch.Size([9226, 1, 1])) that is different to the input size (torch.Size([9226, 100, 1])). This will likely lead to incorrect results due to broadcasting. Please ensure they have the same size.\n",
      "  return F.mse_loss(input, target, reduction=self.reduction)\n"
     ]
    },
    {
     "name": "stdout",
     "output_type": "stream",
     "text": [
      "Epoch 59: train RMSE 3.3853, test RMSE 1.7950\n",
      "训练时间: 14202.872010946274 秒\n",
      "torch.Size([49337, 100, 1]) torch.Size([49337, 1, 1])\n",
      "torch.Size([9126, 100, 1]) torch.Size([9126, 1, 1])\n"
     ]
    },
    {
     "name": "stderr",
     "output_type": "stream",
     "text": [
      "c:\\Users\\gaoxc\\.conda\\envs\\chatglm3-demo\\lib\\site-packages\\torch\\nn\\modules\\loss.py:535: UserWarning: Using a target size (torch.Size([9868, 1, 1])) that is different to the input size (torch.Size([9868, 100, 1])). This will likely lead to incorrect results due to broadcasting. Please ensure they have the same size.\n",
      "  return F.mse_loss(input, target, reduction=self.reduction)\n"
     ]
    },
    {
     "name": "stdout",
     "output_type": "stream",
     "text": [
      "Early stopping\n"
     ]
    },
    {
     "name": "stderr",
     "output_type": "stream",
     "text": [
      "c:\\Users\\gaoxc\\.conda\\envs\\chatglm3-demo\\lib\\site-packages\\torch\\nn\\modules\\loss.py:535: UserWarning: Using a target size (torch.Size([39469, 1, 1])) that is different to the input size (torch.Size([39469, 100, 1])). This will likely lead to incorrect results due to broadcasting. Please ensure they have the same size.\n",
      "  return F.mse_loss(input, target, reduction=self.reduction)\n",
      "c:\\Users\\gaoxc\\.conda\\envs\\chatglm3-demo\\lib\\site-packages\\torch\\nn\\modules\\loss.py:535: UserWarning: Using a target size (torch.Size([9126, 1, 1])) that is different to the input size (torch.Size([9126, 100, 1])). This will likely lead to incorrect results due to broadcasting. Please ensure they have the same size.\n",
      "  return F.mse_loss(input, target, reduction=self.reduction)\n"
     ]
    },
    {
     "name": "stdout",
     "output_type": "stream",
     "text": [
      "Epoch 72: train RMSE 3.4369, test RMSE 1.7915\n",
      "训练时间: 14327.900153875351 秒\n",
      "torch.Size([49437, 100, 1]) torch.Size([49437, 1, 1])\n",
      "torch.Size([9026, 100, 1]) torch.Size([9026, 1, 1])\n"
     ]
    },
    {
     "name": "stderr",
     "output_type": "stream",
     "text": [
      "c:\\Users\\gaoxc\\.conda\\envs\\chatglm3-demo\\lib\\site-packages\\torch\\nn\\modules\\loss.py:535: UserWarning: Using a target size (torch.Size([9888, 1, 1])) that is different to the input size (torch.Size([9888, 100, 1])). This will likely lead to incorrect results due to broadcasting. Please ensure they have the same size.\n",
      "  return F.mse_loss(input, target, reduction=self.reduction)\n"
     ]
    },
    {
     "name": "stdout",
     "output_type": "stream",
     "text": [
      "Early stopping\n"
     ]
    },
    {
     "name": "stderr",
     "output_type": "stream",
     "text": [
      "c:\\Users\\gaoxc\\.conda\\envs\\chatglm3-demo\\lib\\site-packages\\torch\\nn\\modules\\loss.py:535: UserWarning: Using a target size (torch.Size([39549, 1, 1])) that is different to the input size (torch.Size([39549, 100, 1])). This will likely lead to incorrect results due to broadcasting. Please ensure they have the same size.\n",
      "  return F.mse_loss(input, target, reduction=self.reduction)\n",
      "c:\\Users\\gaoxc\\.conda\\envs\\chatglm3-demo\\lib\\site-packages\\torch\\nn\\modules\\loss.py:535: UserWarning: Using a target size (torch.Size([9026, 1, 1])) that is different to the input size (torch.Size([9026, 100, 1])). This will likely lead to incorrect results due to broadcasting. Please ensure they have the same size.\n",
      "  return F.mse_loss(input, target, reduction=self.reduction)\n"
     ]
    },
    {
     "name": "stdout",
     "output_type": "stream",
     "text": [
      "Epoch 96: train RMSE 3.3058, test RMSE 1.7898\n",
      "训练时间: 14492.109071969986 秒\n",
      "torch.Size([49537, 100, 1]) torch.Size([49537, 1, 1])\n",
      "torch.Size([8926, 100, 1]) torch.Size([8926, 1, 1])\n"
     ]
    },
    {
     "name": "stderr",
     "output_type": "stream",
     "text": [
      "c:\\Users\\gaoxc\\.conda\\envs\\chatglm3-demo\\lib\\site-packages\\torch\\nn\\modules\\loss.py:535: UserWarning: Using a target size (torch.Size([9908, 1, 1])) that is different to the input size (torch.Size([9908, 100, 1])). This will likely lead to incorrect results due to broadcasting. Please ensure they have the same size.\n",
      "  return F.mse_loss(input, target, reduction=self.reduction)\n"
     ]
    },
    {
     "name": "stdout",
     "output_type": "stream",
     "text": [
      "Early stopping\n"
     ]
    },
    {
     "name": "stderr",
     "output_type": "stream",
     "text": [
      "c:\\Users\\gaoxc\\.conda\\envs\\chatglm3-demo\\lib\\site-packages\\torch\\nn\\modules\\loss.py:535: UserWarning: Using a target size (torch.Size([39629, 1, 1])) that is different to the input size (torch.Size([39629, 100, 1])). This will likely lead to incorrect results due to broadcasting. Please ensure they have the same size.\n",
      "  return F.mse_loss(input, target, reduction=self.reduction)\n",
      "c:\\Users\\gaoxc\\.conda\\envs\\chatglm3-demo\\lib\\site-packages\\torch\\nn\\modules\\loss.py:535: UserWarning: Using a target size (torch.Size([8926, 1, 1])) that is different to the input size (torch.Size([8926, 100, 1])). This will likely lead to incorrect results due to broadcasting. Please ensure they have the same size.\n",
      "  return F.mse_loss(input, target, reduction=self.reduction)\n"
     ]
    },
    {
     "name": "stdout",
     "output_type": "stream",
     "text": [
      "Epoch 105: train RMSE 3.3557, test RMSE 1.8157\n",
      "训练时间: 14670.48146533966 秒\n",
      "torch.Size([49637, 100, 1]) torch.Size([49637, 1, 1])\n",
      "torch.Size([8826, 100, 1]) torch.Size([8826, 1, 1])\n"
     ]
    },
    {
     "name": "stderr",
     "output_type": "stream",
     "text": [
      "c:\\Users\\gaoxc\\.conda\\envs\\chatglm3-demo\\lib\\site-packages\\torch\\nn\\modules\\loss.py:535: UserWarning: Using a target size (torch.Size([9928, 1, 1])) that is different to the input size (torch.Size([9928, 100, 1])). This will likely lead to incorrect results due to broadcasting. Please ensure they have the same size.\n",
      "  return F.mse_loss(input, target, reduction=self.reduction)\n"
     ]
    },
    {
     "name": "stdout",
     "output_type": "stream",
     "text": [
      "Early stopping\n"
     ]
    },
    {
     "name": "stderr",
     "output_type": "stream",
     "text": [
      "c:\\Users\\gaoxc\\.conda\\envs\\chatglm3-demo\\lib\\site-packages\\torch\\nn\\modules\\loss.py:535: UserWarning: Using a target size (torch.Size([39709, 1, 1])) that is different to the input size (torch.Size([39709, 100, 1])). This will likely lead to incorrect results due to broadcasting. Please ensure they have the same size.\n",
      "  return F.mse_loss(input, target, reduction=self.reduction)\n",
      "c:\\Users\\gaoxc\\.conda\\envs\\chatglm3-demo\\lib\\site-packages\\torch\\nn\\modules\\loss.py:535: UserWarning: Using a target size (torch.Size([8826, 1, 1])) that is different to the input size (torch.Size([8826, 100, 1])). This will likely lead to incorrect results due to broadcasting. Please ensure they have the same size.\n",
      "  return F.mse_loss(input, target, reduction=self.reduction)\n"
     ]
    },
    {
     "name": "stdout",
     "output_type": "stream",
     "text": [
      "Epoch 86: train RMSE 3.3070, test RMSE 1.8001\n",
      "训练时间: 14819.403797626495 秒\n",
      "torch.Size([49737, 100, 1]) torch.Size([49737, 1, 1])\n",
      "torch.Size([8726, 100, 1]) torch.Size([8726, 1, 1])\n"
     ]
    },
    {
     "name": "stderr",
     "output_type": "stream",
     "text": [
      "c:\\Users\\gaoxc\\.conda\\envs\\chatglm3-demo\\lib\\site-packages\\torch\\nn\\modules\\loss.py:535: UserWarning: Using a target size (torch.Size([9948, 1, 1])) that is different to the input size (torch.Size([9948, 100, 1])). This will likely lead to incorrect results due to broadcasting. Please ensure they have the same size.\n",
      "  return F.mse_loss(input, target, reduction=self.reduction)\n"
     ]
    },
    {
     "name": "stdout",
     "output_type": "stream",
     "text": [
      "Early stopping\n"
     ]
    },
    {
     "name": "stderr",
     "output_type": "stream",
     "text": [
      "c:\\Users\\gaoxc\\.conda\\envs\\chatglm3-demo\\lib\\site-packages\\torch\\nn\\modules\\loss.py:535: UserWarning: Using a target size (torch.Size([39789, 1, 1])) that is different to the input size (torch.Size([39789, 100, 1])). This will likely lead to incorrect results due to broadcasting. Please ensure they have the same size.\n",
      "  return F.mse_loss(input, target, reduction=self.reduction)\n",
      "c:\\Users\\gaoxc\\.conda\\envs\\chatglm3-demo\\lib\\site-packages\\torch\\nn\\modules\\loss.py:535: UserWarning: Using a target size (torch.Size([8726, 1, 1])) that is different to the input size (torch.Size([8726, 100, 1])). This will likely lead to incorrect results due to broadcasting. Please ensure they have the same size.\n",
      "  return F.mse_loss(input, target, reduction=self.reduction)\n"
     ]
    },
    {
     "name": "stdout",
     "output_type": "stream",
     "text": [
      "Epoch 53: train RMSE 3.3330, test RMSE 1.8001\n",
      "训练时间: 14913.586575508118 秒\n",
      "torch.Size([49837, 100, 1]) torch.Size([49837, 1, 1])\n",
      "torch.Size([8626, 100, 1]) torch.Size([8626, 1, 1])\n"
     ]
    },
    {
     "name": "stderr",
     "output_type": "stream",
     "text": [
      "c:\\Users\\gaoxc\\.conda\\envs\\chatglm3-demo\\lib\\site-packages\\torch\\nn\\modules\\loss.py:535: UserWarning: Using a target size (torch.Size([9968, 1, 1])) that is different to the input size (torch.Size([9968, 100, 1])). This will likely lead to incorrect results due to broadcasting. Please ensure they have the same size.\n",
      "  return F.mse_loss(input, target, reduction=self.reduction)\n"
     ]
    },
    {
     "name": "stdout",
     "output_type": "stream",
     "text": [
      "Early stopping\n"
     ]
    },
    {
     "name": "stderr",
     "output_type": "stream",
     "text": [
      "c:\\Users\\gaoxc\\.conda\\envs\\chatglm3-demo\\lib\\site-packages\\torch\\nn\\modules\\loss.py:535: UserWarning: Using a target size (torch.Size([39869, 1, 1])) that is different to the input size (torch.Size([39869, 100, 1])). This will likely lead to incorrect results due to broadcasting. Please ensure they have the same size.\n",
      "  return F.mse_loss(input, target, reduction=self.reduction)\n",
      "c:\\Users\\gaoxc\\.conda\\envs\\chatglm3-demo\\lib\\site-packages\\torch\\nn\\modules\\loss.py:535: UserWarning: Using a target size (torch.Size([8626, 1, 1])) that is different to the input size (torch.Size([8626, 100, 1])). This will likely lead to incorrect results due to broadcasting. Please ensure they have the same size.\n",
      "  return F.mse_loss(input, target, reduction=self.reduction)\n"
     ]
    },
    {
     "name": "stdout",
     "output_type": "stream",
     "text": [
      "Epoch 97: train RMSE 3.2260, test RMSE 1.8060\n",
      "训练时间: 15080.545093536377 秒\n",
      "torch.Size([49937, 100, 1]) torch.Size([49937, 1, 1])\n",
      "torch.Size([8526, 100, 1]) torch.Size([8526, 1, 1])\n"
     ]
    },
    {
     "name": "stderr",
     "output_type": "stream",
     "text": [
      "c:\\Users\\gaoxc\\.conda\\envs\\chatglm3-demo\\lib\\site-packages\\torch\\nn\\modules\\loss.py:535: UserWarning: Using a target size (torch.Size([9988, 1, 1])) that is different to the input size (torch.Size([9988, 100, 1])). This will likely lead to incorrect results due to broadcasting. Please ensure they have the same size.\n",
      "  return F.mse_loss(input, target, reduction=self.reduction)\n"
     ]
    },
    {
     "name": "stdout",
     "output_type": "stream",
     "text": [
      "Early stopping\n"
     ]
    },
    {
     "name": "stderr",
     "output_type": "stream",
     "text": [
      "c:\\Users\\gaoxc\\.conda\\envs\\chatglm3-demo\\lib\\site-packages\\torch\\nn\\modules\\loss.py:535: UserWarning: Using a target size (torch.Size([39949, 1, 1])) that is different to the input size (torch.Size([39949, 100, 1])). This will likely lead to incorrect results due to broadcasting. Please ensure they have the same size.\n",
      "  return F.mse_loss(input, target, reduction=self.reduction)\n",
      "c:\\Users\\gaoxc\\.conda\\envs\\chatglm3-demo\\lib\\site-packages\\torch\\nn\\modules\\loss.py:535: UserWarning: Using a target size (torch.Size([8526, 1, 1])) that is different to the input size (torch.Size([8526, 100, 1])). This will likely lead to incorrect results due to broadcasting. Please ensure they have the same size.\n",
      "  return F.mse_loss(input, target, reduction=self.reduction)\n"
     ]
    },
    {
     "name": "stdout",
     "output_type": "stream",
     "text": [
      "Epoch 111: train RMSE 3.3013, test RMSE 1.8200\n",
      "训练时间: 15271.907036304474 秒\n",
      "torch.Size([50037, 100, 1]) torch.Size([50037, 1, 1])\n",
      "torch.Size([8426, 100, 1]) torch.Size([8426, 1, 1])\n"
     ]
    },
    {
     "name": "stderr",
     "output_type": "stream",
     "text": [
      "c:\\Users\\gaoxc\\.conda\\envs\\chatglm3-demo\\lib\\site-packages\\torch\\nn\\modules\\loss.py:535: UserWarning: Using a target size (torch.Size([10008, 1, 1])) that is different to the input size (torch.Size([10008, 100, 1])). This will likely lead to incorrect results due to broadcasting. Please ensure they have the same size.\n",
      "  return F.mse_loss(input, target, reduction=self.reduction)\n"
     ]
    },
    {
     "name": "stdout",
     "output_type": "stream",
     "text": [
      "Early stopping\n"
     ]
    },
    {
     "name": "stderr",
     "output_type": "stream",
     "text": [
      "c:\\Users\\gaoxc\\.conda\\envs\\chatglm3-demo\\lib\\site-packages\\torch\\nn\\modules\\loss.py:535: UserWarning: Using a target size (torch.Size([40029, 1, 1])) that is different to the input size (torch.Size([40029, 100, 1])). This will likely lead to incorrect results due to broadcasting. Please ensure they have the same size.\n",
      "  return F.mse_loss(input, target, reduction=self.reduction)\n",
      "c:\\Users\\gaoxc\\.conda\\envs\\chatglm3-demo\\lib\\site-packages\\torch\\nn\\modules\\loss.py:535: UserWarning: Using a target size (torch.Size([8426, 1, 1])) that is different to the input size (torch.Size([8426, 100, 1])). This will likely lead to incorrect results due to broadcasting. Please ensure they have the same size.\n",
      "  return F.mse_loss(input, target, reduction=self.reduction)\n"
     ]
    },
    {
     "name": "stdout",
     "output_type": "stream",
     "text": [
      "Epoch 59: train RMSE 3.3836, test RMSE 1.8213\n",
      "训练时间: 15377.349347829819 秒\n",
      "torch.Size([50137, 100, 1]) torch.Size([50137, 1, 1])\n",
      "torch.Size([8326, 100, 1]) torch.Size([8326, 1, 1])\n"
     ]
    },
    {
     "name": "stderr",
     "output_type": "stream",
     "text": [
      "c:\\Users\\gaoxc\\.conda\\envs\\chatglm3-demo\\lib\\site-packages\\torch\\nn\\modules\\loss.py:535: UserWarning: Using a target size (torch.Size([10028, 1, 1])) that is different to the input size (torch.Size([10028, 100, 1])). This will likely lead to incorrect results due to broadcasting. Please ensure they have the same size.\n",
      "  return F.mse_loss(input, target, reduction=self.reduction)\n"
     ]
    },
    {
     "name": "stdout",
     "output_type": "stream",
     "text": [
      "Early stopping\n"
     ]
    },
    {
     "name": "stderr",
     "output_type": "stream",
     "text": [
      "c:\\Users\\gaoxc\\.conda\\envs\\chatglm3-demo\\lib\\site-packages\\torch\\nn\\modules\\loss.py:535: UserWarning: Using a target size (torch.Size([40109, 1, 1])) that is different to the input size (torch.Size([40109, 100, 1])). This will likely lead to incorrect results due to broadcasting. Please ensure they have the same size.\n",
      "  return F.mse_loss(input, target, reduction=self.reduction)\n",
      "c:\\Users\\gaoxc\\.conda\\envs\\chatglm3-demo\\lib\\site-packages\\torch\\nn\\modules\\loss.py:535: UserWarning: Using a target size (torch.Size([8326, 1, 1])) that is different to the input size (torch.Size([8326, 100, 1])). This will likely lead to incorrect results due to broadcasting. Please ensure they have the same size.\n",
      "  return F.mse_loss(input, target, reduction=self.reduction)\n"
     ]
    },
    {
     "name": "stdout",
     "output_type": "stream",
     "text": [
      "Epoch 96: train RMSE 3.2898, test RMSE 1.8208\n",
      "训练时间: 15545.244469881058 秒\n",
      "torch.Size([50237, 100, 1]) torch.Size([50237, 1, 1])\n",
      "torch.Size([8226, 100, 1]) torch.Size([8226, 1, 1])\n"
     ]
    },
    {
     "name": "stderr",
     "output_type": "stream",
     "text": [
      "c:\\Users\\gaoxc\\.conda\\envs\\chatglm3-demo\\lib\\site-packages\\torch\\nn\\modules\\loss.py:535: UserWarning: Using a target size (torch.Size([10048, 1, 1])) that is different to the input size (torch.Size([10048, 100, 1])). This will likely lead to incorrect results due to broadcasting. Please ensure they have the same size.\n",
      "  return F.mse_loss(input, target, reduction=self.reduction)\n"
     ]
    },
    {
     "name": "stdout",
     "output_type": "stream",
     "text": [
      "Early stopping\n"
     ]
    },
    {
     "name": "stderr",
     "output_type": "stream",
     "text": [
      "c:\\Users\\gaoxc\\.conda\\envs\\chatglm3-demo\\lib\\site-packages\\torch\\nn\\modules\\loss.py:535: UserWarning: Using a target size (torch.Size([40189, 1, 1])) that is different to the input size (torch.Size([40189, 100, 1])). This will likely lead to incorrect results due to broadcasting. Please ensure they have the same size.\n",
      "  return F.mse_loss(input, target, reduction=self.reduction)\n",
      "c:\\Users\\gaoxc\\.conda\\envs\\chatglm3-demo\\lib\\site-packages\\torch\\nn\\modules\\loss.py:535: UserWarning: Using a target size (torch.Size([8226, 1, 1])) that is different to the input size (torch.Size([8226, 100, 1])). This will likely lead to incorrect results due to broadcasting. Please ensure they have the same size.\n",
      "  return F.mse_loss(input, target, reduction=self.reduction)\n"
     ]
    },
    {
     "name": "stdout",
     "output_type": "stream",
     "text": [
      "Epoch 84: train RMSE 3.3134, test RMSE 1.8397\n",
      "训练时间: 15692.6276948452 秒\n",
      "torch.Size([50337, 100, 1]) torch.Size([50337, 1, 1])\n",
      "torch.Size([8126, 100, 1]) torch.Size([8126, 1, 1])\n"
     ]
    },
    {
     "name": "stderr",
     "output_type": "stream",
     "text": [
      "c:\\Users\\gaoxc\\.conda\\envs\\chatglm3-demo\\lib\\site-packages\\torch\\nn\\modules\\loss.py:535: UserWarning: Using a target size (torch.Size([10068, 1, 1])) that is different to the input size (torch.Size([10068, 100, 1])). This will likely lead to incorrect results due to broadcasting. Please ensure they have the same size.\n",
      "  return F.mse_loss(input, target, reduction=self.reduction)\n"
     ]
    },
    {
     "name": "stdout",
     "output_type": "stream",
     "text": [
      "Early stopping\n"
     ]
    },
    {
     "name": "stderr",
     "output_type": "stream",
     "text": [
      "c:\\Users\\gaoxc\\.conda\\envs\\chatglm3-demo\\lib\\site-packages\\torch\\nn\\modules\\loss.py:535: UserWarning: Using a target size (torch.Size([40269, 1, 1])) that is different to the input size (torch.Size([40269, 100, 1])). This will likely lead to incorrect results due to broadcasting. Please ensure they have the same size.\n",
      "  return F.mse_loss(input, target, reduction=self.reduction)\n",
      "c:\\Users\\gaoxc\\.conda\\envs\\chatglm3-demo\\lib\\site-packages\\torch\\nn\\modules\\loss.py:535: UserWarning: Using a target size (torch.Size([8126, 1, 1])) that is different to the input size (torch.Size([8126, 100, 1])). This will likely lead to incorrect results due to broadcasting. Please ensure they have the same size.\n",
      "  return F.mse_loss(input, target, reduction=self.reduction)\n"
     ]
    },
    {
     "name": "stdout",
     "output_type": "stream",
     "text": [
      "Epoch 37: train RMSE 3.4477, test RMSE 1.8316\n",
      "训练时间: 15761.798500299454 秒\n",
      "torch.Size([50437, 100, 1]) torch.Size([50437, 1, 1])\n",
      "torch.Size([8026, 100, 1]) torch.Size([8026, 1, 1])\n"
     ]
    },
    {
     "name": "stderr",
     "output_type": "stream",
     "text": [
      "c:\\Users\\gaoxc\\.conda\\envs\\chatglm3-demo\\lib\\site-packages\\torch\\nn\\modules\\loss.py:535: UserWarning: Using a target size (torch.Size([10088, 1, 1])) that is different to the input size (torch.Size([10088, 100, 1])). This will likely lead to incorrect results due to broadcasting. Please ensure they have the same size.\n",
      "  return F.mse_loss(input, target, reduction=self.reduction)\n"
     ]
    },
    {
     "name": "stdout",
     "output_type": "stream",
     "text": [
      "Early stopping\n"
     ]
    },
    {
     "name": "stderr",
     "output_type": "stream",
     "text": [
      "c:\\Users\\gaoxc\\.conda\\envs\\chatglm3-demo\\lib\\site-packages\\torch\\nn\\modules\\loss.py:535: UserWarning: Using a target size (torch.Size([40349, 1, 1])) that is different to the input size (torch.Size([40349, 100, 1])). This will likely lead to incorrect results due to broadcasting. Please ensure they have the same size.\n",
      "  return F.mse_loss(input, target, reduction=self.reduction)\n",
      "c:\\Users\\gaoxc\\.conda\\envs\\chatglm3-demo\\lib\\site-packages\\torch\\nn\\modules\\loss.py:535: UserWarning: Using a target size (torch.Size([8026, 1, 1])) that is different to the input size (torch.Size([8026, 100, 1])). This will likely lead to incorrect results due to broadcasting. Please ensure they have the same size.\n",
      "  return F.mse_loss(input, target, reduction=self.reduction)\n"
     ]
    },
    {
     "name": "stdout",
     "output_type": "stream",
     "text": [
      "Epoch 74: train RMSE 3.2578, test RMSE 1.8718\n",
      "训练时间: 15893.736533641815 秒\n",
      "torch.Size([50537, 100, 1]) torch.Size([50537, 1, 1])\n",
      "torch.Size([7926, 100, 1]) torch.Size([7926, 1, 1])\n"
     ]
    },
    {
     "name": "stderr",
     "output_type": "stream",
     "text": [
      "c:\\Users\\gaoxc\\.conda\\envs\\chatglm3-demo\\lib\\site-packages\\torch\\nn\\modules\\loss.py:535: UserWarning: Using a target size (torch.Size([10108, 1, 1])) that is different to the input size (torch.Size([10108, 100, 1])). This will likely lead to incorrect results due to broadcasting. Please ensure they have the same size.\n",
      "  return F.mse_loss(input, target, reduction=self.reduction)\n"
     ]
    },
    {
     "name": "stdout",
     "output_type": "stream",
     "text": [
      "Early stopping\n"
     ]
    },
    {
     "name": "stderr",
     "output_type": "stream",
     "text": [
      "c:\\Users\\gaoxc\\.conda\\envs\\chatglm3-demo\\lib\\site-packages\\torch\\nn\\modules\\loss.py:535: UserWarning: Using a target size (torch.Size([40429, 1, 1])) that is different to the input size (torch.Size([40429, 100, 1])). This will likely lead to incorrect results due to broadcasting. Please ensure they have the same size.\n",
      "  return F.mse_loss(input, target, reduction=self.reduction)\n",
      "c:\\Users\\gaoxc\\.conda\\envs\\chatglm3-demo\\lib\\site-packages\\torch\\nn\\modules\\loss.py:535: UserWarning: Using a target size (torch.Size([7926, 1, 1])) that is different to the input size (torch.Size([7926, 100, 1])). This will likely lead to incorrect results due to broadcasting. Please ensure they have the same size.\n",
      "  return F.mse_loss(input, target, reduction=self.reduction)\n"
     ]
    },
    {
     "name": "stdout",
     "output_type": "stream",
     "text": [
      "Epoch 94: train RMSE 3.2809, test RMSE 1.7349\n",
      "训练时间: 16059.149092912674 秒\n",
      "torch.Size([50637, 100, 1]) torch.Size([50637, 1, 1])\n",
      "torch.Size([7826, 100, 1]) torch.Size([7826, 1, 1])\n"
     ]
    },
    {
     "name": "stderr",
     "output_type": "stream",
     "text": [
      "c:\\Users\\gaoxc\\.conda\\envs\\chatglm3-demo\\lib\\site-packages\\torch\\nn\\modules\\loss.py:535: UserWarning: Using a target size (torch.Size([10128, 1, 1])) that is different to the input size (torch.Size([10128, 100, 1])). This will likely lead to incorrect results due to broadcasting. Please ensure they have the same size.\n",
      "  return F.mse_loss(input, target, reduction=self.reduction)\n"
     ]
    },
    {
     "name": "stdout",
     "output_type": "stream",
     "text": [
      "Early stopping\n"
     ]
    },
    {
     "name": "stderr",
     "output_type": "stream",
     "text": [
      "c:\\Users\\gaoxc\\.conda\\envs\\chatglm3-demo\\lib\\site-packages\\torch\\nn\\modules\\loss.py:535: UserWarning: Using a target size (torch.Size([40509, 1, 1])) that is different to the input size (torch.Size([40509, 100, 1])). This will likely lead to incorrect results due to broadcasting. Please ensure they have the same size.\n",
      "  return F.mse_loss(input, target, reduction=self.reduction)\n",
      "c:\\Users\\gaoxc\\.conda\\envs\\chatglm3-demo\\lib\\site-packages\\torch\\nn\\modules\\loss.py:535: UserWarning: Using a target size (torch.Size([7826, 1, 1])) that is different to the input size (torch.Size([7826, 100, 1])). This will likely lead to incorrect results due to broadcasting. Please ensure they have the same size.\n",
      "  return F.mse_loss(input, target, reduction=self.reduction)\n"
     ]
    },
    {
     "name": "stdout",
     "output_type": "stream",
     "text": [
      "Epoch 75: train RMSE 3.3754, test RMSE 1.7240\n",
      "训练时间: 16193.469830989838 秒\n",
      "torch.Size([50737, 100, 1]) torch.Size([50737, 1, 1])\n",
      "torch.Size([7726, 100, 1]) torch.Size([7726, 1, 1])\n"
     ]
    },
    {
     "name": "stderr",
     "output_type": "stream",
     "text": [
      "c:\\Users\\gaoxc\\.conda\\envs\\chatglm3-demo\\lib\\site-packages\\torch\\nn\\modules\\loss.py:535: UserWarning: Using a target size (torch.Size([10148, 1, 1])) that is different to the input size (torch.Size([10148, 100, 1])). This will likely lead to incorrect results due to broadcasting. Please ensure they have the same size.\n",
      "  return F.mse_loss(input, target, reduction=self.reduction)\n"
     ]
    },
    {
     "name": "stdout",
     "output_type": "stream",
     "text": [
      "Early stopping\n"
     ]
    },
    {
     "name": "stderr",
     "output_type": "stream",
     "text": [
      "c:\\Users\\gaoxc\\.conda\\envs\\chatglm3-demo\\lib\\site-packages\\torch\\nn\\modules\\loss.py:535: UserWarning: Using a target size (torch.Size([40589, 1, 1])) that is different to the input size (torch.Size([40589, 100, 1])). This will likely lead to incorrect results due to broadcasting. Please ensure they have the same size.\n",
      "  return F.mse_loss(input, target, reduction=self.reduction)\n",
      "c:\\Users\\gaoxc\\.conda\\envs\\chatglm3-demo\\lib\\site-packages\\torch\\nn\\modules\\loss.py:535: UserWarning: Using a target size (torch.Size([7726, 1, 1])) that is different to the input size (torch.Size([7726, 100, 1])). This will likely lead to incorrect results due to broadcasting. Please ensure they have the same size.\n",
      "  return F.mse_loss(input, target, reduction=self.reduction)\n"
     ]
    },
    {
     "name": "stdout",
     "output_type": "stream",
     "text": [
      "Epoch 76: train RMSE 3.2231, test RMSE 1.7238\n",
      "训练时间: 29270.336624622345 秒\n",
      "torch.Size([50837, 100, 1]) torch.Size([50837, 1, 1])\n",
      "torch.Size([7626, 100, 1]) torch.Size([7626, 1, 1])\n"
     ]
    },
    {
     "name": "stderr",
     "output_type": "stream",
     "text": [
      "c:\\Users\\gaoxc\\.conda\\envs\\chatglm3-demo\\lib\\site-packages\\torch\\nn\\modules\\loss.py:535: UserWarning: Using a target size (torch.Size([10168, 1, 1])) that is different to the input size (torch.Size([10168, 100, 1])). This will likely lead to incorrect results due to broadcasting. Please ensure they have the same size.\n",
      "  return F.mse_loss(input, target, reduction=self.reduction)\n"
     ]
    },
    {
     "name": "stdout",
     "output_type": "stream",
     "text": [
      "Early stopping\n"
     ]
    },
    {
     "name": "stderr",
     "output_type": "stream",
     "text": [
      "c:\\Users\\gaoxc\\.conda\\envs\\chatglm3-demo\\lib\\site-packages\\torch\\nn\\modules\\loss.py:535: UserWarning: Using a target size (torch.Size([40669, 1, 1])) that is different to the input size (torch.Size([40669, 100, 1])). This will likely lead to incorrect results due to broadcasting. Please ensure they have the same size.\n",
      "  return F.mse_loss(input, target, reduction=self.reduction)\n",
      "c:\\Users\\gaoxc\\.conda\\envs\\chatglm3-demo\\lib\\site-packages\\torch\\nn\\modules\\loss.py:535: UserWarning: Using a target size (torch.Size([7626, 1, 1])) that is different to the input size (torch.Size([7626, 100, 1])). This will likely lead to incorrect results due to broadcasting. Please ensure they have the same size.\n",
      "  return F.mse_loss(input, target, reduction=self.reduction)\n"
     ]
    },
    {
     "name": "stdout",
     "output_type": "stream",
     "text": [
      "Epoch 101: train RMSE 3.3489, test RMSE 1.7068\n",
      "训练时间: 29459.447580575943 秒\n",
      "torch.Size([50937, 100, 1]) torch.Size([50937, 1, 1])\n",
      "torch.Size([7526, 100, 1]) torch.Size([7526, 1, 1])\n"
     ]
    },
    {
     "name": "stderr",
     "output_type": "stream",
     "text": [
      "c:\\Users\\gaoxc\\.conda\\envs\\chatglm3-demo\\lib\\site-packages\\torch\\nn\\modules\\loss.py:535: UserWarning: Using a target size (torch.Size([10188, 1, 1])) that is different to the input size (torch.Size([10188, 100, 1])). This will likely lead to incorrect results due to broadcasting. Please ensure they have the same size.\n",
      "  return F.mse_loss(input, target, reduction=self.reduction)\n"
     ]
    },
    {
     "name": "stdout",
     "output_type": "stream",
     "text": [
      "Early stopping\n"
     ]
    },
    {
     "name": "stderr",
     "output_type": "stream",
     "text": [
      "c:\\Users\\gaoxc\\.conda\\envs\\chatglm3-demo\\lib\\site-packages\\torch\\nn\\modules\\loss.py:535: UserWarning: Using a target size (torch.Size([40749, 1, 1])) that is different to the input size (torch.Size([40749, 100, 1])). This will likely lead to incorrect results due to broadcasting. Please ensure they have the same size.\n",
      "  return F.mse_loss(input, target, reduction=self.reduction)\n",
      "c:\\Users\\gaoxc\\.conda\\envs\\chatglm3-demo\\lib\\site-packages\\torch\\nn\\modules\\loss.py:535: UserWarning: Using a target size (torch.Size([7526, 1, 1])) that is different to the input size (torch.Size([7526, 100, 1])). This will likely lead to incorrect results due to broadcasting. Please ensure they have the same size.\n",
      "  return F.mse_loss(input, target, reduction=self.reduction)\n"
     ]
    },
    {
     "name": "stdout",
     "output_type": "stream",
     "text": [
      "Epoch 113: train RMSE 3.2969, test RMSE 1.7337\n",
      "训练时间: 29669.252898454666 秒\n",
      "torch.Size([51037, 100, 1]) torch.Size([51037, 1, 1])\n",
      "torch.Size([7426, 100, 1]) torch.Size([7426, 1, 1])\n"
     ]
    },
    {
     "name": "stderr",
     "output_type": "stream",
     "text": [
      "c:\\Users\\gaoxc\\.conda\\envs\\chatglm3-demo\\lib\\site-packages\\torch\\nn\\modules\\loss.py:535: UserWarning: Using a target size (torch.Size([10208, 1, 1])) that is different to the input size (torch.Size([10208, 100, 1])). This will likely lead to incorrect results due to broadcasting. Please ensure they have the same size.\n",
      "  return F.mse_loss(input, target, reduction=self.reduction)\n"
     ]
    },
    {
     "name": "stdout",
     "output_type": "stream",
     "text": [
      "Early stopping\n"
     ]
    },
    {
     "name": "stderr",
     "output_type": "stream",
     "text": [
      "c:\\Users\\gaoxc\\.conda\\envs\\chatglm3-demo\\lib\\site-packages\\torch\\nn\\modules\\loss.py:535: UserWarning: Using a target size (torch.Size([40829, 1, 1])) that is different to the input size (torch.Size([40829, 100, 1])). This will likely lead to incorrect results due to broadcasting. Please ensure they have the same size.\n",
      "  return F.mse_loss(input, target, reduction=self.reduction)\n",
      "c:\\Users\\gaoxc\\.conda\\envs\\chatglm3-demo\\lib\\site-packages\\torch\\nn\\modules\\loss.py:535: UserWarning: Using a target size (torch.Size([7426, 1, 1])) that is different to the input size (torch.Size([7426, 100, 1])). This will likely lead to incorrect results due to broadcasting. Please ensure they have the same size.\n",
      "  return F.mse_loss(input, target, reduction=self.reduction)\n"
     ]
    },
    {
     "name": "stdout",
     "output_type": "stream",
     "text": [
      "Epoch 112: train RMSE 3.3046, test RMSE 1.7275\n",
      "训练时间: 29885.71702504158 秒\n",
      "torch.Size([51137, 100, 1]) torch.Size([51137, 1, 1])\n",
      "torch.Size([7326, 100, 1]) torch.Size([7326, 1, 1])\n"
     ]
    },
    {
     "name": "stderr",
     "output_type": "stream",
     "text": [
      "c:\\Users\\gaoxc\\.conda\\envs\\chatglm3-demo\\lib\\site-packages\\torch\\nn\\modules\\loss.py:535: UserWarning: Using a target size (torch.Size([10228, 1, 1])) that is different to the input size (torch.Size([10228, 100, 1])). This will likely lead to incorrect results due to broadcasting. Please ensure they have the same size.\n",
      "  return F.mse_loss(input, target, reduction=self.reduction)\n"
     ]
    },
    {
     "name": "stdout",
     "output_type": "stream",
     "text": [
      "Early stopping\n"
     ]
    },
    {
     "name": "stderr",
     "output_type": "stream",
     "text": [
      "c:\\Users\\gaoxc\\.conda\\envs\\chatglm3-demo\\lib\\site-packages\\torch\\nn\\modules\\loss.py:535: UserWarning: Using a target size (torch.Size([40909, 1, 1])) that is different to the input size (torch.Size([40909, 100, 1])). This will likely lead to incorrect results due to broadcasting. Please ensure they have the same size.\n",
      "  return F.mse_loss(input, target, reduction=self.reduction)\n",
      "c:\\Users\\gaoxc\\.conda\\envs\\chatglm3-demo\\lib\\site-packages\\torch\\nn\\modules\\loss.py:535: UserWarning: Using a target size (torch.Size([7326, 1, 1])) that is different to the input size (torch.Size([7326, 100, 1])). This will likely lead to incorrect results due to broadcasting. Please ensure they have the same size.\n",
      "  return F.mse_loss(input, target, reduction=self.reduction)\n"
     ]
    },
    {
     "name": "stdout",
     "output_type": "stream",
     "text": [
      "Epoch 82: train RMSE 3.3327, test RMSE 1.7266\n",
      "训练时间: 30043.741270542145 秒\n",
      "torch.Size([51237, 100, 1]) torch.Size([51237, 1, 1])\n",
      "torch.Size([7226, 100, 1]) torch.Size([7226, 1, 1])\n"
     ]
    },
    {
     "name": "stderr",
     "output_type": "stream",
     "text": [
      "c:\\Users\\gaoxc\\.conda\\envs\\chatglm3-demo\\lib\\site-packages\\torch\\nn\\modules\\loss.py:535: UserWarning: Using a target size (torch.Size([10248, 1, 1])) that is different to the input size (torch.Size([10248, 100, 1])). This will likely lead to incorrect results due to broadcasting. Please ensure they have the same size.\n",
      "  return F.mse_loss(input, target, reduction=self.reduction)\n"
     ]
    },
    {
     "name": "stdout",
     "output_type": "stream",
     "text": [
      "Early stopping\n"
     ]
    },
    {
     "name": "stderr",
     "output_type": "stream",
     "text": [
      "c:\\Users\\gaoxc\\.conda\\envs\\chatglm3-demo\\lib\\site-packages\\torch\\nn\\modules\\loss.py:535: UserWarning: Using a target size (torch.Size([40989, 1, 1])) that is different to the input size (torch.Size([40989, 100, 1])). This will likely lead to incorrect results due to broadcasting. Please ensure they have the same size.\n",
      "  return F.mse_loss(input, target, reduction=self.reduction)\n",
      "c:\\Users\\gaoxc\\.conda\\envs\\chatglm3-demo\\lib\\site-packages\\torch\\nn\\modules\\loss.py:535: UserWarning: Using a target size (torch.Size([7226, 1, 1])) that is different to the input size (torch.Size([7226, 100, 1])). This will likely lead to incorrect results due to broadcasting. Please ensure they have the same size.\n",
      "  return F.mse_loss(input, target, reduction=self.reduction)\n"
     ]
    },
    {
     "name": "stdout",
     "output_type": "stream",
     "text": [
      "Epoch 77: train RMSE 3.2972, test RMSE 1.7516\n",
      "训练时间: 30197.26123046875 秒\n",
      "torch.Size([51337, 100, 1]) torch.Size([51337, 1, 1])\n",
      "torch.Size([7126, 100, 1]) torch.Size([7126, 1, 1])\n"
     ]
    },
    {
     "name": "stderr",
     "output_type": "stream",
     "text": [
      "c:\\Users\\gaoxc\\.conda\\envs\\chatglm3-demo\\lib\\site-packages\\torch\\nn\\modules\\loss.py:535: UserWarning: Using a target size (torch.Size([10268, 1, 1])) that is different to the input size (torch.Size([10268, 100, 1])). This will likely lead to incorrect results due to broadcasting. Please ensure they have the same size.\n",
      "  return F.mse_loss(input, target, reduction=self.reduction)\n"
     ]
    },
    {
     "name": "stdout",
     "output_type": "stream",
     "text": [
      "Early stopping\n"
     ]
    },
    {
     "name": "stderr",
     "output_type": "stream",
     "text": [
      "c:\\Users\\gaoxc\\.conda\\envs\\chatglm3-demo\\lib\\site-packages\\torch\\nn\\modules\\loss.py:535: UserWarning: Using a target size (torch.Size([41069, 1, 1])) that is different to the input size (torch.Size([41069, 100, 1])). This will likely lead to incorrect results due to broadcasting. Please ensure they have the same size.\n",
      "  return F.mse_loss(input, target, reduction=self.reduction)\n",
      "c:\\Users\\gaoxc\\.conda\\envs\\chatglm3-demo\\lib\\site-packages\\torch\\nn\\modules\\loss.py:535: UserWarning: Using a target size (torch.Size([7126, 1, 1])) that is different to the input size (torch.Size([7126, 100, 1])). This will likely lead to incorrect results due to broadcasting. Please ensure they have the same size.\n",
      "  return F.mse_loss(input, target, reduction=self.reduction)\n"
     ]
    },
    {
     "name": "stdout",
     "output_type": "stream",
     "text": [
      "Epoch 62: train RMSE 3.3597, test RMSE 1.7688\n",
      "训练时间: 30317.668926239014 秒\n",
      "torch.Size([51437, 100, 1]) torch.Size([51437, 1, 1])\n",
      "torch.Size([7026, 100, 1]) torch.Size([7026, 1, 1])\n"
     ]
    },
    {
     "name": "stderr",
     "output_type": "stream",
     "text": [
      "c:\\Users\\gaoxc\\.conda\\envs\\chatglm3-demo\\lib\\site-packages\\torch\\nn\\modules\\loss.py:535: UserWarning: Using a target size (torch.Size([10288, 1, 1])) that is different to the input size (torch.Size([10288, 100, 1])). This will likely lead to incorrect results due to broadcasting. Please ensure they have the same size.\n",
      "  return F.mse_loss(input, target, reduction=self.reduction)\n"
     ]
    },
    {
     "name": "stdout",
     "output_type": "stream",
     "text": [
      "Early stopping\n"
     ]
    },
    {
     "name": "stderr",
     "output_type": "stream",
     "text": [
      "c:\\Users\\gaoxc\\.conda\\envs\\chatglm3-demo\\lib\\site-packages\\torch\\nn\\modules\\loss.py:535: UserWarning: Using a target size (torch.Size([41149, 1, 1])) that is different to the input size (torch.Size([41149, 100, 1])). This will likely lead to incorrect results due to broadcasting. Please ensure they have the same size.\n",
      "  return F.mse_loss(input, target, reduction=self.reduction)\n",
      "c:\\Users\\gaoxc\\.conda\\envs\\chatglm3-demo\\lib\\site-packages\\torch\\nn\\modules\\loss.py:535: UserWarning: Using a target size (torch.Size([7026, 1, 1])) that is different to the input size (torch.Size([7026, 100, 1])). This will likely lead to incorrect results due to broadcasting. Please ensure they have the same size.\n",
      "  return F.mse_loss(input, target, reduction=self.reduction)\n"
     ]
    },
    {
     "name": "stdout",
     "output_type": "stream",
     "text": [
      "Epoch 36: train RMSE 3.3768, test RMSE 1.7968\n",
      "训练时间: 30390.055773735046 秒\n",
      "torch.Size([51537, 100, 1]) torch.Size([51537, 1, 1])\n",
      "torch.Size([6926, 100, 1]) torch.Size([6926, 1, 1])\n"
     ]
    },
    {
     "name": "stderr",
     "output_type": "stream",
     "text": [
      "c:\\Users\\gaoxc\\.conda\\envs\\chatglm3-demo\\lib\\site-packages\\torch\\nn\\modules\\loss.py:535: UserWarning: Using a target size (torch.Size([10308, 1, 1])) that is different to the input size (torch.Size([10308, 100, 1])). This will likely lead to incorrect results due to broadcasting. Please ensure they have the same size.\n",
      "  return F.mse_loss(input, target, reduction=self.reduction)\n"
     ]
    },
    {
     "name": "stdout",
     "output_type": "stream",
     "text": [
      "Early stopping\n"
     ]
    },
    {
     "name": "stderr",
     "output_type": "stream",
     "text": [
      "c:\\Users\\gaoxc\\.conda\\envs\\chatglm3-demo\\lib\\site-packages\\torch\\nn\\modules\\loss.py:535: UserWarning: Using a target size (torch.Size([41229, 1, 1])) that is different to the input size (torch.Size([41229, 100, 1])). This will likely lead to incorrect results due to broadcasting. Please ensure they have the same size.\n",
      "  return F.mse_loss(input, target, reduction=self.reduction)\n",
      "c:\\Users\\gaoxc\\.conda\\envs\\chatglm3-demo\\lib\\site-packages\\torch\\nn\\modules\\loss.py:535: UserWarning: Using a target size (torch.Size([6926, 1, 1])) that is different to the input size (torch.Size([6926, 100, 1])). This will likely lead to incorrect results due to broadcasting. Please ensure they have the same size.\n",
      "  return F.mse_loss(input, target, reduction=self.reduction)\n"
     ]
    },
    {
     "name": "stdout",
     "output_type": "stream",
     "text": [
      "Epoch 101: train RMSE 3.2699, test RMSE 1.7382\n",
      "训练时间: 30581.76589870453 秒\n",
      "torch.Size([51637, 100, 1]) torch.Size([51637, 1, 1])\n",
      "torch.Size([6826, 100, 1]) torch.Size([6826, 1, 1])\n"
     ]
    },
    {
     "name": "stderr",
     "output_type": "stream",
     "text": [
      "c:\\Users\\gaoxc\\.conda\\envs\\chatglm3-demo\\lib\\site-packages\\torch\\nn\\modules\\loss.py:535: UserWarning: Using a target size (torch.Size([10328, 1, 1])) that is different to the input size (torch.Size([10328, 100, 1])). This will likely lead to incorrect results due to broadcasting. Please ensure they have the same size.\n",
      "  return F.mse_loss(input, target, reduction=self.reduction)\n"
     ]
    },
    {
     "name": "stdout",
     "output_type": "stream",
     "text": [
      "Early stopping\n"
     ]
    },
    {
     "name": "stderr",
     "output_type": "stream",
     "text": [
      "c:\\Users\\gaoxc\\.conda\\envs\\chatglm3-demo\\lib\\site-packages\\torch\\nn\\modules\\loss.py:535: UserWarning: Using a target size (torch.Size([41309, 1, 1])) that is different to the input size (torch.Size([41309, 100, 1])). This will likely lead to incorrect results due to broadcasting. Please ensure they have the same size.\n",
      "  return F.mse_loss(input, target, reduction=self.reduction)\n",
      "c:\\Users\\gaoxc\\.conda\\envs\\chatglm3-demo\\lib\\site-packages\\torch\\nn\\modules\\loss.py:535: UserWarning: Using a target size (torch.Size([6826, 1, 1])) that is different to the input size (torch.Size([6826, 100, 1])). This will likely lead to incorrect results due to broadcasting. Please ensure they have the same size.\n",
      "  return F.mse_loss(input, target, reduction=self.reduction)\n"
     ]
    },
    {
     "name": "stdout",
     "output_type": "stream",
     "text": [
      "Epoch 73: train RMSE 3.2725, test RMSE 1.7614\n",
      "训练时间: 30723.731667995453 秒\n",
      "torch.Size([51737, 100, 1]) torch.Size([51737, 1, 1])\n",
      "torch.Size([6726, 100, 1]) torch.Size([6726, 1, 1])\n"
     ]
    },
    {
     "name": "stderr",
     "output_type": "stream",
     "text": [
      "c:\\Users\\gaoxc\\.conda\\envs\\chatglm3-demo\\lib\\site-packages\\torch\\nn\\modules\\loss.py:535: UserWarning: Using a target size (torch.Size([10348, 1, 1])) that is different to the input size (torch.Size([10348, 100, 1])). This will likely lead to incorrect results due to broadcasting. Please ensure they have the same size.\n",
      "  return F.mse_loss(input, target, reduction=self.reduction)\n"
     ]
    },
    {
     "name": "stdout",
     "output_type": "stream",
     "text": [
      "Early stopping\n"
     ]
    },
    {
     "name": "stderr",
     "output_type": "stream",
     "text": [
      "c:\\Users\\gaoxc\\.conda\\envs\\chatglm3-demo\\lib\\site-packages\\torch\\nn\\modules\\loss.py:535: UserWarning: Using a target size (torch.Size([41389, 1, 1])) that is different to the input size (torch.Size([41389, 100, 1])). This will likely lead to incorrect results due to broadcasting. Please ensure they have the same size.\n",
      "  return F.mse_loss(input, target, reduction=self.reduction)\n",
      "c:\\Users\\gaoxc\\.conda\\envs\\chatglm3-demo\\lib\\site-packages\\torch\\nn\\modules\\loss.py:535: UserWarning: Using a target size (torch.Size([6726, 1, 1])) that is different to the input size (torch.Size([6726, 100, 1])). This will likely lead to incorrect results due to broadcasting. Please ensure they have the same size.\n",
      "  return F.mse_loss(input, target, reduction=self.reduction)\n"
     ]
    },
    {
     "name": "stdout",
     "output_type": "stream",
     "text": [
      "Epoch 99: train RMSE 3.2788, test RMSE 1.7553\n",
      "训练时间: 30912.30915594101 秒\n",
      "torch.Size([51837, 100, 1]) torch.Size([51837, 1, 1])\n",
      "torch.Size([6626, 100, 1]) torch.Size([6626, 1, 1])\n"
     ]
    },
    {
     "name": "stderr",
     "output_type": "stream",
     "text": [
      "c:\\Users\\gaoxc\\.conda\\envs\\chatglm3-demo\\lib\\site-packages\\torch\\nn\\modules\\loss.py:535: UserWarning: Using a target size (torch.Size([10368, 1, 1])) that is different to the input size (torch.Size([10368, 100, 1])). This will likely lead to incorrect results due to broadcasting. Please ensure they have the same size.\n",
      "  return F.mse_loss(input, target, reduction=self.reduction)\n"
     ]
    },
    {
     "name": "stdout",
     "output_type": "stream",
     "text": [
      "Early stopping\n"
     ]
    },
    {
     "name": "stderr",
     "output_type": "stream",
     "text": [
      "c:\\Users\\gaoxc\\.conda\\envs\\chatglm3-demo\\lib\\site-packages\\torch\\nn\\modules\\loss.py:535: UserWarning: Using a target size (torch.Size([41469, 1, 1])) that is different to the input size (torch.Size([41469, 100, 1])). This will likely lead to incorrect results due to broadcasting. Please ensure they have the same size.\n",
      "  return F.mse_loss(input, target, reduction=self.reduction)\n",
      "c:\\Users\\gaoxc\\.conda\\envs\\chatglm3-demo\\lib\\site-packages\\torch\\nn\\modules\\loss.py:535: UserWarning: Using a target size (torch.Size([6626, 1, 1])) that is different to the input size (torch.Size([6626, 100, 1])). This will likely lead to incorrect results due to broadcasting. Please ensure they have the same size.\n",
      "  return F.mse_loss(input, target, reduction=self.reduction)\n"
     ]
    },
    {
     "name": "stdout",
     "output_type": "stream",
     "text": [
      "Epoch 72: train RMSE 3.3146, test RMSE 1.7859\n",
      "训练时间: 31053.33778643608 秒\n",
      "torch.Size([51937, 100, 1]) torch.Size([51937, 1, 1])\n",
      "torch.Size([6526, 100, 1]) torch.Size([6526, 1, 1])\n"
     ]
    },
    {
     "name": "stderr",
     "output_type": "stream",
     "text": [
      "c:\\Users\\gaoxc\\.conda\\envs\\chatglm3-demo\\lib\\site-packages\\torch\\nn\\modules\\loss.py:535: UserWarning: Using a target size (torch.Size([10388, 1, 1])) that is different to the input size (torch.Size([10388, 100, 1])). This will likely lead to incorrect results due to broadcasting. Please ensure they have the same size.\n",
      "  return F.mse_loss(input, target, reduction=self.reduction)\n"
     ]
    },
    {
     "name": "stdout",
     "output_type": "stream",
     "text": [
      "Early stopping\n"
     ]
    },
    {
     "name": "stderr",
     "output_type": "stream",
     "text": [
      "c:\\Users\\gaoxc\\.conda\\envs\\chatglm3-demo\\lib\\site-packages\\torch\\nn\\modules\\loss.py:535: UserWarning: Using a target size (torch.Size([41549, 1, 1])) that is different to the input size (torch.Size([41549, 100, 1])). This will likely lead to incorrect results due to broadcasting. Please ensure they have the same size.\n",
      "  return F.mse_loss(input, target, reduction=self.reduction)\n",
      "c:\\Users\\gaoxc\\.conda\\envs\\chatglm3-demo\\lib\\site-packages\\torch\\nn\\modules\\loss.py:535: UserWarning: Using a target size (torch.Size([6526, 1, 1])) that is different to the input size (torch.Size([6526, 100, 1])). This will likely lead to incorrect results due to broadcasting. Please ensure they have the same size.\n",
      "  return F.mse_loss(input, target, reduction=self.reduction)\n"
     ]
    },
    {
     "name": "stdout",
     "output_type": "stream",
     "text": [
      "Epoch 79: train RMSE 3.2251, test RMSE 1.7987\n",
      "训练时间: 31206.682053804398 秒\n",
      "torch.Size([52037, 100, 1]) torch.Size([52037, 1, 1])\n",
      "torch.Size([6426, 100, 1]) torch.Size([6426, 1, 1])\n"
     ]
    },
    {
     "name": "stderr",
     "output_type": "stream",
     "text": [
      "c:\\Users\\gaoxc\\.conda\\envs\\chatglm3-demo\\lib\\site-packages\\torch\\nn\\modules\\loss.py:535: UserWarning: Using a target size (torch.Size([10408, 1, 1])) that is different to the input size (torch.Size([10408, 100, 1])). This will likely lead to incorrect results due to broadcasting. Please ensure they have the same size.\n",
      "  return F.mse_loss(input, target, reduction=self.reduction)\n"
     ]
    },
    {
     "name": "stdout",
     "output_type": "stream",
     "text": [
      "Early stopping\n"
     ]
    },
    {
     "name": "stderr",
     "output_type": "stream",
     "text": [
      "c:\\Users\\gaoxc\\.conda\\envs\\chatglm3-demo\\lib\\site-packages\\torch\\nn\\modules\\loss.py:535: UserWarning: Using a target size (torch.Size([41629, 1, 1])) that is different to the input size (torch.Size([41629, 100, 1])). This will likely lead to incorrect results due to broadcasting. Please ensure they have the same size.\n",
      "  return F.mse_loss(input, target, reduction=self.reduction)\n",
      "c:\\Users\\gaoxc\\.conda\\envs\\chatglm3-demo\\lib\\site-packages\\torch\\nn\\modules\\loss.py:535: UserWarning: Using a target size (torch.Size([6426, 1, 1])) that is different to the input size (torch.Size([6426, 100, 1])). This will likely lead to incorrect results due to broadcasting. Please ensure they have the same size.\n",
      "  return F.mse_loss(input, target, reduction=self.reduction)\n"
     ]
    },
    {
     "name": "stdout",
     "output_type": "stream",
     "text": [
      "Epoch 93: train RMSE 3.2886, test RMSE 1.7987\n",
      "训练时间: 31385.574261903763 秒\n",
      "torch.Size([52137, 100, 1]) torch.Size([52137, 1, 1])\n",
      "torch.Size([6326, 100, 1]) torch.Size([6326, 1, 1])\n"
     ]
    },
    {
     "name": "stderr",
     "output_type": "stream",
     "text": [
      "c:\\Users\\gaoxc\\.conda\\envs\\chatglm3-demo\\lib\\site-packages\\torch\\nn\\modules\\loss.py:535: UserWarning: Using a target size (torch.Size([10428, 1, 1])) that is different to the input size (torch.Size([10428, 100, 1])). This will likely lead to incorrect results due to broadcasting. Please ensure they have the same size.\n",
      "  return F.mse_loss(input, target, reduction=self.reduction)\n"
     ]
    },
    {
     "name": "stdout",
     "output_type": "stream",
     "text": [
      "Early stopping\n"
     ]
    },
    {
     "name": "stderr",
     "output_type": "stream",
     "text": [
      "c:\\Users\\gaoxc\\.conda\\envs\\chatglm3-demo\\lib\\site-packages\\torch\\nn\\modules\\loss.py:535: UserWarning: Using a target size (torch.Size([41709, 1, 1])) that is different to the input size (torch.Size([41709, 100, 1])). This will likely lead to incorrect results due to broadcasting. Please ensure they have the same size.\n",
      "  return F.mse_loss(input, target, reduction=self.reduction)\n",
      "c:\\Users\\gaoxc\\.conda\\envs\\chatglm3-demo\\lib\\site-packages\\torch\\nn\\modules\\loss.py:535: UserWarning: Using a target size (torch.Size([6326, 1, 1])) that is different to the input size (torch.Size([6326, 100, 1])). This will likely lead to incorrect results due to broadcasting. Please ensure they have the same size.\n",
      "  return F.mse_loss(input, target, reduction=self.reduction)\n"
     ]
    },
    {
     "name": "stdout",
     "output_type": "stream",
     "text": [
      "Epoch 58: train RMSE 3.2785, test RMSE 1.8070\n",
      "训练时间: 31500.241163492203 秒\n",
      "torch.Size([52237, 100, 1]) torch.Size([52237, 1, 1])\n",
      "torch.Size([6226, 100, 1]) torch.Size([6226, 1, 1])\n"
     ]
    },
    {
     "name": "stderr",
     "output_type": "stream",
     "text": [
      "c:\\Users\\gaoxc\\.conda\\envs\\chatglm3-demo\\lib\\site-packages\\torch\\nn\\modules\\loss.py:535: UserWarning: Using a target size (torch.Size([10448, 1, 1])) that is different to the input size (torch.Size([10448, 100, 1])). This will likely lead to incorrect results due to broadcasting. Please ensure they have the same size.\n",
      "  return F.mse_loss(input, target, reduction=self.reduction)\n"
     ]
    },
    {
     "name": "stdout",
     "output_type": "stream",
     "text": [
      "Early stopping\n"
     ]
    },
    {
     "name": "stderr",
     "output_type": "stream",
     "text": [
      "c:\\Users\\gaoxc\\.conda\\envs\\chatglm3-demo\\lib\\site-packages\\torch\\nn\\modules\\loss.py:535: UserWarning: Using a target size (torch.Size([41789, 1, 1])) that is different to the input size (torch.Size([41789, 100, 1])). This will likely lead to incorrect results due to broadcasting. Please ensure they have the same size.\n",
      "  return F.mse_loss(input, target, reduction=self.reduction)\n",
      "c:\\Users\\gaoxc\\.conda\\envs\\chatglm3-demo\\lib\\site-packages\\torch\\nn\\modules\\loss.py:535: UserWarning: Using a target size (torch.Size([6226, 1, 1])) that is different to the input size (torch.Size([6226, 100, 1])). This will likely lead to incorrect results due to broadcasting. Please ensure they have the same size.\n",
      "  return F.mse_loss(input, target, reduction=self.reduction)\n"
     ]
    },
    {
     "name": "stdout",
     "output_type": "stream",
     "text": [
      "Epoch 109: train RMSE 3.2864, test RMSE 1.8112\n",
      "训练时间: 31710.1427898407 秒\n",
      "torch.Size([52337, 100, 1]) torch.Size([52337, 1, 1])\n",
      "torch.Size([6126, 100, 1]) torch.Size([6126, 1, 1])\n"
     ]
    },
    {
     "name": "stderr",
     "output_type": "stream",
     "text": [
      "c:\\Users\\gaoxc\\.conda\\envs\\chatglm3-demo\\lib\\site-packages\\torch\\nn\\modules\\loss.py:535: UserWarning: Using a target size (torch.Size([10468, 1, 1])) that is different to the input size (torch.Size([10468, 100, 1])). This will likely lead to incorrect results due to broadcasting. Please ensure they have the same size.\n",
      "  return F.mse_loss(input, target, reduction=self.reduction)\n"
     ]
    },
    {
     "name": "stdout",
     "output_type": "stream",
     "text": [
      "Early stopping\n"
     ]
    },
    {
     "name": "stderr",
     "output_type": "stream",
     "text": [
      "c:\\Users\\gaoxc\\.conda\\envs\\chatglm3-demo\\lib\\site-packages\\torch\\nn\\modules\\loss.py:535: UserWarning: Using a target size (torch.Size([41869, 1, 1])) that is different to the input size (torch.Size([41869, 100, 1])). This will likely lead to incorrect results due to broadcasting. Please ensure they have the same size.\n",
      "  return F.mse_loss(input, target, reduction=self.reduction)\n",
      "c:\\Users\\gaoxc\\.conda\\envs\\chatglm3-demo\\lib\\site-packages\\torch\\nn\\modules\\loss.py:535: UserWarning: Using a target size (torch.Size([6126, 1, 1])) that is different to the input size (torch.Size([6126, 100, 1])). This will likely lead to incorrect results due to broadcasting. Please ensure they have the same size.\n",
      "  return F.mse_loss(input, target, reduction=self.reduction)\n"
     ]
    },
    {
     "name": "stdout",
     "output_type": "stream",
     "text": [
      "Epoch 62: train RMSE 3.3011, test RMSE 1.8156\n",
      "训练时间: 31833.411693811417 秒\n",
      "torch.Size([52437, 100, 1]) torch.Size([52437, 1, 1])\n",
      "torch.Size([6026, 100, 1]) torch.Size([6026, 1, 1])\n"
     ]
    },
    {
     "name": "stderr",
     "output_type": "stream",
     "text": [
      "c:\\Users\\gaoxc\\.conda\\envs\\chatglm3-demo\\lib\\site-packages\\torch\\nn\\modules\\loss.py:535: UserWarning: Using a target size (torch.Size([10488, 1, 1])) that is different to the input size (torch.Size([10488, 100, 1])). This will likely lead to incorrect results due to broadcasting. Please ensure they have the same size.\n",
      "  return F.mse_loss(input, target, reduction=self.reduction)\n"
     ]
    },
    {
     "name": "stdout",
     "output_type": "stream",
     "text": [
      "Early stopping\n"
     ]
    },
    {
     "name": "stderr",
     "output_type": "stream",
     "text": [
      "c:\\Users\\gaoxc\\.conda\\envs\\chatglm3-demo\\lib\\site-packages\\torch\\nn\\modules\\loss.py:535: UserWarning: Using a target size (torch.Size([41949, 1, 1])) that is different to the input size (torch.Size([41949, 100, 1])). This will likely lead to incorrect results due to broadcasting. Please ensure they have the same size.\n",
      "  return F.mse_loss(input, target, reduction=self.reduction)\n",
      "c:\\Users\\gaoxc\\.conda\\envs\\chatglm3-demo\\lib\\site-packages\\torch\\nn\\modules\\loss.py:535: UserWarning: Using a target size (torch.Size([6026, 1, 1])) that is different to the input size (torch.Size([6026, 100, 1])). This will likely lead to incorrect results due to broadcasting. Please ensure they have the same size.\n",
      "  return F.mse_loss(input, target, reduction=self.reduction)\n"
     ]
    },
    {
     "name": "stdout",
     "output_type": "stream",
     "text": [
      "Epoch 124: train RMSE 3.2727, test RMSE 1.8587\n",
      "训练时间: 32072.91025876999 秒\n",
      "torch.Size([52537, 100, 1]) torch.Size([52537, 1, 1])\n",
      "torch.Size([5926, 100, 1]) torch.Size([5926, 1, 1])\n"
     ]
    },
    {
     "name": "stderr",
     "output_type": "stream",
     "text": [
      "c:\\Users\\gaoxc\\.conda\\envs\\chatglm3-demo\\lib\\site-packages\\torch\\nn\\modules\\loss.py:535: UserWarning: Using a target size (torch.Size([10508, 1, 1])) that is different to the input size (torch.Size([10508, 100, 1])). This will likely lead to incorrect results due to broadcasting. Please ensure they have the same size.\n",
      "  return F.mse_loss(input, target, reduction=self.reduction)\n"
     ]
    },
    {
     "name": "stdout",
     "output_type": "stream",
     "text": [
      "Early stopping\n"
     ]
    },
    {
     "name": "stderr",
     "output_type": "stream",
     "text": [
      "c:\\Users\\gaoxc\\.conda\\envs\\chatglm3-demo\\lib\\site-packages\\torch\\nn\\modules\\loss.py:535: UserWarning: Using a target size (torch.Size([42029, 1, 1])) that is different to the input size (torch.Size([42029, 100, 1])). This will likely lead to incorrect results due to broadcasting. Please ensure they have the same size.\n",
      "  return F.mse_loss(input, target, reduction=self.reduction)\n",
      "c:\\Users\\gaoxc\\.conda\\envs\\chatglm3-demo\\lib\\site-packages\\torch\\nn\\modules\\loss.py:535: UserWarning: Using a target size (torch.Size([5926, 1, 1])) that is different to the input size (torch.Size([5926, 100, 1])). This will likely lead to incorrect results due to broadcasting. Please ensure they have the same size.\n",
      "  return F.mse_loss(input, target, reduction=self.reduction)\n"
     ]
    },
    {
     "name": "stdout",
     "output_type": "stream",
     "text": [
      "Epoch 92: train RMSE 3.1623, test RMSE 1.8873\n",
      "训练时间: 32254.037108898163 秒\n",
      "torch.Size([52637, 100, 1]) torch.Size([52637, 1, 1])\n",
      "torch.Size([5826, 100, 1]) torch.Size([5826, 1, 1])\n"
     ]
    },
    {
     "name": "stderr",
     "output_type": "stream",
     "text": [
      "c:\\Users\\gaoxc\\.conda\\envs\\chatglm3-demo\\lib\\site-packages\\torch\\nn\\modules\\loss.py:535: UserWarning: Using a target size (torch.Size([10528, 1, 1])) that is different to the input size (torch.Size([10528, 100, 1])). This will likely lead to incorrect results due to broadcasting. Please ensure they have the same size.\n",
      "  return F.mse_loss(input, target, reduction=self.reduction)\n"
     ]
    },
    {
     "name": "stdout",
     "output_type": "stream",
     "text": [
      "Early stopping\n"
     ]
    },
    {
     "name": "stderr",
     "output_type": "stream",
     "text": [
      "c:\\Users\\gaoxc\\.conda\\envs\\chatglm3-demo\\lib\\site-packages\\torch\\nn\\modules\\loss.py:535: UserWarning: Using a target size (torch.Size([42109, 1, 1])) that is different to the input size (torch.Size([42109, 100, 1])). This will likely lead to incorrect results due to broadcasting. Please ensure they have the same size.\n",
      "  return F.mse_loss(input, target, reduction=self.reduction)\n",
      "c:\\Users\\gaoxc\\.conda\\envs\\chatglm3-demo\\lib\\site-packages\\torch\\nn\\modules\\loss.py:535: UserWarning: Using a target size (torch.Size([5826, 1, 1])) that is different to the input size (torch.Size([5826, 100, 1])). This will likely lead to incorrect results due to broadcasting. Please ensure they have the same size.\n",
      "  return F.mse_loss(input, target, reduction=self.reduction)\n"
     ]
    },
    {
     "name": "stdout",
     "output_type": "stream",
     "text": [
      "Epoch 69: train RMSE 3.2930, test RMSE 1.8012\n",
      "训练时间: 32395.02030968666 秒\n",
      "torch.Size([52737, 100, 1]) torch.Size([52737, 1, 1])\n",
      "torch.Size([5726, 100, 1]) torch.Size([5726, 1, 1])\n"
     ]
    },
    {
     "name": "stderr",
     "output_type": "stream",
     "text": [
      "c:\\Users\\gaoxc\\.conda\\envs\\chatglm3-demo\\lib\\site-packages\\torch\\nn\\modules\\loss.py:535: UserWarning: Using a target size (torch.Size([10548, 1, 1])) that is different to the input size (torch.Size([10548, 100, 1])). This will likely lead to incorrect results due to broadcasting. Please ensure they have the same size.\n",
      "  return F.mse_loss(input, target, reduction=self.reduction)\n"
     ]
    },
    {
     "name": "stdout",
     "output_type": "stream",
     "text": [
      "Early stopping\n"
     ]
    },
    {
     "name": "stderr",
     "output_type": "stream",
     "text": [
      "c:\\Users\\gaoxc\\.conda\\envs\\chatglm3-demo\\lib\\site-packages\\torch\\nn\\modules\\loss.py:535: UserWarning: Using a target size (torch.Size([42189, 1, 1])) that is different to the input size (torch.Size([42189, 100, 1])). This will likely lead to incorrect results due to broadcasting. Please ensure they have the same size.\n",
      "  return F.mse_loss(input, target, reduction=self.reduction)\n",
      "c:\\Users\\gaoxc\\.conda\\envs\\chatglm3-demo\\lib\\site-packages\\torch\\nn\\modules\\loss.py:535: UserWarning: Using a target size (torch.Size([5726, 1, 1])) that is different to the input size (torch.Size([5726, 100, 1])). This will likely lead to incorrect results due to broadcasting. Please ensure they have the same size.\n",
      "  return F.mse_loss(input, target, reduction=self.reduction)\n"
     ]
    },
    {
     "name": "stdout",
     "output_type": "stream",
     "text": [
      "Epoch 59: train RMSE 3.2894, test RMSE 1.8210\n",
      "训练时间: 32512.896859884262 秒\n",
      "torch.Size([52837, 100, 1]) torch.Size([52837, 1, 1])\n",
      "torch.Size([5626, 100, 1]) torch.Size([5626, 1, 1])\n"
     ]
    },
    {
     "name": "stderr",
     "output_type": "stream",
     "text": [
      "c:\\Users\\gaoxc\\.conda\\envs\\chatglm3-demo\\lib\\site-packages\\torch\\nn\\modules\\loss.py:535: UserWarning: Using a target size (torch.Size([10568, 1, 1])) that is different to the input size (torch.Size([10568, 100, 1])). This will likely lead to incorrect results due to broadcasting. Please ensure they have the same size.\n",
      "  return F.mse_loss(input, target, reduction=self.reduction)\n"
     ]
    },
    {
     "name": "stdout",
     "output_type": "stream",
     "text": [
      "Early stopping\n"
     ]
    },
    {
     "name": "stderr",
     "output_type": "stream",
     "text": [
      "c:\\Users\\gaoxc\\.conda\\envs\\chatglm3-demo\\lib\\site-packages\\torch\\nn\\modules\\loss.py:535: UserWarning: Using a target size (torch.Size([42269, 1, 1])) that is different to the input size (torch.Size([42269, 100, 1])). This will likely lead to incorrect results due to broadcasting. Please ensure they have the same size.\n",
      "  return F.mse_loss(input, target, reduction=self.reduction)\n",
      "c:\\Users\\gaoxc\\.conda\\envs\\chatglm3-demo\\lib\\site-packages\\torch\\nn\\modules\\loss.py:535: UserWarning: Using a target size (torch.Size([5626, 1, 1])) that is different to the input size (torch.Size([5626, 100, 1])). This will likely lead to incorrect results due to broadcasting. Please ensure they have the same size.\n",
      "  return F.mse_loss(input, target, reduction=self.reduction)\n"
     ]
    },
    {
     "name": "stdout",
     "output_type": "stream",
     "text": [
      "Epoch 98: train RMSE 3.2680, test RMSE 1.7039\n",
      "训练时间: 32706.256201982498 秒\n",
      "torch.Size([52937, 100, 1]) torch.Size([52937, 1, 1])\n",
      "torch.Size([5526, 100, 1]) torch.Size([5526, 1, 1])\n"
     ]
    },
    {
     "name": "stderr",
     "output_type": "stream",
     "text": [
      "c:\\Users\\gaoxc\\.conda\\envs\\chatglm3-demo\\lib\\site-packages\\torch\\nn\\modules\\loss.py:535: UserWarning: Using a target size (torch.Size([10588, 1, 1])) that is different to the input size (torch.Size([10588, 100, 1])). This will likely lead to incorrect results due to broadcasting. Please ensure they have the same size.\n",
      "  return F.mse_loss(input, target, reduction=self.reduction)\n"
     ]
    }
   ],
   "source": [
    "import numpy as np\n",
    "import torch.optim as optim\n",
    "import torch.utils.data as data\n",
    "import time \n",
    "begin_time = time.time()\n",
    "df_result = pd.DataFrame()\n",
    "\n",
    "for split_index in range(39237,len(timeseries),100): #, len(timeseries)\n",
    "    train_size = split_index # \n",
    "    # test_size = len(timeseries) - train_size\n",
    "    # train, test = timeseries[:train_size], timeseries[train_size:]\n",
    "    lookback = LOOKBACK \n",
    "    X_train_all, y_train_all,X_test, y_test = create_dataset(timeseries, lookback=lookback,split_index=split_index)\n",
    "    # X_test, y_test = create_dataset(test, lookback=lookback)\n",
    "    print(X_train_all.shape, y_train_all.shape)\n",
    "    print(X_test.shape, y_test.shape)\n",
    "\n",
    "    indices = np.arange(len(X_train_all))   \n",
    "    np.random.shuffle(indices)\n",
    "    train_val_size = int(len(X_train_all) * 0.8)\n",
    "    train_indices = indices[:train_val_size]\n",
    "    val_indices = indices[train_val_size:]\n",
    "    X_train = X_train_all[train_indices]\n",
    "    y_train = y_train_all[train_indices]\n",
    "    X_val = X_train_all[val_indices]\n",
    "    y_val = y_train_all[val_indices]\n",
    "\n",
    "    device = torch.device('cuda' if torch.cuda.is_available() else 'cpu')\n",
    "\n",
    "    X_train = X_train.to(device)\n",
    "    y_train = y_train.to(device)\n",
    "    X_val = X_val.to(device)\n",
    "    y_val = y_val.to(device)\n",
    "    X_test = X_test.to(device)\n",
    "    y_test = y_test.to(device)\n",
    "\n",
    "    model = LSTMFCNN().to(device)\n",
    "    model \n",
    "\n",
    "\n",
    "    optimizer = optim.Adam(model.parameters())\n",
    "    loss_fn = nn.MSELoss()\n",
    "    loader = data.DataLoader(data.TensorDataset(X_train, y_train), shuffle=True, batch_size=BATCHSIZE)\n",
    "    early_stopping = EarlyStopping(patience=10, min_delta=0.001)\n",
    "    n_epochs = 1000\n",
    "    for epoch in range(n_epochs):\n",
    "        model.train()\n",
    "        for X_batch, y_batch in loader:\n",
    "            # print(X_batch.shape)\n",
    "            # X_batch = X_batch.to(device)\n",
    "            # y_batch = y_batch.to(device)\n",
    "            y_pred = model(X_batch)\n",
    "            y_pred_val = model(X_val)\n",
    "            # print(y_pred.shape,y_batch.shape)\n",
    "            loss_train = loss_fn(y_pred, y_batch)\n",
    "            \n",
    "            optimizer.zero_grad()\n",
    "            loss_train.backward()\n",
    "            optimizer.step()\n",
    "        # Validation\n",
    "        loss_val = loss_fn(y_pred_val, y_val)\n",
    "        early_stopping(loss_val, model, optimizer, epoch)\n",
    "\n",
    "        if early_stopping.early_stop:\n",
    "            print(\"Early stopping\")\n",
    "            break\n",
    "\n",
    "    model.eval()\n",
    "    with torch.no_grad():\n",
    "        # X_train = X_train.to(device)\n",
    "        # y_train = y_train.to(device)\n",
    "        y_pred_train = model(X_train)\n",
    "        # X_test = X_test.to(device)\n",
    "        # y_test = y_test.to(device)\n",
    "        train_rmse = torch.sqrt(loss_fn(y_pred_train, y_train))\n",
    "        y_pred_test = model(X_test)\n",
    "        test_rmse = torch.sqrt(loss_fn(y_pred_test, y_test))\n",
    "    print(\"Epoch %d: train RMSE %.4f, test RMSE %.4f\" % (epoch, train_rmse, test_rmse))\n",
    "    end_time = time.time()\n",
    "    print(f\"训练时间: {end_time - begin_time} 秒\")\n",
    "\n",
    "    predict_value = model(X_test[0,:,:].unsqueeze(0))\n",
    "    predict_value = predict_value.detach().cpu().numpy().flatten()\n",
    "\n",
    "\n",
    "    df_result_tmp = pd.DataFrame([[split_index, predict_value[0],y_test[0].flatten().cpu().numpy()[0]]],columns=['split_index','predict','true'])\n",
    "    df_result_tmp\n",
    "    # df_result = pd.concat([df_result,df_result_tmp],ignore_index=True)\n",
    "    df_result_tmp.to_csv(f'./data/lstm_fcnn_result_{LOOKBACK}.csv',index=False,mode='a')\n",
    "    \n",
    "    del model\n",
    "    del optimizer\n",
    "    del loader\n",
    "    del early_stopping\n",
    "    del X_train\n",
    "    del y_train\n",
    "    del X_train_all\n",
    "    del y_train_all\n",
    "    del X_val\n",
    "    del y_val\n",
    "    del X_test\n",
    "    del y_test\n",
    "    del y_pred_train\n",
    "    del y_pred_test\n",
    "    del y_pred_val\n",
    "    del y_pred\n",
    "    del y_batch\n",
    "    del X_batch\n",
    "    torch.cuda.empty_cache()\n",
    "    "
   ]
  },
  {
   "cell_type": "code",
   "execution_count": null,
   "id": "966e8566-5850-440a-a74f-d92cc36398de",
   "metadata": {},
   "outputs": [],
   "source": []
  }
 ],
 "metadata": {
  "kernelspec": {
   "display_name": "chatglm3-demo",
   "language": "python",
   "name": "python3"
  },
  "language_info": {
   "codemirror_mode": {
    "name": "ipython",
    "version": 3
   },
   "file_extension": ".py",
   "mimetype": "text/x-python",
   "name": "python",
   "nbconvert_exporter": "python",
   "pygments_lexer": "ipython3",
   "version": "3.10.13"
  }
 },
 "nbformat": 4,
 "nbformat_minor": 5
}
