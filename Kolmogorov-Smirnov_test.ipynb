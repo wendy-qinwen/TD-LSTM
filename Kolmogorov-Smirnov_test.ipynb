{
 "cells": [
  {
   "cell_type": "code",
   "execution_count": null,
   "metadata": {},
   "outputs": [],
   "source": []
  },
  {
   "cell_type": "code",
   "execution_count": 1,
   "metadata": {},
   "outputs": [],
   "source": [
    "from scipy.stats import ks_2samp\n",
    "from numpy.random import seed, randn, lognormal\n",
    "\n"
   ]
  },
  {
   "cell_type": "code",
   "execution_count": 2,
   "metadata": {},
   "outputs": [],
   "source": [
    "# from scipy.stats import wilcoxon as wl \n",
    "import pandas as pd \n",
    "from scipy.stats import ks_2samp"
   ]
  },
  {
   "cell_type": "code",
   "execution_count": 3,
   "metadata": {},
   "outputs": [
    {
     "name": "stdout",
     "output_type": "stream",
     "text": [
      "                 time  IF00_close  IF01_close  spread        date\n",
      "0 2024-01-24 09:30:00      3240.0      3236.8    -3.2  2024-01-24\n",
      "1 2024-01-24 09:31:00      3241.4      3243.0     1.6  2024-01-24\n",
      "2 2024-01-24 09:32:00      3240.0      3243.0     3.0  2024-01-24\n",
      "3 2024-01-24 09:33:00      3234.4      3235.6     1.2  2024-01-24\n",
      "4 2024-01-24 09:34:00      3235.8      3236.0     0.2  2024-01-24\n"
     ]
    },
    {
     "data": {
      "text/html": [
       "<div>\n",
       "<style scoped>\n",
       "    .dataframe tbody tr th:only-of-type {\n",
       "        vertical-align: middle;\n",
       "    }\n",
       "\n",
       "    .dataframe tbody tr th {\n",
       "        vertical-align: top;\n",
       "    }\n",
       "\n",
       "    .dataframe thead th {\n",
       "        text-align: right;\n",
       "    }\n",
       "</style>\n",
       "<table border=\"1\" class=\"dataframe\">\n",
       "  <thead>\n",
       "    <tr style=\"text-align: right;\">\n",
       "      <th></th>\n",
       "      <th>time</th>\n",
       "      <th>IF00_close</th>\n",
       "      <th>IF01_close</th>\n",
       "      <th>spread</th>\n",
       "      <th>date</th>\n",
       "      <th>hour</th>\n",
       "      <th>minute</th>\n",
       "      <th>std</th>\n",
       "      <th>volatility</th>\n",
       "      <th>Expiration_Date</th>\n",
       "    </tr>\n",
       "  </thead>\n",
       "  <tbody>\n",
       "    <tr>\n",
       "      <th>199</th>\n",
       "      <td>2024-01-24 14:19:00</td>\n",
       "      <td>3250.6</td>\n",
       "      <td>3245.8</td>\n",
       "      <td>-4.8</td>\n",
       "      <td>2024-01-24</td>\n",
       "      <td>14</td>\n",
       "      <td>19</td>\n",
       "      <td>2.284265</td>\n",
       "      <td>0.826044</td>\n",
       "      <td>0</td>\n",
       "    </tr>\n",
       "    <tr>\n",
       "      <th>200</th>\n",
       "      <td>2024-01-24 14:20:00</td>\n",
       "      <td>3245.8</td>\n",
       "      <td>3241.0</td>\n",
       "      <td>-4.8</td>\n",
       "      <td>2024-01-24</td>\n",
       "      <td>14</td>\n",
       "      <td>20</td>\n",
       "      <td>2.294348</td>\n",
       "      <td>0.830449</td>\n",
       "      <td>0</td>\n",
       "    </tr>\n",
       "    <tr>\n",
       "      <th>201</th>\n",
       "      <td>2024-01-24 14:21:00</td>\n",
       "      <td>3243.2</td>\n",
       "      <td>3239.0</td>\n",
       "      <td>-4.2</td>\n",
       "      <td>2024-01-24</td>\n",
       "      <td>14</td>\n",
       "      <td>21</td>\n",
       "      <td>2.296284</td>\n",
       "      <td>0.831292</td>\n",
       "      <td>0</td>\n",
       "    </tr>\n",
       "    <tr>\n",
       "      <th>202</th>\n",
       "      <td>2024-01-24 14:22:00</td>\n",
       "      <td>3240.8</td>\n",
       "      <td>3235.0</td>\n",
       "      <td>-5.8</td>\n",
       "      <td>2024-01-24</td>\n",
       "      <td>14</td>\n",
       "      <td>22</td>\n",
       "      <td>2.300440</td>\n",
       "      <td>0.833100</td>\n",
       "      <td>0</td>\n",
       "    </tr>\n",
       "    <tr>\n",
       "      <th>203</th>\n",
       "      <td>2024-01-24 14:23:00</td>\n",
       "      <td>3243.8</td>\n",
       "      <td>3238.0</td>\n",
       "      <td>-5.8</td>\n",
       "      <td>2024-01-24</td>\n",
       "      <td>14</td>\n",
       "      <td>23</td>\n",
       "      <td>2.316842</td>\n",
       "      <td>0.840205</td>\n",
       "      <td>0</td>\n",
       "    </tr>\n",
       "  </tbody>\n",
       "</table>\n",
       "</div>"
      ],
      "text/plain": [
       "                   time  IF00_close  IF01_close  spread        date  hour  \\\n",
       "199 2024-01-24 14:19:00      3250.6      3245.8    -4.8  2024-01-24    14   \n",
       "200 2024-01-24 14:20:00      3245.8      3241.0    -4.8  2024-01-24    14   \n",
       "201 2024-01-24 14:21:00      3243.2      3239.0    -4.2  2024-01-24    14   \n",
       "202 2024-01-24 14:22:00      3240.8      3235.0    -5.8  2024-01-24    14   \n",
       "203 2024-01-24 14:23:00      3243.8      3238.0    -5.8  2024-01-24    14   \n",
       "\n",
       "     minute       std  volatility  Expiration_Date  \n",
       "199      19  2.284265    0.826044                0  \n",
       "200      20  2.294348    0.830449                0  \n",
       "201      21  2.296284    0.831292                0  \n",
       "202      22  2.300440    0.833100                0  \n",
       "203      23  2.316842    0.840205                0  "
      ]
     },
     "execution_count": 3,
     "metadata": {},
     "output_type": "execute_result"
    }
   ],
   "source": [
    "import matplotlib.pyplot as plt\n",
    "import pandas as pd\n",
    "import numpy as np \n",
    "\n",
    "df = pd.read_csv('./data/df.csv',sep=',')\n",
    "df  = df.sort_values(by='time',ascending=True).reset_index(drop=True)\n",
    "\n",
    "BATCHSIZE = 256\n",
    "LOOKBACK = 10\n",
    "\n",
    "\n",
    "date_target = [\"2024-02-19\",\n",
    "\"2024-03-15\",\n",
    "\"2024-04-19\",\n",
    "\"2024-05-17\",\n",
    "\"2024-06-21\",\n",
    "\"2024-07-19\",\n",
    "\"2024-08-16\",\n",
    "\"2024-09-20\",\n",
    "\"2024-10-18\",\n",
    "\"2024-11-15\",\n",
    "\"2024-12-20\",\n",
    "\"2025-01-17\"]\n",
    "\n",
    "\n",
    "df['time'] = pd.to_datetime(df['time'])\n",
    "df['date'] = df['time'].dt.date\n",
    "print(df.head())\n",
    "df['date'] = df['date'].astype(str)\n",
    "df['hour'] = df['time'].dt.hour\n",
    "df['minute'] = df['time'].dt.minute \n",
    "# for i in range(1,5):\n",
    "#     df[f'spread_shift_{i}'] = df.groupby(['hour','minute'])['spread'].shift(i)\n",
    "df['std'] = df['spread'].rolling(window=200).std()\n",
    "df['volatility'] = df['std'].apply(lambda x: np.log(x))\n",
    "\n",
    "df['Expiration_Date'] = df['date'].apply(lambda x: 1 if x in date_target else 0)\n",
    "# df.fillna(0,inplace=True)\n",
    "\n",
    "\n",
    "df.dropna(inplace=True)\n",
    "\n",
    "df.head()\n"
   ]
  },
  {
   "cell_type": "code",
   "execution_count": 4,
   "metadata": {},
   "outputs": [
    {
     "name": "stdout",
     "output_type": "stream",
     "text": [
      "<class 'pandas.core.frame.DataFrame'>\n",
      "Int64Index: 58364 entries, 199 to 58562\n",
      "Data columns (total 10 columns):\n",
      " #   Column           Non-Null Count  Dtype         \n",
      "---  ------           --------------  -----         \n",
      " 0   time             58364 non-null  datetime64[ns]\n",
      " 1   IF00_close       58364 non-null  float64       \n",
      " 2   IF01_close       58364 non-null  float64       \n",
      " 3   spread           58364 non-null  float64       \n",
      " 4   date             58364 non-null  object        \n",
      " 5   hour             58364 non-null  int64         \n",
      " 6   minute           58364 non-null  int64         \n",
      " 7   std              58364 non-null  float64       \n",
      " 8   volatility       58364 non-null  float64       \n",
      " 9   Expiration_Date  58364 non-null  int64         \n",
      "dtypes: datetime64[ns](1), float64(5), int64(3), object(1)\n",
      "memory usage: 4.9+ MB\n"
     ]
    }
   ],
   "source": [
    "df.info() "
   ]
  },
  {
   "cell_type": "code",
   "execution_count": 5,
   "metadata": {},
   "outputs": [],
   "source": [
    "df['year'] = df['time'].dt.year \n",
    "df['month'] = df['time'].dt.month "
   ]
  },
  {
   "cell_type": "code",
   "execution_count": 6,
   "metadata": {},
   "outputs": [
    {
     "data": {
      "text/html": [
       "<div>\n",
       "<style scoped>\n",
       "    .dataframe tbody tr th:only-of-type {\n",
       "        vertical-align: middle;\n",
       "    }\n",
       "\n",
       "    .dataframe tbody tr th {\n",
       "        vertical-align: top;\n",
       "    }\n",
       "\n",
       "    .dataframe thead th {\n",
       "        text-align: right;\n",
       "    }\n",
       "</style>\n",
       "<table border=\"1\" class=\"dataframe\">\n",
       "  <thead>\n",
       "    <tr style=\"text-align: right;\">\n",
       "      <th></th>\n",
       "      <th>time</th>\n",
       "      <th>IF00_close</th>\n",
       "      <th>IF01_close</th>\n",
       "      <th>spread</th>\n",
       "      <th>date</th>\n",
       "      <th>hour</th>\n",
       "      <th>minute</th>\n",
       "      <th>std</th>\n",
       "      <th>volatility</th>\n",
       "      <th>Expiration_Date</th>\n",
       "      <th>year</th>\n",
       "      <th>month</th>\n",
       "      <th>year_month</th>\n",
       "    </tr>\n",
       "  </thead>\n",
       "  <tbody>\n",
       "    <tr>\n",
       "      <th>199</th>\n",
       "      <td>2024-01-24 14:19:00</td>\n",
       "      <td>3250.6</td>\n",
       "      <td>3245.8</td>\n",
       "      <td>-4.8</td>\n",
       "      <td>2024-01-24</td>\n",
       "      <td>14</td>\n",
       "      <td>19</td>\n",
       "      <td>2.284265</td>\n",
       "      <td>0.826044</td>\n",
       "      <td>0</td>\n",
       "      <td>2024</td>\n",
       "      <td>1</td>\n",
       "      <td>202401</td>\n",
       "    </tr>\n",
       "    <tr>\n",
       "      <th>200</th>\n",
       "      <td>2024-01-24 14:20:00</td>\n",
       "      <td>3245.8</td>\n",
       "      <td>3241.0</td>\n",
       "      <td>-4.8</td>\n",
       "      <td>2024-01-24</td>\n",
       "      <td>14</td>\n",
       "      <td>20</td>\n",
       "      <td>2.294348</td>\n",
       "      <td>0.830449</td>\n",
       "      <td>0</td>\n",
       "      <td>2024</td>\n",
       "      <td>1</td>\n",
       "      <td>202401</td>\n",
       "    </tr>\n",
       "    <tr>\n",
       "      <th>201</th>\n",
       "      <td>2024-01-24 14:21:00</td>\n",
       "      <td>3243.2</td>\n",
       "      <td>3239.0</td>\n",
       "      <td>-4.2</td>\n",
       "      <td>2024-01-24</td>\n",
       "      <td>14</td>\n",
       "      <td>21</td>\n",
       "      <td>2.296284</td>\n",
       "      <td>0.831292</td>\n",
       "      <td>0</td>\n",
       "      <td>2024</td>\n",
       "      <td>1</td>\n",
       "      <td>202401</td>\n",
       "    </tr>\n",
       "    <tr>\n",
       "      <th>202</th>\n",
       "      <td>2024-01-24 14:22:00</td>\n",
       "      <td>3240.8</td>\n",
       "      <td>3235.0</td>\n",
       "      <td>-5.8</td>\n",
       "      <td>2024-01-24</td>\n",
       "      <td>14</td>\n",
       "      <td>22</td>\n",
       "      <td>2.300440</td>\n",
       "      <td>0.833100</td>\n",
       "      <td>0</td>\n",
       "      <td>2024</td>\n",
       "      <td>1</td>\n",
       "      <td>202401</td>\n",
       "    </tr>\n",
       "    <tr>\n",
       "      <th>203</th>\n",
       "      <td>2024-01-24 14:23:00</td>\n",
       "      <td>3243.8</td>\n",
       "      <td>3238.0</td>\n",
       "      <td>-5.8</td>\n",
       "      <td>2024-01-24</td>\n",
       "      <td>14</td>\n",
       "      <td>23</td>\n",
       "      <td>2.316842</td>\n",
       "      <td>0.840205</td>\n",
       "      <td>0</td>\n",
       "      <td>2024</td>\n",
       "      <td>1</td>\n",
       "      <td>202401</td>\n",
       "    </tr>\n",
       "    <tr>\n",
       "      <th>...</th>\n",
       "      <td>...</td>\n",
       "      <td>...</td>\n",
       "      <td>...</td>\n",
       "      <td>...</td>\n",
       "      <td>...</td>\n",
       "      <td>...</td>\n",
       "      <td>...</td>\n",
       "      <td>...</td>\n",
       "      <td>...</td>\n",
       "      <td>...</td>\n",
       "      <td>...</td>\n",
       "      <td>...</td>\n",
       "      <td>...</td>\n",
       "    </tr>\n",
       "    <tr>\n",
       "      <th>58558</th>\n",
       "      <td>2025-01-24 14:56:00</td>\n",
       "      <td>3835.2</td>\n",
       "      <td>3837.8</td>\n",
       "      <td>2.6</td>\n",
       "      <td>2025-01-24</td>\n",
       "      <td>14</td>\n",
       "      <td>56</td>\n",
       "      <td>0.527048</td>\n",
       "      <td>-0.640463</td>\n",
       "      <td>0</td>\n",
       "      <td>2025</td>\n",
       "      <td>1</td>\n",
       "      <td>202501</td>\n",
       "    </tr>\n",
       "    <tr>\n",
       "      <th>58559</th>\n",
       "      <td>2025-01-24 14:57:00</td>\n",
       "      <td>3834.4</td>\n",
       "      <td>3837.8</td>\n",
       "      <td>3.4</td>\n",
       "      <td>2025-01-24</td>\n",
       "      <td>14</td>\n",
       "      <td>57</td>\n",
       "      <td>0.528291</td>\n",
       "      <td>-0.638108</td>\n",
       "      <td>0</td>\n",
       "      <td>2025</td>\n",
       "      <td>1</td>\n",
       "      <td>202501</td>\n",
       "    </tr>\n",
       "    <tr>\n",
       "      <th>58560</th>\n",
       "      <td>2025-01-24 14:58:00</td>\n",
       "      <td>3835.0</td>\n",
       "      <td>3838.0</td>\n",
       "      <td>3.0</td>\n",
       "      <td>2025-01-24</td>\n",
       "      <td>14</td>\n",
       "      <td>58</td>\n",
       "      <td>0.528291</td>\n",
       "      <td>-0.638108</td>\n",
       "      <td>0</td>\n",
       "      <td>2025</td>\n",
       "      <td>1</td>\n",
       "      <td>202501</td>\n",
       "    </tr>\n",
       "    <tr>\n",
       "      <th>58561</th>\n",
       "      <td>2025-01-24 14:59:00</td>\n",
       "      <td>3836.0</td>\n",
       "      <td>3839.2</td>\n",
       "      <td>3.2</td>\n",
       "      <td>2025-01-24</td>\n",
       "      <td>14</td>\n",
       "      <td>59</td>\n",
       "      <td>0.527048</td>\n",
       "      <td>-0.640463</td>\n",
       "      <td>0</td>\n",
       "      <td>2025</td>\n",
       "      <td>1</td>\n",
       "      <td>202501</td>\n",
       "    </tr>\n",
       "    <tr>\n",
       "      <th>58562</th>\n",
       "      <td>2025-01-24 15:00:00</td>\n",
       "      <td>3840.2</td>\n",
       "      <td>3843.8</td>\n",
       "      <td>3.6</td>\n",
       "      <td>2025-01-24</td>\n",
       "      <td>15</td>\n",
       "      <td>0</td>\n",
       "      <td>0.531038</td>\n",
       "      <td>-0.632922</td>\n",
       "      <td>0</td>\n",
       "      <td>2025</td>\n",
       "      <td>1</td>\n",
       "      <td>202501</td>\n",
       "    </tr>\n",
       "  </tbody>\n",
       "</table>\n",
       "<p>58364 rows × 13 columns</p>\n",
       "</div>"
      ],
      "text/plain": [
       "                     time  IF00_close  IF01_close  spread        date  hour  \\\n",
       "199   2024-01-24 14:19:00      3250.6      3245.8    -4.8  2024-01-24    14   \n",
       "200   2024-01-24 14:20:00      3245.8      3241.0    -4.8  2024-01-24    14   \n",
       "201   2024-01-24 14:21:00      3243.2      3239.0    -4.2  2024-01-24    14   \n",
       "202   2024-01-24 14:22:00      3240.8      3235.0    -5.8  2024-01-24    14   \n",
       "203   2024-01-24 14:23:00      3243.8      3238.0    -5.8  2024-01-24    14   \n",
       "...                   ...         ...         ...     ...         ...   ...   \n",
       "58558 2025-01-24 14:56:00      3835.2      3837.8     2.6  2025-01-24    14   \n",
       "58559 2025-01-24 14:57:00      3834.4      3837.8     3.4  2025-01-24    14   \n",
       "58560 2025-01-24 14:58:00      3835.0      3838.0     3.0  2025-01-24    14   \n",
       "58561 2025-01-24 14:59:00      3836.0      3839.2     3.2  2025-01-24    14   \n",
       "58562 2025-01-24 15:00:00      3840.2      3843.8     3.6  2025-01-24    15   \n",
       "\n",
       "       minute       std  volatility  Expiration_Date  year  month year_month  \n",
       "199        19  2.284265    0.826044                0  2024      1     202401  \n",
       "200        20  2.294348    0.830449                0  2024      1     202401  \n",
       "201        21  2.296284    0.831292                0  2024      1     202401  \n",
       "202        22  2.300440    0.833100                0  2024      1     202401  \n",
       "203        23  2.316842    0.840205                0  2024      1     202401  \n",
       "...       ...       ...         ...              ...   ...    ...        ...  \n",
       "58558      56  0.527048   -0.640463                0  2025      1     202501  \n",
       "58559      57  0.528291   -0.638108                0  2025      1     202501  \n",
       "58560      58  0.528291   -0.638108                0  2025      1     202501  \n",
       "58561      59  0.527048   -0.640463                0  2025      1     202501  \n",
       "58562       0  0.531038   -0.632922                0  2025      1     202501  \n",
       "\n",
       "[58364 rows x 13 columns]"
      ]
     },
     "execution_count": 6,
     "metadata": {},
     "output_type": "execute_result"
    }
   ],
   "source": [
    "df['year_month'] = df[['year','month']].apply(lambda x: str(x[0])+ '0'+ str(x[1]) if x[1]<=9 else str(x[0])+str(x[1]),axis=1)\n",
    "df "
   ]
  },
  {
   "cell_type": "code",
   "execution_count": 7,
   "metadata": {},
   "outputs": [],
   "source": [
    "# df_month = df[df['year_month']=='202404']"
   ]
  },
  {
   "cell_type": "code",
   "execution_count": 8,
   "metadata": {},
   "outputs": [],
   "source": [
    "# df_month"
   ]
  },
  {
   "cell_type": "code",
   "execution_count": 9,
   "metadata": {},
   "outputs": [],
   "source": [
    "# df_month_target = pd.DataFrame()\n",
    "# df_month_test = pd.DataFrame() \n",
    "# for date in df_month['date'].unique():\n",
    "#     if date in date_target:\n",
    "#         df_month_target = df_month[df_month['date']==date]\n",
    "#     else:\n",
    "#         df_month_test = pd.concat([df_month_test,df_month[df_month['date']==date]],axis=0)"
   ]
  },
  {
   "cell_type": "code",
   "execution_count": 10,
   "metadata": {},
   "outputs": [],
   "source": [
    "# df_month_target\n",
    "\n",
    "aa = df[df['date'].isin(date_target)] "
   ]
  },
  {
   "cell_type": "code",
   "execution_count": 11,
   "metadata": {},
   "outputs": [
    {
     "name": "stdout",
     "output_type": "stream",
     "text": [
      "T3 0.8326417704011063 3.2286517431497974e-06\n",
      "T2 0.8364453665283539 7.567674208838511e-05\n",
      "T1 0.8167358229598894 1.993087108229119e-15\n",
      "T0 0.0 1.0\n",
      "T-1 0.5034578146611342 0.0002168561747327406\n"
     ]
    },
    {
     "name": "stderr",
     "output_type": "stream",
     "text": [
      "/var/folders/71/8c25_pts4j92396n9h1t_88c0000gn/T/ipykernel_44122/2100894954.py:34: RuntimeWarning: Mean of empty slice.\n",
      "  array_pvalue[array_pvalue<0.8].mean()\n",
      "/Users/gaoxiancheng/opt/anaconda3/lib/python3.9/site-packages/numpy/core/_methods.py:189: RuntimeWarning: invalid value encountered in double_scalars\n",
      "  ret = ret.dtype.type(ret / rcount)\n"
     ]
    },
    {
     "name": "stdout",
     "output_type": "stream",
     "text": [
      "T-2 0.5418395573997233 1.085568649294552e-06\n",
      "T-3 0.7334024896265561 5.7030164793687365e-11\n",
      "T-4 0.7244121715076072 1.2965669865468545e-07\n",
      "T-5 0.7123098201936376 7.481048099883156e-06\n"
     ]
    }
   ],
   "source": [
    "for delay in range(-3,6):\n",
    "\n",
    "    bb = pd.DataFrame()\n",
    "\n",
    "    for date in date_target:\n",
    "        if delay>0:\n",
    "            date_list = sorted(df[df['date']<date]['date'].unique())\n",
    "            date_ = date_list[-delay]\n",
    "        elif delay<0:\n",
    "            date_list = sorted(df[df['date']>date]['date'].unique())\n",
    "            date_ = date_list[-delay]\n",
    "        else:\n",
    "            date_ = date \n",
    "\n",
    "        # print(date_,date )\n",
    "\n",
    "\n",
    "        df_bb = df[df['date']==date_]\n",
    "        bb = pd.concat([bb,df_bb],axis=0)\n",
    "    bb \n",
    "    statistics = [] \n",
    "    pvalue = []\n",
    "\n",
    "    for month in aa['year_month'].unique():\n",
    "        if aa[aa['year_month']==month].shape==bb[bb['year_month']==month].shape:\n",
    "            # print(month,wl(aa[aa['year_month']==month]['spread'],bb[bb['year_month']==month]['spread']))\n",
    "            statistics.append(ks_2samp(aa[aa['year_month']==month]['spread'],bb[bb['year_month']==month]['spread']).statistic)\n",
    "            pvalue.append(ks_2samp(aa[aa['year_month']==month]['spread'],bb[bb['year_month']==month]['spread']).pvalue)\n",
    "\n",
    "    array_statistics = np.array(statistics)\n",
    "    # array_statistics[array_statistics<14000].mean()\n",
    "    array_pvalue = np.array(pvalue)\n",
    "\n",
    "    array_pvalue[array_pvalue<0.8].mean() \n",
    "    print(\"T\"+ str(-delay), array_statistics.mean(),array_pvalue.mean() )\n",
    "\n",
    "\n",
    "\n",
    "\n",
    "\n"
   ]
  },
  {
   "cell_type": "code",
   "execution_count": 12,
   "metadata": {},
   "outputs": [
    {
     "name": "stdout",
     "output_type": "stream",
     "text": [
      "T-1 [570, 585] 0.7444444444444445 0.062167598261412806\n",
      "T-1 [570, 600] 0.7055555555555556 0.07861435958901222\n",
      "T-1 [570, 630] 0.7152777777777778 0.009984255939304767\n",
      "T-1 [630.0, 690.0] 0.7430555555555557 0.0007252878009401053\n",
      "T-1 [780, 840] 0.751412429378531 0.0007456473527957754\n",
      "T-1 [885, 900] 0.8166666666666668 0.10401278119110381\n",
      "T-1 [870, 900] 0.813888888888889 0.02130135172184772\n",
      "T-1 [840, 900] 0.7194444444444446 0.024563013535514613\n"
     ]
    },
    {
     "name": "stderr",
     "output_type": "stream",
     "text": [
      "/var/folders/71/8c25_pts4j92396n9h1t_88c0000gn/T/ipykernel_44122/2028095792.py:19: SettingWithCopyWarning: \n",
      "A value is trying to be set on a copy of a slice from a DataFrame.\n",
      "Try using .loc[row_indexer,col_indexer] = value instead\n",
      "\n",
      "See the caveats in the documentation: https://pandas.pydata.org/pandas-docs/stable/user_guide/indexing.html#returning-a-view-versus-a-copy\n",
      "  aa['minutes'] = aa['hour']*60 + aa['minute']\n"
     ]
    }
   ],
   "source": [
    "for delay in [1]:\n",
    "\n",
    "    bb = pd.DataFrame()\n",
    "\n",
    "    for date in date_target:\n",
    "        if delay>0:\n",
    "            date_list = sorted(df[df['date']<date]['date'].unique())\n",
    "            date_ = date_list[-delay]\n",
    "        elif delay<0:\n",
    "            date_list = sorted(df[df['date']>date]['date'].unique())\n",
    "            date_ = date_list[-delay]\n",
    "        else:\n",
    "            date_ = date \n",
    "\n",
    "\n",
    "        df_bb = df[df['date']==date_]\n",
    "        bb = pd.concat([bb,df_bb],axis=0)\n",
    "    bb['minutes'] = bb['hour']*60 + bb['minute']\n",
    "    aa['minutes'] = aa['hour']*60 + aa['minute']\n",
    "\n",
    "    for periods in [[570, 585],[570, 600],[570, 630],[630.0, 690.0],[780, 840], [885, 900],[870, 900],[840, 900]]:\n",
    "        start_min = periods[0]\n",
    "        end_min = periods[1]\n",
    "        statistics = [] \n",
    "        pvalue = []\n",
    "\n",
    "        for month in aa['year_month'].unique():\n",
    "            if aa[aa['year_month']==month].shape==bb[bb['year_month']==month].shape:\n",
    "            # print(month,wl(aa[aa['year_month']==month]['spread'],bb[bb['year_month']==month]['spread']))\n",
    "                aa_ = aa[(aa['year_month']==month) & (aa['minutes']>=start_min) & (aa['minutes']<end_min)]\n",
    "                bb_ = bb[(bb['year_month']==month) & (bb['minutes']>=start_min) & (bb['minutes']<end_min)]\n",
    "                # print(aa[aa['year_month']==month].head() )\n",
    "            \n",
    "                statistics.append(ks_2samp(aa_['spread'],bb_['spread']).statistic)\n",
    "                pvalue.append(ks_2samp(aa_['spread'],bb_['spread']).pvalue)\n",
    "\n",
    "        array_statistics = np.array(statistics)\n",
    "        array_pvalue = np.array(pvalue)\n",
    "\n",
    "\n",
    "        print(\"T\"+ str(-delay),periods, array_statistics.mean(),array_pvalue.mean() )\n",
    "        # print(array_statistics, array_pvalue)\n",
    "\n",
    "\n",
    "\n",
    "\n",
    "\n",
    "\n",
    "\n"
   ]
  },
  {
   "cell_type": "code",
   "execution_count": 13,
   "metadata": {},
   "outputs": [
    {
     "name": "stdout",
     "output_type": "stream",
     "text": [
      "T-2 [570, 585] 0.7833333333333333 0.0781990852269084\n",
      "T-2 [570, 600] 0.7833333333333335 0.08572982913661313\n",
      "T-2 [570, 630] 0.7916666666666666 0.08294639355337495\n",
      "T-2 [630.0, 690.0] 0.8013888888888888 0.0004084586133532387\n",
      "T-2 [780, 840] 0.7612994350282486 0.0012100195112086799\n",
      "T-2 [885, 900] 0.9611111111111111 3.381844509461815e-05\n",
      "T-2 [870, 900] 0.8694444444444445 0.0018494218225707923\n",
      "T-2 [840, 900] 0.7875000000000001 0.0023117208858179634\n"
     ]
    },
    {
     "name": "stderr",
     "output_type": "stream",
     "text": [
      "/var/folders/71/8c25_pts4j92396n9h1t_88c0000gn/T/ipykernel_44122/4166163876.py:19: SettingWithCopyWarning: \n",
      "A value is trying to be set on a copy of a slice from a DataFrame.\n",
      "Try using .loc[row_indexer,col_indexer] = value instead\n",
      "\n",
      "See the caveats in the documentation: https://pandas.pydata.org/pandas-docs/stable/user_guide/indexing.html#returning-a-view-versus-a-copy\n",
      "  aa['minutes'] = aa['hour']*60 + aa['minute']\n"
     ]
    }
   ],
   "source": [
    "for delay in [2]:\n",
    "\n",
    "    bb = pd.DataFrame()\n",
    "\n",
    "    for date in date_target:\n",
    "        if delay>0:\n",
    "            date_list = sorted(df[df['date']<date]['date'].unique())\n",
    "            date_ = date_list[-delay]\n",
    "        elif delay<0:\n",
    "            date_list = sorted(df[df['date']>date]['date'].unique())\n",
    "            date_ = date_list[-delay]\n",
    "        else:\n",
    "            date_ = date \n",
    "\n",
    "\n",
    "        df_bb = df[df['date']==date_]\n",
    "        bb = pd.concat([bb,df_bb],axis=0)\n",
    "    bb['minutes'] = bb['hour']*60 + bb['minute']\n",
    "    aa['minutes'] = aa['hour']*60 + aa['minute']\n",
    "\n",
    "    for periods in [[570, 585],[570, 600],[570, 630],[630.0, 690.0],[780, 840], [885, 900],[870, 900],[840, 900]]:\n",
    "        start_min = periods[0]\n",
    "        end_min = periods[1]\n",
    "        statistics = [] \n",
    "        pvalue = []\n",
    "\n",
    "        for month in aa['year_month'].unique():\n",
    "            if aa[aa['year_month']==month].shape==bb[bb['year_month']==month].shape:\n",
    "            # print(month,wl(aa[aa['year_month']==month]['spread'],bb[bb['year_month']==month]['spread']))\n",
    "                aa_ = aa[(aa['year_month']==month) & (aa['minutes']>=start_min) & (aa['minutes']<end_min)]\n",
    "                bb_ = bb[(bb['year_month']==month) & (bb['minutes']>=start_min) & (bb['minutes']<end_min)]\n",
    "                # print(aa[aa['year_month']==month].head() )\n",
    "            \n",
    "                statistics.append(ks_2samp(aa_['spread'],bb_['spread']).statistic)\n",
    "                pvalue.append(ks_2samp(aa_['spread'],bb_['spread']).pvalue)\n",
    "\n",
    "        array_statistics = np.array(statistics)\n",
    "        array_pvalue = np.array(pvalue)\n",
    "\n",
    "\n",
    "        print(\"T\"+ str(-delay),periods, array_statistics.mean(),array_pvalue.mean() )\n",
    "        # print(array_statistics, array_pvalue)\n",
    "\n",
    "\n",
    "\n",
    "\n",
    "\n",
    "\n",
    "\n"
   ]
  },
  {
   "cell_type": "markdown",
   "metadata": {},
   "source": [
    "# 波动率\n",
    "\n"
   ]
  },
  {
   "cell_type": "code",
   "execution_count": 25,
   "metadata": {},
   "outputs": [
    {
     "name": "stdout",
     "output_type": "stream",
     "text": [
      "T3 0.8675656984785616 1.0914294812247665e-35\n",
      "T2 0.9049100968188104 3.038399676791729e-36\n",
      "T1 0.8388658367911481 9.883160716740384e-27\n",
      "T0 0.0 1.0\n",
      "T-1 0.7071230982019364 6.881112199451501e-12\n"
     ]
    },
    {
     "name": "stderr",
     "output_type": "stream",
     "text": [
      "/var/folders/71/8c25_pts4j92396n9h1t_88c0000gn/T/ipykernel_44122/3543046309.py:35: RuntimeWarning: Mean of empty slice.\n",
      "  array_pvalue[array_pvalue<0.8].mean()\n",
      "/Users/gaoxiancheng/opt/anaconda3/lib/python3.9/site-packages/numpy/core/_methods.py:189: RuntimeWarning: invalid value encountered in double_scalars\n",
      "  ret = ret.dtype.type(ret / rcount)\n"
     ]
    },
    {
     "name": "stdout",
     "output_type": "stream",
     "text": [
      "T-2 0.7261410788381744 2.107351068434077e-07\n",
      "T-3 0.7164591977869986 6.777649153563002e-10\n",
      "T-4 0.7686721991701244 3.7760351783111846e-14\n",
      "T-5 0.7493084370677732 1.3291337475695026e-23\n"
     ]
    }
   ],
   "source": [
    "\n",
    "\n",
    "\n",
    "for delay in range(-3,6):\n",
    "\n",
    "    bb = pd.DataFrame()\n",
    "\n",
    "    for date in date_target:\n",
    "        if delay>0:\n",
    "            date_list = sorted(df[df['date']<date]['date'].unique())\n",
    "            date_ = date_list[-delay]\n",
    "        elif delay<0:\n",
    "            date_list = sorted(df[df['date']>date]['date'].unique())\n",
    "            date_ = date_list[-delay]\n",
    "        else:\n",
    "            date_ = date \n",
    "\n",
    "\n",
    "        df_bb = df[df['date']==date_]\n",
    "        bb = pd.concat([bb,df_bb],axis=0)\n",
    "    bb \n",
    "    statistics = [] \n",
    "    pvalue = []\n",
    "\n",
    "    for month in aa['year_month'].unique():\n",
    "        if aa[aa['year_month']==month].shape[0]==bb[bb['year_month']==month].shape[0]:\n",
    "            # print(month,wl(aa[aa['year_month']==month]['spread'],bb[bb['year_month']==month]['spread']))\n",
    "            statistics.append(ks_2samp(aa[aa['year_month']==month]['volatility'],bb[bb['year_month']==month]['volatility']).statistic)\n",
    "            pvalue.append(ks_2samp(aa[aa['year_month']==month]['volatility'],bb[bb['year_month']==month]['volatility']).pvalue)\n",
    "            # print(\"11\",ks_2samp(aa[aa['year_month']==month]['volatility'],bb[bb['year_month']==month]['volatility']))\n",
    "        else:\n",
    "            print(aa[aa['year_month']==month].shape, bb[bb['year_month']==month].shape)\n",
    "\n",
    "    array_statistics = np.array(statistics)\n",
    "    array_statistics[array_statistics<14000].mean()\n",
    "    array_pvalue = np.array(pvalue)\n",
    "\n",
    "    array_pvalue[array_pvalue<0.8].mean() \n",
    "    print(\"T\"+ str(-delay), array_statistics.mean(),array_pvalue.mean() )\n",
    "\n",
    "\n",
    "\n",
    "\n",
    "\n",
    "\n"
   ]
  },
  {
   "cell_type": "code",
   "execution_count": 26,
   "metadata": {},
   "outputs": [
    {
     "name": "stdout",
     "output_type": "stream",
     "text": [
      "T-1 [570, 585] 0.8722222222222222 0.08041108122409384\n",
      "T-1 [570, 600] 0.875 9.26078897975468e-06\n",
      "T-1 [570, 630] 0.8444444444444442 9.672203251692289e-09\n",
      "T-1 [630.0, 690.0] 0.9208333333333334 2.9282175368109693e-08\n",
      "T-1 [780, 840] 0.8502824858757062 5.030107237329729e-07\n",
      "T-1 [885, 900] 1.0 1.2893450075787697e-08\n",
      "T-1 [870, 900] 1.0 1.691123389214474e-17\n",
      "T-1 [840, 900] 1.0 2.0700738881869652e-35\n"
     ]
    },
    {
     "name": "stderr",
     "output_type": "stream",
     "text": [
      "/var/folders/71/8c25_pts4j92396n9h1t_88c0000gn/T/ipykernel_44122/2781922498.py:19: SettingWithCopyWarning: \n",
      "A value is trying to be set on a copy of a slice from a DataFrame.\n",
      "Try using .loc[row_indexer,col_indexer] = value instead\n",
      "\n",
      "See the caveats in the documentation: https://pandas.pydata.org/pandas-docs/stable/user_guide/indexing.html#returning-a-view-versus-a-copy\n",
      "  aa['minutes'] = aa['hour']*60 + aa['minute']\n"
     ]
    }
   ],
   "source": [
    "\n",
    "for delay in [1]:\n",
    "\n",
    "    bb = pd.DataFrame()\n",
    "\n",
    "    for date in date_target:\n",
    "        if delay>0:\n",
    "            date_list = sorted(df[df['date']<date]['date'].unique())\n",
    "            date_ = date_list[-delay]\n",
    "        elif delay<0:\n",
    "            date_list = sorted(df[df['date']>date]['date'].unique())\n",
    "            date_ = date_list[-delay]\n",
    "        else:\n",
    "            date_ = date \n",
    "\n",
    "\n",
    "        df_bb = df[df['date']==date_]\n",
    "        bb = pd.concat([bb,df_bb],axis=0)\n",
    "    bb['minutes'] = bb['hour']*60 + bb['minute']\n",
    "    aa['minutes'] = aa['hour']*60 + aa['minute']\n",
    "\n",
    "    for periods in [[570, 585],[570, 600],[570, 630],[630.0, 690.0],[780, 840], [885, 900],[870, 900],[840, 900]]:\n",
    "        start_min = periods[0]\n",
    "        end_min = periods[1]\n",
    "        statistics = [] \n",
    "        pvalue = []\n",
    "\n",
    "        for month in aa['year_month'].unique():\n",
    "            if aa[aa['year_month']==month].shape[0]==bb[bb['year_month']==month].shape[0]:\n",
    "            # print(month,wl(aa[aa['year_month']==month]['spread'],bb[bb['year_month']==month]['spread']))\n",
    "                aa_ = aa[(aa['year_month']==month) & (aa['minutes']>=start_min) & (aa['minutes']<end_min)]\n",
    "                bb_ = bb[(bb['year_month']==month) & (bb['minutes']>=start_min) & (bb['minutes']<end_min)]\n",
    "                # print(aa[aa['year_month']==month].head() )\n",
    "            \n",
    "                statistics.append(ks_2samp(aa_['volatility'],bb_['volatility']).statistic)\n",
    "                pvalue.append(ks_2samp(aa_['volatility'],bb_['volatility']).pvalue)\n",
    "\n",
    "        array_statistics = np.array(statistics)\n",
    "        array_pvalue = np.array(pvalue)\n",
    "\n",
    "\n",
    "        print(\"T\"+ str(-delay),periods, array_statistics.mean(),array_pvalue.mean() )\n",
    "        # print(array_statistics, array_pvalue)\n",
    "\n",
    "\n",
    "\n",
    "\n",
    "\n",
    "\n",
    "\n"
   ]
  },
  {
   "cell_type": "code",
   "execution_count": 27,
   "metadata": {},
   "outputs": [
    {
     "name": "stdout",
     "output_type": "stream",
     "text": [
      "T-2 [570, 585] 0.9277777777777777 0.0012760099568378863\n",
      "T-2 [570, 600] 0.861111111111111 0.0030925331706191076\n",
      "T-2 [570, 630] 0.7763888888888889 0.0003895985516026616\n",
      "T-2 [630.0, 690.0] 0.9694444444444444 5.355291191884993e-17\n",
      "T-2 [780, 840] 0.8728813559322033 1.7881786936909514e-10\n",
      "T-2 [885, 900] 1.0 1.2893450075787697e-08\n",
      "T-2 [870, 900] 1.0 1.691123389214474e-17\n",
      "T-2 [840, 900] 0.9625 9.161523484460591e-10\n"
     ]
    },
    {
     "name": "stderr",
     "output_type": "stream",
     "text": [
      "/var/folders/71/8c25_pts4j92396n9h1t_88c0000gn/T/ipykernel_44122/1404791677.py:19: SettingWithCopyWarning: \n",
      "A value is trying to be set on a copy of a slice from a DataFrame.\n",
      "Try using .loc[row_indexer,col_indexer] = value instead\n",
      "\n",
      "See the caveats in the documentation: https://pandas.pydata.org/pandas-docs/stable/user_guide/indexing.html#returning-a-view-versus-a-copy\n",
      "  aa['minutes'] = aa['hour']*60 + aa['minute']\n"
     ]
    }
   ],
   "source": [
    "\n",
    "for delay in [2]:\n",
    "\n",
    "    bb = pd.DataFrame()\n",
    "\n",
    "    for date in date_target:\n",
    "        if delay>0:\n",
    "            date_list = sorted(df[df['date']<date]['date'].unique())\n",
    "            date_ = date_list[-delay]\n",
    "        elif delay<0:\n",
    "            date_list = sorted(df[df['date']>date]['date'].unique())\n",
    "            date_ = date_list[-delay]\n",
    "        else:\n",
    "            date_ = date \n",
    "\n",
    "\n",
    "        df_bb = df[df['date']==date_]\n",
    "        bb = pd.concat([bb,df_bb],axis=0)\n",
    "    bb['minutes'] = bb['hour']*60 + bb['minute']\n",
    "    aa['minutes'] = aa['hour']*60 + aa['minute']\n",
    "\n",
    "    for periods in [[570, 585],[570, 600],[570, 630],[630.0, 690.0],[780, 840], [885, 900],[870, 900],[840, 900]]:\n",
    "        start_min = periods[0]\n",
    "        end_min = periods[1]\n",
    "        statistics = [] \n",
    "        pvalue = []\n",
    "\n",
    "        for month in aa['year_month'].unique():\n",
    "            if aa[aa['year_month']==month].shape[0]==bb[bb['year_month']==month].shape[0]:\n",
    "            # print(month,wl(aa[aa['year_month']==month]['spread'],bb[bb['year_month']==month]['spread']))\n",
    "                aa_ = aa[(aa['year_month']==month) & (aa['minutes']>=start_min) & (aa['minutes']<end_min)]\n",
    "                bb_ = bb[(bb['year_month']==month) & (bb['minutes']>=start_min) & (bb['minutes']<end_min)]\n",
    "                # print(aa[aa['year_month']==month].head() )\n",
    "            \n",
    "                statistics.append(ks_2samp(aa_['volatility'],bb_['volatility']).statistic)\n",
    "                pvalue.append(ks_2samp(aa_['volatility'],bb_['volatility']).pvalue)\n",
    "\n",
    "        array_statistics = np.array(statistics)\n",
    "        array_pvalue = np.array(pvalue)\n",
    "\n",
    "\n",
    "        print(\"T\"+ str(-delay),periods, array_statistics.mean(),array_pvalue.mean() )\n",
    "        # print(array_statistics, array_pvalue)\n",
    "\n",
    "\n",
    "\n",
    "\n",
    "\n",
    "\n",
    "\n"
   ]
  },
  {
   "cell_type": "code",
   "execution_count": null,
   "metadata": {},
   "outputs": [],
   "source": []
  },
  {
   "cell_type": "code",
   "execution_count": 42,
   "metadata": {},
   "outputs": [
    {
     "data": {
      "text/plain": [
       "KstestResult(statistic=0.970954356846473, pvalue=5.0614197675279473e-129, statistic_location=-4.622222222222111, statistic_sign=-1)"
      ]
     },
     "execution_count": 42,
     "metadata": {},
     "output_type": "execute_result"
    }
   ],
   "source": [
    "ks_2samp(df_month_target['spread'].values, df_month_test_tmp.groupby('hour_minte')['spread'].mean().values )\n",
    "# dangtian  和t-3之前的均值"
   ]
  },
  {
   "cell_type": "code",
   "execution_count": 43,
   "metadata": {},
   "outputs": [
    {
     "data": {
      "text/plain": [
       "KstestResult(statistic=1.0, pvalue=4.409413217307657e-144, statistic_location=-3.977777777777697, statistic_sign=1)"
      ]
     },
     "execution_count": 43,
     "metadata": {},
     "output_type": "execute_result"
    }
   ],
   "source": [
    "df_month_test_tmp2 = df_month_test[df_month_test['date'].isin(before_target[0:-3] )]\n",
    "ks_2samp(df_month_test_tmp2.groupby('hour_minte')['spread'].mean().values,\\\n",
    "    df_month_test[df_month_test['date']==before_target[-1]]['spread'].values)\n",
    "\n",
    "    # t-1  和t-3之前的均值"
   ]
  },
  {
   "cell_type": "code",
   "execution_count": 44,
   "metadata": {},
   "outputs": [
    {
     "data": {
      "text/plain": [
       "KstestResult(statistic=0.991701244813278, pvalue=5.1114358956352085e-139, statistic_location=-4.622222222222111, statistic_sign=1)"
      ]
     },
     "execution_count": 44,
     "metadata": {},
     "output_type": "execute_result"
    }
   ],
   "source": [
    "\n",
    "df_month_test_tmp2 = df_month_test[df_month_test['date'].isin(before_target[0:-3] )]\n",
    "ks_2samp(df_month_test_tmp2.groupby('hour_minte')['spread'].mean().values,\\\n",
    "    df_month_test[df_month_test['date']==before_target[-2]]['spread'].values)\n",
    "\n",
    "    # t-2  和t-3之前的均值"
   ]
  },
  {
   "cell_type": "code",
   "execution_count": 45,
   "metadata": {},
   "outputs": [
    {
     "data": {
      "text/plain": [
       "('2024-04-22', '2024-04-23', '2024-04-24')"
      ]
     },
     "execution_count": 45,
     "metadata": {},
     "output_type": "execute_result"
    }
   ],
   "source": [
    "after_target[0],after_target[1],after_target[2]"
   ]
  },
  {
   "cell_type": "code",
   "execution_count": 46,
   "metadata": {},
   "outputs": [
    {
     "data": {
      "text/plain": [
       "KstestResult(statistic=1.0, pvalue=4.409413217307657e-144, statistic_location=-12.800000000000182, statistic_sign=-1)"
      ]
     },
     "execution_count": 46,
     "metadata": {},
     "output_type": "execute_result"
    }
   ],
   "source": [
    "df_month_test_tmp2 = df_month_test[df_month_test['date'].isin(before_target[0:-3] )]\n",
    "ks_2samp(df_month_test_tmp2.groupby('hour_minte')['spread'].mean().values,\\\n",
    "    df_month_test[df_month_test['date']==after_target[0]]['spread'].values)\n",
    "    # t+ 1  与和t-3之前的均值"
   ]
  },
  {
   "cell_type": "code",
   "execution_count": 47,
   "metadata": {},
   "outputs": [
    {
     "data": {
      "text/plain": [
       "KstestResult(statistic=1.0, pvalue=4.409413217307657e-144, statistic_location=-13.0, statistic_sign=-1)"
      ]
     },
     "execution_count": 47,
     "metadata": {},
     "output_type": "execute_result"
    }
   ],
   "source": [
    "df_month_test_tmp2 = df_month_test[df_month_test['date'].isin(before_target[0:-3] )]\n",
    "ks_2samp(df_month_test_tmp2.groupby('hour_minte')['spread'].mean().values,\\\n",
    "    df_month_test[df_month_test['date']==after_target[1]]['spread'].values)\n",
    "    # t+2 和t-3之前的均值"
   ]
  },
  {
   "cell_type": "code",
   "execution_count": 48,
   "metadata": {},
   "outputs": [
    {
     "data": {
      "text/plain": [
       "KstestResult(statistic=1.0, pvalue=4.409413217307657e-144, statistic_location=-9.0, statistic_sign=-1)"
      ]
     },
     "execution_count": 48,
     "metadata": {},
     "output_type": "execute_result"
    }
   ],
   "source": [
    "df_month_test_tmp2 = df_month_test[df_month_test['date'].isin(before_target[0:-3] )]\n",
    "ks_2samp(df_month_test_tmp2.groupby('hour_minte')['spread'].mean().values,\\\n",
    "    df_month_test[df_month_test['date']==after_target[2]]['spread'].values)\n",
    "\n",
    "    # t+3 和t-3之前的均值"
   ]
  },
  {
   "cell_type": "markdown",
   "metadata": {},
   "source": [
    "## 统计部分时段内的对比"
   ]
  },
  {
   "cell_type": "code",
   "execution_count": 49,
   "metadata": {},
   "outputs": [
    {
     "name": "stdout",
     "output_type": "stream",
     "text": [
      "2024-04-18 前 15 minutes KstestResult(statistic=1.0, pvalue=1.2893450075787698e-08, statistic_location=0.8000000000001819, statistic_sign=1)\n",
      "2024-04-18 前 30 minutes KstestResult(statistic=1.0, pvalue=1.6911233892144742e-17, statistic_location=0.8000000000001819, statistic_sign=1)\n",
      "2024-04-18 前 60 minutes KstestResult(statistic=0.95, pvalue=5.8135955075842714e-30, statistic_location=0.2000000000002728, statistic_sign=1)\n",
      "2024-04-17 前 15 minutes KstestResult(statistic=1.0, pvalue=1.2893450075787698e-08, statistic_location=-2.399999999999636, statistic_sign=1)\n",
      "2024-04-17 前 30 minutes KstestResult(statistic=1.0, pvalue=1.6911233892144742e-17, statistic_location=-2.0, statistic_sign=1)\n",
      "2024-04-17 前 60 minutes KstestResult(statistic=1.0, pvalue=2.070073888186965e-35, statistic_location=-2.0, statistic_sign=1)\n"
     ]
    }
   ],
   "source": [
    "df_month_target\n",
    "\n",
    "for i in range(1,3):\n",
    "    for length in [15,30,60]:\n",
    "\n",
    "\n",
    "        print(before_target[-i], f\"前 {length} minutes\",ks_2samp(df_month_test[df_month_test['date']==before_target[-i]]['spread'].values[0:length],\\\n",
    "            df_month_target['spread'].values[0:length]))\n",
    "\n"
   ]
  },
  {
   "cell_type": "code",
   "execution_count": 50,
   "metadata": {},
   "outputs": [
    {
     "name": "stdout",
     "output_type": "stream",
     "text": [
      "2024-04-18 后 15 minutes KstestResult(statistic=0.3333333333333333, pvalue=0.3855465198257425, statistic_location=0.599999999999909, statistic_sign=1)\n",
      "2024-04-18 后 30 minutes KstestResult(statistic=0.36666666666666664, pvalue=0.034580084963334506, statistic_location=-1.599999999999909, statistic_sign=-1)\n",
      "2024-04-18 后 60 minutes KstestResult(statistic=0.25, pvalue=0.046660870723173625, statistic_location=-1.400000000000091, statistic_sign=-1)\n",
      "2024-04-17 后 15 minutes KstestResult(statistic=0.8, pvalue=5.2347407307698066e-05, statistic_location=-0.3999999999996362, statistic_sign=1)\n",
      "2024-04-17 后 30 minutes KstestResult(statistic=0.43333333333333335, pvalue=0.006548396368058784, statistic_location=-0.1999999999998181, statistic_sign=1)\n",
      "2024-04-17 后 60 minutes KstestResult(statistic=0.5666666666666667, pvalue=3.1578017116651398e-09, statistic_location=-0.3999999999996362, statistic_sign=1)\n"
     ]
    }
   ],
   "source": [
    "for i in range(1,3):\n",
    "    for length in [15,30,60]:\n",
    "\n",
    "\n",
    "        print(before_target[-i], f\"后 {length} minutes\",ks_2samp(df_month_test[df_month_test['date']==before_target[-i]]['spread'].values[-length:],\\\n",
    "            df_month_target['spread'].values[-length:]))\n",
    "\n"
   ]
  },
  {
   "cell_type": "code",
   "execution_count": 52,
   "metadata": {},
   "outputs": [
    {
     "name": "stdout",
     "output_type": "stream",
     "text": [
      "2024-04-18 780.0-840.0时间段内 KstestResult(statistic=0.3050847457627119, pvalue=0.007920128345457526, statistic_location=-1.3999999999996362, statistic_sign=-1)\n",
      "2024-04-18 630.0-690.0时间段内 KstestResult(statistic=0.5833333333333334, pvalue=8.642404684557224e-10, statistic_location=-0.4000000000000909, statistic_sign=1)\n",
      "2024-04-17 780.0-840.0时间段内 KstestResult(statistic=0.7796610169491526, pvalue=5.7123106040051954e-18, statistic_location=-2.0, statistic_sign=1)\n",
      "2024-04-17 630.0-690.0时间段内 KstestResult(statistic=1.0, pvalue=2.070073888186965e-35, statistic_location=-1.7999999999997272, statistic_sign=1)\n"
     ]
    },
    {
     "name": "stderr",
     "output_type": "stream",
     "text": [
      "/var/folders/71/8c25_pts4j92396n9h1t_88c0000gn/T/ipykernel_6613/2727344821.py:1: SettingWithCopyWarning: \n",
      "A value is trying to be set on a copy of a slice from a DataFrame.\n",
      "Try using .loc[row_indexer,col_indexer] = value instead\n",
      "\n",
      "See the caveats in the documentation: https://pandas.pydata.org/pandas-docs/stable/user_guide/indexing.html#returning-a-view-versus-a-copy\n",
      "  df_month_target['minutes'] = df_month_target['hour']*60 + df_month_target['minute']\n"
     ]
    }
   ],
   "source": [
    "df_month_target['minutes'] = df_month_target['hour']*60 + df_month_target['minute']\n",
    "df_month_test['minutes'] = df_month_test['hour']*60 + df_month_test['minute']\n",
    "\n",
    "\n",
    "time_ranges = [[13.0,14.0],[10.5,11.5]]\n",
    "\n",
    "for i in range(1,3):\n",
    "    for time_range in time_ranges:\n",
    "        minutes_start = time_range[0]*60\n",
    "        minutes_end = time_range[1]*60\n",
    "\n",
    "\n",
    "\n",
    "        print(before_target[-i], f\"{minutes_start}-{minutes_end}时间段内\",  ks_2samp(df_month_test[(df_month_test['date']==before_target[-i])&\n",
    "        (df_month_test['minutes']>=minutes_start)&(df_month_test['minutes']<minutes_end)]['spread'].values,\\\n",
    "            df_month_target[(df_month_target['minutes']>=minutes_start)&(df_month_target['minutes']<minutes_end)]['spread'].values))"
   ]
  },
  {
   "cell_type": "markdown",
   "metadata": {},
   "source": [
    "# 对波动率进行做检验"
   ]
  },
  {
   "cell_type": "markdown",
   "metadata": {},
   "source": [
    "## 读取数据并进行波动率的计算"
   ]
  },
  {
   "cell_type": "code",
   "execution_count": 53,
   "metadata": {},
   "outputs": [
    {
     "data": {
      "text/html": [
       "<div>\n",
       "<style scoped>\n",
       "    .dataframe tbody tr th:only-of-type {\n",
       "        vertical-align: middle;\n",
       "    }\n",
       "\n",
       "    .dataframe tbody tr th {\n",
       "        vertical-align: top;\n",
       "    }\n",
       "\n",
       "    .dataframe thead th {\n",
       "        text-align: right;\n",
       "    }\n",
       "</style>\n",
       "<table border=\"1\" class=\"dataframe\">\n",
       "  <thead>\n",
       "    <tr style=\"text-align: right;\">\n",
       "      <th></th>\n",
       "      <th>time</th>\n",
       "      <th>IF00_close</th>\n",
       "      <th>IF01_close</th>\n",
       "      <th>spread</th>\n",
       "      <th>date</th>\n",
       "      <th>hour</th>\n",
       "      <th>minute</th>\n",
       "      <th>Expiration_Date</th>\n",
       "      <th>std</th>\n",
       "      <th>volatility</th>\n",
       "    </tr>\n",
       "  </thead>\n",
       "  <tbody>\n",
       "    <tr>\n",
       "      <th>199</th>\n",
       "      <td>2024-01-24 14:19:00</td>\n",
       "      <td>3250.6</td>\n",
       "      <td>3245.8</td>\n",
       "      <td>-4.8</td>\n",
       "      <td>2024-01-24</td>\n",
       "      <td>14</td>\n",
       "      <td>19</td>\n",
       "      <td>0</td>\n",
       "      <td>2.284265</td>\n",
       "      <td>0.826044</td>\n",
       "    </tr>\n",
       "    <tr>\n",
       "      <th>200</th>\n",
       "      <td>2024-01-24 14:20:00</td>\n",
       "      <td>3245.8</td>\n",
       "      <td>3241.0</td>\n",
       "      <td>-4.8</td>\n",
       "      <td>2024-01-24</td>\n",
       "      <td>14</td>\n",
       "      <td>20</td>\n",
       "      <td>0</td>\n",
       "      <td>2.294348</td>\n",
       "      <td>0.830449</td>\n",
       "    </tr>\n",
       "    <tr>\n",
       "      <th>201</th>\n",
       "      <td>2024-01-24 14:21:00</td>\n",
       "      <td>3243.2</td>\n",
       "      <td>3239.0</td>\n",
       "      <td>-4.2</td>\n",
       "      <td>2024-01-24</td>\n",
       "      <td>14</td>\n",
       "      <td>21</td>\n",
       "      <td>0</td>\n",
       "      <td>2.296284</td>\n",
       "      <td>0.831292</td>\n",
       "    </tr>\n",
       "    <tr>\n",
       "      <th>202</th>\n",
       "      <td>2024-01-24 14:22:00</td>\n",
       "      <td>3240.8</td>\n",
       "      <td>3235.0</td>\n",
       "      <td>-5.8</td>\n",
       "      <td>2024-01-24</td>\n",
       "      <td>14</td>\n",
       "      <td>22</td>\n",
       "      <td>0</td>\n",
       "      <td>2.300440</td>\n",
       "      <td>0.833100</td>\n",
       "    </tr>\n",
       "    <tr>\n",
       "      <th>203</th>\n",
       "      <td>2024-01-24 14:23:00</td>\n",
       "      <td>3243.8</td>\n",
       "      <td>3238.0</td>\n",
       "      <td>-5.8</td>\n",
       "      <td>2024-01-24</td>\n",
       "      <td>14</td>\n",
       "      <td>23</td>\n",
       "      <td>0</td>\n",
       "      <td>2.316842</td>\n",
       "      <td>0.840205</td>\n",
       "    </tr>\n",
       "  </tbody>\n",
       "</table>\n",
       "</div>"
      ],
      "text/plain": [
       "                   time  IF00_close  IF01_close  spread        date  hour  \\\n",
       "199 2024-01-24 14:19:00      3250.6      3245.8    -4.8  2024-01-24    14   \n",
       "200 2024-01-24 14:20:00      3245.8      3241.0    -4.8  2024-01-24    14   \n",
       "201 2024-01-24 14:21:00      3243.2      3239.0    -4.2  2024-01-24    14   \n",
       "202 2024-01-24 14:22:00      3240.8      3235.0    -5.8  2024-01-24    14   \n",
       "203 2024-01-24 14:23:00      3243.8      3238.0    -5.8  2024-01-24    14   \n",
       "\n",
       "     minute  Expiration_Date       std  volatility  \n",
       "199      19                0  2.284265    0.826044  \n",
       "200      20                0  2.294348    0.830449  \n",
       "201      21                0  2.296284    0.831292  \n",
       "202      22                0  2.300440    0.833100  \n",
       "203      23                0  2.316842    0.840205  "
      ]
     },
     "execution_count": 53,
     "metadata": {},
     "output_type": "execute_result"
    }
   ],
   "source": [
    "import matplotlib.pyplot as plt\n",
    "import pandas as pd\n",
    "import numpy as np \n",
    "\n",
    "df = pd.read_csv('./data/df.csv',sep=',')\n",
    "df  = df.sort_values(by='time',ascending=True).reset_index(drop=True)\n",
    "\n",
    "BATCHSIZE = 256\n",
    "LOOKBACK = 10\n",
    "\n",
    "\n",
    "date_target = [\"2024-02-19\",\n",
    "\"2024-03-15\",\n",
    "\"2024-04-19\",\n",
    "\"2024-05-17\",\n",
    "\"2024-06-21\",\n",
    "\"2024-07-19\",\n",
    "\"2024-08-16\",\n",
    "\"2024-09-20\",\n",
    "\"2024-10-18\",\n",
    "\"2024-11-15\",\n",
    "\"2024-12-20\",\n",
    "\"2025-01-17\"]\n",
    "df.head()\n",
    "\n",
    "df['time'] = pd.to_datetime(df['time'])\n",
    "df['date'] = df['time'].dt.date\n",
    "df['date'] = df['date'].astype(str)\n",
    "df['hour'] = df['time'].dt.hour\n",
    "df['minute'] = df['time'].dt.minute \n",
    "# for i in range(1,5):\n",
    "#     df[f'spread_shift_{i}'] = df.groupby(['hour','minute'])['spread'].shift(i)\n",
    "\n",
    "df['Expiration_Date'] = df['date'].apply(lambda x: 1 if x in date else 0)\n",
    "# df.fillna(0,inplace=True)\n",
    "\n",
    "df['std'] = df['spread'].rolling(window=200).std()\n",
    "df['volatility'] = df['std'].apply(lambda x: np.log(x))\n",
    "\n",
    "df.dropna(inplace=True)\n",
    "\n",
    "df.head()\n"
   ]
  },
  {
   "cell_type": "code",
   "execution_count": 54,
   "metadata": {},
   "outputs": [],
   "source": [
    "# df['volatility'].plot()"
   ]
  },
  {
   "cell_type": "code",
   "execution_count": 55,
   "metadata": {},
   "outputs": [],
   "source": [
    "df['year'] = df['time'].dt.year \n",
    "df['month'] = df['time'].dt.month "
   ]
  },
  {
   "cell_type": "code",
   "execution_count": 56,
   "metadata": {},
   "outputs": [
    {
     "name": "stderr",
     "output_type": "stream",
     "text": [
      "/var/folders/71/8c25_pts4j92396n9h1t_88c0000gn/T/ipykernel_6613/3604794410.py:1: FutureWarning: Series.__getitem__ treating keys as positions is deprecated. In a future version, integer keys will always be treated as labels (consistent with DataFrame behavior). To access a value by position, use `ser.iloc[pos]`\n",
      "  df['year_month'] = df[['year','month']].apply(lambda x: str(x[0])+ str('0'+ str(x[1] \\\n",
      "/var/folders/71/8c25_pts4j92396n9h1t_88c0000gn/T/ipykernel_6613/3604794410.py:2: FutureWarning: Series.__getitem__ treating keys as positions is deprecated. In a future version, integer keys will always be treated as labels (consistent with DataFrame behavior). To access a value by position, use `ser.iloc[pos]`\n",
      "  if x[1]<=9 else str(x[1]))),axis=1)\n"
     ]
    }
   ],
   "source": [
    "df['year_month'] = df[['year','month']].apply(lambda x: str(x[0])+ str('0'+ str(x[1] \\\n",
    "    if x[1]<=9 else str(x[1]))),axis=1)"
   ]
  },
  {
   "cell_type": "code",
   "execution_count": 57,
   "metadata": {},
   "outputs": [],
   "source": [
    "df_month = df[df['year_month']=='202404']"
   ]
  },
  {
   "cell_type": "code",
   "execution_count": 58,
   "metadata": {},
   "outputs": [],
   "source": [
    "df_month_target = pd.DataFrame()\n",
    "df_month_test = pd.DataFrame() \n",
    "for date in df_month['date'].unique():\n",
    "    if date in date_target:\n",
    "        df_month_target = df_month[df_month['date']==date]\n",
    "    else:\n",
    "        df_month_test = pd.concat([df_month_test,df_month[df_month['date']==date]],axis=0)"
   ]
  },
  {
   "cell_type": "code",
   "execution_count": 59,
   "metadata": {},
   "outputs": [
    {
     "name": "stdout",
     "output_type": "stream",
     "text": [
      "2024-04-01 KstestResult(statistic=0.9875518672199171, pvalue=8.178297433016334e-137, statistic_location=-0.22284919702040262, statistic_sign=-1)\n",
      "2024-04-02 KstestResult(statistic=0.970954356846473, pvalue=5.0614197675279473e-129, statistic_location=-0.13225045867194601, statistic_sign=-1)\n",
      "2024-04-03 KstestResult(statistic=0.991701244813278, pvalue=5.1114358956352085e-139, statistic_location=-0.2694790116835386, statistic_sign=-1)\n",
      "2024-04-08 KstestResult(statistic=0.970954356846473, pvalue=5.0614197675279473e-129, statistic_location=-0.15512314919882159, statistic_sign=-1)\n",
      "2024-04-09 KstestResult(statistic=0.991701244813278, pvalue=5.1114358956352085e-139, statistic_location=-0.269223236278071, statistic_sign=-1)\n",
      "2024-04-10 KstestResult(statistic=0.991701244813278, pvalue=5.1114358956352085e-139, statistic_location=-0.25199071355625297, statistic_sign=-1)\n",
      "2024-04-11 KstestResult(statistic=1.0, pvalue=4.409413217307657e-144, statistic_location=-0.33035702157960833, statistic_sign=-1)\n",
      "2024-04-12 KstestResult(statistic=0.991701244813278, pvalue=5.1114358956352085e-139, statistic_location=-0.28020591666880773, statistic_sign=-1)\n",
      "2024-04-15 KstestResult(statistic=1.0, pvalue=4.409413217307657e-144, statistic_location=-0.3789363939362103, statistic_sign=-1)\n",
      "2024-04-16 KstestResult(statistic=0.991701244813278, pvalue=5.1114358956352085e-139, statistic_location=-0.26281745471099044, statistic_sign=-1)\n",
      "2024-04-17 KstestResult(statistic=0.2987551867219917, pvalue=6.843619775242484e-10, statistic_location=0.006299843255771957, statistic_sign=-1)\n",
      "2024-04-18 KstestResult(statistic=0.941908713692946, pvalue=1.5270780676503087e-117, statistic_location=-0.030158345922114718, statistic_sign=-1)\n",
      "2024-04-22 KstestResult(statistic=0.8215767634854771, pvalue=2.4865852668319317e-82, statistic_location=0.5410432688997823, statistic_sign=1)\n",
      "2024-04-23 KstestResult(statistic=0.995850622406639, pvalue=2.1253371707422905e-141, statistic_location=-0.315691931761889, statistic_sign=-1)\n",
      "2024-04-24 KstestResult(statistic=1.0, pvalue=4.409413217307657e-144, statistic_location=-0.3466831500203094, statistic_sign=-1)\n",
      "2024-04-25 KstestResult(statistic=1.0, pvalue=4.409413217307657e-144, statistic_location=-0.3963033301655962, statistic_sign=-1)\n",
      "2024-04-26 KstestResult(statistic=0.991701244813278, pvalue=5.1114358956352085e-139, statistic_location=-0.2565867181736577, statistic_sign=-1)\n",
      "2024-04-29 KstestResult(statistic=0.5643153526970954, pvalue=1.0251572125878629e-35, statistic_location=0.5410432688997823, statistic_sign=1)\n",
      "2024-04-30 KstestResult(statistic=0.9585062240663901, pvalue=7.486398701273167e-124, statistic_location=-0.09972884804948794, statistic_sign=-1)\n"
     ]
    }
   ],
   "source": [
    "for date in df_month_test['date'].unique():\n",
    "    test_volatility = df_month_test[df_month_test['date']==date]['volatility'].values \n",
    "    target_volatility = df_month_target['volatility'].values \n",
    "    if test_volatility.shape==target_volatility.shape:\n",
    "        print(date, ks_2samp(target_volatility,test_volatility))\n",
    "    else:\n",
    "        print(date)"
   ]
  },
  {
   "cell_type": "code",
   "execution_count": 60,
   "metadata": {},
   "outputs": [
    {
     "data": {
      "text/html": [
       "<div>\n",
       "<style scoped>\n",
       "    .dataframe tbody tr th:only-of-type {\n",
       "        vertical-align: middle;\n",
       "    }\n",
       "\n",
       "    .dataframe tbody tr th {\n",
       "        vertical-align: top;\n",
       "    }\n",
       "\n",
       "    .dataframe thead th {\n",
       "        text-align: right;\n",
       "    }\n",
       "</style>\n",
       "<table border=\"1\" class=\"dataframe\">\n",
       "  <thead>\n",
       "    <tr style=\"text-align: right;\">\n",
       "      <th></th>\n",
       "      <th>time</th>\n",
       "      <th>IF00_close</th>\n",
       "      <th>IF01_close</th>\n",
       "      <th>spread</th>\n",
       "      <th>date</th>\n",
       "      <th>hour</th>\n",
       "      <th>minute</th>\n",
       "      <th>Expiration_Date</th>\n",
       "      <th>std</th>\n",
       "      <th>volatility</th>\n",
       "      <th>year</th>\n",
       "      <th>month</th>\n",
       "      <th>year_month</th>\n",
       "      <th>hour_minte</th>\n",
       "    </tr>\n",
       "  </thead>\n",
       "  <tbody>\n",
       "    <tr>\n",
       "      <th>10122</th>\n",
       "      <td>2024-04-01 09:30:00</td>\n",
       "      <td>3555.6</td>\n",
       "      <td>3546.4</td>\n",
       "      <td>-9.2</td>\n",
       "      <td>2024-04-01</td>\n",
       "      <td>9</td>\n",
       "      <td>30</td>\n",
       "      <td>0</td>\n",
       "      <td>0.705752</td>\n",
       "      <td>-0.348491</td>\n",
       "      <td>2024</td>\n",
       "      <td>4</td>\n",
       "      <td>202404</td>\n",
       "      <td>09:30:00</td>\n",
       "    </tr>\n",
       "    <tr>\n",
       "      <th>10123</th>\n",
       "      <td>2024-04-01 09:31:00</td>\n",
       "      <td>3566.4</td>\n",
       "      <td>3559.8</td>\n",
       "      <td>-6.6</td>\n",
       "      <td>2024-04-01</td>\n",
       "      <td>9</td>\n",
       "      <td>31</td>\n",
       "      <td>0</td>\n",
       "      <td>0.705183</td>\n",
       "      <td>-0.349299</td>\n",
       "      <td>2024</td>\n",
       "      <td>4</td>\n",
       "      <td>202404</td>\n",
       "      <td>09:31:00</td>\n",
       "    </tr>\n",
       "    <tr>\n",
       "      <th>10124</th>\n",
       "      <td>2024-04-01 09:32:00</td>\n",
       "      <td>3573.8</td>\n",
       "      <td>3567.2</td>\n",
       "      <td>-6.6</td>\n",
       "      <td>2024-04-01</td>\n",
       "      <td>9</td>\n",
       "      <td>32</td>\n",
       "      <td>0</td>\n",
       "      <td>0.705459</td>\n",
       "      <td>-0.348907</td>\n",
       "      <td>2024</td>\n",
       "      <td>4</td>\n",
       "      <td>202404</td>\n",
       "      <td>09:32:00</td>\n",
       "    </tr>\n",
       "    <tr>\n",
       "      <th>10125</th>\n",
       "      <td>2024-04-01 09:33:00</td>\n",
       "      <td>3576.0</td>\n",
       "      <td>3568.2</td>\n",
       "      <td>-7.8</td>\n",
       "      <td>2024-04-01</td>\n",
       "      <td>9</td>\n",
       "      <td>33</td>\n",
       "      <td>0</td>\n",
       "      <td>0.712420</td>\n",
       "      <td>-0.339088</td>\n",
       "      <td>2024</td>\n",
       "      <td>4</td>\n",
       "      <td>202404</td>\n",
       "      <td>09:33:00</td>\n",
       "    </tr>\n",
       "    <tr>\n",
       "      <th>10126</th>\n",
       "      <td>2024-04-01 09:34:00</td>\n",
       "      <td>3576.0</td>\n",
       "      <td>3569.4</td>\n",
       "      <td>-6.6</td>\n",
       "      <td>2024-04-01</td>\n",
       "      <td>9</td>\n",
       "      <td>34</td>\n",
       "      <td>0</td>\n",
       "      <td>0.697141</td>\n",
       "      <td>-0.360768</td>\n",
       "      <td>2024</td>\n",
       "      <td>4</td>\n",
       "      <td>202404</td>\n",
       "      <td>09:34:00</td>\n",
       "    </tr>\n",
       "    <tr>\n",
       "      <th>...</th>\n",
       "      <td>...</td>\n",
       "      <td>...</td>\n",
       "      <td>...</td>\n",
       "      <td>...</td>\n",
       "      <td>...</td>\n",
       "      <td>...</td>\n",
       "      <td>...</td>\n",
       "      <td>...</td>\n",
       "      <td>...</td>\n",
       "      <td>...</td>\n",
       "      <td>...</td>\n",
       "      <td>...</td>\n",
       "      <td>...</td>\n",
       "      <td>...</td>\n",
       "    </tr>\n",
       "    <tr>\n",
       "      <th>14937</th>\n",
       "      <td>2024-04-30 14:56:00</td>\n",
       "      <td>3612.0</td>\n",
       "      <td>3601.4</td>\n",
       "      <td>-10.6</td>\n",
       "      <td>2024-04-30</td>\n",
       "      <td>14</td>\n",
       "      <td>56</td>\n",
       "      <td>1</td>\n",
       "      <td>0.668480</td>\n",
       "      <td>-0.402749</td>\n",
       "      <td>2024</td>\n",
       "      <td>4</td>\n",
       "      <td>202404</td>\n",
       "      <td>14:56:00</td>\n",
       "    </tr>\n",
       "    <tr>\n",
       "      <th>14938</th>\n",
       "      <td>2024-04-30 14:57:00</td>\n",
       "      <td>3610.6</td>\n",
       "      <td>3600.0</td>\n",
       "      <td>-10.6</td>\n",
       "      <td>2024-04-30</td>\n",
       "      <td>14</td>\n",
       "      <td>57</td>\n",
       "      <td>1</td>\n",
       "      <td>0.669189</td>\n",
       "      <td>-0.401689</td>\n",
       "      <td>2024</td>\n",
       "      <td>4</td>\n",
       "      <td>202404</td>\n",
       "      <td>14:57:00</td>\n",
       "    </tr>\n",
       "    <tr>\n",
       "      <th>14939</th>\n",
       "      <td>2024-04-30 14:58:00</td>\n",
       "      <td>3608.4</td>\n",
       "      <td>3598.6</td>\n",
       "      <td>-9.8</td>\n",
       "      <td>2024-04-30</td>\n",
       "      <td>14</td>\n",
       "      <td>58</td>\n",
       "      <td>1</td>\n",
       "      <td>0.664233</td>\n",
       "      <td>-0.409123</td>\n",
       "      <td>2024</td>\n",
       "      <td>4</td>\n",
       "      <td>202404</td>\n",
       "      <td>14:58:00</td>\n",
       "    </tr>\n",
       "    <tr>\n",
       "      <th>14940</th>\n",
       "      <td>2024-04-30 14:59:00</td>\n",
       "      <td>3610.8</td>\n",
       "      <td>3599.8</td>\n",
       "      <td>-11.0</td>\n",
       "      <td>2024-04-30</td>\n",
       "      <td>14</td>\n",
       "      <td>59</td>\n",
       "      <td>1</td>\n",
       "      <td>0.665013</td>\n",
       "      <td>-0.407949</td>\n",
       "      <td>2024</td>\n",
       "      <td>4</td>\n",
       "      <td>202404</td>\n",
       "      <td>14:59:00</td>\n",
       "    </tr>\n",
       "    <tr>\n",
       "      <th>14941</th>\n",
       "      <td>2024-04-30 15:00:00</td>\n",
       "      <td>3610.2</td>\n",
       "      <td>3600.6</td>\n",
       "      <td>-9.6</td>\n",
       "      <td>2024-04-30</td>\n",
       "      <td>15</td>\n",
       "      <td>0</td>\n",
       "      <td>1</td>\n",
       "      <td>0.659965</td>\n",
       "      <td>-0.415569</td>\n",
       "      <td>2024</td>\n",
       "      <td>4</td>\n",
       "      <td>202404</td>\n",
       "      <td>15:00:00</td>\n",
       "    </tr>\n",
       "  </tbody>\n",
       "</table>\n",
       "<p>4579 rows × 14 columns</p>\n",
       "</div>"
      ],
      "text/plain": [
       "                     time  IF00_close  IF01_close  spread        date  hour  \\\n",
       "10122 2024-04-01 09:30:00      3555.6      3546.4    -9.2  2024-04-01     9   \n",
       "10123 2024-04-01 09:31:00      3566.4      3559.8    -6.6  2024-04-01     9   \n",
       "10124 2024-04-01 09:32:00      3573.8      3567.2    -6.6  2024-04-01     9   \n",
       "10125 2024-04-01 09:33:00      3576.0      3568.2    -7.8  2024-04-01     9   \n",
       "10126 2024-04-01 09:34:00      3576.0      3569.4    -6.6  2024-04-01     9   \n",
       "...                   ...         ...         ...     ...         ...   ...   \n",
       "14937 2024-04-30 14:56:00      3612.0      3601.4   -10.6  2024-04-30    14   \n",
       "14938 2024-04-30 14:57:00      3610.6      3600.0   -10.6  2024-04-30    14   \n",
       "14939 2024-04-30 14:58:00      3608.4      3598.6    -9.8  2024-04-30    14   \n",
       "14940 2024-04-30 14:59:00      3610.8      3599.8   -11.0  2024-04-30    14   \n",
       "14941 2024-04-30 15:00:00      3610.2      3600.6    -9.6  2024-04-30    15   \n",
       "\n",
       "       minute  Expiration_Date       std  volatility  year  month year_month  \\\n",
       "10122      30                0  0.705752   -0.348491  2024      4     202404   \n",
       "10123      31                0  0.705183   -0.349299  2024      4     202404   \n",
       "10124      32                0  0.705459   -0.348907  2024      4     202404   \n",
       "10125      33                0  0.712420   -0.339088  2024      4     202404   \n",
       "10126      34                0  0.697141   -0.360768  2024      4     202404   \n",
       "...       ...              ...       ...         ...   ...    ...        ...   \n",
       "14937      56                1  0.668480   -0.402749  2024      4     202404   \n",
       "14938      57                1  0.669189   -0.401689  2024      4     202404   \n",
       "14939      58                1  0.664233   -0.409123  2024      4     202404   \n",
       "14940      59                1  0.665013   -0.407949  2024      4     202404   \n",
       "14941       0                1  0.659965   -0.415569  2024      4     202404   \n",
       "\n",
       "      hour_minte  \n",
       "10122   09:30:00  \n",
       "10123   09:31:00  \n",
       "10124   09:32:00  \n",
       "10125   09:33:00  \n",
       "10126   09:34:00  \n",
       "...          ...  \n",
       "14937   14:56:00  \n",
       "14938   14:57:00  \n",
       "14939   14:58:00  \n",
       "14940   14:59:00  \n",
       "14941   15:00:00  \n",
       "\n",
       "[4579 rows x 14 columns]"
      ]
     },
     "execution_count": 60,
     "metadata": {},
     "output_type": "execute_result"
    }
   ],
   "source": [
    "df_month_test['hour_minte'] = df_month_test['time'].apply(lambda x: str(x)[10:])\n",
    "df_month_test"
   ]
  },
  {
   "cell_type": "code",
   "execution_count": 63,
   "metadata": {},
   "outputs": [
    {
     "data": {
      "text/plain": [
       "KstestResult(statistic=0.966804979253112, pvalue=3.005217986969719e-127, statistic_location=-0.12121833134073612, statistic_sign=-1)"
      ]
     },
     "execution_count": 63,
     "metadata": {},
     "output_type": "execute_result"
    }
   ],
   "source": [
    "\n",
    "ks_2samp(df_month_target['volatility'].values, df_month_test.groupby('hour_minte')['volatility'].mean().values )"
   ]
  },
  {
   "cell_type": "code",
   "execution_count": 64,
   "metadata": {},
   "outputs": [],
   "source": [
    "before_target = []\n",
    "after_target = []\n",
    "for date in list(df_month_test['date'].unique() ):\n",
    "    if date<'2024-04-19':\n",
    "        before_target.append(date)\n",
    "    else:\n",
    "        after_target.append(date)"
   ]
  },
  {
   "cell_type": "code",
   "execution_count": 65,
   "metadata": {},
   "outputs": [
    {
     "data": {
      "text/html": [
       "<div>\n",
       "<style scoped>\n",
       "    .dataframe tbody tr th:only-of-type {\n",
       "        vertical-align: middle;\n",
       "    }\n",
       "\n",
       "    .dataframe tbody tr th {\n",
       "        vertical-align: top;\n",
       "    }\n",
       "\n",
       "    .dataframe thead th {\n",
       "        text-align: right;\n",
       "    }\n",
       "</style>\n",
       "<table border=\"1\" class=\"dataframe\">\n",
       "  <thead>\n",
       "    <tr style=\"text-align: right;\">\n",
       "      <th></th>\n",
       "      <th>time</th>\n",
       "      <th>IF00_close</th>\n",
       "      <th>IF01_close</th>\n",
       "      <th>spread</th>\n",
       "      <th>date</th>\n",
       "      <th>hour</th>\n",
       "      <th>minute</th>\n",
       "      <th>Expiration_Date</th>\n",
       "      <th>std</th>\n",
       "      <th>volatility</th>\n",
       "      <th>year</th>\n",
       "      <th>month</th>\n",
       "      <th>year_month</th>\n",
       "      <th>hour_minte</th>\n",
       "    </tr>\n",
       "  </thead>\n",
       "  <tbody>\n",
       "    <tr>\n",
       "      <th>10122</th>\n",
       "      <td>2024-04-01 09:30:00</td>\n",
       "      <td>3555.6</td>\n",
       "      <td>3546.4</td>\n",
       "      <td>-9.2</td>\n",
       "      <td>2024-04-01</td>\n",
       "      <td>9</td>\n",
       "      <td>30</td>\n",
       "      <td>0</td>\n",
       "      <td>0.705752</td>\n",
       "      <td>-0.348491</td>\n",
       "      <td>2024</td>\n",
       "      <td>4</td>\n",
       "      <td>202404</td>\n",
       "      <td>09:30:00</td>\n",
       "    </tr>\n",
       "    <tr>\n",
       "      <th>10123</th>\n",
       "      <td>2024-04-01 09:31:00</td>\n",
       "      <td>3566.4</td>\n",
       "      <td>3559.8</td>\n",
       "      <td>-6.6</td>\n",
       "      <td>2024-04-01</td>\n",
       "      <td>9</td>\n",
       "      <td>31</td>\n",
       "      <td>0</td>\n",
       "      <td>0.705183</td>\n",
       "      <td>-0.349299</td>\n",
       "      <td>2024</td>\n",
       "      <td>4</td>\n",
       "      <td>202404</td>\n",
       "      <td>09:31:00</td>\n",
       "    </tr>\n",
       "    <tr>\n",
       "      <th>10124</th>\n",
       "      <td>2024-04-01 09:32:00</td>\n",
       "      <td>3573.8</td>\n",
       "      <td>3567.2</td>\n",
       "      <td>-6.6</td>\n",
       "      <td>2024-04-01</td>\n",
       "      <td>9</td>\n",
       "      <td>32</td>\n",
       "      <td>0</td>\n",
       "      <td>0.705459</td>\n",
       "      <td>-0.348907</td>\n",
       "      <td>2024</td>\n",
       "      <td>4</td>\n",
       "      <td>202404</td>\n",
       "      <td>09:32:00</td>\n",
       "    </tr>\n",
       "    <tr>\n",
       "      <th>10125</th>\n",
       "      <td>2024-04-01 09:33:00</td>\n",
       "      <td>3576.0</td>\n",
       "      <td>3568.2</td>\n",
       "      <td>-7.8</td>\n",
       "      <td>2024-04-01</td>\n",
       "      <td>9</td>\n",
       "      <td>33</td>\n",
       "      <td>0</td>\n",
       "      <td>0.712420</td>\n",
       "      <td>-0.339088</td>\n",
       "      <td>2024</td>\n",
       "      <td>4</td>\n",
       "      <td>202404</td>\n",
       "      <td>09:33:00</td>\n",
       "    </tr>\n",
       "    <tr>\n",
       "      <th>10126</th>\n",
       "      <td>2024-04-01 09:34:00</td>\n",
       "      <td>3576.0</td>\n",
       "      <td>3569.4</td>\n",
       "      <td>-6.6</td>\n",
       "      <td>2024-04-01</td>\n",
       "      <td>9</td>\n",
       "      <td>34</td>\n",
       "      <td>0</td>\n",
       "      <td>0.697141</td>\n",
       "      <td>-0.360768</td>\n",
       "      <td>2024</td>\n",
       "      <td>4</td>\n",
       "      <td>202404</td>\n",
       "      <td>09:34:00</td>\n",
       "    </tr>\n",
       "    <tr>\n",
       "      <th>...</th>\n",
       "      <td>...</td>\n",
       "      <td>...</td>\n",
       "      <td>...</td>\n",
       "      <td>...</td>\n",
       "      <td>...</td>\n",
       "      <td>...</td>\n",
       "      <td>...</td>\n",
       "      <td>...</td>\n",
       "      <td>...</td>\n",
       "      <td>...</td>\n",
       "      <td>...</td>\n",
       "      <td>...</td>\n",
       "      <td>...</td>\n",
       "      <td>...</td>\n",
       "    </tr>\n",
       "    <tr>\n",
       "      <th>12286</th>\n",
       "      <td>2024-04-15 14:56:00</td>\n",
       "      <td>3544.2</td>\n",
       "      <td>3539.2</td>\n",
       "      <td>-5.0</td>\n",
       "      <td>2024-04-15</td>\n",
       "      <td>14</td>\n",
       "      <td>56</td>\n",
       "      <td>0</td>\n",
       "      <td>0.679095</td>\n",
       "      <td>-0.386994</td>\n",
       "      <td>2024</td>\n",
       "      <td>4</td>\n",
       "      <td>202404</td>\n",
       "      <td>14:56:00</td>\n",
       "    </tr>\n",
       "    <tr>\n",
       "      <th>12287</th>\n",
       "      <td>2024-04-15 14:57:00</td>\n",
       "      <td>3546.0</td>\n",
       "      <td>3539.0</td>\n",
       "      <td>-7.0</td>\n",
       "      <td>2024-04-15</td>\n",
       "      <td>14</td>\n",
       "      <td>57</td>\n",
       "      <td>0</td>\n",
       "      <td>0.684589</td>\n",
       "      <td>-0.378936</td>\n",
       "      <td>2024</td>\n",
       "      <td>4</td>\n",
       "      <td>202404</td>\n",
       "      <td>14:57:00</td>\n",
       "    </tr>\n",
       "    <tr>\n",
       "      <th>12288</th>\n",
       "      <td>2024-04-15 14:58:00</td>\n",
       "      <td>3545.6</td>\n",
       "      <td>3540.0</td>\n",
       "      <td>-5.6</td>\n",
       "      <td>2024-04-15</td>\n",
       "      <td>14</td>\n",
       "      <td>58</td>\n",
       "      <td>0</td>\n",
       "      <td>0.684235</td>\n",
       "      <td>-0.379455</td>\n",
       "      <td>2024</td>\n",
       "      <td>4</td>\n",
       "      <td>202404</td>\n",
       "      <td>14:58:00</td>\n",
       "    </tr>\n",
       "    <tr>\n",
       "      <th>12289</th>\n",
       "      <td>2024-04-15 14:59:00</td>\n",
       "      <td>3547.2</td>\n",
       "      <td>3541.4</td>\n",
       "      <td>-5.8</td>\n",
       "      <td>2024-04-15</td>\n",
       "      <td>14</td>\n",
       "      <td>59</td>\n",
       "      <td>0</td>\n",
       "      <td>0.684235</td>\n",
       "      <td>-0.379455</td>\n",
       "      <td>2024</td>\n",
       "      <td>4</td>\n",
       "      <td>202404</td>\n",
       "      <td>14:59:00</td>\n",
       "    </tr>\n",
       "    <tr>\n",
       "      <th>12290</th>\n",
       "      <td>2024-04-15 15:00:00</td>\n",
       "      <td>3546.4</td>\n",
       "      <td>3540.0</td>\n",
       "      <td>-6.4</td>\n",
       "      <td>2024-04-15</td>\n",
       "      <td>15</td>\n",
       "      <td>0</td>\n",
       "      <td>0</td>\n",
       "      <td>0.682702</td>\n",
       "      <td>-0.381697</td>\n",
       "      <td>2024</td>\n",
       "      <td>4</td>\n",
       "      <td>202404</td>\n",
       "      <td>15:00:00</td>\n",
       "    </tr>\n",
       "  </tbody>\n",
       "</table>\n",
       "<p>2169 rows × 14 columns</p>\n",
       "</div>"
      ],
      "text/plain": [
       "                     time  IF00_close  IF01_close  spread        date  hour  \\\n",
       "10122 2024-04-01 09:30:00      3555.6      3546.4    -9.2  2024-04-01     9   \n",
       "10123 2024-04-01 09:31:00      3566.4      3559.8    -6.6  2024-04-01     9   \n",
       "10124 2024-04-01 09:32:00      3573.8      3567.2    -6.6  2024-04-01     9   \n",
       "10125 2024-04-01 09:33:00      3576.0      3568.2    -7.8  2024-04-01     9   \n",
       "10126 2024-04-01 09:34:00      3576.0      3569.4    -6.6  2024-04-01     9   \n",
       "...                   ...         ...         ...     ...         ...   ...   \n",
       "12286 2024-04-15 14:56:00      3544.2      3539.2    -5.0  2024-04-15    14   \n",
       "12287 2024-04-15 14:57:00      3546.0      3539.0    -7.0  2024-04-15    14   \n",
       "12288 2024-04-15 14:58:00      3545.6      3540.0    -5.6  2024-04-15    14   \n",
       "12289 2024-04-15 14:59:00      3547.2      3541.4    -5.8  2024-04-15    14   \n",
       "12290 2024-04-15 15:00:00      3546.4      3540.0    -6.4  2024-04-15    15   \n",
       "\n",
       "       minute  Expiration_Date       std  volatility  year  month year_month  \\\n",
       "10122      30                0  0.705752   -0.348491  2024      4     202404   \n",
       "10123      31                0  0.705183   -0.349299  2024      4     202404   \n",
       "10124      32                0  0.705459   -0.348907  2024      4     202404   \n",
       "10125      33                0  0.712420   -0.339088  2024      4     202404   \n",
       "10126      34                0  0.697141   -0.360768  2024      4     202404   \n",
       "...       ...              ...       ...         ...   ...    ...        ...   \n",
       "12286      56                0  0.679095   -0.386994  2024      4     202404   \n",
       "12287      57                0  0.684589   -0.378936  2024      4     202404   \n",
       "12288      58                0  0.684235   -0.379455  2024      4     202404   \n",
       "12289      59                0  0.684235   -0.379455  2024      4     202404   \n",
       "12290       0                0  0.682702   -0.381697  2024      4     202404   \n",
       "\n",
       "      hour_minte  \n",
       "10122   09:30:00  \n",
       "10123   09:31:00  \n",
       "10124   09:32:00  \n",
       "10125   09:33:00  \n",
       "10126   09:34:00  \n",
       "...          ...  \n",
       "12286   14:56:00  \n",
       "12287   14:57:00  \n",
       "12288   14:58:00  \n",
       "12289   14:59:00  \n",
       "12290   15:00:00  \n",
       "\n",
       "[2169 rows x 14 columns]"
      ]
     },
     "execution_count": 65,
     "metadata": {},
     "output_type": "execute_result"
    }
   ],
   "source": [
    "df_month_test_tmp = df_month_test[df_month_test['date'].isin(before_target[:-3])]\n",
    "df_month_test_tmp"
   ]
  },
  {
   "cell_type": "code",
   "execution_count": 66,
   "metadata": {},
   "outputs": [
    {
     "data": {
      "text/plain": [
       "KstestResult(statistic=0.995850622406639, pvalue=2.1253371707422905e-141, statistic_location=-0.3127384371263485, statistic_sign=-1)"
      ]
     },
     "execution_count": 66,
     "metadata": {},
     "output_type": "execute_result"
    }
   ],
   "source": [
    "ks_2samp(df_month_target['volatility'].values, df_month_test_tmp.groupby('hour_minte')['volatility'].mean().values )\n",
    "# dangtian  和t-3之前的均值"
   ]
  },
  {
   "cell_type": "code",
   "execution_count": 67,
   "metadata": {},
   "outputs": [
    {
     "data": {
      "text/plain": [
       "KstestResult(statistic=0.6016597510373444, pvalue=6.455411137873572e-41, statistic_location=-0.3129279655798802, statistic_sign=1)"
      ]
     },
     "execution_count": 67,
     "metadata": {},
     "output_type": "execute_result"
    }
   ],
   "source": [
    "df_month_test_tmp2 = df_month_test[df_month_test['date'].isin(before_target[0:-3] )]\n",
    "ks_2samp(df_month_test_tmp2.groupby('hour_minte')['volatility'].mean().values,\\\n",
    "    df_month_test[df_month_test['date']==before_target[-1]]['volatility'].values)\n",
    "\n",
    "    # t-1  和t-3之前的均值"
   ]
  },
  {
   "cell_type": "code",
   "execution_count": 68,
   "metadata": {},
   "outputs": [
    {
     "data": {
      "text/plain": [
       "KstestResult(statistic=0.8879668049792531, pvalue=5.338845026321695e-100, statistic_location=-0.3127384371263485, statistic_sign=1)"
      ]
     },
     "execution_count": 68,
     "metadata": {},
     "output_type": "execute_result"
    }
   ],
   "source": [
    "df_month_test_tmp2 = df_month_test[df_month_test['date'].isin(before_target[0:-3] )]\n",
    "ks_2samp(df_month_test_tmp2.groupby('hour_minte')['volatility'].mean().values,\\\n",
    "    df_month_test[df_month_test['date']==before_target[-2]]['volatility'].values)\n",
    "\n",
    "    # t-2  和t-3之前的均值"
   ]
  },
  {
   "cell_type": "code",
   "execution_count": 69,
   "metadata": {},
   "outputs": [
    {
     "data": {
      "text/plain": [
       "KstestResult(statistic=0.8257261410788381, pvalue=2.4300719653130242e-83, statistic_location=-0.3127384371263485, statistic_sign=1)"
      ]
     },
     "execution_count": 69,
     "metadata": {},
     "output_type": "execute_result"
    }
   ],
   "source": [
    "df_month_test_tmp2 = df_month_test[df_month_test['date'].isin(before_target[0:-3] )]\n",
    "ks_2samp(df_month_test_tmp2.groupby('hour_minte')['volatility'].mean().values,\\\n",
    "    df_month_test[df_month_test['date']==after_target[0]]['volatility'].values)\n",
    "    # t+ 1  与和t-3之前的均值"
   ]
  },
  {
   "cell_type": "code",
   "execution_count": 70,
   "metadata": {},
   "outputs": [
    {
     "data": {
      "text/plain": [
       "KstestResult(statistic=0.5394190871369294, pvalue=1.7346775102876498e-32, statistic_location=-0.36348867167109367, statistic_sign=-1)"
      ]
     },
     "execution_count": 70,
     "metadata": {},
     "output_type": "execute_result"
    }
   ],
   "source": [
    "df_month_test_tmp2 = df_month_test[df_month_test['date'].isin(before_target[0:-3] )]\n",
    "ks_2samp(df_month_test_tmp2.groupby('hour_minte')['volatility'].mean().values,\\\n",
    "    df_month_test[df_month_test['date']==after_target[1]]['volatility'].values)\n",
    "    # t+2 和t-3之前的均值"
   ]
  },
  {
   "cell_type": "code",
   "execution_count": 71,
   "metadata": {},
   "outputs": [
    {
     "name": "stdout",
     "output_type": "stream",
     "text": [
      "2024-04-18 前 15 minutes KstestResult(statistic=0.5333333333333333, pvalue=0.026248485664288602, statistic_location=-0.1268279303812454, statistic_sign=-1)\n",
      "2024-04-18 前 30 minutes KstestResult(statistic=0.5666666666666667, pvalue=8.737803591291227e-05, statistic_location=-0.04714374342602712, statistic_sign=1)\n",
      "2024-04-18 前 60 minutes KstestResult(statistic=0.7833333333333333, pvalue=1.8131121649108368e-18, statistic_location=-0.04208204336128161, statistic_sign=1)\n",
      "2024-04-17 前 15 minutes KstestResult(statistic=0.6, pvalue=0.007655808318750842, statistic_location=-0.21268830282559842, statistic_sign=1)\n",
      "2024-04-17 前 30 minutes KstestResult(statistic=0.36666666666666664, pvalue=0.034580084963334506, statistic_location=-0.11647259987651874, statistic_sign=1)\n",
      "2024-04-17 前 60 minutes KstestResult(statistic=0.31666666666666665, pvalue=0.004627144187221645, statistic_location=0.13562924677765578, statistic_sign=-1)\n"
     ]
    }
   ],
   "source": [
    "df_month_target\n",
    "\n",
    "for i in range(1,3):\n",
    "    for length in [15,30,60]:\n",
    "\n",
    "\n",
    "        print(before_target[-i], f\"前 {length} minutes\",ks_2samp(df_month_test[df_month_test['date']==before_target[-i]]['volatility'].values[0:length],\\\n",
    "            df_month_target['volatility'].values[0:length]))\n",
    "\n"
   ]
  },
  {
   "cell_type": "code",
   "execution_count": 72,
   "metadata": {},
   "outputs": [
    {
     "name": "stdout",
     "output_type": "stream",
     "text": [
      "2024-04-18 后 15 minutes KstestResult(statistic=1.0, pvalue=1.2893450075787698e-08, statistic_location=-0.4322402428504445, statistic_sign=1)\n",
      "2024-04-18 后 30 minutes KstestResult(statistic=1.0, pvalue=1.6911233892144742e-17, statistic_location=-0.3853506811961316, statistic_sign=1)\n",
      "2024-04-18 后 60 minutes KstestResult(statistic=1.0, pvalue=2.070073888186965e-35, statistic_location=-0.3853506811961316, statistic_sign=1)\n",
      "2024-04-17 后 15 minutes KstestResult(statistic=1.0, pvalue=1.2893450075787698e-08, statistic_location=-0.13331673252572104, statistic_sign=1)\n",
      "2024-04-17 后 30 minutes KstestResult(statistic=1.0, pvalue=1.6911233892144742e-17, statistic_location=-0.13331673252572104, statistic_sign=1)\n",
      "2024-04-17 后 60 minutes KstestResult(statistic=1.0, pvalue=2.070073888186965e-35, statistic_location=-0.0440038808745317, statistic_sign=1)\n"
     ]
    }
   ],
   "source": [
    "for i in range(1,3):\n",
    "    for length in [15,30,60]:\n",
    "\n",
    "\n",
    "        print(before_target[-i], f\"后 {length} minutes\",ks_2samp(df_month_test[df_month_test['date']==before_target[-i]]['volatility'].values[-length:],\\\n",
    "            df_month_target['volatility'].values[-length:]))\n"
   ]
  },
  {
   "cell_type": "code",
   "execution_count": 73,
   "metadata": {},
   "outputs": [
    {
     "name": "stdout",
     "output_type": "stream",
     "text": [
      "2024-04-18 780.0-840.0时间段内 KstestResult(statistic=1.0, pvalue=8.211293089808295e-35, statistic_location=-0.17096637312234592, statistic_sign=1)\n",
      "2024-04-18 630.0-690.0时间段内 KstestResult(statistic=1.0, pvalue=2.070073888186965e-35, statistic_location=-0.030158345922114718, statistic_sign=1)\n",
      "2024-04-17 780.0-840.0时间段内 KstestResult(statistic=0.576271186440678, pvalue=2.143796495363778e-09, statistic_location=0.07869124711986938, statistic_sign=-1)\n",
      "2024-04-17 630.0-690.0时间段内 KstestResult(statistic=1.0, pvalue=2.070073888186965e-35, statistic_location=0.11418043608476035, statistic_sign=-1)\n"
     ]
    },
    {
     "name": "stderr",
     "output_type": "stream",
     "text": [
      "/var/folders/71/8c25_pts4j92396n9h1t_88c0000gn/T/ipykernel_6613/3153899920.py:1: SettingWithCopyWarning: \n",
      "A value is trying to be set on a copy of a slice from a DataFrame.\n",
      "Try using .loc[row_indexer,col_indexer] = value instead\n",
      "\n",
      "See the caveats in the documentation: https://pandas.pydata.org/pandas-docs/stable/user_guide/indexing.html#returning-a-view-versus-a-copy\n",
      "  df_month_target['minutes'] = df_month_target['hour']*60 + df_month_target['minute']\n"
     ]
    }
   ],
   "source": [
    "df_month_target['minutes'] = df_month_target['hour']*60 + df_month_target['minute']\n",
    "df_month_test['minutes'] = df_month_test['hour']*60 + df_month_test['minute']\n",
    "\n",
    "\n",
    "time_ranges = [[13.0,14.0],[10.5,11.5]]\n",
    "\n",
    "for i in range(1,3):\n",
    "    for time_range in time_ranges:\n",
    "        minutes_start = time_range[0]*60\n",
    "        minutes_end = time_range[1]*60\n",
    "\n",
    "\n",
    "\n",
    "        print(before_target[-i], f\"{minutes_start}-{minutes_end}时间段内\",  ks_2samp(df_month_test[(df_month_test['date']==before_target[-i])&\n",
    "        (df_month_test['minutes']>=minutes_start)&(df_month_test['minutes']<minutes_end)]['volatility'].values,\\\n",
    "            df_month_target[(df_month_target['minutes']>=minutes_start)&(df_month_target['minutes']<minutes_end)]['volatility'].values))"
   ]
  },
  {
   "cell_type": "code",
   "execution_count": null,
   "metadata": {},
   "outputs": [],
   "source": []
  },
  {
   "cell_type": "code",
   "execution_count": null,
   "metadata": {},
   "outputs": [],
   "source": []
  }
 ],
 "metadata": {
  "kernelspec": {
   "display_name": "zhuqw",
   "language": "python",
   "name": "python3"
  },
  "language_info": {
   "codemirror_mode": {
    "name": "ipython",
    "version": 3
   },
   "file_extension": ".py",
   "mimetype": "text/x-python",
   "name": "python",
   "nbconvert_exporter": "python",
   "pygments_lexer": "ipython3",
   "version": "3.9.13"
  }
 },
 "nbformat": 4,
 "nbformat_minor": 2
}
