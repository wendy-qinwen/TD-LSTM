{
 "cells": [
  {
   "cell_type": "code",
   "execution_count": 1,
   "metadata": {},
   "outputs": [],
   "source": [
    "import matplotlib.pyplot as plt\n",
    "import pandas as pd\n",
    "import numpy as np \n",
    "import os \n",
    "\n",
    "df = pd.read_csv('./data/df.csv',sep=',')\n",
    "df  = df.sort_values(by='time',ascending=True).reset_index(drop=True)\n",
    "\n",
    "BATCHSIZE = 256\n",
    "LOOKBACK = 100\n",
    "\n",
    "\n",
    "date = [\"2024-02-19\",\n",
    "\"2024-03-15\",\n",
    "\"2024-04-19\",\n",
    "\"2024-05-17\",\n",
    "\"2024-06-21\",\n",
    "\"2024-07-19\",\n",
    "\"2024-08-16\",\n",
    "\"2024-09-20\",\n",
    "\"2024-10-18\",\n",
    "\"2024-11-15\",\n",
    "\"2024-12-20\",\n",
    "\"2025-01-17\"]\n",
    "df.head()\n",
    "\n",
    "df['time'] = pd.to_datetime(df['time'])\n",
    "df['date'] = df['time'].dt.date\n",
    "df['date'] = df['date'].astype(str)\n",
    "df['hour'] = df['time'].dt.hour\n",
    "df['minute'] = df['time'].dt.minute \n",
    "# for i in range(1,5):\n",
    "#     df[f'spread_shift_{i}'] = df.groupby(['hour','minute'])['spread'].shift(i)\n",
    "\n",
    "df['Expiration_Date'] = df['date'].apply(lambda x: 1 if x in date else 0)\n",
    "# df.fillna(0,inplace=True)\n",
    "\n",
    "\n",
    "df.dropna(inplace=True)\n",
    "\n",
    "df.head()\n",
    "\n",
    "\n",
    "def process_data():\n",
    "    df = pd.read_csv('./data/df.csv',sep=',')\n",
    "    df  = df.sort_values(by='time',ascending=True).reset_index(drop=True)\n",
    "\n",
    "    # BATCHSIZE = 256\n",
    "    # LOOKBACK = 100\n",
    "\n",
    "\n",
    "    date = [\"2024-02-19\",\n",
    "    \"2024-03-15\",\n",
    "    \"2024-04-19\",\n",
    "    \"2024-05-17\",\n",
    "    \"2024-06-21\",\n",
    "    \"2024-07-19\",\n",
    "    \"2024-08-16\",\n",
    "    \"2024-09-20\",\n",
    "    \"2024-10-18\",\n",
    "    \"2024-11-15\",\n",
    "    \"2024-12-20\",\n",
    "    \"2025-01-17\"]\n",
    "    df.head()\n",
    "\n",
    "    df['time'] = pd.to_datetime(df['time'])\n",
    "    df['date'] = df['time'].dt.date\n",
    "    df['date'] = df['date'].astype(str)\n",
    "    df['hour'] = df['time'].dt.hour\n",
    "    df['minute'] = df['time'].dt.minute \n",
    "    # for i in range(1,5):\n",
    "    #     df[f'spread_shift_{i}'] = df.groupby(['hour','minute'])['spread'].shift(i)\n",
    "\n",
    "    df['Expiration_Date'] = df['date'].apply(lambda x: 1 if x in date else 0)\n",
    "    # df.fillna(0,inplace=True)\n",
    "\n",
    "\n",
    "    df.dropna(inplace=True)\n",
    "\n",
    "    df.head()\n",
    "    return df \n"
   ]
  },
  {
   "cell_type": "code",
   "execution_count": null,
   "metadata": {},
   "outputs": [],
   "source": []
  },
  {
   "cell_type": "code",
   "execution_count": 2,
   "metadata": {},
   "outputs": [
    {
     "data": {
      "text/plain": [
       "<Axes: >"
      ]
     },
     "execution_count": 2,
     "metadata": {},
     "output_type": "execute_result"
    },
    {
     "data": {
      "image/png": "[encoded data removed]",
      "text/plain": [
       "<Figure size 640x480 with 1 Axes>"
      ]
     },
     "metadata": {},
     "output_type": "display_data"
    }
   ],
   "source": [
    "df[df[\"date\"].isin(['2025-01-10', '2025-01-13', '2025-01-14', '2025-01-15',\n",
    "       '2025-01-16'])]['spread'].plot()"
   ]
  },
  {
   "cell_type": "code",
   "execution_count": 24,
   "metadata": {},
   "outputs": [
    {
     "data": {
      "text/plain": [
       "array(['2024-12-16', '2024-12-17', '2024-12-18', '2024-12-19'],\n",
       "      dtype=object)"
      ]
     },
     "execution_count": 24,
     "metadata": {},
     "output_type": "execute_result"
    }
   ],
   "source": [
    "df[df['date']<'2024-12-20']['date'].unique()[-4:]"
   ]
  },
  {
   "cell_type": "code",
   "execution_count": 31,
   "metadata": {},
   "outputs": [
    {
     "data": {
      "text/html": [
       "<div>\n",
       "<style scoped>\n",
       "    .dataframe tbody tr th:only-of-type {\n",
       "        vertical-align: middle;\n",
       "    }\n",
       "\n",
       "    .dataframe tbody tr th {\n",
       "        vertical-align: top;\n",
       "    }\n",
       "\n",
       "    .dataframe thead th {\n",
       "        text-align: right;\n",
       "    }\n",
       "</style>\n",
       "<table border=\"1\" class=\"dataframe\">\n",
       "  <thead>\n",
       "    <tr style=\"text-align: right;\">\n",
       "      <th></th>\n",
       "      <th>time</th>\n",
       "      <th>IF00_close</th>\n",
       "      <th>IF01_close</th>\n",
       "      <th>spread</th>\n",
       "      <th>date</th>\n",
       "      <th>hour</th>\n",
       "      <th>minute</th>\n",
       "      <th>Expiration_Date</th>\n",
       "    </tr>\n",
       "  </thead>\n",
       "  <tbody>\n",
       "    <tr>\n",
       "      <th>40488</th>\n",
       "      <td>2024-10-11 09:30:00</td>\n",
       "      <td>3999.8</td>\n",
       "      <td>3998.0</td>\n",
       "      <td>-1.8</td>\n",
       "      <td>2024-10-11</td>\n",
       "      <td>9</td>\n",
       "      <td>30</td>\n",
       "      <td>0</td>\n",
       "    </tr>\n",
       "    <tr>\n",
       "      <th>40489</th>\n",
       "      <td>2024-10-11 09:31:00</td>\n",
       "      <td>3973.6</td>\n",
       "      <td>3975.0</td>\n",
       "      <td>1.4</td>\n",
       "      <td>2024-10-11</td>\n",
       "      <td>9</td>\n",
       "      <td>31</td>\n",
       "      <td>0</td>\n",
       "    </tr>\n",
       "    <tr>\n",
       "      <th>40490</th>\n",
       "      <td>2024-10-11 09:32:00</td>\n",
       "      <td>3988.0</td>\n",
       "      <td>3984.6</td>\n",
       "      <td>-3.4</td>\n",
       "      <td>2024-10-11</td>\n",
       "      <td>9</td>\n",
       "      <td>32</td>\n",
       "      <td>0</td>\n",
       "    </tr>\n",
       "    <tr>\n",
       "      <th>40491</th>\n",
       "      <td>2024-10-11 09:33:00</td>\n",
       "      <td>3973.8</td>\n",
       "      <td>3971.0</td>\n",
       "      <td>-2.8</td>\n",
       "      <td>2024-10-11</td>\n",
       "      <td>9</td>\n",
       "      <td>33</td>\n",
       "      <td>0</td>\n",
       "    </tr>\n",
       "    <tr>\n",
       "      <th>40492</th>\n",
       "      <td>2024-10-11 09:34:00</td>\n",
       "      <td>3974.0</td>\n",
       "      <td>3970.4</td>\n",
       "      <td>-3.6</td>\n",
       "      <td>2024-10-11</td>\n",
       "      <td>9</td>\n",
       "      <td>34</td>\n",
       "      <td>0</td>\n",
       "    </tr>\n",
       "    <tr>\n",
       "      <th>...</th>\n",
       "      <td>...</td>\n",
       "      <td>...</td>\n",
       "      <td>...</td>\n",
       "      <td>...</td>\n",
       "      <td>...</td>\n",
       "      <td>...</td>\n",
       "      <td>...</td>\n",
       "      <td>...</td>\n",
       "    </tr>\n",
       "    <tr>\n",
       "      <th>41688</th>\n",
       "      <td>2024-10-17 14:56:00</td>\n",
       "      <td>3785.8</td>\n",
       "      <td>3785.2</td>\n",
       "      <td>-0.6</td>\n",
       "      <td>2024-10-17</td>\n",
       "      <td>14</td>\n",
       "      <td>56</td>\n",
       "      <td>0</td>\n",
       "    </tr>\n",
       "    <tr>\n",
       "      <th>41689</th>\n",
       "      <td>2024-10-17 14:57:00</td>\n",
       "      <td>3786.0</td>\n",
       "      <td>3784.6</td>\n",
       "      <td>-1.4</td>\n",
       "      <td>2024-10-17</td>\n",
       "      <td>14</td>\n",
       "      <td>57</td>\n",
       "      <td>0</td>\n",
       "    </tr>\n",
       "    <tr>\n",
       "      <th>41690</th>\n",
       "      <td>2024-10-17 14:58:00</td>\n",
       "      <td>3784.2</td>\n",
       "      <td>3784.2</td>\n",
       "      <td>0.0</td>\n",
       "      <td>2024-10-17</td>\n",
       "      <td>14</td>\n",
       "      <td>58</td>\n",
       "      <td>0</td>\n",
       "    </tr>\n",
       "    <tr>\n",
       "      <th>41691</th>\n",
       "      <td>2024-10-17 14:59:00</td>\n",
       "      <td>3782.8</td>\n",
       "      <td>3783.2</td>\n",
       "      <td>0.4</td>\n",
       "      <td>2024-10-17</td>\n",
       "      <td>14</td>\n",
       "      <td>59</td>\n",
       "      <td>0</td>\n",
       "    </tr>\n",
       "    <tr>\n",
       "      <th>41692</th>\n",
       "      <td>2024-10-17 15:00:00</td>\n",
       "      <td>3784.4</td>\n",
       "      <td>3781.6</td>\n",
       "      <td>-2.8</td>\n",
       "      <td>2024-10-17</td>\n",
       "      <td>15</td>\n",
       "      <td>0</td>\n",
       "      <td>0</td>\n",
       "    </tr>\n",
       "  </tbody>\n",
       "</table>\n",
       "<p>1205 rows × 8 columns</p>\n",
       "</div>"
      ],
      "text/plain": [
       "                     time  IF00_close  IF01_close  spread        date  hour  \\\n",
       "40488 2024-10-11 09:30:00      3999.8      3998.0    -1.8  2024-10-11     9   \n",
       "40489 2024-10-11 09:31:00      3973.6      3975.0     1.4  2024-10-11     9   \n",
       "40490 2024-10-11 09:32:00      3988.0      3984.6    -3.4  2024-10-11     9   \n",
       "40491 2024-10-11 09:33:00      3973.8      3971.0    -2.8  2024-10-11     9   \n",
       "40492 2024-10-11 09:34:00      3974.0      3970.4    -3.6  2024-10-11     9   \n",
       "...                   ...         ...         ...     ...         ...   ...   \n",
       "41688 2024-10-17 14:56:00      3785.8      3785.2    -0.6  2024-10-17    14   \n",
       "41689 2024-10-17 14:57:00      3786.0      3784.6    -1.4  2024-10-17    14   \n",
       "41690 2024-10-17 14:58:00      3784.2      3784.2     0.0  2024-10-17    14   \n",
       "41691 2024-10-17 14:59:00      3782.8      3783.2     0.4  2024-10-17    14   \n",
       "41692 2024-10-17 15:00:00      3784.4      3781.6    -2.8  2024-10-17    15   \n",
       "\n",
       "       minute  Expiration_Date  \n",
       "40488      30                0  \n",
       "40489      31                0  \n",
       "40490      32                0  \n",
       "40491      33                0  \n",
       "40492      34                0  \n",
       "...       ...              ...  \n",
       "41688      56                0  \n",
       "41689      57                0  \n",
       "41690      58                0  \n",
       "41691      59                0  \n",
       "41692       0                0  \n",
       "\n",
       "[1205 rows x 8 columns]"
      ]
     },
     "execution_count": 31,
     "metadata": {},
     "output_type": "execute_result"
    }
   ],
   "source": [
    "df[df[\"date\"].isin(df[df['date']<'2024-10-18']['date'].unique()[-5:])]"
   ]
  },
  {
   "cell_type": "code",
   "execution_count": 5,
   "metadata": {},
   "outputs": [
    {
     "data": {
      "image/png": "[encoded data removed]",
      "text/plain": [
       "<Figure size 640x480 with 1 Axes>"
      ]
     },
     "metadata": {},
     "output_type": "display_data"
    }
   ],
   "source": [
    "\n",
    "timeseries = df[[\"spread\"]].values.astype('float32')\n",
    "\n",
    "plt.plot(timeseries[:,0])\n",
    "plt.show()"
   ]
  },
  {
   "cell_type": "code",
   "execution_count": 6,
   "metadata": {},
   "outputs": [],
   "source": [
    "# train-test split for time series\n",
    "\n",
    "\n",
    "\n",
    "import torch\n",
    "\n",
    "def create_dataset(dataset, lookback,split_index):\n",
    "    \"\"\"Transform a time series into a prediction dataset\n",
    "\n",
    "    Args:\n",
    "        dataset: A numpy array of time series, first dimension is the time steps\n",
    "        lookback: Size of window for prediction\n",
    "    \"\"\"\n",
    "\n",
    "\n",
    "    X_train, y_train = [], []\n",
    "    X_test, y_test = [], []\n",
    "    # X_train_date,y_train_date = [],[]\n",
    "    # X_test_date,y_test_date = [],[]\n",
    "    for i in range(lookback, len(dataset)-1):\n",
    "        if i <= split_index:\n",
    "            feature = dataset[i-lookback:i]\n",
    "            target = dataset[i:i+1][:,0:1]\n",
    "            X_train.append(feature)\n",
    "            y_train.append(target)\n",
    "        else:\n",
    "            feature = dataset[i-lookback:i]\n",
    "            target = dataset[i:i+1][:,0:1]\n",
    "            X_test.append(feature)\n",
    "            y_test.append(target)\n",
    "    # X = np.array(X)\n",
    "    # y = np.array(y)\n",
    "    return torch.tensor(X_train), torch.tensor(y_train),torch.tensor(X_test), torch.tensor(y_test)\n",
    "\n",
    "\n",
    "\n"
   ]
  },
  {
   "cell_type": "code",
   "execution_count": null,
   "metadata": {},
   "outputs": [],
   "source": []
  },
  {
   "cell_type": "code",
   "execution_count": 7,
   "metadata": {},
   "outputs": [],
   "source": [
    "# train_size = int(len(timeseries) * 0.67)\n",
    "# test_size = len(timeseries) - train_size\n",
    "# train, test = timeseries[:train_size], timeseries[train_size:]\n",
    "# lookback = LOOKBACK \n",
    "# X_train_all, y_train_all = create_dataset(train, lookback=lookback)\n",
    "# X_test, y_test = create_dataset(test, lookback=lookback)\n",
    "# print(X_train_all.shape, y_train_all.shape)\n",
    "# print(X_test.shape, y_test.shape)\n",
    "\n",
    "# indices = np.arange(len(X_train_all))   \n",
    "# np.random.shuffle(indices)\n",
    "# train_val_size = int(len(X_train_all) * 0.8)\n",
    "# train_indices = indices[:train_val_size]\n",
    "# val_indices = indices[train_val_size:]\n",
    "# X_train = X_train_all[train_indices]\n",
    "# y_train = y_train_all[train_indices]\n",
    "# X_val = X_train_all[val_indices]\n",
    "# y_val = y_train_all[val_indices]\n",
    "\n",
    "# device = torch.device('cuda' if torch.cuda.is_available() else 'cpu')\n",
    "\n",
    "# X_train = X_train.to(device)\n",
    "# y_train = y_train.to(device)\n",
    "# X_val = X_val.to(device)\n",
    "# y_val = y_val.to(device)\n",
    "# X_test = X_test.to(device)\n",
    "# y_test = y_test.to(device)\n"
   ]
  },
  {
   "cell_type": "code",
   "execution_count": null,
   "metadata": {},
   "outputs": [],
   "source": []
  },
  {
   "cell_type": "code",
   "execution_count": 8,
   "metadata": {},
   "outputs": [],
   "source": [
    "import torch\n",
    "import torch.nn as nn\n",
    "import numpy as np\n",
    "\n",
    "class DeepTrendDecomposer(nn.Module):\n",
    "    def __init__(self, window_size=5):\n",
    "        super().__init__()\n",
    "        # 使用大窗口卷积捕获低频趋势\n",
    "        self.trend_extractor = nn.Sequential(\n",
    "            nn.Conv1d(in_channels=1, out_channels=16, kernel_size=window_size, padding='same'),\n",
    "            nn.ReLU(),\n",
    "            nn.Conv1d(16, 1, kernel_size=window_size, padding='same')\n",
    "        )\n",
    "        \n",
    "    def forward(self, x):\n",
    "        # 输入形状: (batch_size, seq_len)\n",
    "        x = x.permute(0,2,1)  # 添加通道维度 -> (B, 1, T)\n",
    "        # print(x.shape)\n",
    "        trend = self.trend_extractor(x)  # (B, 1, T)\n",
    "        residual = x - trend\n",
    "        return trend, residual\n",
    "\n",
    "# # 使用示例\n",
    "# model = DeepTrendDecomposer(window_size=7)\n",
    "# input_seq = torch.randn(32, 100)  # batch_size=32, seq_len=100\n",
    "# trend, residual = model(input_seq)\n"
   ]
  },
  {
   "cell_type": "code",
   "execution_count": 9,
   "metadata": {},
   "outputs": [],
   "source": [
    "# trend.shape "
   ]
  },
  {
   "cell_type": "code",
   "execution_count": 10,
   "metadata": {},
   "outputs": [],
   "source": [
    "class EarlyStopping:\n",
    "    def __init__(self, patience=7, min_delta=0, verbose=False):\n",
    "        \"\"\"\n",
    "        Early stopping to stop the training when the loss does not improve after\n",
    "        certain epochs.\n",
    "        \n",
    "        Args:\n",
    "            patience (int): How many epochs to wait before stopping when loss is\n",
    "                           not improving\n",
    "            min_delta (float): Minimum change in the monitored quantity to\n",
    "                             qualify as an improvement\n",
    "            verbose (bool): If True, prints a message for each validation loss improvement\n",
    "        \"\"\"\n",
    "        self.patience = patience\n",
    "        self.min_delta = min_delta\n",
    "        self.verbose = verbose\n",
    "        self.counter = 0\n",
    "        self.best_loss = None\n",
    "        self.early_stop = False\n",
    "        self.val_loss_min = float('inf')\n",
    "        \n",
    "    def __call__(self, val_loss, model, optimizer, epoch):\n",
    "        if self.best_loss is None:\n",
    "            self.best_loss = val_loss\n",
    "            self.save_checkpoint(val_loss, model, optimizer, epoch)\n",
    "        elif val_loss > self.best_loss + self.min_delta:\n",
    "            self.counter += 1\n",
    "            if self.verbose:\n",
    "                print(f'EarlyStopping counter: {self.counter} out of {self.patience}')\n",
    "            if self.counter >= self.patience:\n",
    "                self.early_stop = True\n",
    "        else:\n",
    "            self.best_loss = val_loss\n",
    "            self.save_checkpoint(val_loss, model, optimizer, epoch)\n",
    "            self.counter = 0\n",
    "            \n",
    "    def save_checkpoint(self, val_loss, model, optimizer, epoch):\n",
    "        \"\"\"Saves model when validation loss decreases.\"\"\"\n",
    "        if self.verbose:\n",
    "            print(f'Validation loss decreased ({self.val_loss_min:.6f} --> {val_loss:.6f}). Saving model ...')\n",
    "        torch.save(model.state_dict(), 'checkpoint.pt')\n",
    "        self.val_loss_min = val_loss"
   ]
  },
  {
   "cell_type": "code",
   "execution_count": 11,
   "metadata": {},
   "outputs": [],
   "source": [
    "\n",
    "\n",
    "class TrendAwareLSTM(nn.Module):\n",
    "    def __init__(self, input_size=1, hidden_size=50):\n",
    "        super().__init__()\n",
    "        self.decomposer =  DeepTrendDecomposer(window_size=7)\n",
    "        self.lstm = nn.LSTM(input_size, hidden_size)\n",
    "        self.linear = nn.Linear(hidden_size, 1)\n",
    "\n",
    "\n",
    "    def forward(self, x):\n",
    "        # 分解趋势\n",
    "        trend, residual = self.decomposer(x)\n",
    "        # print(trend.shape,residual.shape)\n",
    "        \n",
    "        # 用LSTM预测残差\n",
    "        trend = trend.permute(0,2,1)\n",
    "        residual = residual.permute(0,2,1)\n",
    "        # residual = residual.unsqueeze(-1)  # (B, T, 1)\n",
    "        lstm_out, _ = self.lstm(residual)\n",
    "        pred_residual = self.linear(lstm_out[:, -1, :])\n",
    "        \n",
    "        # 预测趋势（简单移动平均）\n",
    "        pred_trend = trend[:, -1].unsqueeze(-1)  # 假设趋势缓慢变化\n",
    "        \n",
    "        return pred_trend + pred_residual\n",
    "# model = TrendAwareLSTM().to(device)\n",
    "# model \n",
    "\n",
    "# sum(para.numel() for para in model.parameters())"
   ]
  },
  {
   "cell_type": "code",
   "execution_count": 33,
   "metadata": {},
   "outputs": [
    {
     "data": {
      "text/plain": [
       "10892"
      ]
     },
     "execution_count": 33,
     "metadata": {},
     "output_type": "execute_result"
    }
   ],
   "source": [
    "device = torch.device('cuda' if torch.cuda.is_available() else 'cpu')\n",
    "model = TrendAwareLSTM().to(device)\n",
    "model \n",
    "\n",
    "sum(para.numel() for para in model.parameters())"
   ]
  },
  {
   "cell_type": "code",
   "execution_count": 34,
   "metadata": {},
   "outputs": [
    {
     "data": {
      "text/plain": [
       "TrendAwareLSTM(\n",
       "  (decomposer): DeepTrendDecomposer(\n",
       "    (trend_extractor): Sequential(\n",
       "      (0): Conv1d(1, 16, kernel_size=(7,), stride=(1,), padding=same)\n",
       "      (1): ReLU()\n",
       "      (2): Conv1d(16, 1, kernel_size=(7,), stride=(1,), padding=same)\n",
       "    )\n",
       "  )\n",
       "  (lstm): LSTM(1, 50)\n",
       "  (linear): Linear(in_features=50, out_features=1, bias=True)\n",
       ")"
      ]
     },
     "execution_count": 34,
     "metadata": {},
     "output_type": "execute_result"
    }
   ],
   "source": [
    "model"
   ]
  },
  {
   "cell_type": "code",
   "execution_count": 13,
   "metadata": {},
   "outputs": [
    {
     "name": "stderr",
     "output_type": "stream",
     "text": [
      "/tmp/ipykernel_1712/3213239883.py:33: UserWarning: Creating a tensor from a list of numpy.ndarrays is extremely slow. Please consider converting the list to a single numpy.ndarray with numpy.array() before converting to a tensor. (Triggered internally at ../torch/csrc/utils/tensor_new.cpp:278.)\n",
      "  return torch.tensor(X_train), torch.tensor(y_train),torch.tensor(X_test), torch.tensor(y_test)\n"
     ]
    },
    {
     "name": "stdout",
     "output_type": "stream",
     "text": [
      "torch.Size([55812, 100, 1]) torch.Size([55812, 1, 1])\n",
      "torch.Size([2650, 100, 1]) torch.Size([2650, 1, 1])\n"
     ]
    }
   ],
   "source": [
    "split_index = 55911\n",
    "lookback = LOOKBACK \n",
    "X_train_all, y_train_all,X_test, y_test = create_dataset(timeseries, lookback=lookback,split_index=split_index)\n",
    "# X_test, y_test = create_dataset(test, lookback=lookback)\n",
    "print(X_train_all.shape, y_train_all.shape)\n",
    "print(X_test.shape, y_test.shape)\n",
    "\n",
    "indices = np.arange(len(X_train_all))   \n",
    "np.random.shuffle(indices)\n",
    "train_val_size = int(len(X_train_all) * 0.8)\n",
    "train_indices = indices[:train_val_size]\n",
    "val_indices = indices[train_val_size:]\n",
    "X_train = X_train_all[train_indices]\n",
    "y_train = y_train_all[train_indices]\n",
    "X_val = X_train_all[val_indices]\n",
    "y_val = y_train_all[val_indices]\n",
    "\n",
    "device = torch.device('cuda' if torch.cuda.is_available() else 'cpu')\n",
    "\n",
    "X_train = X_train.to(device)\n",
    "y_train = y_train.to(device)\n",
    "X_val = X_val.to(device)\n",
    "y_val = y_val.to(device)\n",
    "X_test = X_test.to(device)\n",
    "y_test = y_test.to(device)"
   ]
  },
  {
   "cell_type": "code",
   "execution_count": 14,
   "metadata": {},
   "outputs": [],
   "source": [
    "# y_test"
   ]
  },
  {
   "cell_type": "code",
   "execution_count": 15,
   "metadata": {},
   "outputs": [],
   "source": [
    "# X_test"
   ]
  },
  {
   "cell_type": "code",
   "execution_count": 16,
   "metadata": {},
   "outputs": [],
   "source": [
    "# trend,redisual = model.decomposer(X_train)\n",
    "\n"
   ]
  },
  {
   "cell_type": "code",
   "execution_count": 27,
   "metadata": {},
   "outputs": [],
   "source": [
    "\n",
    "# trend,redisual = model.decomposer(X_test[0,:,:].unsqueeze(0))\n",
    "# trend = trend.cpu().detach().numpy()\n",
    "# redisual = redisual.cpu().detach().numpy()\n",
    "# true_value = X_test[0,:,:].cpu().detach().numpy()\n",
    "# x = df.iloc[split_index-LOOKBACK:split_index]['time'].values \n",
    "# df_trend_result = pd.DataFrame(trend.flatten(),columns=['trend'])\n",
    "# df_trend_result['redisual'] = redisual.flatten()\n",
    "# df_trend_result['true_value'] = true_value.flatten()\n",
    "# df_trend_result['time'] = x\n",
    "\n",
    "# if not os.path.exists('./data/df_trend_result.csv'):\n",
    "#     df_trend_result.to_csv('./data/df_trend_result.csv',sep='\\t')\n",
    "# else:\n",
    "#     df_trend_result.to_csv('./data/df_trend_result.csv',sep='\\t',mode='a',header=False)"
   ]
  },
  {
   "cell_type": "code",
   "execution_count": 35,
   "metadata": {},
   "outputs": [
    {
     "name": "stdout",
     "output_type": "stream",
     "text": [
      "torch.Size([40389, 100, 1]) torch.Size([40389, 1, 1])\n",
      "torch.Size([18073, 100, 1]) torch.Size([18073, 1, 1])\n"
     ]
    },
    {
     "name": "stderr",
     "output_type": "stream",
     "text": [
      "/opt/conda/envs/app/lib/python3.10/site-packages/torch/nn/modules/loss.py:608: UserWarning: Using a target size (torch.Size([256, 1, 1])) that is different to the input size (torch.Size([256, 256, 1])). This will likely lead to incorrect results due to broadcasting. Please ensure they have the same size.\n",
      "  return F.mse_loss(input, target, reduction=self.reduction)\n",
      "/opt/conda/envs/app/lib/python3.10/site-packages/torch/nn/modules/loss.py:608: UserWarning: Using a target size (torch.Size([55, 1, 1])) that is different to the input size (torch.Size([55, 55, 1])). This will likely lead to incorrect results due to broadcasting. Please ensure they have the same size.\n",
      "  return F.mse_loss(input, target, reduction=self.reduction)\n",
      "/opt/conda/envs/app/lib/python3.10/site-packages/torch/nn/modules/loss.py:608: UserWarning: Using a target size (torch.Size([8078, 1, 1])) that is different to the input size (torch.Size([8078, 8078, 1])). This will likely lead to incorrect results due to broadcasting. Please ensure they have the same size.\n",
      "  return F.mse_loss(input, target, reduction=self.reduction)\n"
     ]
    },
    {
     "name": "stdout",
     "output_type": "stream",
     "text": [
      "Early stopping\n",
      "训练时间: 68.79297757148743 秒\n",
      "torch.Size([40489, 100, 1]) torch.Size([40489, 1, 1])\n",
      "torch.Size([17973, 100, 1]) torch.Size([17973, 1, 1])\n"
     ]
    },
    {
     "name": "stderr",
     "output_type": "stream",
     "text": [
      "/opt/conda/envs/app/lib/python3.10/site-packages/torch/nn/modules/loss.py:608: UserWarning: Using a target size (torch.Size([256, 1, 1])) that is different to the input size (torch.Size([256, 256, 1])). This will likely lead to incorrect results due to broadcasting. Please ensure they have the same size.\n",
      "  return F.mse_loss(input, target, reduction=self.reduction)\n",
      "/opt/conda/envs/app/lib/python3.10/site-packages/torch/nn/modules/loss.py:608: UserWarning: Using a target size (torch.Size([135, 1, 1])) that is different to the input size (torch.Size([135, 135, 1])). This will likely lead to incorrect results due to broadcasting. Please ensure they have the same size.\n",
      "  return F.mse_loss(input, target, reduction=self.reduction)\n",
      "/opt/conda/envs/app/lib/python3.10/site-packages/torch/nn/modules/loss.py:608: UserWarning: Using a target size (torch.Size([8098, 1, 1])) that is different to the input size (torch.Size([8098, 8098, 1])). This will likely lead to incorrect results due to broadcasting. Please ensure they have the same size.\n",
      "  return F.mse_loss(input, target, reduction=self.reduction)\n"
     ]
    },
    {
     "name": "stdout",
     "output_type": "stream",
     "text": [
      "Early stopping\n",
      "训练时间: 170.80767369270325 秒\n",
      "torch.Size([40589, 100, 1]) torch.Size([40589, 1, 1])\n",
      "torch.Size([17873, 100, 1]) torch.Size([17873, 1, 1])\n"
     ]
    },
    {
     "name": "stderr",
     "output_type": "stream",
     "text": [
      "/opt/conda/envs/app/lib/python3.10/site-packages/torch/nn/modules/loss.py:608: UserWarning: Using a target size (torch.Size([256, 1, 1])) that is different to the input size (torch.Size([256, 256, 1])). This will likely lead to incorrect results due to broadcasting. Please ensure they have the same size.\n",
      "  return F.mse_loss(input, target, reduction=self.reduction)\n",
      "/opt/conda/envs/app/lib/python3.10/site-packages/torch/nn/modules/loss.py:608: UserWarning: Using a target size (torch.Size([215, 1, 1])) that is different to the input size (torch.Size([215, 215, 1])). This will likely lead to incorrect results due to broadcasting. Please ensure they have the same size.\n",
      "  return F.mse_loss(input, target, reduction=self.reduction)\n",
      "/opt/conda/envs/app/lib/python3.10/site-packages/torch/nn/modules/loss.py:608: UserWarning: Using a target size (torch.Size([8118, 1, 1])) that is different to the input size (torch.Size([8118, 8118, 1])). This will likely lead to incorrect results due to broadcasting. Please ensure they have the same size.\n",
      "  return F.mse_loss(input, target, reduction=self.reduction)\n"
     ]
    },
    {
     "name": "stdout",
     "output_type": "stream",
     "text": [
      "Early stopping\n",
      "训练时间: 383.8803162574768 秒\n",
      "torch.Size([40689, 100, 1]) torch.Size([40689, 1, 1])\n",
      "torch.Size([17773, 100, 1]) torch.Size([17773, 1, 1])\n"
     ]
    },
    {
     "name": "stderr",
     "output_type": "stream",
     "text": [
      "/opt/conda/envs/app/lib/python3.10/site-packages/torch/nn/modules/loss.py:608: UserWarning: Using a target size (torch.Size([256, 1, 1])) that is different to the input size (torch.Size([256, 256, 1])). This will likely lead to incorrect results due to broadcasting. Please ensure they have the same size.\n",
      "  return F.mse_loss(input, target, reduction=self.reduction)\n",
      "/opt/conda/envs/app/lib/python3.10/site-packages/torch/nn/modules/loss.py:608: UserWarning: Using a target size (torch.Size([39, 1, 1])) that is different to the input size (torch.Size([39, 39, 1])). This will likely lead to incorrect results due to broadcasting. Please ensure they have the same size.\n",
      "  return F.mse_loss(input, target, reduction=self.reduction)\n",
      "/opt/conda/envs/app/lib/python3.10/site-packages/torch/nn/modules/loss.py:608: UserWarning: Using a target size (torch.Size([8138, 1, 1])) that is different to the input size (torch.Size([8138, 8138, 1])). This will likely lead to incorrect results due to broadcasting. Please ensure they have the same size.\n",
      "  return F.mse_loss(input, target, reduction=self.reduction)\n"
     ]
    },
    {
     "name": "stdout",
     "output_type": "stream",
     "text": [
      "Early stopping\n",
      "训练时间: 474.8942732810974 秒\n",
      "torch.Size([40789, 100, 1]) torch.Size([40789, 1, 1])\n",
      "torch.Size([17673, 100, 1]) torch.Size([17673, 1, 1])\n"
     ]
    },
    {
     "name": "stderr",
     "output_type": "stream",
     "text": [
      "/opt/conda/envs/app/lib/python3.10/site-packages/torch/nn/modules/loss.py:608: UserWarning: Using a target size (torch.Size([256, 1, 1])) that is different to the input size (torch.Size([256, 256, 1])). This will likely lead to incorrect results due to broadcasting. Please ensure they have the same size.\n",
      "  return F.mse_loss(input, target, reduction=self.reduction)\n",
      "/opt/conda/envs/app/lib/python3.10/site-packages/torch/nn/modules/loss.py:608: UserWarning: Using a target size (torch.Size([119, 1, 1])) that is different to the input size (torch.Size([119, 119, 1])). This will likely lead to incorrect results due to broadcasting. Please ensure they have the same size.\n",
      "  return F.mse_loss(input, target, reduction=self.reduction)\n",
      "/opt/conda/envs/app/lib/python3.10/site-packages/torch/nn/modules/loss.py:608: UserWarning: Using a target size (torch.Size([8158, 1, 1])) that is different to the input size (torch.Size([8158, 8158, 1])). This will likely lead to incorrect results due to broadcasting. Please ensure they have the same size.\n",
      "  return F.mse_loss(input, target, reduction=self.reduction)\n"
     ]
    },
    {
     "name": "stdout",
     "output_type": "stream",
     "text": [
      "Early stopping\n",
      "训练时间: 582.1794896125793 秒\n",
      "torch.Size([40889, 100, 1]) torch.Size([40889, 1, 1])\n",
      "torch.Size([17573, 100, 1]) torch.Size([17573, 1, 1])\n"
     ]
    },
    {
     "name": "stderr",
     "output_type": "stream",
     "text": [
      "/opt/conda/envs/app/lib/python3.10/site-packages/torch/nn/modules/loss.py:608: UserWarning: Using a target size (torch.Size([256, 1, 1])) that is different to the input size (torch.Size([256, 256, 1])). This will likely lead to incorrect results due to broadcasting. Please ensure they have the same size.\n",
      "  return F.mse_loss(input, target, reduction=self.reduction)\n",
      "/opt/conda/envs/app/lib/python3.10/site-packages/torch/nn/modules/loss.py:608: UserWarning: Using a target size (torch.Size([199, 1, 1])) that is different to the input size (torch.Size([199, 199, 1])). This will likely lead to incorrect results due to broadcasting. Please ensure they have the same size.\n",
      "  return F.mse_loss(input, target, reduction=self.reduction)\n",
      "/opt/conda/envs/app/lib/python3.10/site-packages/torch/nn/modules/loss.py:608: UserWarning: Using a target size (torch.Size([8178, 1, 1])) that is different to the input size (torch.Size([8178, 8178, 1])). This will likely lead to incorrect results due to broadcasting. Please ensure they have the same size.\n",
      "  return F.mse_loss(input, target, reduction=self.reduction)\n"
     ]
    },
    {
     "name": "stdout",
     "output_type": "stream",
     "text": [
      "Early stopping\n",
      "训练时间: 745.0776789188385 秒\n",
      "torch.Size([40989, 100, 1]) torch.Size([40989, 1, 1])\n",
      "torch.Size([17473, 100, 1]) torch.Size([17473, 1, 1])\n"
     ]
    },
    {
     "name": "stderr",
     "output_type": "stream",
     "text": [
      "/opt/conda/envs/app/lib/python3.10/site-packages/torch/nn/modules/loss.py:608: UserWarning: Using a target size (torch.Size([256, 1, 1])) that is different to the input size (torch.Size([256, 256, 1])). This will likely lead to incorrect results due to broadcasting. Please ensure they have the same size.\n",
      "  return F.mse_loss(input, target, reduction=self.reduction)\n",
      "/opt/conda/envs/app/lib/python3.10/site-packages/torch/nn/modules/loss.py:608: UserWarning: Using a target size (torch.Size([23, 1, 1])) that is different to the input size (torch.Size([23, 23, 1])). This will likely lead to incorrect results due to broadcasting. Please ensure they have the same size.\n",
      "  return F.mse_loss(input, target, reduction=self.reduction)\n",
      "/opt/conda/envs/app/lib/python3.10/site-packages/torch/nn/modules/loss.py:608: UserWarning: Using a target size (torch.Size([8198, 1, 1])) that is different to the input size (torch.Size([8198, 8198, 1])). This will likely lead to incorrect results due to broadcasting. Please ensure they have the same size.\n",
      "  return F.mse_loss(input, target, reduction=self.reduction)\n"
     ]
    },
    {
     "name": "stdout",
     "output_type": "stream",
     "text": [
      "Early stopping\n",
      "训练时间: 822.0282120704651 秒\n",
      "torch.Size([41089, 100, 1]) torch.Size([41089, 1, 1])\n",
      "torch.Size([17373, 100, 1]) torch.Size([17373, 1, 1])\n"
     ]
    },
    {
     "name": "stderr",
     "output_type": "stream",
     "text": [
      "/opt/conda/envs/app/lib/python3.10/site-packages/torch/nn/modules/loss.py:608: UserWarning: Using a target size (torch.Size([256, 1, 1])) that is different to the input size (torch.Size([256, 256, 1])). This will likely lead to incorrect results due to broadcasting. Please ensure they have the same size.\n",
      "  return F.mse_loss(input, target, reduction=self.reduction)\n",
      "/opt/conda/envs/app/lib/python3.10/site-packages/torch/nn/modules/loss.py:608: UserWarning: Using a target size (torch.Size([103, 1, 1])) that is different to the input size (torch.Size([103, 103, 1])). This will likely lead to incorrect results due to broadcasting. Please ensure they have the same size.\n",
      "  return F.mse_loss(input, target, reduction=self.reduction)\n",
      "/opt/conda/envs/app/lib/python3.10/site-packages/torch/nn/modules/loss.py:608: UserWarning: Using a target size (torch.Size([8218, 1, 1])) that is different to the input size (torch.Size([8218, 8218, 1])). This will likely lead to incorrect results due to broadcasting. Please ensure they have the same size.\n",
      "  return F.mse_loss(input, target, reduction=self.reduction)\n"
     ]
    },
    {
     "name": "stdout",
     "output_type": "stream",
     "text": [
      "Early stopping\n",
      "训练时间: 855.2433135509491 秒\n",
      "torch.Size([41189, 100, 1]) torch.Size([41189, 1, 1])\n",
      "torch.Size([17273, 100, 1]) torch.Size([17273, 1, 1])\n"
     ]
    },
    {
     "name": "stderr",
     "output_type": "stream",
     "text": [
      "/opt/conda/envs/app/lib/python3.10/site-packages/torch/nn/modules/loss.py:608: UserWarning: Using a target size (torch.Size([256, 1, 1])) that is different to the input size (torch.Size([256, 256, 1])). This will likely lead to incorrect results due to broadcasting. Please ensure they have the same size.\n",
      "  return F.mse_loss(input, target, reduction=self.reduction)\n",
      "/opt/conda/envs/app/lib/python3.10/site-packages/torch/nn/modules/loss.py:608: UserWarning: Using a target size (torch.Size([183, 1, 1])) that is different to the input size (torch.Size([183, 183, 1])). This will likely lead to incorrect results due to broadcasting. Please ensure they have the same size.\n",
      "  return F.mse_loss(input, target, reduction=self.reduction)\n",
      "/opt/conda/envs/app/lib/python3.10/site-packages/torch/nn/modules/loss.py:608: UserWarning: Using a target size (torch.Size([8238, 1, 1])) that is different to the input size (torch.Size([8238, 8238, 1])). This will likely lead to incorrect results due to broadcasting. Please ensure they have the same size.\n",
      "  return F.mse_loss(input, target, reduction=self.reduction)\n"
     ]
    },
    {
     "name": "stdout",
     "output_type": "stream",
     "text": [
      "Early stopping\n",
      "训练时间: 923.1850454807281 秒\n",
      "torch.Size([41289, 100, 1]) torch.Size([41289, 1, 1])\n",
      "torch.Size([17173, 100, 1]) torch.Size([17173, 1, 1])\n"
     ]
    },
    {
     "name": "stderr",
     "output_type": "stream",
     "text": [
      "/opt/conda/envs/app/lib/python3.10/site-packages/torch/nn/modules/loss.py:608: UserWarning: Using a target size (torch.Size([256, 1, 1])) that is different to the input size (torch.Size([256, 256, 1])). This will likely lead to incorrect results due to broadcasting. Please ensure they have the same size.\n",
      "  return F.mse_loss(input, target, reduction=self.reduction)\n",
      "/opt/conda/envs/app/lib/python3.10/site-packages/torch/nn/modules/loss.py:608: UserWarning: Using a target size (torch.Size([7, 1, 1])) that is different to the input size (torch.Size([7, 7, 1])). This will likely lead to incorrect results due to broadcasting. Please ensure they have the same size.\n",
      "  return F.mse_loss(input, target, reduction=self.reduction)\n",
      "/opt/conda/envs/app/lib/python3.10/site-packages/torch/nn/modules/loss.py:608: UserWarning: Using a target size (torch.Size([8258, 1, 1])) that is different to the input size (torch.Size([8258, 8258, 1])). This will likely lead to incorrect results due to broadcasting. Please ensure they have the same size.\n",
      "  return F.mse_loss(input, target, reduction=self.reduction)\n"
     ]
    },
    {
     "name": "stdout",
     "output_type": "stream",
     "text": [
      "Early stopping\n",
      "训练时间: 1035.3523366451263 秒\n",
      "torch.Size([41389, 100, 1]) torch.Size([41389, 1, 1])\n",
      "torch.Size([17073, 100, 1]) torch.Size([17073, 1, 1])\n"
     ]
    },
    {
     "name": "stderr",
     "output_type": "stream",
     "text": [
      "/opt/conda/envs/app/lib/python3.10/site-packages/torch/nn/modules/loss.py:608: UserWarning: Using a target size (torch.Size([256, 1, 1])) that is different to the input size (torch.Size([256, 256, 1])). This will likely lead to incorrect results due to broadcasting. Please ensure they have the same size.\n",
      "  return F.mse_loss(input, target, reduction=self.reduction)\n",
      "/opt/conda/envs/app/lib/python3.10/site-packages/torch/nn/modules/loss.py:608: UserWarning: Using a target size (torch.Size([87, 1, 1])) that is different to the input size (torch.Size([87, 87, 1])). This will likely lead to incorrect results due to broadcasting. Please ensure they have the same size.\n",
      "  return F.mse_loss(input, target, reduction=self.reduction)\n",
      "/opt/conda/envs/app/lib/python3.10/site-packages/torch/nn/modules/loss.py:608: UserWarning: Using a target size (torch.Size([8278, 1, 1])) that is different to the input size (torch.Size([8278, 8278, 1])). This will likely lead to incorrect results due to broadcasting. Please ensure they have the same size.\n",
      "  return F.mse_loss(input, target, reduction=self.reduction)\n"
     ]
    },
    {
     "name": "stdout",
     "output_type": "stream",
     "text": [
      "Early stopping\n",
      "训练时间: 1103.6255073547363 秒\n",
      "torch.Size([41489, 100, 1]) torch.Size([41489, 1, 1])\n",
      "torch.Size([16973, 100, 1]) torch.Size([16973, 1, 1])\n"
     ]
    },
    {
     "name": "stderr",
     "output_type": "stream",
     "text": [
      "/opt/conda/envs/app/lib/python3.10/site-packages/torch/nn/modules/loss.py:608: UserWarning: Using a target size (torch.Size([256, 1, 1])) that is different to the input size (torch.Size([256, 256, 1])). This will likely lead to incorrect results due to broadcasting. Please ensure they have the same size.\n",
      "  return F.mse_loss(input, target, reduction=self.reduction)\n",
      "/opt/conda/envs/app/lib/python3.10/site-packages/torch/nn/modules/loss.py:608: UserWarning: Using a target size (torch.Size([167, 1, 1])) that is different to the input size (torch.Size([167, 167, 1])). This will likely lead to incorrect results due to broadcasting. Please ensure they have the same size.\n",
      "  return F.mse_loss(input, target, reduction=self.reduction)\n",
      "/opt/conda/envs/app/lib/python3.10/site-packages/torch/nn/modules/loss.py:608: UserWarning: Using a target size (torch.Size([8298, 1, 1])) that is different to the input size (torch.Size([8298, 8298, 1])). This will likely lead to incorrect results due to broadcasting. Please ensure they have the same size.\n",
      "  return F.mse_loss(input, target, reduction=self.reduction)\n"
     ]
    },
    {
     "name": "stdout",
     "output_type": "stream",
     "text": [
      "Early stopping\n",
      "训练时间: 1269.5759382247925 秒\n",
      "torch.Size([41589, 100, 1]) torch.Size([41589, 1, 1])\n",
      "torch.Size([16873, 100, 1]) torch.Size([16873, 1, 1])\n"
     ]
    },
    {
     "name": "stderr",
     "output_type": "stream",
     "text": [
      "/opt/conda/envs/app/lib/python3.10/site-packages/torch/nn/modules/loss.py:608: UserWarning: Using a target size (torch.Size([256, 1, 1])) that is different to the input size (torch.Size([256, 256, 1])). This will likely lead to incorrect results due to broadcasting. Please ensure they have the same size.\n",
      "  return F.mse_loss(input, target, reduction=self.reduction)\n",
      "/opt/conda/envs/app/lib/python3.10/site-packages/torch/nn/modules/loss.py:608: UserWarning: Using a target size (torch.Size([247, 1, 1])) that is different to the input size (torch.Size([247, 247, 1])). This will likely lead to incorrect results due to broadcasting. Please ensure they have the same size.\n",
      "  return F.mse_loss(input, target, reduction=self.reduction)\n",
      "/opt/conda/envs/app/lib/python3.10/site-packages/torch/nn/modules/loss.py:608: UserWarning: Using a target size (torch.Size([8318, 1, 1])) that is different to the input size (torch.Size([8318, 8318, 1])). This will likely lead to incorrect results due to broadcasting. Please ensure they have the same size.\n",
      "  return F.mse_loss(input, target, reduction=self.reduction)\n"
     ]
    },
    {
     "name": "stdout",
     "output_type": "stream",
     "text": [
      "Early stopping\n",
      "训练时间: 1415.2526545524597 秒\n"
     ]
    }
   ],
   "source": [
    "import numpy as np\n",
    "import torch.optim as optim\n",
    "import torch.utils.data as data\n",
    "import time \n",
    "begin_time = time.time()\n",
    "df_result = pd.DataFrame()\n",
    "\n",
    "for split_index in range(40488,41692,100): #, len(timeseries)\n",
    "    train_size = split_index # \n",
    "    # test_size = len(timeseries) - train_size\n",
    "    # train, test = timeseries[:train_size], timeseries[train_size:]\n",
    "    lookback = LOOKBACK \n",
    "    X_train_all, y_train_all,X_test, y_test = create_dataset(timeseries, lookback=lookback,split_index=split_index)\n",
    "    # X_test, y_test = create_dataset(test, lookback=lookback)\n",
    "    print(X_train_all.shape, y_train_all.shape)\n",
    "    print(X_test.shape, y_test.shape)\n",
    "\n",
    "    indices = np.arange(len(X_train_all))   \n",
    "    np.random.shuffle(indices)\n",
    "    train_val_size = int(len(X_train_all) * 0.8)\n",
    "    train_indices = indices[:train_val_size]\n",
    "    val_indices = indices[train_val_size:]\n",
    "    X_train = X_train_all[train_indices]\n",
    "    y_train = y_train_all[train_indices]\n",
    "    X_val = X_train_all[val_indices]\n",
    "    y_val = y_train_all[val_indices]\n",
    "\n",
    "    device = torch.device('cuda' if torch.cuda.is_available() else 'cpu')\n",
    "\n",
    "    X_train = X_train.to(device)\n",
    "    y_train = y_train.to(device)\n",
    "    X_val = X_val.to(device)\n",
    "    y_val = y_val.to(device)\n",
    "    X_test = X_test.to(device)\n",
    "    y_test = y_test.to(device)\n",
    "\n",
    "    model = TrendAwareLSTM().to(device)\n",
    "    model \n",
    "\n",
    "\n",
    "    optimizer = optim.Adam(model.parameters())\n",
    "    loss_fn = nn.MSELoss()\n",
    "    loader = data.DataLoader(data.TensorDataset(X_train, y_train), shuffle=True, batch_size=BATCHSIZE)\n",
    "    early_stopping = EarlyStopping(patience=10, min_delta=0.001)\n",
    "    n_epochs = 1000\n",
    "    for epoch in range(n_epochs):\n",
    "        model.train()\n",
    "        for X_batch, y_batch in loader:\n",
    "            # print(X_batch.shape)\n",
    "            # X_batch = X_batch.to(device)\n",
    "            # y_batch = y_batch.to(device)\n",
    "            y_pred = model(X_batch)\n",
    "            y_pred_val = model(X_val)\n",
    "            # print(y_pred.shape,y_batch.shape)\n",
    "            loss_train = loss_fn(y_pred, y_batch)\n",
    "            \n",
    "            optimizer.zero_grad()\n",
    "            loss_train.backward()\n",
    "            optimizer.step()\n",
    "        # Validation\n",
    "        loss_val = loss_fn(y_pred_val, y_val)\n",
    "        early_stopping(loss_val, model, optimizer, epoch)\n",
    "\n",
    "        if early_stopping.early_stop:\n",
    "            print(\"Early stopping\")\n",
    "            break\n",
    "\n",
    "    model.eval()\n",
    "    # with torch.no_grad():\n",
    "        # X_train = X_train.to(device)\n",
    "        # y_train = y_train.to(device)\n",
    "        # y_pred_train = model(X_train)\n",
    "        # X_test = X_test.to(device)\n",
    "        # y_test = y_test.to(device)\n",
    "        # train_rmse = torch.sqrt(loss_fn(y_pred_train, y_train))\n",
    "        # y_pred_test = model(X_test)\n",
    "        # test_rmse = torch.sqrt(loss_fn(y_pred_test, y_test))\n",
    "    # print(\"Epoch %d: train RMSE %.4f, test RMSE %.4f\" % (epoch, train_rmse, test_rmse))\n",
    "    end_time = time.time()\n",
    "    print(f\"训练时间: {end_time - begin_time} 秒\")\n",
    "\n",
    "    predict_value = model(X_test[0,:,:].unsqueeze(0))\n",
    "    predict_value = predict_value.detach().cpu().numpy().flatten()\n",
    "\n",
    "\n",
    "    df_result_tmp = pd.DataFrame([[split_index, predict_value[0],y_test[0].flatten().cpu().numpy()[0]]],columns=['split_index','predict','true'])\n",
    "    df_result_tmp\n",
    "    # df_result = pd.concat([df_result,df_result_tmp],ignore_index=True)\n",
    "    df_result_tmp.to_csv(f'./data/lstm_with_trends_result_{LOOKBACK}.csv',index=False,mode='a')\n",
    "\n",
    "\n",
    "    trend,redisual = model.decomposer(X_test[0,:,:].unsqueeze(0))\n",
    "    trend = trend.cpu().detach().numpy()\n",
    "    redisual = redisual.cpu().detach().numpy()\n",
    "    test = X_test[0,:,:].cpu().detach().numpy()\n",
    "    x = df.iloc[split_index:split_index+100,0].values \n",
    "    df_trend_result = pd.DataFrame(trend.flatten(),columns=['trend'])\n",
    "    df_trend_result['redisual'] = redisual.flatten()\n",
    "    df_trend_result['ftrue'] = test.flatten()\n",
    "    df_trend_result['time'] = x\n",
    "    df_trend_result \n",
    "    if not os.path.exists('./data/df_trend_result_2410.csv'):\n",
    "        df_trend_result.to_csv('./data/df_trend_result_2410.csv',sep='\\t')\n",
    "    else:\n",
    "        df_trend_result.to_csv('./data/df_trend_result_2410.csv',sep='\\t',mode='a',header=False)\n",
    "\n",
    "    # trend,redisual = model.decomposer(X_test[0,:,:].unsqueeze(0))\n",
    "    # trend = trend.cpu().detach().numpy()\n",
    "    # redisual = redisual.cpu().detach().numpy()\n",
    "    # true_value = X_test[0,:,:].cpu().detach().numpy()\n",
    "    # x = df.iloc[split_index-LOOKBACK:split_index]['time'].values \n",
    "    # df_trend_result = pd.DataFrame(trend.flatten(),columns=['trend'])\n",
    "    # df_trend_result['redisual'] = redisual.flatten()\n",
    "    # df_trend_result['true_value'] = true_value.flatten()\n",
    "    # df_trend_result['time'] = x\n",
    "    \n",
    "    # if not os.path.exists('./data/df_trend_result.csv'):\n",
    "    #     df_trend_result.to_csv('./data/df_trend_result.csv',sep='\\t')\n",
    "    # else:\n",
    "    #     df_trend_result.to_csv('./data/df_trend_result.csv',sep='\\t',mode='a',header=False)\n",
    "    \n",
    "    del model\n",
    "    del optimizer\n",
    "    del loader\n",
    "    del early_stopping\n",
    "    del X_train\n",
    "    del y_train\n",
    "    del X_train_all\n",
    "    del y_train_all\n",
    "    del X_val\n",
    "    del y_val\n",
    "    del X_test\n",
    "    del y_test\n",
    "    # del y_pred_train\n",
    "    # del y_pred_test\n",
    "    # del y_pred_val\n",
    "    del y_pred\n",
    "    del y_batch\n",
    "    del X_batch\n",
    "    torch.cuda.empty_cache()\n",
    "    "
   ]
  },
  {
   "cell_type": "code",
   "execution_count": 13,
   "metadata": {},
   "outputs": [],
   "source": [
    "# trend,redisual = model.decomposer(X_test[0,:,:].unsqueeze(0))\n"
   ]
  },
  {
   "cell_type": "code",
   "execution_count": 16,
   "metadata": {},
   "outputs": [
    {
     "data": {
      "text/plain": [
       "<Axes: >"
      ]
     },
     "execution_count": 16,
     "metadata": {},
     "output_type": "execute_result"
    },
    {
     "data": {
      "image/png": "[encoded data removed]",
      "text/plain": [
       "<Figure size 640x480 with 1 Axes>"
      ]
     },
     "metadata": {},
     "output_type": "display_data"
    }
   ],
   "source": [
    "df_trend_result = pd.read_csv('./data/df_trend_result.csv',sep='\\t')\n"
   ]
  },
  {
   "cell_type": "code",
   "execution_count": 19,
   "metadata": {},
   "outputs": [],
   "source": [
    "df_trend_result['time'] = pd.to_datetime(df_trend_result['time'])\n",
    "df_trend_result = df_trend_result.set_index('time')"
   ]
  },
  {
   "cell_type": "code",
   "execution_count": 20,
   "metadata": {},
   "outputs": [
    {
     "data": {
      "text/plain": [
       "<Axes: xlabel='time'>"
      ]
     },
     "execution_count": 20,
     "metadata": {},
     "output_type": "execute_result"
    },
    {
     "data": {
      "image/png": "[encoded data removed]",
      "text/plain": [
       "<Figure size 640x480 with 1 Axes>"
      ]
     },
     "metadata": {},
     "output_type": "display_data"
    }
   ],
   "source": [
    "df_trend_result[['trend','redisual','ftrue']].plot()"
   ]
  },
  {
   "cell_type": "code",
   "execution_count": 15,
   "metadata": {},
   "outputs": [
    {
     "name": "stdout",
     "output_type": "stream",
     "text": [
      "<class 'pandas.core.frame.DataFrame'>\n",
      "RangeIndex: 1300 entries, 0 to 1299\n",
      "Data columns (total 5 columns):\n",
      " #   Column      Non-Null Count  Dtype  \n",
      "---  ------      --------------  -----  \n",
      " 0   Unnamed: 0  1300 non-null   int64  \n",
      " 1   trend       1300 non-null   float64\n",
      " 2   redisual    1300 non-null   float64\n",
      " 3   ftrue       1300 non-null   float64\n",
      " 4   time        1300 non-null   object \n",
      "dtypes: float64(3), int64(1), object(1)\n",
      "memory usage: 50.9+ KB\n"
     ]
    }
   ],
   "source": [
    "df_trend_result.info()"
   ]
  },
  {
   "cell_type": "code",
   "execution_count": null,
   "metadata": {},
   "outputs": [],
   "source": [
    "plt.plot(trend.flatten(),label='trend' )\n",
    "plt.plot(redisual.flatten(),label='redisual' )\n",
    "\n",
    "plt.plot(test.flatten(),label='true' )\n",
    "plt.legend()\n",
    "\n",
    "plt.show()"
   ]
  },
  {
   "cell_type": "code",
   "execution_count": null,
   "metadata": {},
   "outputs": [],
   "source": [
    "# trend,redisual = model.decomposer(X_test[0,:,:].unsqueeze(0))\n",
    "# trend = trend.cpu().detach().numpy()\n",
    "# redisual = redisual.cpu().detach().numpy()\n",
    "# test = X_test[0,:,:].cpu().detach().numpy()\n",
    "# x = df.iloc[split_index:split_index+100,0].values \n",
    "# df_trend_result = pd.DataFrame(trend.flatten(),columns=['trend'])\n",
    "# df_trend_result['redisual'] = redisual.flatten()\n",
    "# df_trend_result['ftrue'] = test.flatten()\n",
    "# df_trend_result['time'] = x\n",
    "# df_trend_result \n",
    "# if not os.path.exists('./data/df_trend_result.csv'):\n",
    "#     df_trend_result.to_csv('./data/df_trend_result.csv',sep='\\t')\n",
    "# else:\n",
    "#     df_trend_result.to_csv('./data/df_trend_result.csv',sep='\\t',mode='a',header=False)"
   ]
  },
  {
   "cell_type": "code",
   "execution_count": null,
   "metadata": {},
   "outputs": [],
   "source": [
    "plt.plot(trend.flatten(),label='trend' )\n",
    "plt.plot(redisual.flatten(),label='redisual' )\n",
    "\n",
    "plt.plot(test.flatten(),label='true' )\n",
    "plt.legend()\n",
    "\n",
    "plt.show()"
   ]
  },
  {
   "cell_type": "code",
   "execution_count": 24,
   "metadata": {},
   "outputs": [],
   "source": [
    "import plotly.graph_objects as go\n",
    "\n",
    "# 假设 x, trend, residual, test 已是展平的 numpy 数组\n",
    "# 如果尚未展平，可用 numpy.flatten() 或 ravel()\n",
    "\n",
    "fig = go.Figure()\n",
    "\n",
    "# 添加趋势线（trend）\n",
    "fig.add_trace(go.Scatter(\n",
    "    x=x,\n",
    "    y=trend.flatten(),  # 确保数据是一维数组\n",
    "    mode='lines',\n",
    "    name='trend',\n",
    "    line=dict(color='blue')  # 可自定义颜色\n",
    "))\n",
    "\n",
    "# 添加残差线（residual，注意原代码拼写为 redisual）\n",
    "fig.add_trace(go.Scatter(\n",
    "    x=x,\n",
    "    y=redisual.flatten(),  # 修正变量名拼写为 residual\n",
    "    mode='lines',\n",
    "    name='residual',       # 保持标签拼写一致\n",
    "    line=dict(color='orange')\n",
    "))\n",
    "\n",
    "# 添加真实值线（true）\n",
    "fig.add_trace(go.Scatter(\n",
    "    x=x,\n",
    "    y=test.flatten(),\n",
    "    mode='lines',\n",
    "    name='true',\n",
    "    line=dict(color='green')\n",
    "))\n",
    "\n",
    "# 设置布局\n",
    "fig.update_layout(\n",
    "    title='Components Visualization',\n",
    "    xaxis_title='X Axis',\n",
    "    yaxis_title='Y Axis',\n",
    "    legend=dict(\n",
    "        x=0.8,   # 图例位置调整（0-1相对坐标）\n",
    "        y=0.95,\n",
    "        bgcolor='rgba(255,255,255,0.5)'  # 半透明背景\n",
    "    ),\n",
    "    hovermode='x unified'  # 显示共享x轴的悬停信息\n",
    ")\n",
    "\n",
    "# 保存为 HTML\n",
    "fig.write_html(\"plot.html\")  # 默认保存到当前工作目录"
   ]
  },
  {
   "cell_type": "code",
   "execution_count": 44,
   "metadata": {},
   "outputs": [
    {
     "name": "stdout",
     "output_type": "stream",
     "text": [
      "Looking in indexes: https://pypi.tuna.tsinghua.edu.cn/simple\n",
      "Requirement already satisfied: nbformat in /opt/conda/lib/python3.10/site-packages (5.10.4)\n",
      "Requirement already satisfied: fastjsonschema>=2.15 in /opt/conda/lib/python3.10/site-packages (from nbformat) (2.21.1)\n",
      "Requirement already satisfied: jsonschema>=2.6 in /opt/conda/lib/python3.10/site-packages (from nbformat) (4.23.0)\n",
      "Requirement already satisfied: jupyter-core!=5.0.*,>=4.12 in /opt/conda/lib/python3.10/site-packages (from nbformat) (5.7.2)\n",
      "Requirement already satisfied: traitlets>=5.1 in /opt/conda/lib/python3.10/site-packages (from nbformat) (5.14.3)\n",
      "Requirement already satisfied: attrs>=22.2.0 in /opt/conda/lib/python3.10/site-packages (from jsonschema>=2.6->nbformat) (25.3.0)\n",
      "Requirement already satisfied: jsonschema-specifications>=2023.03.6 in /opt/conda/lib/python3.10/site-packages (from jsonschema>=2.6->nbformat) (2024.10.1)\n",
      "Requirement already satisfied: referencing>=0.28.4 in /opt/conda/lib/python3.10/site-packages (from jsonschema>=2.6->nbformat) (0.36.2)\n",
      "Requirement already satisfied: rpds-py>=0.7.1 in /opt/conda/lib/python3.10/site-packages (from jsonschema>=2.6->nbformat) (0.23.1)\n",
      "Requirement already satisfied: platformdirs>=2.5 in /opt/conda/lib/python3.10/site-packages (from jupyter-core!=5.0.*,>=4.12->nbformat) (3.10.0)\n",
      "Requirement already satisfied: typing-extensions>=4.4.0 in /opt/conda/lib/python3.10/site-packages (from referencing>=0.28.4->jsonschema>=2.6->nbformat) (4.13.0)\n",
      "\u001b[33mWARNING: Running pip as the 'root' user can result in broken permissions and conflicting behaviour with the system package manager, possibly rendering your system unusable.It is recommended to use a virtual environment instead: https://pip.pypa.io/warnings/venv. Use the --root-user-action option if you know what you are doing and want to suppress this warning.\u001b[0m\u001b[33m\n",
      "\u001b[0m"
     ]
    }
   ],
   "source": [
    "# !pip install nbformat"
   ]
  },
  {
   "cell_type": "code",
   "execution_count": 37,
   "metadata": {},
   "outputs": [],
   "source": []
  },
  {
   "cell_type": "code",
   "execution_count": 13,
   "metadata": {},
   "outputs": [],
   "source": [
    "def train(model,first_index,end_index,steps,LOOKBACK,BATCHSIZE):\n",
    "    import numpy as np\n",
    "    import torch.optim as optim\n",
    "    import torch.utils.data as data\n",
    "    import time \n",
    "    begin_time = time.time()\n",
    "    df_result = pd.DataFrame()\n",
    "\n",
    "    for split_index in range(first_index,end_index,steps): #, len(timeseries)\n",
    "        train_size = split_index # \n",
    "        # test_size = len(timeseries) - train_size\n",
    "        # train, test = timeseries[:train_size], timeseries[train_size:]\n",
    "        # lookback = LOOKBACK \n",
    "        X_train_all, y_train_all,X_test, y_test = create_dataset(timeseries, lookback=lookback,split_index=split_index)\n",
    "        # X_test, y_test = create_dataset(test, lookback=lookback)\n",
    "        print(X_train_all.shape, y_train_all.shape)\n",
    "        print(X_test.shape, y_test.shape)\n",
    "\n",
    "        indices = np.arange(len(X_train_all))   \n",
    "        np.random.shuffle(indices)\n",
    "        train_val_size = int(len(X_train_all) * 0.8)\n",
    "        train_indices = indices[:train_val_size]\n",
    "        val_indices = indices[train_val_size:]\n",
    "        X_train = X_train_all[train_indices]\n",
    "        y_train = y_train_all[train_indices]\n",
    "        X_val = X_train_all[val_indices]\n",
    "        y_val = y_train_all[val_indices]\n",
    "\n",
    "        device = torch.device('cuda' if torch.cuda.is_available() else 'cpu')\n",
    "\n",
    "        X_train = X_train.to(device)\n",
    "        y_train = y_train.to(device)\n",
    "        X_val = X_val.to(device)\n",
    "        y_val = y_val.to(device)\n",
    "        X_test = X_test.to(device)\n",
    "        y_test = y_test.to(device)\n",
    "\n",
    "        model = TrendAwareLSTM().to(device)\n",
    "        model \n",
    "\n",
    "\n",
    "        optimizer = optim.Adam(model.parameters())\n",
    "        loss_fn = nn.MSELoss()\n",
    "        loader = data.DataLoader(data.TensorDataset(X_train, y_train), shuffle=True, batch_size=BATCHSIZE)\n",
    "        early_stopping = EarlyStopping(patience=10, min_delta=0.001)\n",
    "        n_epochs = 1000\n",
    "        for epoch in range(n_epochs):\n",
    "            model.train()\n",
    "            for X_batch, y_batch in loader:\n",
    "                # print(X_batch.shape)\n",
    "                # X_batch = X_batch.to(device)\n",
    "                # y_batch = y_batch.to(device)\n",
    "                y_pred = model(X_batch)\n",
    "                y_pred_val = model(X_val)\n",
    "                # print(y_pred.shape,y_batch.shape)\n",
    "                loss_train = loss_fn(y_pred, y_batch)\n",
    "                \n",
    "                optimizer.zero_grad()\n",
    "                loss_train.backward()\n",
    "                optimizer.step()\n",
    "            # Validation\n",
    "            loss_val = loss_fn(y_pred_val, y_val)\n",
    "            early_stopping(loss_val, model, optimizer, epoch)\n",
    "\n",
    "            if early_stopping.early_stop:\n",
    "                print(\"Early stopping\")\n",
    "                break\n",
    "\n",
    "        model.eval()\n",
    "        with torch.no_grad():\n",
    "            # X_train = X_train.to(device)\n",
    "            # y_train = y_train.to(device)\n",
    "            y_pred_train = model(X_train)\n",
    "            # X_test = X_test.to(device)\n",
    "            # y_test = y_test.to(device)\n",
    "            train_rmse = torch.sqrt(loss_fn(y_pred_train, y_train))\n",
    "            y_pred_test = model(X_test)\n",
    "            test_rmse = torch.sqrt(loss_fn(y_pred_test, y_test))\n",
    "        print(\"Epoch %d: train RMSE %.4f, test RMSE %.4f\" % (epoch, train_rmse, test_rmse))\n",
    "        end_time = time.time()\n",
    "        print(f\"训练时间: {end_time - begin_time} 秒\")\n",
    "\n",
    "        predict_value = model(X_test[0,:,:].unsqueeze(0))\n",
    "        predict_value = predict_value.detach().cpu().numpy().flatten()\n",
    "\n",
    "\n",
    "        df_result_tmp = pd.DataFrame([[split_index, predict_value[0],y_test[0].flatten().cpu().numpy()[0]]],columns=['split_index','predict','true'])\n",
    "        df_result_tmp\n",
    "        # df_result = pd.concat([df_result,df_result_tmp],ignore_index=True)\n",
    "        name = model.__class__.__name__\n",
    "        df_result_tmp.to_csv(f'./data/{name}_result_{LOOKBACK}_{BATCHSIZE}.csv',index=False,mode='a')\n",
    "\n",
    "\n",
    "        trend,redisual = model.decomposer(X_test[0,:,:].unsqueeze(0))\n",
    "        trend = trend.cpu().detach().numpy()\n",
    "        redisual = redisual.cpu().detach().numpy()\n",
    "        test = X_test[0,:,:].cpu().detach().numpy()\n",
    "        x = df.iloc[split_index:split_index+100,0].values \n",
    "        df_trend_result = pd.DataFrame(trend.flatten(),columns=['trend'])\n",
    "        df_trend_result['redisual'] = redisual.flatten()\n",
    "        df_trend_result['ftrue'] = test.flatten()\n",
    "        df_trend_result['time'] = x\n",
    "        df_trend_result \n",
    "        if not os.path.exists('./data/df_trend_result.csv'):\n",
    "            df_trend_result.to_csv('./data/df_trend_result.csv',sep='\\t')\n",
    "        else:\n",
    "            df_trend_result.to_csv('./data/df_trend_result.csv',sep='\\t',mode='a',header=False)\n",
    "        \n",
    "        del model\n",
    "        del optimizer\n",
    "        del loader\n",
    "        del early_stopping\n",
    "        del X_train\n",
    "        del y_train\n",
    "        del X_train_all\n",
    "        del y_train_all\n",
    "        del X_val\n",
    "        del y_val\n",
    "        del X_test\n",
    "        del y_test\n",
    "        del y_pred_train\n",
    "        del y_pred_test\n",
    "        del y_pred_val\n",
    "        del y_pred\n",
    "        del y_batch\n",
    "        del X_batch\n",
    "        torch.cuda.empty_cache()\n",
    "        \n"
   ]
  },
  {
   "cell_type": "code",
   "execution_count": 14,
   "metadata": {},
   "outputs": [],
   "source": [
    "# df_result_lstm = pd.read_csv('./data/lstm_with_trends_result.csv',sep=',')\n",
    "# df_result_lstm = df_result_lstm[df_result_lstm['true']!='true']\n",
    "# df_result_lstm['predict'] = df_result_lstm['predict'].astype(float)\n",
    "# df_result_lstm['true'] = df_result_lstm['true'].astype(float)\n",
    "\n",
    "\n",
    "# np.sqrt(np.mean((df_result_lstm['predict']-df_result_lstm['true'])**2))\n"
   ]
  },
  {
   "cell_type": "code",
   "execution_count": null,
   "metadata": {},
   "outputs": [],
   "source": []
  },
  {
   "cell_type": "code",
   "execution_count": 15,
   "metadata": {},
   "outputs": [
    {
     "name": "stdout",
     "output_type": "stream",
     "text": [
      "|===========================================================================|\n",
      "|                  PyTorch CUDA memory summary, device ID 0                 |\n",
      "|---------------------------------------------------------------------------|\n",
      "|            CUDA OOMs: 0            |        cudaMalloc retries: 0         |\n",
      "|===========================================================================|\n",
      "|        Metric         | Cur Usage  | Peak Usage | Tot Alloc  | Tot Freed  |\n",
      "|---------------------------------------------------------------------------|\n",
      "| Allocated memory      |   2077 MiB |  23606 MiB |   4891 TiB |   4891 TiB |\n",
      "|       from large pool |   2077 MiB |  23605 MiB |   4888 TiB |   4888 TiB |\n",
      "|       from small pool |      0 MiB |      3 MiB |      2 TiB |      2 TiB |\n",
      "|---------------------------------------------------------------------------|\n",
      "| Active memory         |   2077 MiB |  23606 MiB |   4891 TiB |   4891 TiB |\n",
      "|       from large pool |   2077 MiB |  23605 MiB |   4888 TiB |   4888 TiB |\n",
      "|       from small pool |      0 MiB |      3 MiB |      2 TiB |      2 TiB |\n",
      "|---------------------------------------------------------------------------|\n",
      "| Requested memory      |   2077 MiB |  23606 MiB |   4888 TiB |   4888 TiB |\n",
      "|       from large pool |   2077 MiB |  23605 MiB |   4886 TiB |   4886 TiB |\n",
      "|       from small pool |      0 MiB |      3 MiB |      2 TiB |      2 TiB |\n",
      "|---------------------------------------------------------------------------|\n",
      "| GPU reserved memory   |  11738 MiB |  37904 MiB |   2886 GiB |   2875 GiB |\n",
      "|       from large pool |  11736 MiB |  37900 MiB |   2886 GiB |   2875 GiB |\n",
      "|       from small pool |      2 MiB |      6 MiB |      0 GiB |      0 GiB |\n",
      "|---------------------------------------------------------------------------|\n",
      "| Non-releasable memory |   9660 MiB |  18729 MiB |   1780 TiB |   1780 TiB |\n",
      "|       from large pool |   9658 MiB |  18727 MiB |   1776 TiB |   1776 TiB |\n",
      "|       from small pool |      1 MiB |      5 MiB |      3 TiB |      3 TiB |\n",
      "|---------------------------------------------------------------------------|\n",
      "| Allocations           |      36    |     103    |   72183 K  |   72183 K  |\n",
      "|       from large pool |       9    |      31    |   22764 K  |   22764 K  |\n",
      "|       from small pool |      27    |      79    |   49419 K  |   49419 K  |\n",
      "|---------------------------------------------------------------------------|\n",
      "| Active allocs         |      36    |     103    |   72183 K  |   72183 K  |\n",
      "|       from large pool |       9    |      31    |   22764 K  |   22764 K  |\n",
      "|       from small pool |      27    |      79    |   49419 K  |   49419 K  |\n",
      "|---------------------------------------------------------------------------|\n",
      "| GPU reserved segments |       6    |      16    |     631    |     625    |\n",
      "|       from large pool |       5    |      13    |     480    |     475    |\n",
      "|       from small pool |       1    |       3    |     151    |     150    |\n",
      "|---------------------------------------------------------------------------|\n",
      "| Non-releasable allocs |      21    |      37    |   27927 K  |   27927 K  |\n",
      "|       from large pool |      11    |      19    |    9594 K  |    9594 K  |\n",
      "|       from small pool |      10    |      22    |   18332 K  |   18332 K  |\n",
      "|---------------------------------------------------------------------------|\n",
      "| Oversize allocations  |       0    |       0    |       0    |       0    |\n",
      "|---------------------------------------------------------------------------|\n",
      "| Oversize GPU segments |       0    |       0    |       0    |       0    |\n",
      "|===========================================================================|\n",
      "\n"
     ]
    }
   ],
   "source": [
    "import torch\n",
    "\n",
    "# 假设有一个在循环中不断生成的 Tensor\n",
    "\n",
    "x = torch.randn(30000, 30000)  # 创建 GPU 上的 Tensor\n",
    "\n",
    "# ... 使用 x 完成计算 ...\n",
    "\n",
    "# 删除引用并清空显存\n",
    "# del x          # 删除 Python 变量引用\n",
    "# torch.cuda.empty_cache()  # 强制清空未使用的显存缓存\n",
    "print(torch.cuda.memory_summary())\n",
    "\n",
    "\n",
    "# .shape "
   ]
  },
  {
   "cell_type": "code",
   "execution_count": 16,
   "metadata": {},
   "outputs": [],
   "source": [
    "device = torch.device('cuda' if torch.cuda.is_available() else 'cpu')\n",
    "x = x.to(device)"
   ]
  },
  {
   "cell_type": "code",
   "execution_count": 17,
   "metadata": {},
   "outputs": [],
   "source": [
    "del x "
   ]
  },
  {
   "cell_type": "code",
   "execution_count": 18,
   "metadata": {},
   "outputs": [],
   "source": [
    "torch.cuda.empty_cache()  # 强制清空未使用的显存缓存"
   ]
  },
  {
   "cell_type": "code",
   "execution_count": 19,
   "metadata": {},
   "outputs": [
    {
     "ename": "NameError",
     "evalue": "name 'X_train_all' is not defined",
     "output_type": "error",
     "traceback": [
      "\u001b[1;31m---------------------------------------------------------------------------\u001b[0m",
      "\u001b[1;31mNameError\u001b[0m                                 Traceback (most recent call last)",
      "Cell \u001b[1;32mIn[19], line 4\u001b[0m\n\u001b[0;32m      1\u001b[0m \u001b[38;5;28;01mwith\u001b[39;00m torch\u001b[38;5;241m.\u001b[39mno_grad():\n\u001b[0;32m      2\u001b[0m     \u001b[38;5;66;03m# shift train predictions for plotting\u001b[39;00m\n\u001b[0;32m      3\u001b[0m     train_plot \u001b[38;5;241m=\u001b[39m torch\u001b[38;5;241m.\u001b[39mones_like(torch\u001b[38;5;241m.\u001b[39mtensor(timeseries)) \u001b[38;5;241m*\u001b[39m np\u001b[38;5;241m.\u001b[39mnan\n\u001b[1;32m----> 4\u001b[0m     X_train_all \u001b[38;5;241m=\u001b[39m \u001b[43mX_train_all\u001b[49m\u001b[38;5;241m.\u001b[39mto(device)\n\u001b[0;32m      5\u001b[0m     y_pred \u001b[38;5;241m=\u001b[39m model(X_train_all)\n\u001b[0;32m      6\u001b[0m     y_pred \u001b[38;5;241m=\u001b[39m y_pred[:, \u001b[38;5;241m-\u001b[39m\u001b[38;5;241m1\u001b[39m, :]\n",
      "\u001b[1;31mNameError\u001b[0m: name 'X_train_all' is not defined"
     ]
    }
   ],
   "source": [
    "with torch.no_grad():\n",
    "    # shift train predictions for plotting\n",
    "    train_plot = torch.ones_like(torch.tensor(timeseries)) * np.nan\n",
    "    X_train_all = X_train_all.to(device)\n",
    "    y_pred = model(X_train_all)\n",
    "    y_pred = y_pred[:, -1, :]\n",
    "    train_plot[lookback:train_size] = model(X_train_all)[:, -1, :]\n",
    "    # shift test predictions for plotting\n",
    "    test_plot = torch.ones_like(torch.tensor(timeseries)) * np.nan\n",
    "    test_plot[train_size+lookback:len(timeseries)] = model(X_test)[:, -1, :]\n",
    "plt.plot(timeseries[:,0], c='b')\n",
    "plt.plot(train_plot.cpu().numpy(), c='r')\n",
    "plt.plot(test_plot.cpu().numpy(), c='g')\n",
    "plt.show()"
   ]
  },
  {
   "cell_type": "code",
   "execution_count": 51,
   "metadata": {},
   "outputs": [],
   "source": [
    "\n",
    "import plotly.graph_objects as go\n",
    "import numpy as np\n",
    "\n",
    "# 确保模型处于评估模式\n",
    "model.eval()\n",
    "\n",
    "# 生成预测\n",
    "with torch.no_grad():\n",
    "    # 训练集预测\n",
    "    train_plot = np.ones_like(timeseries[:,0]) * np.nan\n",
    "    train_plot[lookback:train_size] = model(X_train_all)[:, -1, :].cpu().numpy().flatten()\n",
    "    \n",
    "    # 测试集预测\n",
    "    test_plot = np.ones_like(timeseries[:,0]) * np.nan\n",
    "    test_plot[train_size+lookback:len(timeseries)] = model(X_test)[:, -1, :].cpu().numpy().flatten()\n",
    "\n",
    "# 创建时间索引\n",
    "time_index = np.arange(len(timeseries[:,0]))\n",
    "\n",
    "# 创建交互式图表\n",
    "fig = go.Figure()\n",
    "\n",
    "# 添加原始数据线\n",
    "fig.add_trace(go.Scatter(\n",
    "    x=time_index,\n",
    "    y=timeseries[:,0].flatten(),\n",
    "    name='原始数据',\n",
    "    line=dict(color='blue')\n",
    "))\n",
    "\n",
    "# 添加训练集预测线\n",
    "fig.add_trace(go.Scatter(\n",
    "    x=time_index,\n",
    "    y=train_plot.flatten(),\n",
    "    name='训练集预测',\n",
    "    line=dict(color='red')\n",
    "))\n",
    "\n",
    "# 添加测试集预测线\n",
    "fig.add_trace(go.Scatter(\n",
    "    x=time_index,\n",
    "    y=test_plot.flatten(),\n",
    "    name='测试集预测',\n",
    "    line=dict(color='green')\n",
    "))\n",
    "\n",
    "# 更新布局\n",
    "fig.update_layout(\n",
    "    title='LSTM时序预测结果',\n",
    "    xaxis_title='时间步',\n",
    "    yaxis_title='值',\n",
    "    hovermode='x unified',  # 启用统一的悬停模式\n",
    "    template='plotly_white'  # 使用白色主题\n",
    ")\n",
    "\n",
    "# 显示图表\n",
    "# fig.show()\n",
    "\n",
    "# 保存为HTML文件\n",
    "fig.write_html('./html/lstm_timeseries_plot.html')"
   ]
  },
  {
   "cell_type": "code",
   "execution_count": null,
   "metadata": {},
   "outputs": [],
   "source": [
    "X_test.shape[0] //100"
   ]
  },
  {
   "cell_type": "code",
   "execution_count": null,
   "metadata": {},
   "outputs": [],
   "source": [
    "193*40/60"
   ]
  },
  {
   "cell_type": "code",
   "execution_count": null,
   "metadata": {},
   "outputs": [],
   "source": [
    "\n",
    "\n"
   ]
  }
 ],
 "metadata": {
  "kernelspec": {
   "display_name": "app",
   "language": "python",
   "name": "app"
  },
  "language_info": {
   "codemirror_mode": {
    "name": "ipython",
    "version": 3
   },
   "file_extension": ".py",
   "mimetype": "text/x-python",
   "name": "python",
   "nbconvert_exporter": "python",
   "pygments_lexer": "ipython3",
   "version": "3.10.16"
  }
 },
 "nbformat": 4,
 "nbformat_minor": 4
}
